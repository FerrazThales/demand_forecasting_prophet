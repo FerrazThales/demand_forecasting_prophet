{
  "nbformat": 4,
  "nbformat_minor": 0,
  "metadata": {
    "colab": {
      "name": "Demand Forecasting with Prophet",
      "provenance": [],
      "collapsed_sections": [],
      "include_colab_link": true
    },
    "kernelspec": {
      "name": "python3",
      "display_name": "Python 3"
    }
  },
  "cells": [
    {
      "cell_type": "markdown",
      "metadata": {
        "id": "view-in-github",
        "colab_type": "text"
      },
      "source": [
        "<a href=\"https://colab.research.google.com/github/FerrazThales/demand_forecasting_prophet/blob/main/Demand_Forecasting_with_Prophet.ipynb\" target=\"_parent\"><img src=\"https://colab.research.google.com/assets/colab-badge.svg\" alt=\"Open In Colab\"/></a>"
      ]
    },
    {
      "cell_type": "markdown",
      "metadata": {
        "id": "EE9X48au6Mez"
      },
      "source": [
        "<h1 align=\"center\"><b>Encontre eu e meus projetos nas redes sociais!</b></h1>\n",
        "<table>\n",
        "  <tr>\n",
        "  <td><a href=\"https://thalesferraz.medium.com/\">\n",
        "  <img src=\"https://github.com/FerrazThales/FerrazThales/blob/main/logo_gif.gif?raw=true\" width=\"800\" title=\"Olá, Meu nome é Thales e sou cientista de Dados!\"/>\n",
        "  </a>\n",
        "  </td>\n",
        "  <td><a href=\"https://github.com/FerrazThales\">\n",
        "  <img hspace=30 vspace=110 src=\"https://image.flaticon.com/icons/png/512/1051/1051326.png\" width=\"60%\" title=\"Entre em meu Github e veja mais projetos!\" /> \n",
        "  </a>\n",
        "  </td>\n",
        "  <td>\n",
        "  <a href=\"\">\n",
        "  <img vspace=110 src=\"https://download.logo.wine/logo/Medium_(website)/Medium_(website)-Logo.wine.png\" width=\"800\" title=\"Veja este meu projeto no Medium!\"/>\n",
        "  </a>\n",
        "  </td>\n",
        "  <td><a href=\"https://www.linkedin.com/in/thalesdefreitasferraz/\"><img vspace=150 src=\"https://image.flaticon.com/icons/png/512/889/889122.png\" width=\"40%\" title=\"Vamos trocar uma idéia sobre Data Science no LinkedIn?\" />\n",
        "  </a>\n",
        "  </td>\n",
        "  </tr>\n",
        "</table>"
      ]
    },
    {
      "cell_type": "markdown",
      "metadata": {
        "id": "3bly3c2M_B0y"
      },
      "source": [
        "# O que você vai aprender nesta análise:\n",
        "\n",
        "* x.\n",
        "* x.\n",
        "* x.\n",
        "* x."
      ]
    },
    {
      "cell_type": "markdown",
      "metadata": {
        "id": "JFy4Niuv_Kgn"
      },
      "source": [
        "# Texto Sobre previsão de demanda e vinhos\n",
        "\n",
        "texto texto texto\n",
        "\n",
        "<p align=\"center\">\n",
        "  <img src=\"https://image.freepik.com/fotos-gratis/copo-de-vinho-tinto-e-garrafa-no-balcao-de-bar_107420-65845.jpg\">\n",
        "</p>\n",
        "\n",
        "texto\n",
        "\n",
        "O objetivo desse projeto é prever a demanda por vinhos em lojas especializadas em vinho. Para esse projeto, temos 2 datasets, um sobre o catálogo de vinhos da loja e outro sobre as vendas.\n",
        "\n",
        "Nesse projeto, é VITAL que haja MUITA ATENÇÃO sobre os detalhes mencionados que permeiam as análise de séries temporais. É um projeto que demanda muita atenção e cuidado, e uma documentação feita minuciosamente."
      ]
    },
    {
      "cell_type": "code",
      "metadata": {
        "id": "Hpw0N_vE_aC9"
      },
      "source": [
        "#bibliotecas de operações matemáticas e análise/leitura de dados\n",
        "import numpy as np\n",
        "import pandas as pd\n",
        "\n",
        "#bibliotecas de visualização de dados\n",
        "import seaborn as sns\n",
        "import matplotlib.pyplot as plt\n",
        "\n",
        "#módulo de time series do facebook\n",
        "from fbprophet import Prophet"
      ],
      "execution_count": null,
      "outputs": []
    },
    {
      "cell_type": "markdown",
      "metadata": {
        "id": "-y4see9Y_OSL"
      },
      "source": [
        "# Obtenção e ajuste dos dados\n",
        "\n",
        "falar que pegou do rafael que era um desafio do curso\n",
        "\n",
        "se divide em duas bases, produtos e vendas\n"
      ]
    },
    {
      "cell_type": "markdown",
      "metadata": {
        "id": "RDkkX6ZcGqex"
      },
      "source": [
        "## Base de Dados dos produtos\n",
        "\n",
        "texto\n",
        "\n",
        "### Dicionário das Variáveis:\n",
        "\n",
        "* `item_id`: código do vinho na adega.\n",
        "* `name`: nome do vinho.\n",
        "* `producer`: nome do produtor do vinho.\n",
        "* `country`: país de origem do vinho.\n",
        "* `region`: região de produção do vinho.\n",
        "* `vintage`: ano da safra.\n",
        "* `kind`: tipo do vinho.\n",
        "\n",
        " * *Sparkling* : Espumante\n",
        " * *Rose Sparkling* : Espumante Rose\n",
        " * *White* : Branco\n",
        " * *Rosé* : Rosé\n",
        " * *Red* : Tinto\n",
        "* `price_brl`: preço unitário do vinho em real na época em que os dados foram levantados.\n",
        "* `price_usd`: preço unitário do vinho em dólar na época em que os dados foram levantados."
      ]
    },
    {
      "cell_type": "code",
      "metadata": {
        "colab": {
          "base_uri": "https://localhost:8080/",
          "height": 206
        },
        "id": "8Qjis-sv_YxR",
        "outputId": "b4c712a7-92a2-40f6-d9ee-f63dc264786c"
      },
      "source": [
        "#endereco dos dados sobre produos\n",
        "endereco_produtos = \"https://raw.githubusercontent.com/rafaelnduarte/sigmoidal_data/master/products.csv\"\n",
        "\n",
        "#guardando os dados sobre produtos\n",
        "produtos = pd.read_csv(endereco_produtos)\n",
        "\n",
        "#mostrando as 5 primeiras entrada dos dados de produtos\n",
        "produtos.head()"
      ],
      "execution_count": null,
      "outputs": [
        {
          "output_type": "execute_result",
          "data": {
            "text/html": [
              "<div>\n",
              "<style scoped>\n",
              "    .dataframe tbody tr th:only-of-type {\n",
              "        vertical-align: middle;\n",
              "    }\n",
              "\n",
              "    .dataframe tbody tr th {\n",
              "        vertical-align: top;\n",
              "    }\n",
              "\n",
              "    .dataframe thead th {\n",
              "        text-align: right;\n",
              "    }\n",
              "</style>\n",
              "<table border=\"1\" class=\"dataframe\">\n",
              "  <thead>\n",
              "    <tr style=\"text-align: right;\">\n",
              "      <th></th>\n",
              "      <th>item_id</th>\n",
              "      <th>name</th>\n",
              "      <th>producer</th>\n",
              "      <th>country</th>\n",
              "      <th>region</th>\n",
              "      <th>vintage</th>\n",
              "      <th>kind</th>\n",
              "      <th>price_brl</th>\n",
              "      <th>price_usd</th>\n",
              "    </tr>\n",
              "  </thead>\n",
              "  <tbody>\n",
              "    <tr>\n",
              "      <th>0</th>\n",
              "      <td>1</td>\n",
              "      <td>Philipponnat Royale Reserve Brut</td>\n",
              "      <td>Philipponat</td>\n",
              "      <td>France</td>\n",
              "      <td>Champagne</td>\n",
              "      <td>NV</td>\n",
              "      <td>sparkling</td>\n",
              "      <td>339.60</td>\n",
              "      <td>58.75</td>\n",
              "    </tr>\n",
              "    <tr>\n",
              "      <th>1</th>\n",
              "      <td>2</td>\n",
              "      <td>Philipponnat Royale Reserve Rosé</td>\n",
              "      <td>Philipponat</td>\n",
              "      <td>France</td>\n",
              "      <td>Champagne</td>\n",
              "      <td>NV</td>\n",
              "      <td>rose sparkling</td>\n",
              "      <td>489.00</td>\n",
              "      <td>84.60</td>\n",
              "    </tr>\n",
              "    <tr>\n",
              "      <th>2</th>\n",
              "      <td>3</td>\n",
              "      <td>Philipponnat Cuvée 1522 Grand Cru Extra Brut</td>\n",
              "      <td>Philipponat</td>\n",
              "      <td>France</td>\n",
              "      <td>Champagne</td>\n",
              "      <td>2009</td>\n",
              "      <td>sparkling</td>\n",
              "      <td>789.00</td>\n",
              "      <td>136.51</td>\n",
              "    </tr>\n",
              "    <tr>\n",
              "      <th>3</th>\n",
              "      <td>4</td>\n",
              "      <td>Philipponnat Cuvée 1522 1er Cru Rosé</td>\n",
              "      <td>Philipponat</td>\n",
              "      <td>France</td>\n",
              "      <td>Champagne</td>\n",
              "      <td>2008</td>\n",
              "      <td>rose sparkling</td>\n",
              "      <td>899.40</td>\n",
              "      <td>155.61</td>\n",
              "    </tr>\n",
              "    <tr>\n",
              "      <th>4</th>\n",
              "      <td>5</td>\n",
              "      <td>Philipponnat Clos Des Goisses Brut</td>\n",
              "      <td>Philipponat</td>\n",
              "      <td>France</td>\n",
              "      <td>Champagne</td>\n",
              "      <td>2009</td>\n",
              "      <td>sparkling</td>\n",
              "      <td>1,548.00</td>\n",
              "      <td>267.82</td>\n",
              "    </tr>\n",
              "  </tbody>\n",
              "</table>\n",
              "</div>"
            ],
            "text/plain": [
              "   item_id                                          name  ... price_brl price_usd\n",
              "0        1              Philipponnat Royale Reserve Brut  ...    339.60     58.75\n",
              "1        2              Philipponnat Royale Reserve Rosé  ...    489.00     84.60\n",
              "2        3  Philipponnat Cuvée 1522 Grand Cru Extra Brut  ...    789.00    136.51\n",
              "3        4          Philipponnat Cuvée 1522 1er Cru Rosé  ...    899.40    155.61\n",
              "4        5            Philipponnat Clos Des Goisses Brut  ...  1,548.00    267.82\n",
              "\n",
              "[5 rows x 9 columns]"
            ]
          },
          "metadata": {},
          "execution_count": 2
        }
      ]
    },
    {
      "cell_type": "markdown",
      "metadata": {
        "id": "wLU4RIYNLzgp"
      },
      "source": [
        "texto sobre a quantidade de vinhos  e suas variáveis"
      ]
    },
    {
      "cell_type": "code",
      "metadata": {
        "colab": {
          "base_uri": "https://localhost:8080/"
        },
        "id": "rhcJVxgkLaiJ",
        "outputId": "137df7f7-e286-4cf6-eed2-bbeafc1a8448"
      },
      "source": [
        "print('A Base de dados sobre produtos contém:')\n",
        "print('{} entradas e {} variáveis'.format(produtos.shape[0], produtos.shape[1]))"
      ],
      "execution_count": null,
      "outputs": [
        {
          "output_type": "stream",
          "name": "stdout",
          "text": [
            "A Base de dados sobre produtos contém:\n",
            "219 entradas e 9 variáveis\n"
          ]
        }
      ]
    },
    {
      "cell_type": "markdown",
      "metadata": {
        "id": "GesdUAkbHId3"
      },
      "source": [
        "avaliar o tipo de dados"
      ]
    },
    {
      "cell_type": "code",
      "metadata": {
        "colab": {
          "base_uri": "https://localhost:8080/",
          "height": 331
        },
        "id": "GkoT8lzzHLkw",
        "outputId": "b98945f6-8a49-4887-ecba-f42814b4d655"
      },
      "source": [
        "#avaliando o tipo de dados\n",
        "pd.DataFrame(produtos.dtypes,columns=['Tipo de Dados'])"
      ],
      "execution_count": null,
      "outputs": [
        {
          "output_type": "execute_result",
          "data": {
            "text/html": [
              "<div>\n",
              "<style scoped>\n",
              "    .dataframe tbody tr th:only-of-type {\n",
              "        vertical-align: middle;\n",
              "    }\n",
              "\n",
              "    .dataframe tbody tr th {\n",
              "        vertical-align: top;\n",
              "    }\n",
              "\n",
              "    .dataframe thead th {\n",
              "        text-align: right;\n",
              "    }\n",
              "</style>\n",
              "<table border=\"1\" class=\"dataframe\">\n",
              "  <thead>\n",
              "    <tr style=\"text-align: right;\">\n",
              "      <th></th>\n",
              "      <th>Tipo de Dados</th>\n",
              "    </tr>\n",
              "  </thead>\n",
              "  <tbody>\n",
              "    <tr>\n",
              "      <th>item_id</th>\n",
              "      <td>int64</td>\n",
              "    </tr>\n",
              "    <tr>\n",
              "      <th>name</th>\n",
              "      <td>object</td>\n",
              "    </tr>\n",
              "    <tr>\n",
              "      <th>producer</th>\n",
              "      <td>object</td>\n",
              "    </tr>\n",
              "    <tr>\n",
              "      <th>country</th>\n",
              "      <td>object</td>\n",
              "    </tr>\n",
              "    <tr>\n",
              "      <th>region</th>\n",
              "      <td>object</td>\n",
              "    </tr>\n",
              "    <tr>\n",
              "      <th>vintage</th>\n",
              "      <td>object</td>\n",
              "    </tr>\n",
              "    <tr>\n",
              "      <th>kind</th>\n",
              "      <td>object</td>\n",
              "    </tr>\n",
              "    <tr>\n",
              "      <th>price_brl</th>\n",
              "      <td>object</td>\n",
              "    </tr>\n",
              "    <tr>\n",
              "      <th>price_usd</th>\n",
              "      <td>object</td>\n",
              "    </tr>\n",
              "  </tbody>\n",
              "</table>\n",
              "</div>"
            ],
            "text/plain": [
              "          Tipo de Dados\n",
              "item_id           int64\n",
              "name             object\n",
              "producer         object\n",
              "country          object\n",
              "region           object\n",
              "vintage          object\n",
              "kind             object\n",
              "price_brl        object\n",
              "price_usd        object"
            ]
          },
          "metadata": {},
          "execution_count": 4
        }
      ]
    },
    {
      "cell_type": "markdown",
      "metadata": {
        "id": "kL5XxtYYIcb8"
      },
      "source": [
        "texto falando sobre float e vírgula pq o regex precisa ser true"
      ]
    },
    {
      "cell_type": "code",
      "metadata": {
        "id": "H65XMivNHZgf"
      },
      "source": [
        "#tirando as vírgulas dos valores\n",
        "produtos.replace(',','',inplace=True,regex=True)\n",
        "\n",
        "#mudança da variável price_brl\n",
        "produtos.price_brl = produtos.price_brl.astype('float64')\n",
        "\n",
        "#mudança da variável price_usd\n",
        "produtos.price_usd = produtos.price_usd.astype('float64')\n",
        "\n",
        "#mudança da variável item_id\n",
        "produtos.item_id = produtos.item_id.astype('str')"
      ],
      "execution_count": null,
      "outputs": []
    },
    {
      "cell_type": "code",
      "metadata": {
        "colab": {
          "base_uri": "https://localhost:8080/",
          "height": 331
        },
        "id": "f0Mq400FIJpo",
        "outputId": "45def4e9-42eb-40bb-fbee-de1aba3ec06a"
      },
      "source": [
        "pd.DataFrame(produtos.dtypes,columns=['Tipo de Dados após mudança'])"
      ],
      "execution_count": null,
      "outputs": [
        {
          "output_type": "execute_result",
          "data": {
            "text/html": [
              "<div>\n",
              "<style scoped>\n",
              "    .dataframe tbody tr th:only-of-type {\n",
              "        vertical-align: middle;\n",
              "    }\n",
              "\n",
              "    .dataframe tbody tr th {\n",
              "        vertical-align: top;\n",
              "    }\n",
              "\n",
              "    .dataframe thead th {\n",
              "        text-align: right;\n",
              "    }\n",
              "</style>\n",
              "<table border=\"1\" class=\"dataframe\">\n",
              "  <thead>\n",
              "    <tr style=\"text-align: right;\">\n",
              "      <th></th>\n",
              "      <th>Tipo de Dados após mudança</th>\n",
              "    </tr>\n",
              "  </thead>\n",
              "  <tbody>\n",
              "    <tr>\n",
              "      <th>item_id</th>\n",
              "      <td>object</td>\n",
              "    </tr>\n",
              "    <tr>\n",
              "      <th>name</th>\n",
              "      <td>object</td>\n",
              "    </tr>\n",
              "    <tr>\n",
              "      <th>producer</th>\n",
              "      <td>object</td>\n",
              "    </tr>\n",
              "    <tr>\n",
              "      <th>country</th>\n",
              "      <td>object</td>\n",
              "    </tr>\n",
              "    <tr>\n",
              "      <th>region</th>\n",
              "      <td>object</td>\n",
              "    </tr>\n",
              "    <tr>\n",
              "      <th>vintage</th>\n",
              "      <td>object</td>\n",
              "    </tr>\n",
              "    <tr>\n",
              "      <th>kind</th>\n",
              "      <td>object</td>\n",
              "    </tr>\n",
              "    <tr>\n",
              "      <th>price_brl</th>\n",
              "      <td>float64</td>\n",
              "    </tr>\n",
              "    <tr>\n",
              "      <th>price_usd</th>\n",
              "      <td>float64</td>\n",
              "    </tr>\n",
              "  </tbody>\n",
              "</table>\n",
              "</div>"
            ],
            "text/plain": [
              "          Tipo de Dados após mudança\n",
              "item_id                       object\n",
              "name                          object\n",
              "producer                      object\n",
              "country                       object\n",
              "region                        object\n",
              "vintage                       object\n",
              "kind                          object\n",
              "price_brl                    float64\n",
              "price_usd                    float64"
            ]
          },
          "metadata": {},
          "execution_count": 6
        }
      ]
    },
    {
      "cell_type": "markdown",
      "metadata": {
        "id": "OSZ7KmwGHueg"
      },
      "source": [
        "ver dados vazios"
      ]
    },
    {
      "cell_type": "code",
      "metadata": {
        "colab": {
          "base_uri": "https://localhost:8080/",
          "height": 331
        },
        "id": "Rq4qyODfHwEC",
        "outputId": "cc90e51b-4dae-4bdc-8137-254ad1cceaef"
      },
      "source": [
        "#verificando a quantidade de dados vazios na base de dados dos produtos\n",
        "pd.DataFrame(produtos.isnull().sum(),columns=['Quantidade de Valores Ausentes'])"
      ],
      "execution_count": null,
      "outputs": [
        {
          "output_type": "execute_result",
          "data": {
            "text/html": [
              "<div>\n",
              "<style scoped>\n",
              "    .dataframe tbody tr th:only-of-type {\n",
              "        vertical-align: middle;\n",
              "    }\n",
              "\n",
              "    .dataframe tbody tr th {\n",
              "        vertical-align: top;\n",
              "    }\n",
              "\n",
              "    .dataframe thead th {\n",
              "        text-align: right;\n",
              "    }\n",
              "</style>\n",
              "<table border=\"1\" class=\"dataframe\">\n",
              "  <thead>\n",
              "    <tr style=\"text-align: right;\">\n",
              "      <th></th>\n",
              "      <th>Quantidade de Valores Ausentes</th>\n",
              "    </tr>\n",
              "  </thead>\n",
              "  <tbody>\n",
              "    <tr>\n",
              "      <th>item_id</th>\n",
              "      <td>0</td>\n",
              "    </tr>\n",
              "    <tr>\n",
              "      <th>name</th>\n",
              "      <td>0</td>\n",
              "    </tr>\n",
              "    <tr>\n",
              "      <th>producer</th>\n",
              "      <td>0</td>\n",
              "    </tr>\n",
              "    <tr>\n",
              "      <th>country</th>\n",
              "      <td>0</td>\n",
              "    </tr>\n",
              "    <tr>\n",
              "      <th>region</th>\n",
              "      <td>0</td>\n",
              "    </tr>\n",
              "    <tr>\n",
              "      <th>vintage</th>\n",
              "      <td>0</td>\n",
              "    </tr>\n",
              "    <tr>\n",
              "      <th>kind</th>\n",
              "      <td>0</td>\n",
              "    </tr>\n",
              "    <tr>\n",
              "      <th>price_brl</th>\n",
              "      <td>0</td>\n",
              "    </tr>\n",
              "    <tr>\n",
              "      <th>price_usd</th>\n",
              "      <td>0</td>\n",
              "    </tr>\n",
              "  </tbody>\n",
              "</table>\n",
              "</div>"
            ],
            "text/plain": [
              "           Quantidade de Valores Ausentes\n",
              "item_id                                 0\n",
              "name                                    0\n",
              "producer                                0\n",
              "country                                 0\n",
              "region                                  0\n",
              "vintage                                 0\n",
              "kind                                    0\n",
              "price_brl                               0\n",
              "price_usd                               0"
            ]
          },
          "metadata": {},
          "execution_count": 7
        }
      ]
    },
    {
      "cell_type": "markdown",
      "metadata": {
        "id": "oqCFlyl5G0zV"
      },
      "source": [
        "## Base de dados das Vendas\n",
        "\n",
        "### Dicionário das Variáveis:\n",
        "\n",
        "* `date`: data em que a venda foi realizada.\n",
        "* `store`: código da loja.\n",
        "* `item`: código do vinho na adega.\n",
        "* `sales`: quantidade de vinhos vendidos."
      ]
    },
    {
      "cell_type": "code",
      "metadata": {
        "colab": {
          "base_uri": "https://localhost:8080/",
          "height": 206
        },
        "id": "WD_ShhYpAxAF",
        "outputId": "7a26e0e8-218d-4b96-fd6e-b7e5d0939944"
      },
      "source": [
        "#endereco dos dados sobre vendas\n",
        "endereco_vendas = \"https://raw.githubusercontent.com/rafaelnduarte/sigmoidal_data/master/sales-clean.csv\"\n",
        "\n",
        "#guardando os dados sobre vendas\n",
        "vendas = pd.read_csv(endereco_vendas)\n",
        "\n",
        "#mostrando as 5 primeiras entrada dos dados de vendas\n",
        "vendas.head()"
      ],
      "execution_count": null,
      "outputs": [
        {
          "output_type": "execute_result",
          "data": {
            "text/html": [
              "<div>\n",
              "<style scoped>\n",
              "    .dataframe tbody tr th:only-of-type {\n",
              "        vertical-align: middle;\n",
              "    }\n",
              "\n",
              "    .dataframe tbody tr th {\n",
              "        vertical-align: top;\n",
              "    }\n",
              "\n",
              "    .dataframe thead th {\n",
              "        text-align: right;\n",
              "    }\n",
              "</style>\n",
              "<table border=\"1\" class=\"dataframe\">\n",
              "  <thead>\n",
              "    <tr style=\"text-align: right;\">\n",
              "      <th></th>\n",
              "      <th>date</th>\n",
              "      <th>store</th>\n",
              "      <th>item</th>\n",
              "      <th>sales</th>\n",
              "    </tr>\n",
              "  </thead>\n",
              "  <tbody>\n",
              "    <tr>\n",
              "      <th>0</th>\n",
              "      <td>2018-01-01</td>\n",
              "      <td>1</td>\n",
              "      <td>1</td>\n",
              "      <td>13</td>\n",
              "    </tr>\n",
              "    <tr>\n",
              "      <th>1</th>\n",
              "      <td>2018-01-02</td>\n",
              "      <td>1</td>\n",
              "      <td>1</td>\n",
              "      <td>11</td>\n",
              "    </tr>\n",
              "    <tr>\n",
              "      <th>2</th>\n",
              "      <td>2018-01-03</td>\n",
              "      <td>1</td>\n",
              "      <td>1</td>\n",
              "      <td>14</td>\n",
              "    </tr>\n",
              "    <tr>\n",
              "      <th>3</th>\n",
              "      <td>2018-01-04</td>\n",
              "      <td>1</td>\n",
              "      <td>1</td>\n",
              "      <td>13</td>\n",
              "    </tr>\n",
              "    <tr>\n",
              "      <th>4</th>\n",
              "      <td>2018-01-05</td>\n",
              "      <td>1</td>\n",
              "      <td>1</td>\n",
              "      <td>10</td>\n",
              "    </tr>\n",
              "  </tbody>\n",
              "</table>\n",
              "</div>"
            ],
            "text/plain": [
              "         date  store  item  sales\n",
              "0  2018-01-01      1     1     13\n",
              "1  2018-01-02      1     1     11\n",
              "2  2018-01-03      1     1     14\n",
              "3  2018-01-04      1     1     13\n",
              "4  2018-01-05      1     1     10"
            ]
          },
          "metadata": {},
          "execution_count": 8
        }
      ]
    },
    {
      "cell_type": "markdown",
      "metadata": {
        "id": "38dsJLi2MF8z"
      },
      "source": [
        "ver quantidade de dados e variáveis"
      ]
    },
    {
      "cell_type": "code",
      "metadata": {
        "colab": {
          "base_uri": "https://localhost:8080/"
        },
        "id": "W-pWVLJpMHxK",
        "outputId": "cc9fb6af-a1cf-4295-f46e-4be89acaaf7c"
      },
      "source": [
        "print('A Base de dados sobre vendas contém:')\n",
        "print('{:,} entradas e {} variáveis'.format(vendas.shape[0], vendas.shape[1]).replace(',','.'))"
      ],
      "execution_count": null,
      "outputs": [
        {
          "output_type": "stream",
          "name": "stdout",
          "text": [
            "A Base de dados sobre vendas contém:\n",
            "720.071 entradas e 4 variáveis\n"
          ]
        }
      ]
    },
    {
      "cell_type": "markdown",
      "metadata": {
        "id": "GrP2ZUkaMIOs"
      },
      "source": [
        "falar da inconsistência da data, falar do date time"
      ]
    },
    {
      "cell_type": "code",
      "metadata": {
        "colab": {
          "base_uri": "https://localhost:8080/",
          "height": 206
        },
        "id": "ZqsA-kCBFNA-",
        "outputId": "bc9ff95a-c55f-44c0-cb91-2e81fff96460"
      },
      "source": [
        "#vendo as 5 últimas entradas da base de dados sobre vendas\n",
        "vendas.tail()"
      ],
      "execution_count": null,
      "outputs": [
        {
          "output_type": "execute_result",
          "data": {
            "text/html": [
              "<div>\n",
              "<style scoped>\n",
              "    .dataframe tbody tr th:only-of-type {\n",
              "        vertical-align: middle;\n",
              "    }\n",
              "\n",
              "    .dataframe tbody tr th {\n",
              "        vertical-align: top;\n",
              "    }\n",
              "\n",
              "    .dataframe thead th {\n",
              "        text-align: right;\n",
              "    }\n",
              "</style>\n",
              "<table border=\"1\" class=\"dataframe\">\n",
              "  <thead>\n",
              "    <tr style=\"text-align: right;\">\n",
              "      <th></th>\n",
              "      <th>date</th>\n",
              "      <th>store</th>\n",
              "      <th>item</th>\n",
              "      <th>sales</th>\n",
              "    </tr>\n",
              "  </thead>\n",
              "  <tbody>\n",
              "    <tr>\n",
              "      <th>720066</th>\n",
              "      <td>12/27/2020</td>\n",
              "      <td>3</td>\n",
              "      <td>219</td>\n",
              "      <td>71</td>\n",
              "    </tr>\n",
              "    <tr>\n",
              "      <th>720067</th>\n",
              "      <td>12/28/2020</td>\n",
              "      <td>3</td>\n",
              "      <td>219</td>\n",
              "      <td>28</td>\n",
              "    </tr>\n",
              "    <tr>\n",
              "      <th>720068</th>\n",
              "      <td>12/29/2020</td>\n",
              "      <td>3</td>\n",
              "      <td>219</td>\n",
              "      <td>75</td>\n",
              "    </tr>\n",
              "    <tr>\n",
              "      <th>720069</th>\n",
              "      <td>12/30/2020</td>\n",
              "      <td>3</td>\n",
              "      <td>219</td>\n",
              "      <td>135</td>\n",
              "    </tr>\n",
              "    <tr>\n",
              "      <th>720070</th>\n",
              "      <td>12/31/2020</td>\n",
              "      <td>3</td>\n",
              "      <td>219</td>\n",
              "      <td>91</td>\n",
              "    </tr>\n",
              "  </tbody>\n",
              "</table>\n",
              "</div>"
            ],
            "text/plain": [
              "              date  store  item  sales\n",
              "720066  12/27/2020      3   219     71\n",
              "720067  12/28/2020      3   219     28\n",
              "720068  12/29/2020      3   219     75\n",
              "720069  12/30/2020      3   219    135\n",
              "720070  12/31/2020      3   219     91"
            ]
          },
          "metadata": {},
          "execution_count": 10
        }
      ]
    },
    {
      "cell_type": "code",
      "metadata": {
        "id": "omv42J86KY0x",
        "colab": {
          "base_uri": "https://localhost:8080/",
          "height": 423
        },
        "outputId": "6efd4a60-b749-4134-cd62-52ec6dfc2033"
      },
      "source": [
        "#buscando os valores que começam a ter barra nas datas, o primeiro índice é 164.401\n",
        "vendas[vendas.date.str.contains('/')]"
      ],
      "execution_count": null,
      "outputs": [
        {
          "output_type": "execute_result",
          "data": {
            "text/html": [
              "<div>\n",
              "<style scoped>\n",
              "    .dataframe tbody tr th:only-of-type {\n",
              "        vertical-align: middle;\n",
              "    }\n",
              "\n",
              "    .dataframe tbody tr th {\n",
              "        vertical-align: top;\n",
              "    }\n",
              "\n",
              "    .dataframe thead th {\n",
              "        text-align: right;\n",
              "    }\n",
              "</style>\n",
              "<table border=\"1\" class=\"dataframe\">\n",
              "  <thead>\n",
              "    <tr style=\"text-align: right;\">\n",
              "      <th></th>\n",
              "      <th>date</th>\n",
              "      <th>store</th>\n",
              "      <th>item</th>\n",
              "      <th>sales</th>\n",
              "    </tr>\n",
              "  </thead>\n",
              "  <tbody>\n",
              "    <tr>\n",
              "      <th>164401</th>\n",
              "      <td>1/3/2018</td>\n",
              "      <td>1</td>\n",
              "      <td>51</td>\n",
              "      <td>61</td>\n",
              "    </tr>\n",
              "    <tr>\n",
              "      <th>164402</th>\n",
              "      <td>1/4/2018</td>\n",
              "      <td>1</td>\n",
              "      <td>51</td>\n",
              "      <td>21</td>\n",
              "    </tr>\n",
              "    <tr>\n",
              "      <th>164403</th>\n",
              "      <td>1/5/2018</td>\n",
              "      <td>1</td>\n",
              "      <td>51</td>\n",
              "      <td>142</td>\n",
              "    </tr>\n",
              "    <tr>\n",
              "      <th>164404</th>\n",
              "      <td>1/6/2018</td>\n",
              "      <td>1</td>\n",
              "      <td>51</td>\n",
              "      <td>142</td>\n",
              "    </tr>\n",
              "    <tr>\n",
              "      <th>164405</th>\n",
              "      <td>1/7/2018</td>\n",
              "      <td>1</td>\n",
              "      <td>51</td>\n",
              "      <td>54</td>\n",
              "    </tr>\n",
              "    <tr>\n",
              "      <th>...</th>\n",
              "      <td>...</td>\n",
              "      <td>...</td>\n",
              "      <td>...</td>\n",
              "      <td>...</td>\n",
              "    </tr>\n",
              "    <tr>\n",
              "      <th>720066</th>\n",
              "      <td>12/27/2020</td>\n",
              "      <td>3</td>\n",
              "      <td>219</td>\n",
              "      <td>71</td>\n",
              "    </tr>\n",
              "    <tr>\n",
              "      <th>720067</th>\n",
              "      <td>12/28/2020</td>\n",
              "      <td>3</td>\n",
              "      <td>219</td>\n",
              "      <td>28</td>\n",
              "    </tr>\n",
              "    <tr>\n",
              "      <th>720068</th>\n",
              "      <td>12/29/2020</td>\n",
              "      <td>3</td>\n",
              "      <td>219</td>\n",
              "      <td>75</td>\n",
              "    </tr>\n",
              "    <tr>\n",
              "      <th>720069</th>\n",
              "      <td>12/30/2020</td>\n",
              "      <td>3</td>\n",
              "      <td>219</td>\n",
              "      <td>135</td>\n",
              "    </tr>\n",
              "    <tr>\n",
              "      <th>720070</th>\n",
              "      <td>12/31/2020</td>\n",
              "      <td>3</td>\n",
              "      <td>219</td>\n",
              "      <td>91</td>\n",
              "    </tr>\n",
              "  </tbody>\n",
              "</table>\n",
              "<p>555670 rows × 4 columns</p>\n",
              "</div>"
            ],
            "text/plain": [
              "              date  store  item  sales\n",
              "164401    1/3/2018      1    51     61\n",
              "164402    1/4/2018      1    51     21\n",
              "164403    1/5/2018      1    51    142\n",
              "164404    1/6/2018      1    51    142\n",
              "164405    1/7/2018      1    51     54\n",
              "...            ...    ...   ...    ...\n",
              "720066  12/27/2020      3   219     71\n",
              "720067  12/28/2020      3   219     28\n",
              "720068  12/29/2020      3   219     75\n",
              "720069  12/30/2020      3   219    135\n",
              "720070  12/31/2020      3   219     91\n",
              "\n",
              "[555670 rows x 4 columns]"
            ]
          },
          "metadata": {},
          "execution_count": 11
        }
      ]
    },
    {
      "cell_type": "code",
      "metadata": {
        "colab": {
          "base_uri": "https://localhost:8080/",
          "height": 206
        },
        "id": "aJ7-YuooOYIi",
        "outputId": "a2b8cfe0-6b7c-421b-f7cb-2e129cf12444"
      },
      "source": [
        "#transformando a variável do tipo object em date\n",
        "vendas.date = pd.to_datetime(vendas.date)\n",
        "\n",
        "#mostrando as últimas entradas após o ajuste\n",
        "vendas.tail()"
      ],
      "execution_count": null,
      "outputs": [
        {
          "output_type": "execute_result",
          "data": {
            "text/html": [
              "<div>\n",
              "<style scoped>\n",
              "    .dataframe tbody tr th:only-of-type {\n",
              "        vertical-align: middle;\n",
              "    }\n",
              "\n",
              "    .dataframe tbody tr th {\n",
              "        vertical-align: top;\n",
              "    }\n",
              "\n",
              "    .dataframe thead th {\n",
              "        text-align: right;\n",
              "    }\n",
              "</style>\n",
              "<table border=\"1\" class=\"dataframe\">\n",
              "  <thead>\n",
              "    <tr style=\"text-align: right;\">\n",
              "      <th></th>\n",
              "      <th>date</th>\n",
              "      <th>store</th>\n",
              "      <th>item</th>\n",
              "      <th>sales</th>\n",
              "    </tr>\n",
              "  </thead>\n",
              "  <tbody>\n",
              "    <tr>\n",
              "      <th>720066</th>\n",
              "      <td>2020-12-27</td>\n",
              "      <td>3</td>\n",
              "      <td>219</td>\n",
              "      <td>71</td>\n",
              "    </tr>\n",
              "    <tr>\n",
              "      <th>720067</th>\n",
              "      <td>2020-12-28</td>\n",
              "      <td>3</td>\n",
              "      <td>219</td>\n",
              "      <td>28</td>\n",
              "    </tr>\n",
              "    <tr>\n",
              "      <th>720068</th>\n",
              "      <td>2020-12-29</td>\n",
              "      <td>3</td>\n",
              "      <td>219</td>\n",
              "      <td>75</td>\n",
              "    </tr>\n",
              "    <tr>\n",
              "      <th>720069</th>\n",
              "      <td>2020-12-30</td>\n",
              "      <td>3</td>\n",
              "      <td>219</td>\n",
              "      <td>135</td>\n",
              "    </tr>\n",
              "    <tr>\n",
              "      <th>720070</th>\n",
              "      <td>2020-12-31</td>\n",
              "      <td>3</td>\n",
              "      <td>219</td>\n",
              "      <td>91</td>\n",
              "    </tr>\n",
              "  </tbody>\n",
              "</table>\n",
              "</div>"
            ],
            "text/plain": [
              "             date  store  item  sales\n",
              "720066 2020-12-27      3   219     71\n",
              "720067 2020-12-28      3   219     28\n",
              "720068 2020-12-29      3   219     75\n",
              "720069 2020-12-30      3   219    135\n",
              "720070 2020-12-31      3   219     91"
            ]
          },
          "metadata": {},
          "execution_count": 12
        }
      ]
    },
    {
      "cell_type": "markdown",
      "metadata": {
        "id": "GRBRGGq9Qb3A"
      },
      "source": [
        "avaliando o tipo de dados, falar do datetime64 e int64, explicar que vai ter que mudar os dados da store e item"
      ]
    },
    {
      "cell_type": "code",
      "metadata": {
        "colab": {
          "base_uri": "https://localhost:8080/",
          "height": 174
        },
        "id": "JVnF2NZwP-4d",
        "outputId": "0f17c617-1550-4c47-c1c9-9c83de00c86c"
      },
      "source": [
        "pd.DataFrame(vendas.dtypes,columns=['Tipo de Dados'])"
      ],
      "execution_count": null,
      "outputs": [
        {
          "output_type": "execute_result",
          "data": {
            "text/html": [
              "<div>\n",
              "<style scoped>\n",
              "    .dataframe tbody tr th:only-of-type {\n",
              "        vertical-align: middle;\n",
              "    }\n",
              "\n",
              "    .dataframe tbody tr th {\n",
              "        vertical-align: top;\n",
              "    }\n",
              "\n",
              "    .dataframe thead th {\n",
              "        text-align: right;\n",
              "    }\n",
              "</style>\n",
              "<table border=\"1\" class=\"dataframe\">\n",
              "  <thead>\n",
              "    <tr style=\"text-align: right;\">\n",
              "      <th></th>\n",
              "      <th>Tipo de Dados</th>\n",
              "    </tr>\n",
              "  </thead>\n",
              "  <tbody>\n",
              "    <tr>\n",
              "      <th>date</th>\n",
              "      <td>datetime64[ns]</td>\n",
              "    </tr>\n",
              "    <tr>\n",
              "      <th>store</th>\n",
              "      <td>int64</td>\n",
              "    </tr>\n",
              "    <tr>\n",
              "      <th>item</th>\n",
              "      <td>int64</td>\n",
              "    </tr>\n",
              "    <tr>\n",
              "      <th>sales</th>\n",
              "      <td>int64</td>\n",
              "    </tr>\n",
              "  </tbody>\n",
              "</table>\n",
              "</div>"
            ],
            "text/plain": [
              "        Tipo de Dados\n",
              "date   datetime64[ns]\n",
              "store           int64\n",
              "item            int64\n",
              "sales           int64"
            ]
          },
          "metadata": {},
          "execution_count": 13
        }
      ]
    },
    {
      "cell_type": "code",
      "metadata": {
        "id": "VIXnCRMPWH-S"
      },
      "source": [
        "#alterando o tipo de dados da variável item para string\n",
        "vendas.item = vendas.item.astype('str')\n",
        "\n",
        "#alterando o tipo de dados da variável store para string\n",
        "vendas.store = vendas.store.astype('str')"
      ],
      "execution_count": null,
      "outputs": []
    },
    {
      "cell_type": "markdown",
      "metadata": {
        "id": "QjnYVHrQQoHH"
      },
      "source": [
        "avaliando a quantidade de dados vazios"
      ]
    },
    {
      "cell_type": "code",
      "metadata": {
        "colab": {
          "base_uri": "https://localhost:8080/",
          "height": 174
        },
        "id": "SzKzGDaLP-60",
        "outputId": "d9bd6294-55b2-44eb-fdaa-520106701c5a"
      },
      "source": [
        "pd.DataFrame(vendas.isnull().sum(),columns=['Quantidade de Dados Ausentes'])"
      ],
      "execution_count": null,
      "outputs": [
        {
          "output_type": "execute_result",
          "data": {
            "text/html": [
              "<div>\n",
              "<style scoped>\n",
              "    .dataframe tbody tr th:only-of-type {\n",
              "        vertical-align: middle;\n",
              "    }\n",
              "\n",
              "    .dataframe tbody tr th {\n",
              "        vertical-align: top;\n",
              "    }\n",
              "\n",
              "    .dataframe thead th {\n",
              "        text-align: right;\n",
              "    }\n",
              "</style>\n",
              "<table border=\"1\" class=\"dataframe\">\n",
              "  <thead>\n",
              "    <tr style=\"text-align: right;\">\n",
              "      <th></th>\n",
              "      <th>Quantidade de Dados Ausentes</th>\n",
              "    </tr>\n",
              "  </thead>\n",
              "  <tbody>\n",
              "    <tr>\n",
              "      <th>date</th>\n",
              "      <td>0</td>\n",
              "    </tr>\n",
              "    <tr>\n",
              "      <th>store</th>\n",
              "      <td>0</td>\n",
              "    </tr>\n",
              "    <tr>\n",
              "      <th>item</th>\n",
              "      <td>0</td>\n",
              "    </tr>\n",
              "    <tr>\n",
              "      <th>sales</th>\n",
              "      <td>0</td>\n",
              "    </tr>\n",
              "  </tbody>\n",
              "</table>\n",
              "</div>"
            ],
            "text/plain": [
              "       Quantidade de Dados Ausentes\n",
              "date                              0\n",
              "store                             0\n",
              "item                              0\n",
              "sales                             0"
            ]
          },
          "metadata": {},
          "execution_count": 15
        }
      ]
    },
    {
      "cell_type": "markdown",
      "metadata": {
        "id": "nzsZ6tDZKGr2"
      },
      "source": [
        "## Juntando as duas bases de dados\n",
        "\n",
        "texto sobre a junção das duas bases de dados [artigo](https://medium.com/data-hackers/pandas-combinando-data-frames-com-merge-e-concat-10e7d07ca5ec), falar do que há em comum entre as tabelas.\n",
        "\n",
        "<p align=\"center\">\n",
        "  <img src=\"https://miro.medium.com/max/700/1*0FDsAB9OelxojfmtkcLbgw.png\"\n",
        "</p>"
      ]
    },
    {
      "cell_type": "code",
      "metadata": {
        "id": "fwtZNjHHCYv5"
      },
      "source": [
        "#códigos para juntar as duas bases de dados\n",
        "df = pd.merge(produtos,vendas,left_on='item_id',right_on='item')\n",
        "\n",
        "#mudando a variável data para o índice\n",
        "df.set_index('date',inplace=True)\n",
        "\n",
        "#retirando a coluna item duplicada\n",
        "df.drop('item',axis=1,inplace=True)"
      ],
      "execution_count": null,
      "outputs": []
    },
    {
      "cell_type": "markdown",
      "metadata": {
        "id": "1VQRMT30-r9i"
      },
      "source": [
        "algumas novas variáveis"
      ]
    },
    {
      "cell_type": "code",
      "metadata": {
        "id": "4hYM0Eey-t3F"
      },
      "source": [
        "#receitas em dólares\n",
        "df['revenue_usd'] = df.sales * df.price_usd\n",
        "\n",
        "#receitas em reais\n",
        "df['revenue_brl'] = df.sales * df.price_brl\n",
        "\n",
        "#ano da vendas\n",
        "df['year'] = df.index.year\n",
        "\n",
        "#mês das vendas\n",
        "df['month'] =  df.index.month_name()\n",
        "\n",
        "#dia das vendas\n",
        "df['day'] = df.index.day\n",
        "\n",
        "#dia da semana\n",
        "df['day_of_week'] = df.index.dayofweek\n",
        "\n",
        "#nome do dia na semana\n",
        "df['day_name'] = df.index.day_name()\n",
        "\n",
        "#final de semana\n",
        "df['weekend'] = df.day_of_week > 4"
      ],
      "execution_count": null,
      "outputs": []
    },
    {
      "cell_type": "code",
      "metadata": {
        "colab": {
          "base_uri": "https://localhost:8080/",
          "height": 517
        },
        "id": "fQtC1VaC-uDp",
        "outputId": "f9af85ac-168d-4648-ce79-375a01b25540"
      },
      "source": [
        "#visualizando as 5 primeiras entradas após a junção dos dados e novas variáveis\n",
        "df.head()"
      ],
      "execution_count": null,
      "outputs": [
        {
          "output_type": "execute_result",
          "data": {
            "text/html": [
              "<div>\n",
              "<style scoped>\n",
              "    .dataframe tbody tr th:only-of-type {\n",
              "        vertical-align: middle;\n",
              "    }\n",
              "\n",
              "    .dataframe tbody tr th {\n",
              "        vertical-align: top;\n",
              "    }\n",
              "\n",
              "    .dataframe thead th {\n",
              "        text-align: right;\n",
              "    }\n",
              "</style>\n",
              "<table border=\"1\" class=\"dataframe\">\n",
              "  <thead>\n",
              "    <tr style=\"text-align: right;\">\n",
              "      <th></th>\n",
              "      <th>item_id</th>\n",
              "      <th>name</th>\n",
              "      <th>producer</th>\n",
              "      <th>country</th>\n",
              "      <th>region</th>\n",
              "      <th>vintage</th>\n",
              "      <th>kind</th>\n",
              "      <th>price_brl</th>\n",
              "      <th>price_usd</th>\n",
              "      <th>store</th>\n",
              "      <th>sales</th>\n",
              "      <th>revenue_usd</th>\n",
              "      <th>revenue_brl</th>\n",
              "      <th>year</th>\n",
              "      <th>month</th>\n",
              "      <th>day</th>\n",
              "      <th>day_of_week</th>\n",
              "      <th>day_name</th>\n",
              "      <th>weekend</th>\n",
              "    </tr>\n",
              "    <tr>\n",
              "      <th>date</th>\n",
              "      <th></th>\n",
              "      <th></th>\n",
              "      <th></th>\n",
              "      <th></th>\n",
              "      <th></th>\n",
              "      <th></th>\n",
              "      <th></th>\n",
              "      <th></th>\n",
              "      <th></th>\n",
              "      <th></th>\n",
              "      <th></th>\n",
              "      <th></th>\n",
              "      <th></th>\n",
              "      <th></th>\n",
              "      <th></th>\n",
              "      <th></th>\n",
              "      <th></th>\n",
              "      <th></th>\n",
              "      <th></th>\n",
              "    </tr>\n",
              "  </thead>\n",
              "  <tbody>\n",
              "    <tr>\n",
              "      <th>2018-01-01</th>\n",
              "      <td>1</td>\n",
              "      <td>Philipponnat Royale Reserve Brut</td>\n",
              "      <td>Philipponat</td>\n",
              "      <td>France</td>\n",
              "      <td>Champagne</td>\n",
              "      <td>NV</td>\n",
              "      <td>sparkling</td>\n",
              "      <td>339.6</td>\n",
              "      <td>58.75</td>\n",
              "      <td>1</td>\n",
              "      <td>13</td>\n",
              "      <td>763.75</td>\n",
              "      <td>4414.8</td>\n",
              "      <td>2018</td>\n",
              "      <td>January</td>\n",
              "      <td>1</td>\n",
              "      <td>0</td>\n",
              "      <td>Monday</td>\n",
              "      <td>False</td>\n",
              "    </tr>\n",
              "    <tr>\n",
              "      <th>2018-01-02</th>\n",
              "      <td>1</td>\n",
              "      <td>Philipponnat Royale Reserve Brut</td>\n",
              "      <td>Philipponat</td>\n",
              "      <td>France</td>\n",
              "      <td>Champagne</td>\n",
              "      <td>NV</td>\n",
              "      <td>sparkling</td>\n",
              "      <td>339.6</td>\n",
              "      <td>58.75</td>\n",
              "      <td>1</td>\n",
              "      <td>11</td>\n",
              "      <td>646.25</td>\n",
              "      <td>3735.6</td>\n",
              "      <td>2018</td>\n",
              "      <td>January</td>\n",
              "      <td>2</td>\n",
              "      <td>1</td>\n",
              "      <td>Tuesday</td>\n",
              "      <td>False</td>\n",
              "    </tr>\n",
              "    <tr>\n",
              "      <th>2018-01-03</th>\n",
              "      <td>1</td>\n",
              "      <td>Philipponnat Royale Reserve Brut</td>\n",
              "      <td>Philipponat</td>\n",
              "      <td>France</td>\n",
              "      <td>Champagne</td>\n",
              "      <td>NV</td>\n",
              "      <td>sparkling</td>\n",
              "      <td>339.6</td>\n",
              "      <td>58.75</td>\n",
              "      <td>1</td>\n",
              "      <td>14</td>\n",
              "      <td>822.50</td>\n",
              "      <td>4754.4</td>\n",
              "      <td>2018</td>\n",
              "      <td>January</td>\n",
              "      <td>3</td>\n",
              "      <td>2</td>\n",
              "      <td>Wednesday</td>\n",
              "      <td>False</td>\n",
              "    </tr>\n",
              "    <tr>\n",
              "      <th>2018-01-04</th>\n",
              "      <td>1</td>\n",
              "      <td>Philipponnat Royale Reserve Brut</td>\n",
              "      <td>Philipponat</td>\n",
              "      <td>France</td>\n",
              "      <td>Champagne</td>\n",
              "      <td>NV</td>\n",
              "      <td>sparkling</td>\n",
              "      <td>339.6</td>\n",
              "      <td>58.75</td>\n",
              "      <td>1</td>\n",
              "      <td>13</td>\n",
              "      <td>763.75</td>\n",
              "      <td>4414.8</td>\n",
              "      <td>2018</td>\n",
              "      <td>January</td>\n",
              "      <td>4</td>\n",
              "      <td>3</td>\n",
              "      <td>Thursday</td>\n",
              "      <td>False</td>\n",
              "    </tr>\n",
              "    <tr>\n",
              "      <th>2018-01-05</th>\n",
              "      <td>1</td>\n",
              "      <td>Philipponnat Royale Reserve Brut</td>\n",
              "      <td>Philipponat</td>\n",
              "      <td>France</td>\n",
              "      <td>Champagne</td>\n",
              "      <td>NV</td>\n",
              "      <td>sparkling</td>\n",
              "      <td>339.6</td>\n",
              "      <td>58.75</td>\n",
              "      <td>1</td>\n",
              "      <td>10</td>\n",
              "      <td>587.50</td>\n",
              "      <td>3396.0</td>\n",
              "      <td>2018</td>\n",
              "      <td>January</td>\n",
              "      <td>5</td>\n",
              "      <td>4</td>\n",
              "      <td>Friday</td>\n",
              "      <td>False</td>\n",
              "    </tr>\n",
              "  </tbody>\n",
              "</table>\n",
              "</div>"
            ],
            "text/plain": [
              "           item_id                              name  ...   day_name weekend\n",
              "date                                                  ...                   \n",
              "2018-01-01       1  Philipponnat Royale Reserve Brut  ...     Monday   False\n",
              "2018-01-02       1  Philipponnat Royale Reserve Brut  ...    Tuesday   False\n",
              "2018-01-03       1  Philipponnat Royale Reserve Brut  ...  Wednesday   False\n",
              "2018-01-04       1  Philipponnat Royale Reserve Brut  ...   Thursday   False\n",
              "2018-01-05       1  Philipponnat Royale Reserve Brut  ...     Friday   False\n",
              "\n",
              "[5 rows x 19 columns]"
            ]
          },
          "metadata": {},
          "execution_count": 18
        }
      ]
    },
    {
      "cell_type": "markdown",
      "metadata": {
        "id": "Xj3hHsKD_Xvj"
      },
      "source": [
        "# Análise Exploratória dos Dados\n",
        "\n",
        "texto texto"
      ]
    },
    {
      "cell_type": "code",
      "metadata": {
        "id": "ML24B4wCYKFY"
      },
      "source": [
        "#@title Utilizaremos vários gráficos ao longo deste notebook. A função de ajustes de layouts está nesse célula.\n",
        "def ajuste_layout(i):\n",
        "  ax[i].set_frame_on(False)\n",
        "  ax[i].tick_params(axis='both',length=0,colors='grey')\n",
        "  ax[i].grid(False)"
      ],
      "execution_count": null,
      "outputs": []
    },
    {
      "cell_type": "markdown",
      "metadata": {
        "id": "jHBkx7puG1hY"
      },
      "source": [
        "falar das estatísticas descritivas"
      ]
    },
    {
      "cell_type": "code",
      "metadata": {
        "id": "_ocBuLWbKPmr",
        "colab": {
          "base_uri": "https://localhost:8080/",
          "height": 300
        },
        "outputId": "85e481aa-efc4-46ad-b01f-4dd07e748f21"
      },
      "source": [
        "df.describe().round(1)"
      ],
      "execution_count": null,
      "outputs": [
        {
          "output_type": "execute_result",
          "data": {
            "text/html": [
              "<div>\n",
              "<style scoped>\n",
              "    .dataframe tbody tr th:only-of-type {\n",
              "        vertical-align: middle;\n",
              "    }\n",
              "\n",
              "    .dataframe tbody tr th {\n",
              "        vertical-align: top;\n",
              "    }\n",
              "\n",
              "    .dataframe thead th {\n",
              "        text-align: right;\n",
              "    }\n",
              "</style>\n",
              "<table border=\"1\" class=\"dataframe\">\n",
              "  <thead>\n",
              "    <tr style=\"text-align: right;\">\n",
              "      <th></th>\n",
              "      <th>price_brl</th>\n",
              "      <th>price_usd</th>\n",
              "      <th>sales</th>\n",
              "      <th>revenue_usd</th>\n",
              "      <th>revenue_brl</th>\n",
              "      <th>year</th>\n",
              "      <th>day</th>\n",
              "      <th>day_of_week</th>\n",
              "    </tr>\n",
              "  </thead>\n",
              "  <tbody>\n",
              "    <tr>\n",
              "      <th>count</th>\n",
              "      <td>720071.0</td>\n",
              "      <td>720071.0</td>\n",
              "      <td>720071.0</td>\n",
              "      <td>720071.0</td>\n",
              "      <td>720071.0</td>\n",
              "      <td>720071.0</td>\n",
              "      <td>720071.0</td>\n",
              "      <td>720071.0</td>\n",
              "    </tr>\n",
              "    <tr>\n",
              "      <th>mean</th>\n",
              "      <td>967.6</td>\n",
              "      <td>167.4</td>\n",
              "      <td>70.6</td>\n",
              "      <td>12136.5</td>\n",
              "      <td>70149.2</td>\n",
              "      <td>2019.0</td>\n",
              "      <td>15.7</td>\n",
              "      <td>3.0</td>\n",
              "    </tr>\n",
              "    <tr>\n",
              "      <th>std</th>\n",
              "      <td>1406.4</td>\n",
              "      <td>243.3</td>\n",
              "      <td>41.4</td>\n",
              "      <td>22347.8</td>\n",
              "      <td>129170.3</td>\n",
              "      <td>0.8</td>\n",
              "      <td>8.8</td>\n",
              "      <td>2.0</td>\n",
              "    </tr>\n",
              "    <tr>\n",
              "      <th>min</th>\n",
              "      <td>52.8</td>\n",
              "      <td>9.1</td>\n",
              "      <td>1.0</td>\n",
              "      <td>9.1</td>\n",
              "      <td>52.8</td>\n",
              "      <td>2016.0</td>\n",
              "      <td>1.0</td>\n",
              "      <td>0.0</td>\n",
              "    </tr>\n",
              "    <tr>\n",
              "      <th>25%</th>\n",
              "      <td>259.2</td>\n",
              "      <td>44.8</td>\n",
              "      <td>35.0</td>\n",
              "      <td>2252.2</td>\n",
              "      <td>13018.5</td>\n",
              "      <td>2018.0</td>\n",
              "      <td>8.0</td>\n",
              "      <td>1.0</td>\n",
              "    </tr>\n",
              "    <tr>\n",
              "      <th>50%</th>\n",
              "      <td>509.4</td>\n",
              "      <td>88.1</td>\n",
              "      <td>67.0</td>\n",
              "      <td>5050.9</td>\n",
              "      <td>29193.0</td>\n",
              "      <td>2019.0</td>\n",
              "      <td>16.0</td>\n",
              "      <td>3.0</td>\n",
              "    </tr>\n",
              "    <tr>\n",
              "      <th>75%</th>\n",
              "      <td>949.2</td>\n",
              "      <td>164.2</td>\n",
              "      <td>104.0</td>\n",
              "      <td>11424.0</td>\n",
              "      <td>66033.0</td>\n",
              "      <td>2020.0</td>\n",
              "      <td>23.0</td>\n",
              "      <td>5.0</td>\n",
              "    </tr>\n",
              "    <tr>\n",
              "      <th>max</th>\n",
              "      <td>10992.0</td>\n",
              "      <td>1901.7</td>\n",
              "      <td>196.0</td>\n",
              "      <td>285259.5</td>\n",
              "      <td>1648800.0</td>\n",
              "      <td>2020.0</td>\n",
              "      <td>31.0</td>\n",
              "      <td>6.0</td>\n",
              "    </tr>\n",
              "  </tbody>\n",
              "</table>\n",
              "</div>"
            ],
            "text/plain": [
              "       price_brl  price_usd     sales  ...      year       day  day_of_week\n",
              "count   720071.0   720071.0  720071.0  ...  720071.0  720071.0     720071.0\n",
              "mean       967.6      167.4      70.6  ...    2019.0      15.7          3.0\n",
              "std       1406.4      243.3      41.4  ...       0.8       8.8          2.0\n",
              "min         52.8        9.1       1.0  ...    2016.0       1.0          0.0\n",
              "25%        259.2       44.8      35.0  ...    2018.0       8.0          1.0\n",
              "50%        509.4       88.1      67.0  ...    2019.0      16.0          3.0\n",
              "75%        949.2      164.2     104.0  ...    2020.0      23.0          5.0\n",
              "max      10992.0     1901.7     196.0  ...    2020.0      31.0          6.0\n",
              "\n",
              "[8 rows x 8 columns]"
            ]
          },
          "metadata": {},
          "execution_count": 22
        }
      ]
    },
    {
      "cell_type": "markdown",
      "metadata": {
        "id": "n0L6jEcFISb6"
      },
      "source": [
        "vinho mais caro, vinho mais barato"
      ]
    },
    {
      "cell_type": "code",
      "metadata": {
        "colab": {
          "base_uri": "https://localhost:8080/"
        },
        "id": "7n1ZmFZ9Iblv",
        "outputId": "eab232da-22d9-4369-933f-a66c1422f6cd"
      },
      "source": [
        "print('O vinho mais caro do catálogo é o {} que custa cerca USD {:,}\\n'.format(df[df.price_usd == df.price_usd.max()].name[0],\n",
        "                                                                             df.price_usd.max()))\n",
        "\n",
        "print('O vinho mais barato do catálogo é o {} que custa cerca USD {:,}'.format(df[df.price_usd == df.price_usd.min()].name[0],\n",
        "                                                                             df.price_usd.min()))"
      ],
      "execution_count": 63,
      "outputs": [
        {
          "output_type": "stream",
          "name": "stdout",
          "text": [
            "O vinho mais caro do catálogo é o Domaine Ponsot Clos de La Roche Grand Cru Cuvee Vieilles Vignes - Magnum que custa cerca USD 1,901.73\n",
            "\n",
            "O vinho mais barato do catálogo é o Cava Juvé & Camps Cinta Purpura Reserva Brut - 375ml (Half Bottle) que custa cerca USD 9.13\n"
          ]
        }
      ]
    },
    {
      "cell_type": "code",
      "metadata": {
        "id": "q8_nsgo5Jo59"
      },
      "source": [
        ""
      ],
      "execution_count": null,
      "outputs": []
    },
    {
      "cell_type": "code",
      "metadata": {
        "id": "94tPibRmJo8J"
      },
      "source": [
        ""
      ],
      "execution_count": null,
      "outputs": []
    },
    {
      "cell_type": "markdown",
      "metadata": {
        "id": "tvI7lT_oIcP9"
      },
      "source": [
        "verificar ganhos por ano e por final de semana"
      ]
    },
    {
      "cell_type": "code",
      "metadata": {
        "id": "WBoqvk2fIbsM"
      },
      "source": [
        ""
      ],
      "execution_count": null,
      "outputs": []
    },
    {
      "cell_type": "markdown",
      "metadata": {
        "id": "TEz6hR5iWb8S"
      },
      "source": [
        "ver histogramas dos preços e vendas, colocar tons de azul diferentes, mudar o eixo y"
      ]
    },
    {
      "cell_type": "code",
      "metadata": {
        "colab": {
          "base_uri": "https://localhost:8080/",
          "height": 423
        },
        "id": "THpHKc8gWfOZ",
        "outputId": "e5639185-3d95-4c98-8b52-ce71106ff4f7"
      },
      "source": [
        "#criando a fig e ax no matplotlib\n",
        "fig, ax = plt.subplots(figsize=(14,6), ncols=2)\n",
        "\n",
        "#criação do primeiro histograma\n",
        "df.price_usd.hist(ax=ax[0],xlabelsize=10,ylabelsize=10,bins=20,color='#3944bc',alpha=0.5)\n",
        "ax[0].set_title('Distribuição dos preços dos vinhos em dólar',loc='left',pad=5,fontdict={'fontsize':17},color='grey')\n",
        "ajuste_layout(0)\n",
        "\n",
        "#criação do segundo histograma\n",
        "df.sales.hist(ax=ax[1],xlabelsize=10,ylabelsize=10,bins=20,color='#0a1172',alpha=0.7)\n",
        "ax[1].set_title('Distribuição das quantidades vendidas',loc='left',pad=5,fontdict={'fontsize':17},color='grey')\n",
        "ajuste_layout(1)\n",
        "\n",
        "#plotando os gráficos\n",
        "plt.tight_layout(pad=2.0)"
      ],
      "execution_count": null,
      "outputs": [
        {
          "output_type": "display_data",
          "data": {
            "image/png": "[encoded data removed]",
            "text/plain": [
              "<Figure size 1008x432 with 2 Axes>"
            ]
          },
          "metadata": {
            "needs_background": "dark"
          }
        }
      ]
    },
    {
      "cell_type": "markdown",
      "metadata": {
        "id": "Be56oGUfXMEM"
      },
      "source": [
        "fazer um boxplot apenas das lojas, vendas e dinheiro"
      ]
    },
    {
      "cell_type": "code",
      "metadata": {
        "id": "UL7oPjeYWfQg",
        "colab": {
          "base_uri": "https://localhost:8080/",
          "height": 423
        },
        "outputId": "52c49d60-4120-4699-8443-9119b79f0c9c"
      },
      "source": [
        "#criando a fig e ax no matplotlib\n",
        "fig, ax = plt.subplots(figsize=(14,6), ncols=2)\n",
        "\n",
        "#criando o primeiro gráfico\n",
        "sns.boxplot(data=df,x='store',y='sales',ax=ax[0],palette='Blues',linewidth=0.35)\n",
        "ajuste_layout(0)\n",
        "\n",
        "#criando o segundo gráfico\n",
        "sns.boxplot(data=df,x='store',y='price_usd',ax=ax[1],palette='Purples',linewidth=0.35)\n",
        "ajuste_layout(1)\n",
        "\n",
        "#plotando os gráficos\n",
        "plt.tight_layout(pad=2.0)"
      ],
      "execution_count": 43,
      "outputs": [
        {
          "output_type": "display_data",
          "data": {
            "image/png": "[encoded data removed]",
            "text/plain": [
              "<Figure size 1008x432 with 2 Axes>"
            ]
          },
          "metadata": {
            "needs_background": "dark"
          }
        }
      ]
    },
    {
      "cell_type": "markdown",
      "metadata": {
        "id": "5aCDs6qBGQVG"
      },
      "source": [
        "fazer um boxplot geral, vendas e dinheiro em dólar"
      ]
    },
    {
      "cell_type": "code",
      "metadata": {
        "id": "22i9-A3QXOP6",
        "colab": {
          "base_uri": "https://localhost:8080/",
          "height": 423
        },
        "outputId": "93b19cba-b025-4604-d761-2c97f5377797"
      },
      "source": [
        "#criando a fig e ax no matplotlib\n",
        "fig, ax = plt.subplots(figsize=(14,6), ncols=2)\n",
        "\n",
        "#criando o primeiro gráfico\n",
        "sns.boxplot(data=df,y='sales',ax=ax[0],palette='Blues',linewidth=0.35)\n",
        "ajuste_layout(0)\n",
        "\n",
        "#criando o segundo gráfico\n",
        "sns.boxplot(data=df,y='price_usd',ax=ax[1],palette='Purples',linewidth=0.35)\n",
        "ajuste_layout(1)\n",
        "\n",
        "#plotando os gráficos\n",
        "plt.tight_layout(pad=2.0)"
      ],
      "execution_count": 45,
      "outputs": [
        {
          "output_type": "display_data",
          "data": {
            "image/png": "[encoded data removed]",
            "text/plain": [
              "<Figure size 1008x432 with 2 Axes>"
            ]
          },
          "metadata": {
            "needs_background": "dark"
          }
        }
      ]
    },
    {
      "cell_type": "code",
      "metadata": {
        "id": "eYEyrGPgXOSK"
      },
      "source": [
        ""
      ],
      "execution_count": null,
      "outputs": []
    },
    {
      "cell_type": "code",
      "metadata": {
        "id": "4koufTIWXOUQ"
      },
      "source": [
        ""
      ],
      "execution_count": null,
      "outputs": []
    },
    {
      "cell_type": "code",
      "metadata": {
        "id": "yTs0PgBpXOWW"
      },
      "source": [
        ""
      ],
      "execution_count": null,
      "outputs": []
    },
    {
      "cell_type": "code",
      "metadata": {
        "id": "7dPuQX5NWfSq"
      },
      "source": [
        ""
      ],
      "execution_count": null,
      "outputs": []
    },
    {
      "cell_type": "markdown",
      "metadata": {
        "id": "Fu2fHbkXKr86"
      },
      "source": [
        "#Preparando dos Dados para o Prophet\n",
        "\n",
        "explicar o que é prophet"
      ]
    },
    {
      "cell_type": "code",
      "metadata": {
        "id": "2dvExeXYKuzP"
      },
      "source": [
        ""
      ],
      "execution_count": null,
      "outputs": []
    }
  ]
}