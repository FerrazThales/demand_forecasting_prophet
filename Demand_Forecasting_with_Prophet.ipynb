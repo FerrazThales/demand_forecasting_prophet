{
  "nbformat": 4,
  "nbformat_minor": 0,
  "metadata": {
    "colab": {
      "name": "Demand Forecasting with Prophet",
      "provenance": [],
      "collapsed_sections": [],
      "include_colab_link": true
    },
    "kernelspec": {
      "name": "python3",
      "display_name": "Python 3"
    }
  },
  "cells": [
    {
      "cell_type": "markdown",
      "metadata": {
        "id": "view-in-github",
        "colab_type": "text"
      },
      "source": [
        "<a href=\"https://colab.research.google.com/github/FerrazThales/demand_forecasting_prophet/blob/main/Demand_Forecasting_with_Prophet.ipynb\" target=\"_parent\"><img src=\"https://colab.research.google.com/assets/colab-badge.svg\" alt=\"Open In Colab\"/></a>"
      ]
    },
    {
      "cell_type": "markdown",
      "metadata": {
        "id": "EE9X48au6Mez"
      },
      "source": [
        "<h1 align=\"center\"><b>Encontre eu e meus projetos nas redes sociais!</b></h1>\n",
        "<table>\n",
        "  <tr>\n",
        "  <td><a href=\"https://thalesferraz.medium.com/\">\n",
        "  <img src=\"https://github.com/FerrazThales/FerrazThales/blob/main/logo_gif.gif?raw=true\" width=\"800\" title=\"Olá, Meu nome é Thales e sou cientista de Dados!\"/>\n",
        "  </a>\n",
        "  </td>\n",
        "  <td><a href=\"https://github.com/FerrazThales\">\n",
        "  <img hspace=30 vspace=110 src=\"https://image.flaticon.com/icons/png/512/1051/1051326.png\" width=\"60%\" title=\"Entre em meu Github e veja mais projetos!\" /> \n",
        "  </a>\n",
        "  </td>\n",
        "  <td>\n",
        "  <a href=\"\">\n",
        "  <img vspace=110 src=\"https://download.logo.wine/logo/Medium_(website)/Medium_(website)-Logo.wine.png\" width=\"800\" title=\"Veja este meu projeto no Medium!\"/>\n",
        "  </a>\n",
        "  </td>\n",
        "  <td><a href=\"https://www.linkedin.com/in/thalesdefreitasferraz/\"><img vspace=150 src=\"https://image.flaticon.com/icons/png/512/889/889122.png\" width=\"40%\" title=\"Vamos trocar uma idéia sobre Data Science no LinkedIn?\" />\n",
        "  </a>\n",
        "  </td>\n",
        "  </tr>\n",
        "</table>"
      ]
    },
    {
      "cell_type": "markdown",
      "metadata": {
        "id": "TLbRIt7ElMWx"
      },
      "source": [
        "# PREVISÃO DE DEMANDA\n",
        "\n",
        "Como falamos antes, nossos templates ficarão cada vez mais simples!!\n",
        "\n",
        "O objetivo desse projeto é prever a demanda por vinhos em lojas especializadas em vinho. Para esse projeto, temos 2 datasets, um sobre o catálogo de vinhos da loja e outro sobre as vendas.\n",
        "\n",
        "* [Dados sobre os produtos](https://raw.githubusercontent.com/rafaelnduarte/sigmoidal_data/master/products.csv)\n",
        "* [Dados de Vendas](https://raw.githubusercontent.com/rafaelnduarte/sigmoidal_data/master/sales-clean.csv)\n",
        "\n",
        "Nesse projeto, é VITAL que haja MUITA ATENÇÃO sobre os detalhes mencionados que permeiam as análise de séries temporais. É um projeto que demanda muita atenção e cuidado, e uma documentação feita minuciosamente.\n",
        "\n"
      ]
    },
    {
      "cell_type": "markdown",
      "metadata": {
        "id": "3bly3c2M_B0y"
      },
      "source": [
        "# O que você vai aprender nesta análise:\n",
        "\n",
        "* x.\n",
        "* x.\n",
        "* x.\n",
        "* x."
      ]
    },
    {
      "cell_type": "code",
      "metadata": {
        "id": "Hpw0N_vE_aC9"
      },
      "source": [
        "#importando as bibliotecas que serão utilizadas no projeto\n",
        "import numpy as np\n",
        "import pandas as pd\n",
        "import matplotlib.pyplot as plt\n",
        "from fbprophet import Prophet"
      ],
      "execution_count": 12,
      "outputs": []
    },
    {
      "cell_type": "markdown",
      "metadata": {
        "id": "JFy4Niuv_Kgn"
      },
      "source": [
        "# Texto Sobre previsão de demanda e vinhos\n",
        "\n",
        "texto texto texto\n",
        "\n",
        "imagem\n",
        "\n",
        "texto"
      ]
    },
    {
      "cell_type": "markdown",
      "metadata": {
        "id": "-y4see9Y_OSL"
      },
      "source": [
        "# Obtenção e ajuste dos dados\n",
        "\n",
        "texto e \n",
        "\n",
        "### Dicionário das Variáveis:\n",
        "\n",
        "> Dados Sobre os Produtos\n",
        "\n",
        "* `item_id`: código do vinho na adega.\n",
        "* `name`: nome do vinho.\n",
        "* `producer`: nome do produtor do vinho.\n",
        "* `country`: país de origem do vinho.\n",
        "* `region`: região de produção do vinho.\n",
        "* `vintage`: ano da safra.\n",
        "* `kind`: tipo do vinho.\n",
        "\n",
        " * *Sparkling* : Espumante\n",
        " * *Rose Sparkling* : Espumante Rose\n",
        " * *White* : Branco\n",
        " * *Rosé* : Rosé\n",
        " * *Red* : Tinto\n",
        "* `price_brl`: preço do vinho em real na época em que os dados foram levantados.\n",
        "* `price_usd`: preço do vinho em dólar na época em que os dados foram levantados.\n",
        "\n",
        "> Dados Sobre as Vendas\n",
        "\n",
        "* `date`: data em que a venda foi realizada.\n",
        "* `store`: xxx.\n",
        "* `item`: código do vinho na adega.\n",
        "* `sales`: quantidade de vinhos vendidos.\n"
      ]
    },
    {
      "cell_type": "code",
      "metadata": {
        "colab": {
          "base_uri": "https://localhost:8080/",
          "height": 237
        },
        "id": "8Qjis-sv_YxR",
        "outputId": "00358df2-cc52-4ab8-e45a-dc09728a5c03"
      },
      "source": [
        "#endereco dos dados sobre produos\n",
        "endereco_produtos = \"https://raw.githubusercontent.com/rafaelnduarte/sigmoidal_data/master/products.csv\"\n",
        "\n",
        "#guardando os dados sobre produtos\n",
        "produtos = pd.read_csv(endereco_produtos,index_col='item_id')\n",
        "\n",
        "#mostrando as 5 primeiras entrada dos dados de produtos\n",
        "produtos.head()"
      ],
      "execution_count": 3,
      "outputs": [
        {
          "output_type": "execute_result",
          "data": {
            "text/html": [
              "<div>\n",
              "<style scoped>\n",
              "    .dataframe tbody tr th:only-of-type {\n",
              "        vertical-align: middle;\n",
              "    }\n",
              "\n",
              "    .dataframe tbody tr th {\n",
              "        vertical-align: top;\n",
              "    }\n",
              "\n",
              "    .dataframe thead th {\n",
              "        text-align: right;\n",
              "    }\n",
              "</style>\n",
              "<table border=\"1\" class=\"dataframe\">\n",
              "  <thead>\n",
              "    <tr style=\"text-align: right;\">\n",
              "      <th></th>\n",
              "      <th>name</th>\n",
              "      <th>producer</th>\n",
              "      <th>country</th>\n",
              "      <th>region</th>\n",
              "      <th>vintage</th>\n",
              "      <th>kind</th>\n",
              "      <th>price_brl</th>\n",
              "      <th>price_usd</th>\n",
              "    </tr>\n",
              "    <tr>\n",
              "      <th>item_id</th>\n",
              "      <th></th>\n",
              "      <th></th>\n",
              "      <th></th>\n",
              "      <th></th>\n",
              "      <th></th>\n",
              "      <th></th>\n",
              "      <th></th>\n",
              "      <th></th>\n",
              "    </tr>\n",
              "  </thead>\n",
              "  <tbody>\n",
              "    <tr>\n",
              "      <th>1</th>\n",
              "      <td>Philipponnat Royale Reserve Brut</td>\n",
              "      <td>Philipponat</td>\n",
              "      <td>France</td>\n",
              "      <td>Champagne</td>\n",
              "      <td>NV</td>\n",
              "      <td>sparkling</td>\n",
              "      <td>339.60</td>\n",
              "      <td>58.75</td>\n",
              "    </tr>\n",
              "    <tr>\n",
              "      <th>2</th>\n",
              "      <td>Philipponnat Royale Reserve Rosé</td>\n",
              "      <td>Philipponat</td>\n",
              "      <td>France</td>\n",
              "      <td>Champagne</td>\n",
              "      <td>NV</td>\n",
              "      <td>rose sparkling</td>\n",
              "      <td>489.00</td>\n",
              "      <td>84.60</td>\n",
              "    </tr>\n",
              "    <tr>\n",
              "      <th>3</th>\n",
              "      <td>Philipponnat Cuvée 1522 Grand Cru Extra Brut</td>\n",
              "      <td>Philipponat</td>\n",
              "      <td>France</td>\n",
              "      <td>Champagne</td>\n",
              "      <td>2009</td>\n",
              "      <td>sparkling</td>\n",
              "      <td>789.00</td>\n",
              "      <td>136.51</td>\n",
              "    </tr>\n",
              "    <tr>\n",
              "      <th>4</th>\n",
              "      <td>Philipponnat Cuvée 1522 1er Cru Rosé</td>\n",
              "      <td>Philipponat</td>\n",
              "      <td>France</td>\n",
              "      <td>Champagne</td>\n",
              "      <td>2008</td>\n",
              "      <td>rose sparkling</td>\n",
              "      <td>899.40</td>\n",
              "      <td>155.61</td>\n",
              "    </tr>\n",
              "    <tr>\n",
              "      <th>5</th>\n",
              "      <td>Philipponnat Clos Des Goisses Brut</td>\n",
              "      <td>Philipponat</td>\n",
              "      <td>France</td>\n",
              "      <td>Champagne</td>\n",
              "      <td>2009</td>\n",
              "      <td>sparkling</td>\n",
              "      <td>1,548.00</td>\n",
              "      <td>267.82</td>\n",
              "    </tr>\n",
              "  </tbody>\n",
              "</table>\n",
              "</div>"
            ],
            "text/plain": [
              "                                                 name  ... price_usd\n",
              "item_id                                                ...          \n",
              "1                    Philipponnat Royale Reserve Brut  ...     58.75\n",
              "2                    Philipponnat Royale Reserve Rosé  ...     84.60\n",
              "3        Philipponnat Cuvée 1522 Grand Cru Extra Brut  ...    136.51\n",
              "4                Philipponnat Cuvée 1522 1er Cru Rosé  ...    155.61\n",
              "5                  Philipponnat Clos Des Goisses Brut  ...    267.82\n",
              "\n",
              "[5 rows x 8 columns]"
            ]
          },
          "metadata": {},
          "execution_count": 3
        }
      ]
    },
    {
      "cell_type": "code",
      "metadata": {
        "colab": {
          "base_uri": "https://localhost:8080/",
          "height": 206
        },
        "id": "WD_ShhYpAxAF",
        "outputId": "3236200f-bbad-4458-e214-b8859eda6005"
      },
      "source": [
        "#endereco dos dados sobre vendas\n",
        "endereco_vendas = \"https://raw.githubusercontent.com/rafaelnduarte/sigmoidal_data/master/sales-clean.csv\"\n",
        "\n",
        "#guardando os dados sobre vendas\n",
        "vendas = pd.read_csv(endereco_vendas)\n",
        "\n",
        "#mostrando as 5 primeiras entrada dos dados de vendas\n",
        "vendas.head()"
      ],
      "execution_count": 16,
      "outputs": [
        {
          "output_type": "execute_result",
          "data": {
            "text/html": [
              "<div>\n",
              "<style scoped>\n",
              "    .dataframe tbody tr th:only-of-type {\n",
              "        vertical-align: middle;\n",
              "    }\n",
              "\n",
              "    .dataframe tbody tr th {\n",
              "        vertical-align: top;\n",
              "    }\n",
              "\n",
              "    .dataframe thead th {\n",
              "        text-align: right;\n",
              "    }\n",
              "</style>\n",
              "<table border=\"1\" class=\"dataframe\">\n",
              "  <thead>\n",
              "    <tr style=\"text-align: right;\">\n",
              "      <th></th>\n",
              "      <th>date</th>\n",
              "      <th>store</th>\n",
              "      <th>item</th>\n",
              "      <th>sales</th>\n",
              "    </tr>\n",
              "  </thead>\n",
              "  <tbody>\n",
              "    <tr>\n",
              "      <th>0</th>\n",
              "      <td>2018-01-01</td>\n",
              "      <td>1</td>\n",
              "      <td>1</td>\n",
              "      <td>13</td>\n",
              "    </tr>\n",
              "    <tr>\n",
              "      <th>1</th>\n",
              "      <td>2018-01-02</td>\n",
              "      <td>1</td>\n",
              "      <td>1</td>\n",
              "      <td>11</td>\n",
              "    </tr>\n",
              "    <tr>\n",
              "      <th>2</th>\n",
              "      <td>2018-01-03</td>\n",
              "      <td>1</td>\n",
              "      <td>1</td>\n",
              "      <td>14</td>\n",
              "    </tr>\n",
              "    <tr>\n",
              "      <th>3</th>\n",
              "      <td>2018-01-04</td>\n",
              "      <td>1</td>\n",
              "      <td>1</td>\n",
              "      <td>13</td>\n",
              "    </tr>\n",
              "    <tr>\n",
              "      <th>4</th>\n",
              "      <td>2018-01-05</td>\n",
              "      <td>1</td>\n",
              "      <td>1</td>\n",
              "      <td>10</td>\n",
              "    </tr>\n",
              "  </tbody>\n",
              "</table>\n",
              "</div>"
            ],
            "text/plain": [
              "         date  store  item  sales\n",
              "0  2018-01-01      1     1     13\n",
              "1  2018-01-02      1     1     11\n",
              "2  2018-01-03      1     1     14\n",
              "3  2018-01-04      1     1     13\n",
              "4  2018-01-05      1     1     10"
            ]
          },
          "metadata": {},
          "execution_count": 16
        }
      ]
    },
    {
      "cell_type": "code",
      "metadata": {
        "colab": {
          "base_uri": "https://localhost:8080/",
          "height": 206
        },
        "id": "ZqsA-kCBFNA-",
        "outputId": "2c7d9c0f-6501-4d69-d0b8-349dab694e30"
      },
      "source": [
        "#vendo as 5 últimas entradas da base de dados sobre vendas\n",
        "vendas.tail()"
      ],
      "execution_count": 17,
      "outputs": [
        {
          "output_type": "execute_result",
          "data": {
            "text/html": [
              "<div>\n",
              "<style scoped>\n",
              "    .dataframe tbody tr th:only-of-type {\n",
              "        vertical-align: middle;\n",
              "    }\n",
              "\n",
              "    .dataframe tbody tr th {\n",
              "        vertical-align: top;\n",
              "    }\n",
              "\n",
              "    .dataframe thead th {\n",
              "        text-align: right;\n",
              "    }\n",
              "</style>\n",
              "<table border=\"1\" class=\"dataframe\">\n",
              "  <thead>\n",
              "    <tr style=\"text-align: right;\">\n",
              "      <th></th>\n",
              "      <th>date</th>\n",
              "      <th>store</th>\n",
              "      <th>item</th>\n",
              "      <th>sales</th>\n",
              "    </tr>\n",
              "  </thead>\n",
              "  <tbody>\n",
              "    <tr>\n",
              "      <th>720066</th>\n",
              "      <td>12/27/2020</td>\n",
              "      <td>3</td>\n",
              "      <td>219</td>\n",
              "      <td>71</td>\n",
              "    </tr>\n",
              "    <tr>\n",
              "      <th>720067</th>\n",
              "      <td>12/28/2020</td>\n",
              "      <td>3</td>\n",
              "      <td>219</td>\n",
              "      <td>28</td>\n",
              "    </tr>\n",
              "    <tr>\n",
              "      <th>720068</th>\n",
              "      <td>12/29/2020</td>\n",
              "      <td>3</td>\n",
              "      <td>219</td>\n",
              "      <td>75</td>\n",
              "    </tr>\n",
              "    <tr>\n",
              "      <th>720069</th>\n",
              "      <td>12/30/2020</td>\n",
              "      <td>3</td>\n",
              "      <td>219</td>\n",
              "      <td>135</td>\n",
              "    </tr>\n",
              "    <tr>\n",
              "      <th>720070</th>\n",
              "      <td>12/31/2020</td>\n",
              "      <td>3</td>\n",
              "      <td>219</td>\n",
              "      <td>91</td>\n",
              "    </tr>\n",
              "  </tbody>\n",
              "</table>\n",
              "</div>"
            ],
            "text/plain": [
              "              date  store  item  sales\n",
              "720066  12/27/2020      3   219     71\n",
              "720067  12/28/2020      3   219     28\n",
              "720068  12/29/2020      3   219     75\n",
              "720069  12/30/2020      3   219    135\n",
              "720070  12/31/2020      3   219     91"
            ]
          },
          "metadata": {},
          "execution_count": 17
        }
      ]
    },
    {
      "cell_type": "code",
      "metadata": {
        "colab": {
          "base_uri": "https://localhost:8080/"
        },
        "id": "ADiZe4-fFmdg",
        "outputId": "a0f9beb9-eeae-414e-e7aa-75f74c069e9b"
      },
      "source": [
        "vendas.dtypes"
      ],
      "execution_count": 20,
      "outputs": [
        {
          "output_type": "execute_result",
          "data": {
            "text/plain": [
              "date     object\n",
              "store     int64\n",
              "item      int64\n",
              "sales     int64\n",
              "dtype: object"
            ]
          },
          "metadata": {},
          "execution_count": 20
        }
      ]
    },
    {
      "cell_type": "code",
      "metadata": {
        "colab": {
          "base_uri": "https://localhost:8080/"
        },
        "id": "gaNOVhWFDai5",
        "outputId": "f4962b9e-1f5a-4c49-f5d6-83d845e8cb3d"
      },
      "source": [
        "vendas.store.unique()"
      ],
      "execution_count": 14,
      "outputs": [
        {
          "output_type": "execute_result",
          "data": {
            "text/plain": [
              "array([1, 2, 3])"
            ]
          },
          "metadata": {},
          "execution_count": 14
        }
      ]
    },
    {
      "cell_type": "markdown",
      "metadata": {
        "id": "KVRkghE7CVv5"
      },
      "source": [
        "texto sobre a junção das duas bases de dados"
      ]
    },
    {
      "cell_type": "code",
      "metadata": {
        "id": "fwtZNjHHCYv5"
      },
      "source": [
        "#códigos para juntar as duas bases de dados"
      ],
      "execution_count": null,
      "outputs": []
    },
    {
      "cell_type": "markdown",
      "metadata": {
        "id": "Xj3hHsKD_Xvj"
      },
      "source": [
        "# Análise Exploratória dos Dados\n",
        "\n",
        "texto texto"
      ]
    }
  ]
}