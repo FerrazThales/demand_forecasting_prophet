{
  "nbformat": 4,
  "nbformat_minor": 0,
  "metadata": {
    "colab": {
      "name": "Demand Forecasting with Prophet",
      "provenance": [],
      "collapsed_sections": [],
      "include_colab_link": true
    },
    "kernelspec": {
      "name": "python3",
      "display_name": "Python 3"
    }
  },
  "cells": [
    {
      "cell_type": "markdown",
      "metadata": {
        "id": "view-in-github",
        "colab_type": "text"
      },
      "source": [
        "<a href=\"https://colab.research.google.com/github/FerrazThales/demand_forecasting_prophet/blob/main/Demand_Forecasting_with_Prophet.ipynb\" target=\"_parent\"><img src=\"https://colab.research.google.com/assets/colab-badge.svg\" alt=\"Open In Colab\"/></a>"
      ]
    },
    {
      "cell_type": "markdown",
      "metadata": {
        "id": "3bly3c2M_B0y"
      },
      "source": [
        "<h1 align=\"center\"><b>Encontre eu e meus projetos nas redes sociais!</b></h1>\n",
        "<table>\n",
        "  <tr>\n",
        "  <td><a href=\"https://thalesferraz.medium.com/\">\n",
        "  <img src=\"https://github.com/FerrazThales/FerrazThales/blob/main/logo_gif.gif?raw=true\" width=\"800\" title=\"Olá, Meu nome é Thales e sou cientista de Dados!\"/>\n",
        "  </a>\n",
        "  </td>\n",
        "  <td><a href=\"https://github.com/FerrazThales\">\n",
        "  <img hspace=30 vspace=110 src=\"https://image.flaticon.com/icons/png/512/1051/1051326.png\" width=\"60%\" title=\"Entre em meu Github e veja mais projetos!\" /> \n",
        "  </a>\n",
        "  </td>\n",
        "  <td>\n",
        "  <a href=\"\">\n",
        "  <img vspace=110 src=\"https://download.logo.wine/logo/Medium_(website)/Medium_(website)-Logo.wine.png\" width=\"800\" title=\"Veja este meu projeto no Medium!\"/>\n",
        "  </a>\n",
        "  </td>\n",
        "  <td><a href=\"https://www.linkedin.com/in/thalesdefreitasferraz/\"><img vspace=150 src=\"https://image.flaticon.com/icons/png/512/889/889122.png\" width=\"40%\" title=\"Vamos trocar uma idéia sobre Data Science no LinkedIn?\" />\n",
        "  </a>\n",
        "  </td>\n",
        "  </tr>\n",
        "</table>\n",
        "\n",
        "# O que você vai aprender neste projeto:\n",
        "\n",
        "* O que é **previsão de demanda**, os **tipos** de projeções e sua *importância* para todas **organizações**.\n",
        "* Como está mercado **vinícola** e quais são suas tendências.\n",
        "* tratamento e limpeza de dados. (outliers)\n",
        "* falar sobre séries temporais\n",
        "* aplicação arima, xgboost e prophet."
      ]
    },
    {
      "cell_type": "markdown",
      "metadata": {
        "id": "JFy4Niuv_Kgn"
      },
      "source": [
        "#O uso de dados como auxílio para a tomada de decisão.\n",
        "<p align='center'>\n",
        "\n",
        "<img src=\"https://image.freepik.com/vetores-gratis/ilustracao-do-conceito-abstrato-de-previsao-de-vendas_335657-3900.jpg\" width=\"40%\">\n",
        "\n",
        "</p>\n",
        "\n",
        "Uma das principais tarefas de um **Engenheiro de Produção** é otimizar *recursos*. Atualmente um dos recursos mais *valiosos* e *rentáveis* de uma organização são os **dados**, afinal [data is the new oil](https://www.forbes.com/sites/forbestechcouncil/2019/11/15/data-is-the-new-oil-and-thats-a-good-thing/?sh=32998a0c7304). Podemos utilizar estes dados para **projetar**, ou seja, antecipar a *demanda* de diversos tipos de produtos e assegurar a **eficiência** da *gestão* de toda nossa cadeia de suprimentos. Por isso, uma **previsão de demanda** bem feita pode gerar *vantagem competitiva* nas decisões do negócio e **reduzir** absurdamente os *custos*.\n",
        "\n",
        "É **imprescindível** que as empresas entendam qual será a demanda **futura** para que seus gestores estejam aptos a tomarem *decisões* mais **assertivas** sobre os **preços**, potencial de **mercado**, compra de **matéria-prima** e até mesmo, possibilidade de **extensão** do negócio. Além disso, a previsão de demanda é essencial para a **Gestão do Estoque**, uma vez que projeções *inadequadas* podem gerar *acúmulo* ou *falta* de **produtos** - e tudo isso tem um gigantesco impacto financeiro negativo nas organizações.\n",
        "\n",
        "Ao se fazer uma *projeção de demanda* **eficaz** as empresas adquirem inúmeras **vantagens** práticas, como o aumento da **produtividade** dos colaboradores e a **diminuição** do trabalho *ocioso* - isto acontece porque os processos se tornam mais **otimizados**. Além disso, todo o planejamento relacionado as atividades de  orçamento, marketing e estratégias de preço são melhor estruturados, já que existem mais **informações** disponíveis. É importante ressaltar que sem uma previsão de demanda **adequada** o negócio assume um grande **risco** de operar e produzir um produto que o **mercado** não precisa.\n",
        "\n",
        "Tradicionalmente, a *previsão de demanda* de divide em **duas** grandes *categorias*. As projeções baseadas em termos **qualitativos** e **quantitativos**. As metodologias *qualitativas* são mais **subjetivas** e se baseiam em pesquisas com especialistas da área, sempre buscando um consenso. Um grande exemplo dos métodos qualitativos é o [Método Delphi](https://www.questionpro.com/blog/pt-br/metodo-delphi/). \n",
        "\n",
        "Já as metodologias *quantitativas* se segmentam em outras *duas* **subcategorias**. A primeira se orienta por **métodos estatísticos** e utiliza operações *matemáticas* para realizar suas previsões. Um modelo simples que aplica este método é o das [Médias Móveis](http://www.fecilcam.br/anais/x_eepa/data/uploads/1-engenharia-de-operacoes-e-processos-da-producao/1-02.pdf). Já a segunda subcategoria se baseia em **algoritmos** de machine learning (*até mesmo deep learning*), ou seja, o *aprendizado* do modelo é feito através dos dados com uma ajuda **computacional**. Um grande exemplo de método utilizado nesta subcategoria é a [Arquitetura LTSM](https://machinelearningmastery.com/how-to-develop-lstm-models-for-time-series-forecasting/).\n",
        "\n",
        "Desta forma, com o avanço da **tecnologia** e das oscilações de mercado é muito importante ter uma previsão de demanda **robusta** e que contempla seu modelo de negócio, uma vez que este tipo de **ferramenta** já se tornou uma vantagem competitiva em todos os mercados.\n",
        "\n",
        "#Previsão de Demanda e o Mercado de Vinhos.\n",
        "\n",
        "<p></p>\n",
        "\n",
        "[link](https://www.scielo.br/j/resr/a/KRKC5rnNFybt5Z5RMvvXLpN/?lang=pt)\n",
        "\n",
        "<p align=\"center\">\n",
        "\n",
        "<img src=\"https://image.freepik.com/fotos-gratis/copo-de-vinho-tinto-e-garrafa-no-balcao-de-bar_107420-65845.jpg\" width=\"70%\">\n",
        "\n",
        "</p>\n",
        "\n",
        "falar de e-commerce e tendências do vinho [link](https://www.wine-xt.com/pt-br/blog/2021/2/3/oportunidades-crescimento-mercado-de-vinho-2021), falar de abrir centros de distribuição. [cd](https://stoom.com.br/centro-de-distribuicao/)\n",
        "\n",
        "\n",
        "<p align=\"center\">\n",
        "<img src=\"https://images.squarespace-cdn.com/content/v1/56a7c79efd5d0878f3aa6793/1612377384828-EECQTLLW1I9MUWN6CBMR/Online-consideration-infographic-v0.LJH-002.jpg?format=1000w\">\n",
        "</p>\n",
        "\n",
        "O objetivo desse projeto é prever a demanda por vinhos em lojas especializadas em vinho. Para esse projeto, temos 2 datasets, um sobre o catálogo de vinhos da loja e outro sobre as vendas.\n",
        "\n",
        "\n",
        "\n"
      ]
    },
    {
      "cell_type": "code",
      "metadata": {
        "colab": {
          "base_uri": "https://localhost:8080/",
          "height": 587
        },
        "id": "krzmY6wt4T-4",
        "outputId": "76798489-2978-4d08-e31a-cad295714455"
      },
      "source": [
        "#módulo para remover os warnings\n",
        "import warnings\n",
        "warnings.filterwarnings('ignore')\n",
        "\n",
        "#Fazendo a instalação dos pacotes necessários\n",
        "!pip install --upgrade Cython -q\n",
        "!pip install --upgrade git+https://github.com/statsmodels/statsmodels -q\n",
        "!pip install pmdarima -q"
      ],
      "execution_count": 57,
      "outputs": [
        {
          "output_type": "stream",
          "name": "stdout",
          "text": [
            "Requirement already satisfied: Cython in /usr/local/lib/python3.7/dist-packages (0.29.24)\n",
            "Collecting git+https://github.com/statsmodels/statsmodels\n",
            "  Cloning https://github.com/statsmodels/statsmodels to /tmp/pip-req-build-bjp1lg6n\n",
            "  Running command git clone -q https://github.com/statsmodels/statsmodels /tmp/pip-req-build-bjp1lg6n\n",
            "  Installing build dependencies ... \u001b[?25l\u001b[?25hdone\n",
            "  Getting requirements to build wheel ... \u001b[?25l\u001b[?25hdone\n",
            "    Preparing wheel metadata ... \u001b[?25l\u001b[?25hdone\n",
            "Requirement already satisfied: scipy>=1.3 in /usr/local/lib/python3.7/dist-packages (from statsmodels==0.14.0.dev0+105.g8a39cac4f) (1.4.1)\n",
            "Requirement already satisfied: numpy>=1.17 in /usr/local/lib/python3.7/dist-packages (from statsmodels==0.14.0.dev0+105.g8a39cac4f) (1.19.5)\n",
            "Requirement already satisfied: patsy>=0.5.2 in /usr/local/lib/python3.7/dist-packages (from statsmodels==0.14.0.dev0+105.g8a39cac4f) (0.5.2)\n",
            "Requirement already satisfied: pandas>=0.25 in /usr/local/lib/python3.7/dist-packages (from statsmodels==0.14.0.dev0+105.g8a39cac4f) (1.1.5)\n",
            "Requirement already satisfied: python-dateutil>=2.7.3 in /usr/local/lib/python3.7/dist-packages (from pandas>=0.25->statsmodels==0.14.0.dev0+105.g8a39cac4f) (2.8.2)\n",
            "Requirement already satisfied: pytz>=2017.2 in /usr/local/lib/python3.7/dist-packages (from pandas>=0.25->statsmodels==0.14.0.dev0+105.g8a39cac4f) (2018.9)\n",
            "Requirement already satisfied: six in /usr/local/lib/python3.7/dist-packages (from patsy>=0.5.2->statsmodels==0.14.0.dev0+105.g8a39cac4f) (1.15.0)\n",
            "Building wheels for collected packages: statsmodels\n",
            "  Building wheel for statsmodels (PEP 517) ... \u001b[?25l\u001b[?25hdone\n",
            "  Created wheel for statsmodels: filename=statsmodels-0.14.0.dev0+105.g8a39cac4f-cp37-cp37m-linux_x86_64.whl size=17869943 sha256=5546550ef879d74a409e8d1a112c237248aaf2d398ebebe762b477485d6ef86d\n",
            "  Stored in directory: /tmp/pip-ephem-wheel-cache-wj0ytr6a/wheels/a7/e2/12/87eac3fb9bcec178a4228e24f5d4c0996208883c6f1b44e941\n",
            "Successfully built statsmodels\n",
            "Installing collected packages: statsmodels\n",
            "  Attempting uninstall: statsmodels\n",
            "    Found existing installation: statsmodels 0.13.1\n",
            "    Uninstalling statsmodels-0.13.1:\n",
            "      Successfully uninstalled statsmodels-0.13.1\n",
            "Successfully installed statsmodels-0.14.0.dev0+105.g8a39cac4f\n"
          ]
        },
        {
          "output_type": "display_data",
          "data": {
            "application/vnd.colab-display-data+json": {
              "pip_warning": {
                "packages": [
                  "statsmodels"
                ]
              }
            }
          },
          "metadata": {}
        }
      ]
    },
    {
      "cell_type": "code",
      "metadata": {
        "id": "Hpw0N_vE_aC9"
      },
      "source": [
        "#bibliotecas de operações matemáticas e análise/leitura de dados\n",
        "import numpy as np\n",
        "import pandas as pd\n",
        "\n",
        "#bibliotecas de visualização de dados\n",
        "import seaborn as sns\n",
        "import matplotlib.pyplot as plt\n",
        "\n",
        "#módulos estatísticos\n",
        "from statsmodels.tsa.seasonal import seasonal_decompose\n",
        "from statsmodels.tsa.arima_model import ARIMA\n",
        "from statsmodels.tsa.stattools import adfuller\n",
        "\n",
        "#módulo que encontra os parâmetros do ARIMA\n",
        "from pmdarima.arima import auto_arima\n",
        "\n",
        "#módulo de time series do facebook\n",
        "from fbprophet import Prophet\n",
        "\n",
        "#calcular as métricas de erro\n",
        "from sklearn.metrics import mean_squared_error as mse"
      ],
      "execution_count": 1,
      "outputs": []
    },
    {
      "cell_type": "markdown",
      "metadata": {
        "id": "ot69cgOs1QW0"
      },
      "source": [
        "Neste projeto abusaremos de visualizações **gráficas**. Para evitar a fadiga gerada por **reescrever** cada código, já deixaremos uma função de ajuste dos gráficos pronta para fazer este **serviço**."
      ]
    },
    {
      "cell_type": "code",
      "metadata": {
        "id": "-GM70OFzvxZz"
      },
      "source": [
        "#defindo uma função de ajuste para o layout dos gráficos\n",
        "def ajuste_layout(ax,titulo=None,location='left',xlabel=None,ylabel=None,\n",
        "                  addlabels=False,y=None,distancia=0,\n",
        "                  grid=False,grid_lw=0.25,grid_style='--'):\n",
        "\n",
        "  ax.set_frame_on(False)\n",
        "  ax.tick_params(axis='both',rotation=0,colors='grey',length=0,labelsize=12)\n",
        "  ax.set_xlabel(xlabel,labelpad=20,fontdict={'fontsize':14},color='#4c4c4c')\n",
        "  ax.set_ylabel(ylabel,labelpad=20,fontdict={'fontsize':14},color='#4c4c4c')\n",
        "  ax.set_title(titulo,loc=location,pad=40,fontdict={'fontsize':20},color='dimgrey')\n",
        "\n",
        "  if addlabels:\n",
        "\n",
        "    ax.get_yaxis().set_visible(False)\n",
        "    for i in range(len(y)):\n",
        "      ax.text(i,y[i] + distancia,'{:,}'.format(int(y[i])).replace(',','.'),ha='center',fontsize=16,color='grey')\n",
        "  \n",
        "  if grid:\n",
        "    ax.grid(linestyle=grid_style,lw=grid_lw,aa=True)"
      ],
      "execution_count": 2,
      "outputs": []
    },
    {
      "cell_type": "markdown",
      "metadata": {
        "id": "-y4see9Y_OSL"
      },
      "source": [
        "# Obtenção e Limpeza dos Dados\n",
        "\n",
        "falar que pegou do rafael que era um desafio do curso\n",
        "\n",
        "se divide em duas bases, produtos e vendas\n"
      ]
    },
    {
      "cell_type": "markdown",
      "metadata": {
        "id": "RDkkX6ZcGqex"
      },
      "source": [
        "### Base de Dados dos produtos\n",
        "\n",
        "texto\n",
        "\n",
        "#### Dicionário das Variáveis:\n",
        "\n",
        "* `item_id`: código do vinho na adega.\n",
        "* `name`: nome do vinho.\n",
        "* `producer`: nome do produtor do vinho.\n",
        "* `country`: país de origem do vinho.\n",
        "* `region`: região de produção do vinho.\n",
        "* `vintage`: ano da safra.\n",
        "* `kind`: tipo do vinho.\n",
        "\n",
        " * *Sparkling* : Espumante\n",
        " * *Rose Sparkling* : Espumante Rose\n",
        " * *White* : Branco\n",
        " * *Rosé* : Rosé\n",
        " * *Red* : Tinto\n",
        "* `price_brl`: preço unitário do vinho em real na época em que os dados foram levantados.\n",
        "* `price_usd`: preço unitário do vinho em dólar na época em que os dados foram levantados."
      ]
    },
    {
      "cell_type": "code",
      "metadata": {
        "colab": {
          "base_uri": "https://localhost:8080/",
          "height": 206
        },
        "id": "8Qjis-sv_YxR",
        "outputId": "af9cffa3-db46-4292-c2e5-cb27e66944dd"
      },
      "source": [
        "#endereco dos dados sobre produos\n",
        "endereco_produtos = \"https://raw.githubusercontent.com/rafaelnduarte/sigmoidal_data/master/products.csv\"\n",
        "\n",
        "#guardando os dados sobre produtos\n",
        "produtos = pd.read_csv(endereco_produtos)\n",
        "\n",
        "#mostrando as 5 primeiras entrada dos dados de produtos\n",
        "produtos.head()"
      ],
      "execution_count": 3,
      "outputs": [
        {
          "output_type": "execute_result",
          "data": {
            "text/html": [
              "<div>\n",
              "<style scoped>\n",
              "    .dataframe tbody tr th:only-of-type {\n",
              "        vertical-align: middle;\n",
              "    }\n",
              "\n",
              "    .dataframe tbody tr th {\n",
              "        vertical-align: top;\n",
              "    }\n",
              "\n",
              "    .dataframe thead th {\n",
              "        text-align: right;\n",
              "    }\n",
              "</style>\n",
              "<table border=\"1\" class=\"dataframe\">\n",
              "  <thead>\n",
              "    <tr style=\"text-align: right;\">\n",
              "      <th></th>\n",
              "      <th>item_id</th>\n",
              "      <th>name</th>\n",
              "      <th>producer</th>\n",
              "      <th>country</th>\n",
              "      <th>region</th>\n",
              "      <th>vintage</th>\n",
              "      <th>kind</th>\n",
              "      <th>price_brl</th>\n",
              "      <th>price_usd</th>\n",
              "    </tr>\n",
              "  </thead>\n",
              "  <tbody>\n",
              "    <tr>\n",
              "      <th>0</th>\n",
              "      <td>1</td>\n",
              "      <td>Philipponnat Royale Reserve Brut</td>\n",
              "      <td>Philipponat</td>\n",
              "      <td>France</td>\n",
              "      <td>Champagne</td>\n",
              "      <td>NV</td>\n",
              "      <td>sparkling</td>\n",
              "      <td>339.60</td>\n",
              "      <td>58.75</td>\n",
              "    </tr>\n",
              "    <tr>\n",
              "      <th>1</th>\n",
              "      <td>2</td>\n",
              "      <td>Philipponnat Royale Reserve Rosé</td>\n",
              "      <td>Philipponat</td>\n",
              "      <td>France</td>\n",
              "      <td>Champagne</td>\n",
              "      <td>NV</td>\n",
              "      <td>rose sparkling</td>\n",
              "      <td>489.00</td>\n",
              "      <td>84.60</td>\n",
              "    </tr>\n",
              "    <tr>\n",
              "      <th>2</th>\n",
              "      <td>3</td>\n",
              "      <td>Philipponnat Cuvée 1522 Grand Cru Extra Brut</td>\n",
              "      <td>Philipponat</td>\n",
              "      <td>France</td>\n",
              "      <td>Champagne</td>\n",
              "      <td>2009</td>\n",
              "      <td>sparkling</td>\n",
              "      <td>789.00</td>\n",
              "      <td>136.51</td>\n",
              "    </tr>\n",
              "    <tr>\n",
              "      <th>3</th>\n",
              "      <td>4</td>\n",
              "      <td>Philipponnat Cuvée 1522 1er Cru Rosé</td>\n",
              "      <td>Philipponat</td>\n",
              "      <td>France</td>\n",
              "      <td>Champagne</td>\n",
              "      <td>2008</td>\n",
              "      <td>rose sparkling</td>\n",
              "      <td>899.40</td>\n",
              "      <td>155.61</td>\n",
              "    </tr>\n",
              "    <tr>\n",
              "      <th>4</th>\n",
              "      <td>5</td>\n",
              "      <td>Philipponnat Clos Des Goisses Brut</td>\n",
              "      <td>Philipponat</td>\n",
              "      <td>France</td>\n",
              "      <td>Champagne</td>\n",
              "      <td>2009</td>\n",
              "      <td>sparkling</td>\n",
              "      <td>1,548.00</td>\n",
              "      <td>267.82</td>\n",
              "    </tr>\n",
              "  </tbody>\n",
              "</table>\n",
              "</div>"
            ],
            "text/plain": [
              "   item_id                                          name  ... price_brl price_usd\n",
              "0        1              Philipponnat Royale Reserve Brut  ...    339.60     58.75\n",
              "1        2              Philipponnat Royale Reserve Rosé  ...    489.00     84.60\n",
              "2        3  Philipponnat Cuvée 1522 Grand Cru Extra Brut  ...    789.00    136.51\n",
              "3        4          Philipponnat Cuvée 1522 1er Cru Rosé  ...    899.40    155.61\n",
              "4        5            Philipponnat Clos Des Goisses Brut  ...  1,548.00    267.82\n",
              "\n",
              "[5 rows x 9 columns]"
            ]
          },
          "metadata": {},
          "execution_count": 3
        }
      ]
    },
    {
      "cell_type": "markdown",
      "metadata": {
        "id": "wLU4RIYNLzgp"
      },
      "source": [
        "texto sobre a quantidade de vinhos  e suas variáveis"
      ]
    },
    {
      "cell_type": "code",
      "metadata": {
        "colab": {
          "base_uri": "https://localhost:8080/"
        },
        "id": "rhcJVxgkLaiJ",
        "outputId": "4629771d-d128-4dd0-c6e0-c358e42d6403"
      },
      "source": [
        "print('A Base de dados sobre produtos contém:')\n",
        "print('{} entradas e {} variáveis'.format(produtos.shape[0], produtos.shape[1]))"
      ],
      "execution_count": 4,
      "outputs": [
        {
          "output_type": "stream",
          "name": "stdout",
          "text": [
            "A Base de dados sobre produtos contém:\n",
            "219 entradas e 9 variáveis\n"
          ]
        }
      ]
    },
    {
      "cell_type": "markdown",
      "metadata": {
        "id": "GesdUAkbHId3"
      },
      "source": [
        "avaliar o tipo de dados"
      ]
    },
    {
      "cell_type": "code",
      "metadata": {
        "colab": {
          "base_uri": "https://localhost:8080/",
          "height": 331
        },
        "id": "GkoT8lzzHLkw",
        "outputId": "bdfc351b-6d42-4b8f-d349-9350b7500b88"
      },
      "source": [
        "#avaliando o tipo de dados\n",
        "pd.DataFrame(produtos.dtypes,columns=['Tipo de Dados'])"
      ],
      "execution_count": 5,
      "outputs": [
        {
          "output_type": "execute_result",
          "data": {
            "text/html": [
              "<div>\n",
              "<style scoped>\n",
              "    .dataframe tbody tr th:only-of-type {\n",
              "        vertical-align: middle;\n",
              "    }\n",
              "\n",
              "    .dataframe tbody tr th {\n",
              "        vertical-align: top;\n",
              "    }\n",
              "\n",
              "    .dataframe thead th {\n",
              "        text-align: right;\n",
              "    }\n",
              "</style>\n",
              "<table border=\"1\" class=\"dataframe\">\n",
              "  <thead>\n",
              "    <tr style=\"text-align: right;\">\n",
              "      <th></th>\n",
              "      <th>Tipo de Dados</th>\n",
              "    </tr>\n",
              "  </thead>\n",
              "  <tbody>\n",
              "    <tr>\n",
              "      <th>item_id</th>\n",
              "      <td>int64</td>\n",
              "    </tr>\n",
              "    <tr>\n",
              "      <th>name</th>\n",
              "      <td>object</td>\n",
              "    </tr>\n",
              "    <tr>\n",
              "      <th>producer</th>\n",
              "      <td>object</td>\n",
              "    </tr>\n",
              "    <tr>\n",
              "      <th>country</th>\n",
              "      <td>object</td>\n",
              "    </tr>\n",
              "    <tr>\n",
              "      <th>region</th>\n",
              "      <td>object</td>\n",
              "    </tr>\n",
              "    <tr>\n",
              "      <th>vintage</th>\n",
              "      <td>object</td>\n",
              "    </tr>\n",
              "    <tr>\n",
              "      <th>kind</th>\n",
              "      <td>object</td>\n",
              "    </tr>\n",
              "    <tr>\n",
              "      <th>price_brl</th>\n",
              "      <td>object</td>\n",
              "    </tr>\n",
              "    <tr>\n",
              "      <th>price_usd</th>\n",
              "      <td>object</td>\n",
              "    </tr>\n",
              "  </tbody>\n",
              "</table>\n",
              "</div>"
            ],
            "text/plain": [
              "          Tipo de Dados\n",
              "item_id           int64\n",
              "name             object\n",
              "producer         object\n",
              "country          object\n",
              "region           object\n",
              "vintage          object\n",
              "kind             object\n",
              "price_brl        object\n",
              "price_usd        object"
            ]
          },
          "metadata": {},
          "execution_count": 5
        }
      ]
    },
    {
      "cell_type": "markdown",
      "metadata": {
        "id": "kL5XxtYYIcb8"
      },
      "source": [
        "texto falando sobre float e vírgula pq o regex precisa ser true"
      ]
    },
    {
      "cell_type": "code",
      "metadata": {
        "id": "H65XMivNHZgf"
      },
      "source": [
        "#tirando as vírgulas dos valores\n",
        "produtos.replace(',','',inplace=True,regex=True)\n",
        "\n",
        "#mudança da variável price_brl\n",
        "produtos.price_brl = produtos.price_brl.astype('float64')\n",
        "\n",
        "#mudança da variável price_usd\n",
        "produtos.price_usd = produtos.price_usd.astype('float64')\n",
        "\n",
        "#mudança da variável item_id\n",
        "produtos.item_id = produtos.item_id.astype('str')"
      ],
      "execution_count": 6,
      "outputs": []
    },
    {
      "cell_type": "code",
      "metadata": {
        "colab": {
          "base_uri": "https://localhost:8080/",
          "height": 331
        },
        "id": "f0Mq400FIJpo",
        "outputId": "36dd3f62-a731-4acb-d07c-357d84764700"
      },
      "source": [
        "pd.DataFrame(produtos.dtypes,columns=['Tipo de Dados após mudança'])"
      ],
      "execution_count": 7,
      "outputs": [
        {
          "output_type": "execute_result",
          "data": {
            "text/html": [
              "<div>\n",
              "<style scoped>\n",
              "    .dataframe tbody tr th:only-of-type {\n",
              "        vertical-align: middle;\n",
              "    }\n",
              "\n",
              "    .dataframe tbody tr th {\n",
              "        vertical-align: top;\n",
              "    }\n",
              "\n",
              "    .dataframe thead th {\n",
              "        text-align: right;\n",
              "    }\n",
              "</style>\n",
              "<table border=\"1\" class=\"dataframe\">\n",
              "  <thead>\n",
              "    <tr style=\"text-align: right;\">\n",
              "      <th></th>\n",
              "      <th>Tipo de Dados após mudança</th>\n",
              "    </tr>\n",
              "  </thead>\n",
              "  <tbody>\n",
              "    <tr>\n",
              "      <th>item_id</th>\n",
              "      <td>object</td>\n",
              "    </tr>\n",
              "    <tr>\n",
              "      <th>name</th>\n",
              "      <td>object</td>\n",
              "    </tr>\n",
              "    <tr>\n",
              "      <th>producer</th>\n",
              "      <td>object</td>\n",
              "    </tr>\n",
              "    <tr>\n",
              "      <th>country</th>\n",
              "      <td>object</td>\n",
              "    </tr>\n",
              "    <tr>\n",
              "      <th>region</th>\n",
              "      <td>object</td>\n",
              "    </tr>\n",
              "    <tr>\n",
              "      <th>vintage</th>\n",
              "      <td>object</td>\n",
              "    </tr>\n",
              "    <tr>\n",
              "      <th>kind</th>\n",
              "      <td>object</td>\n",
              "    </tr>\n",
              "    <tr>\n",
              "      <th>price_brl</th>\n",
              "      <td>float64</td>\n",
              "    </tr>\n",
              "    <tr>\n",
              "      <th>price_usd</th>\n",
              "      <td>float64</td>\n",
              "    </tr>\n",
              "  </tbody>\n",
              "</table>\n",
              "</div>"
            ],
            "text/plain": [
              "          Tipo de Dados após mudança\n",
              "item_id                       object\n",
              "name                          object\n",
              "producer                      object\n",
              "country                       object\n",
              "region                        object\n",
              "vintage                       object\n",
              "kind                          object\n",
              "price_brl                    float64\n",
              "price_usd                    float64"
            ]
          },
          "metadata": {},
          "execution_count": 7
        }
      ]
    },
    {
      "cell_type": "markdown",
      "metadata": {
        "id": "OSZ7KmwGHueg"
      },
      "source": [
        "ver dados vazios"
      ]
    },
    {
      "cell_type": "code",
      "metadata": {
        "colab": {
          "base_uri": "https://localhost:8080/",
          "height": 331
        },
        "id": "Rq4qyODfHwEC",
        "outputId": "3ccba83c-7e4d-4863-eca5-605aec541be9"
      },
      "source": [
        "#verificando a quantidade de dados vazios na base de dados dos produtos\n",
        "pd.DataFrame(produtos.isnull().sum(),columns=['Quantidade de Valores Ausentes'])"
      ],
      "execution_count": 8,
      "outputs": [
        {
          "output_type": "execute_result",
          "data": {
            "text/html": [
              "<div>\n",
              "<style scoped>\n",
              "    .dataframe tbody tr th:only-of-type {\n",
              "        vertical-align: middle;\n",
              "    }\n",
              "\n",
              "    .dataframe tbody tr th {\n",
              "        vertical-align: top;\n",
              "    }\n",
              "\n",
              "    .dataframe thead th {\n",
              "        text-align: right;\n",
              "    }\n",
              "</style>\n",
              "<table border=\"1\" class=\"dataframe\">\n",
              "  <thead>\n",
              "    <tr style=\"text-align: right;\">\n",
              "      <th></th>\n",
              "      <th>Quantidade de Valores Ausentes</th>\n",
              "    </tr>\n",
              "  </thead>\n",
              "  <tbody>\n",
              "    <tr>\n",
              "      <th>item_id</th>\n",
              "      <td>0</td>\n",
              "    </tr>\n",
              "    <tr>\n",
              "      <th>name</th>\n",
              "      <td>0</td>\n",
              "    </tr>\n",
              "    <tr>\n",
              "      <th>producer</th>\n",
              "      <td>0</td>\n",
              "    </tr>\n",
              "    <tr>\n",
              "      <th>country</th>\n",
              "      <td>0</td>\n",
              "    </tr>\n",
              "    <tr>\n",
              "      <th>region</th>\n",
              "      <td>0</td>\n",
              "    </tr>\n",
              "    <tr>\n",
              "      <th>vintage</th>\n",
              "      <td>0</td>\n",
              "    </tr>\n",
              "    <tr>\n",
              "      <th>kind</th>\n",
              "      <td>0</td>\n",
              "    </tr>\n",
              "    <tr>\n",
              "      <th>price_brl</th>\n",
              "      <td>0</td>\n",
              "    </tr>\n",
              "    <tr>\n",
              "      <th>price_usd</th>\n",
              "      <td>0</td>\n",
              "    </tr>\n",
              "  </tbody>\n",
              "</table>\n",
              "</div>"
            ],
            "text/plain": [
              "           Quantidade de Valores Ausentes\n",
              "item_id                                 0\n",
              "name                                    0\n",
              "producer                                0\n",
              "country                                 0\n",
              "region                                  0\n",
              "vintage                                 0\n",
              "kind                                    0\n",
              "price_brl                               0\n",
              "price_usd                               0"
            ]
          },
          "metadata": {},
          "execution_count": 8
        }
      ]
    },
    {
      "cell_type": "markdown",
      "metadata": {
        "id": "oqCFlyl5G0zV"
      },
      "source": [
        "### Base de dados das Vendas\n",
        "\n",
        "##### Dicionário das Variáveis:\n",
        "\n",
        "* `date`: data em que a venda foi realizada.\n",
        "* `store`: código da loja.\n",
        "* `item`: código do vinho na adega.\n",
        "* `sales`: quantidade de vinhos vendidos."
      ]
    },
    {
      "cell_type": "code",
      "metadata": {
        "colab": {
          "base_uri": "https://localhost:8080/",
          "height": 206
        },
        "id": "WD_ShhYpAxAF",
        "outputId": "7762bf56-8621-4f5d-a063-024cad926721"
      },
      "source": [
        "#endereco dos dados sobre vendas\n",
        "endereco_vendas = \"https://raw.githubusercontent.com/rafaelnduarte/sigmoidal_data/master/sales-clean.csv\"\n",
        "\n",
        "#importando os dados sobre vendas\n",
        "vendas = pd.read_csv(endereco_vendas,parse_dates=['date'])\n",
        "\n",
        "#mostrando as 5 primeiras entrada dos dados de vendas\n",
        "vendas.head()"
      ],
      "execution_count": 9,
      "outputs": [
        {
          "output_type": "execute_result",
          "data": {
            "text/html": [
              "<div>\n",
              "<style scoped>\n",
              "    .dataframe tbody tr th:only-of-type {\n",
              "        vertical-align: middle;\n",
              "    }\n",
              "\n",
              "    .dataframe tbody tr th {\n",
              "        vertical-align: top;\n",
              "    }\n",
              "\n",
              "    .dataframe thead th {\n",
              "        text-align: right;\n",
              "    }\n",
              "</style>\n",
              "<table border=\"1\" class=\"dataframe\">\n",
              "  <thead>\n",
              "    <tr style=\"text-align: right;\">\n",
              "      <th></th>\n",
              "      <th>date</th>\n",
              "      <th>store</th>\n",
              "      <th>item</th>\n",
              "      <th>sales</th>\n",
              "    </tr>\n",
              "  </thead>\n",
              "  <tbody>\n",
              "    <tr>\n",
              "      <th>0</th>\n",
              "      <td>2018-01-01</td>\n",
              "      <td>1</td>\n",
              "      <td>1</td>\n",
              "      <td>13</td>\n",
              "    </tr>\n",
              "    <tr>\n",
              "      <th>1</th>\n",
              "      <td>2018-01-02</td>\n",
              "      <td>1</td>\n",
              "      <td>1</td>\n",
              "      <td>11</td>\n",
              "    </tr>\n",
              "    <tr>\n",
              "      <th>2</th>\n",
              "      <td>2018-01-03</td>\n",
              "      <td>1</td>\n",
              "      <td>1</td>\n",
              "      <td>14</td>\n",
              "    </tr>\n",
              "    <tr>\n",
              "      <th>3</th>\n",
              "      <td>2018-01-04</td>\n",
              "      <td>1</td>\n",
              "      <td>1</td>\n",
              "      <td>13</td>\n",
              "    </tr>\n",
              "    <tr>\n",
              "      <th>4</th>\n",
              "      <td>2018-01-05</td>\n",
              "      <td>1</td>\n",
              "      <td>1</td>\n",
              "      <td>10</td>\n",
              "    </tr>\n",
              "  </tbody>\n",
              "</table>\n",
              "</div>"
            ],
            "text/plain": [
              "        date  store  item  sales\n",
              "0 2018-01-01      1     1     13\n",
              "1 2018-01-02      1     1     11\n",
              "2 2018-01-03      1     1     14\n",
              "3 2018-01-04      1     1     13\n",
              "4 2018-01-05      1     1     10"
            ]
          },
          "metadata": {},
          "execution_count": 9
        }
      ]
    },
    {
      "cell_type": "markdown",
      "metadata": {
        "id": "38dsJLi2MF8z"
      },
      "source": [
        "ver quantidade de dados e variáveis"
      ]
    },
    {
      "cell_type": "code",
      "metadata": {
        "colab": {
          "base_uri": "https://localhost:8080/"
        },
        "id": "W-pWVLJpMHxK",
        "outputId": "402e0693-2c98-4a74-8f53-84b6c262d5c1"
      },
      "source": [
        "print('A Base de dados sobre vendas contém:')\n",
        "print('{:,} entradas e {} variáveis'.format(vendas.shape[0], vendas.shape[1]).replace(',','.'))"
      ],
      "execution_count": 10,
      "outputs": [
        {
          "output_type": "stream",
          "name": "stdout",
          "text": [
            "A Base de dados sobre vendas contém:\n",
            "720.071 entradas e 4 variáveis\n"
          ]
        }
      ]
    },
    {
      "cell_type": "markdown",
      "metadata": {
        "id": "GRBRGGq9Qb3A"
      },
      "source": [
        "avaliando o tipo de dados, falar do datetime64 e int64, explicar que vai ter que mudar os dados da store e item"
      ]
    },
    {
      "cell_type": "code",
      "metadata": {
        "colab": {
          "base_uri": "https://localhost:8080/",
          "height": 174
        },
        "id": "JVnF2NZwP-4d",
        "outputId": "eef20c1f-468b-432a-8477-3ffebab78973"
      },
      "source": [
        "pd.DataFrame(vendas.dtypes,columns=['Tipo de Dados'])"
      ],
      "execution_count": 11,
      "outputs": [
        {
          "output_type": "execute_result",
          "data": {
            "text/html": [
              "<div>\n",
              "<style scoped>\n",
              "    .dataframe tbody tr th:only-of-type {\n",
              "        vertical-align: middle;\n",
              "    }\n",
              "\n",
              "    .dataframe tbody tr th {\n",
              "        vertical-align: top;\n",
              "    }\n",
              "\n",
              "    .dataframe thead th {\n",
              "        text-align: right;\n",
              "    }\n",
              "</style>\n",
              "<table border=\"1\" class=\"dataframe\">\n",
              "  <thead>\n",
              "    <tr style=\"text-align: right;\">\n",
              "      <th></th>\n",
              "      <th>Tipo de Dados</th>\n",
              "    </tr>\n",
              "  </thead>\n",
              "  <tbody>\n",
              "    <tr>\n",
              "      <th>date</th>\n",
              "      <td>datetime64[ns]</td>\n",
              "    </tr>\n",
              "    <tr>\n",
              "      <th>store</th>\n",
              "      <td>int64</td>\n",
              "    </tr>\n",
              "    <tr>\n",
              "      <th>item</th>\n",
              "      <td>int64</td>\n",
              "    </tr>\n",
              "    <tr>\n",
              "      <th>sales</th>\n",
              "      <td>int64</td>\n",
              "    </tr>\n",
              "  </tbody>\n",
              "</table>\n",
              "</div>"
            ],
            "text/plain": [
              "        Tipo de Dados\n",
              "date   datetime64[ns]\n",
              "store           int64\n",
              "item            int64\n",
              "sales           int64"
            ]
          },
          "metadata": {},
          "execution_count": 11
        }
      ]
    },
    {
      "cell_type": "code",
      "metadata": {
        "id": "VIXnCRMPWH-S"
      },
      "source": [
        "#alterando o tipo de dados da variável store para string\n",
        "vendas.store = vendas.store.astype('str')\n",
        "\n",
        "#alterando o tipo de dados da variável item para string\n",
        "vendas.item = vendas.item.astype('str')"
      ],
      "execution_count": 12,
      "outputs": []
    },
    {
      "cell_type": "markdown",
      "metadata": {
        "id": "QjnYVHrQQoHH"
      },
      "source": [
        "avaliando a quantidade de dados vazios"
      ]
    },
    {
      "cell_type": "code",
      "metadata": {
        "colab": {
          "base_uri": "https://localhost:8080/",
          "height": 174
        },
        "id": "SzKzGDaLP-60",
        "outputId": "570caa5e-bdec-47d5-bc95-e5be18ff69a5"
      },
      "source": [
        "pd.DataFrame(vendas.isnull().sum(),columns=['Quantidade de Dados Ausentes'])"
      ],
      "execution_count": 13,
      "outputs": [
        {
          "output_type": "execute_result",
          "data": {
            "text/html": [
              "<div>\n",
              "<style scoped>\n",
              "    .dataframe tbody tr th:only-of-type {\n",
              "        vertical-align: middle;\n",
              "    }\n",
              "\n",
              "    .dataframe tbody tr th {\n",
              "        vertical-align: top;\n",
              "    }\n",
              "\n",
              "    .dataframe thead th {\n",
              "        text-align: right;\n",
              "    }\n",
              "</style>\n",
              "<table border=\"1\" class=\"dataframe\">\n",
              "  <thead>\n",
              "    <tr style=\"text-align: right;\">\n",
              "      <th></th>\n",
              "      <th>Quantidade de Dados Ausentes</th>\n",
              "    </tr>\n",
              "  </thead>\n",
              "  <tbody>\n",
              "    <tr>\n",
              "      <th>date</th>\n",
              "      <td>0</td>\n",
              "    </tr>\n",
              "    <tr>\n",
              "      <th>store</th>\n",
              "      <td>0</td>\n",
              "    </tr>\n",
              "    <tr>\n",
              "      <th>item</th>\n",
              "      <td>0</td>\n",
              "    </tr>\n",
              "    <tr>\n",
              "      <th>sales</th>\n",
              "      <td>0</td>\n",
              "    </tr>\n",
              "  </tbody>\n",
              "</table>\n",
              "</div>"
            ],
            "text/plain": [
              "       Quantidade de Dados Ausentes\n",
              "date                              0\n",
              "store                             0\n",
              "item                              0\n",
              "sales                             0"
            ]
          },
          "metadata": {},
          "execution_count": 13
        }
      ]
    },
    {
      "cell_type": "markdown",
      "metadata": {
        "id": "nzsZ6tDZKGr2"
      },
      "source": [
        "## Juntando as duas bases de dados\n",
        "\n",
        "texto sobre a junção das duas bases de dados [artigo](https://medium.com/data-hackers/pandas-combinando-data-frames-com-merge-e-concat-10e7d07ca5ec), falar do que há em comum entre as tabelas.\n",
        "\n",
        "<p align=\"center\">\n",
        "  <img src=\"https://miro.medium.com/max/700/1*0FDsAB9OelxojfmtkcLbgw.png\"\n",
        "</p>"
      ]
    },
    {
      "cell_type": "code",
      "metadata": {
        "id": "fwtZNjHHCYv5"
      },
      "source": [
        "#códigos para juntar as duas bases de dados\n",
        "df = pd.merge(produtos,vendas,how='right',left_on='item_id',right_on='item')\n",
        "\n",
        "#mudando a variável data para o índice\n",
        "df.set_index('date',inplace=True)\n",
        "\n",
        "#retirando a coluna item duplicada\n",
        "df.drop('item',axis=1,inplace=True)"
      ],
      "execution_count": 14,
      "outputs": []
    },
    {
      "cell_type": "markdown",
      "metadata": {
        "id": "1VQRMT30-r9i"
      },
      "source": [
        "algumas novas variáveis"
      ]
    },
    {
      "cell_type": "code",
      "metadata": {
        "id": "4hYM0Eey-t3F"
      },
      "source": [
        "#receitas em dólares\n",
        "df['revenue_usd'] = df.sales * df.price_usd\n",
        "\n",
        "#receitas em reais\n",
        "df['revenue_brl'] = df.sales * df.price_brl\n",
        "\n",
        "#ano da vendas\n",
        "df['year'] = df.index.year\n",
        "\n",
        "#mês das vendas\n",
        "df['month'] =  df.index.month_name()\n",
        "\n",
        "#dia das vendas\n",
        "df['day'] = df.index.day\n",
        "\n",
        "#dia da semana\n",
        "df['day_of_week'] = df.index.dayofweek\n",
        "\n",
        "#nome do dia na semana\n",
        "df['day_name'] = df.index.day_name()\n",
        "\n",
        "#final de semana\n",
        "df['weekend'] = df.day_of_week > 4"
      ],
      "execution_count": 15,
      "outputs": []
    },
    {
      "cell_type": "code",
      "metadata": {
        "colab": {
          "base_uri": "https://localhost:8080/",
          "height": 604
        },
        "id": "fQtC1VaC-uDp",
        "outputId": "2f8f0854-89b2-4917-ef8c-b3daa6e1ce2a"
      },
      "source": [
        "#visualizando as 5 primeiras entradas após a junção dos dados e novas variáveis\n",
        "df.sort_index(inplace=True)\n",
        "df.head()"
      ],
      "execution_count": 16,
      "outputs": [
        {
          "output_type": "execute_result",
          "data": {
            "text/html": [
              "<div>\n",
              "<style scoped>\n",
              "    .dataframe tbody tr th:only-of-type {\n",
              "        vertical-align: middle;\n",
              "    }\n",
              "\n",
              "    .dataframe tbody tr th {\n",
              "        vertical-align: top;\n",
              "    }\n",
              "\n",
              "    .dataframe thead th {\n",
              "        text-align: right;\n",
              "    }\n",
              "</style>\n",
              "<table border=\"1\" class=\"dataframe\">\n",
              "  <thead>\n",
              "    <tr style=\"text-align: right;\">\n",
              "      <th></th>\n",
              "      <th>item_id</th>\n",
              "      <th>name</th>\n",
              "      <th>producer</th>\n",
              "      <th>country</th>\n",
              "      <th>region</th>\n",
              "      <th>vintage</th>\n",
              "      <th>kind</th>\n",
              "      <th>price_brl</th>\n",
              "      <th>price_usd</th>\n",
              "      <th>store</th>\n",
              "      <th>sales</th>\n",
              "      <th>revenue_usd</th>\n",
              "      <th>revenue_brl</th>\n",
              "      <th>year</th>\n",
              "      <th>month</th>\n",
              "      <th>day</th>\n",
              "      <th>day_of_week</th>\n",
              "      <th>day_name</th>\n",
              "      <th>weekend</th>\n",
              "    </tr>\n",
              "    <tr>\n",
              "      <th>date</th>\n",
              "      <th></th>\n",
              "      <th></th>\n",
              "      <th></th>\n",
              "      <th></th>\n",
              "      <th></th>\n",
              "      <th></th>\n",
              "      <th></th>\n",
              "      <th></th>\n",
              "      <th></th>\n",
              "      <th></th>\n",
              "      <th></th>\n",
              "      <th></th>\n",
              "      <th></th>\n",
              "      <th></th>\n",
              "      <th></th>\n",
              "      <th></th>\n",
              "      <th></th>\n",
              "      <th></th>\n",
              "      <th></th>\n",
              "    </tr>\n",
              "  </thead>\n",
              "  <tbody>\n",
              "    <tr>\n",
              "      <th>2016-01-01</th>\n",
              "      <td>45</td>\n",
              "      <td>Domaine Alain Chavy Puligny-Montrachet 1er Cru...</td>\n",
              "      <td>Domaine Alain Chavy</td>\n",
              "      <td>France</td>\n",
              "      <td>Burgundy</td>\n",
              "      <td>2018</td>\n",
              "      <td>white</td>\n",
              "      <td>949.2</td>\n",
              "      <td>164.22</td>\n",
              "      <td>3</td>\n",
              "      <td>64</td>\n",
              "      <td>10510.08</td>\n",
              "      <td>60748.8</td>\n",
              "      <td>2016</td>\n",
              "      <td>January</td>\n",
              "      <td>1</td>\n",
              "      <td>4</td>\n",
              "      <td>Friday</td>\n",
              "      <td>False</td>\n",
              "    </tr>\n",
              "    <tr>\n",
              "      <th>2016-01-01</th>\n",
              "      <td>32</td>\n",
              "      <td>La Chablisienne Chablis Grand Cru Grenouilles</td>\n",
              "      <td>La Chablisienne</td>\n",
              "      <td>France</td>\n",
              "      <td>Burgundy</td>\n",
              "      <td>2015</td>\n",
              "      <td>white</td>\n",
              "      <td>509.4</td>\n",
              "      <td>88.13</td>\n",
              "      <td>3</td>\n",
              "      <td>39</td>\n",
              "      <td>3437.07</td>\n",
              "      <td>19866.6</td>\n",
              "      <td>2016</td>\n",
              "      <td>January</td>\n",
              "      <td>1</td>\n",
              "      <td>4</td>\n",
              "      <td>Friday</td>\n",
              "      <td>False</td>\n",
              "    </tr>\n",
              "    <tr>\n",
              "      <th>2016-01-01</th>\n",
              "      <td>33</td>\n",
              "      <td>La Chablisienne Chablis Grand Cru Les Preuses</td>\n",
              "      <td>La Chablisienne</td>\n",
              "      <td>France</td>\n",
              "      <td>Burgundy</td>\n",
              "      <td>2003</td>\n",
              "      <td>white</td>\n",
              "      <td>549.6</td>\n",
              "      <td>95.09</td>\n",
              "      <td>1</td>\n",
              "      <td>39</td>\n",
              "      <td>3708.51</td>\n",
              "      <td>21434.4</td>\n",
              "      <td>2016</td>\n",
              "      <td>January</td>\n",
              "      <td>1</td>\n",
              "      <td>4</td>\n",
              "      <td>Friday</td>\n",
              "      <td>False</td>\n",
              "    </tr>\n",
              "    <tr>\n",
              "      <th>2016-01-01</th>\n",
              "      <td>33</td>\n",
              "      <td>La Chablisienne Chablis Grand Cru Les Preuses</td>\n",
              "      <td>La Chablisienne</td>\n",
              "      <td>France</td>\n",
              "      <td>Burgundy</td>\n",
              "      <td>2003</td>\n",
              "      <td>white</td>\n",
              "      <td>549.6</td>\n",
              "      <td>95.09</td>\n",
              "      <td>2</td>\n",
              "      <td>67</td>\n",
              "      <td>6371.03</td>\n",
              "      <td>36823.2</td>\n",
              "      <td>2016</td>\n",
              "      <td>January</td>\n",
              "      <td>1</td>\n",
              "      <td>4</td>\n",
              "      <td>Friday</td>\n",
              "      <td>False</td>\n",
              "    </tr>\n",
              "    <tr>\n",
              "      <th>2016-01-01</th>\n",
              "      <td>33</td>\n",
              "      <td>La Chablisienne Chablis Grand Cru Les Preuses</td>\n",
              "      <td>La Chablisienne</td>\n",
              "      <td>France</td>\n",
              "      <td>Burgundy</td>\n",
              "      <td>2003</td>\n",
              "      <td>white</td>\n",
              "      <td>549.6</td>\n",
              "      <td>95.09</td>\n",
              "      <td>3</td>\n",
              "      <td>54</td>\n",
              "      <td>5134.86</td>\n",
              "      <td>29678.4</td>\n",
              "      <td>2016</td>\n",
              "      <td>January</td>\n",
              "      <td>1</td>\n",
              "      <td>4</td>\n",
              "      <td>Friday</td>\n",
              "      <td>False</td>\n",
              "    </tr>\n",
              "  </tbody>\n",
              "</table>\n",
              "</div>"
            ],
            "text/plain": [
              "           item_id  ... weekend\n",
              "date                ...        \n",
              "2016-01-01      45  ...   False\n",
              "2016-01-01      32  ...   False\n",
              "2016-01-01      33  ...   False\n",
              "2016-01-01      33  ...   False\n",
              "2016-01-01      33  ...   False\n",
              "\n",
              "[5 rows x 19 columns]"
            ]
          },
          "metadata": {},
          "execution_count": 16
        }
      ]
    },
    {
      "cell_type": "markdown",
      "metadata": {
        "id": "N3VpH0-nopMc"
      },
      "source": [
        "ver os valores por ano"
      ]
    },
    {
      "cell_type": "code",
      "metadata": {
        "colab": {
          "base_uri": "https://localhost:8080/",
          "height": 441
        },
        "id": "5O6BEiSpoAXe",
        "outputId": "29348545-7a48-47bd-f517-e5e5783f81c4"
      },
      "source": [
        "#criando o fig e o ax no matplotlib\n",
        "fig, ax  = plt.subplots(figsize=(8,6))\n",
        "\n",
        "#criando o gráfico de barras\n",
        "agrupamento_por_ano = df.groupby('year').sum()\n",
        "agrupamento_por_ano.plot(y='sales',\n",
        "                         ax=ax,\n",
        "                         kind='bar',\n",
        "                         legend=False,\n",
        "                         color='#241571',\n",
        "                         alpha=0.8)\n",
        "\n",
        "ajuste_layout(ax=ax,\n",
        "              titulo = 'Quantidade de Vinhos Vendidos por ano',\n",
        "              addlabels = True,\n",
        "              y = list(agrupamento_por_ano.sales),\n",
        "              distancia = 400000)\n",
        "\n",
        "#plotando o gráfico\n",
        "plt.tight_layout();"
      ],
      "execution_count": 17,
      "outputs": [
        {
          "output_type": "display_data",
          "data": {
            "image/png": "[encoded data removed]",
            "text/plain": [
              "<Figure size 576x432 with 1 Axes>"
            ]
          },
          "metadata": {
            "needs_background": "dark"
          }
        }
      ]
    },
    {
      "cell_type": "markdown",
      "metadata": {
        "id": "qWSj4QHpq_aS"
      },
      "source": [
        "Pelo gráfico acima, notamos que o ano de **2016** tem quantidades muito **diferentes** dos demais anos. Por conta disso, é preciso **analisar** mais a fundo se isso não é um **erro** de *entrada* de dados ou se a empresa operou em apenas **alguns** dias de 2016."
      ]
    },
    {
      "cell_type": "code",
      "metadata": {
        "colab": {
          "base_uri": "https://localhost:8080/"
        },
        "id": "i-_oqNjAq-jD",
        "outputId": "68e89f69-7964-48ea-f696-50f0ed47f9c6"
      },
      "source": [
        "#verificando quais datas aparecem de 2016\n",
        "apenas_dados_2016 = df[df.year == 2016]\n",
        "apenas_dados_2016.index"
      ],
      "execution_count": 18,
      "outputs": [
        {
          "output_type": "execute_result",
          "data": {
            "text/plain": [
              "DatetimeIndex(['2016-01-01', '2016-01-01', '2016-01-01', '2016-01-01',\n",
              "               '2016-01-01', '2016-01-01', '2016-01-01', '2016-01-01',\n",
              "               '2016-01-01', '2016-01-01',\n",
              "               ...\n",
              "               '2016-01-01', '2016-01-01', '2016-01-01', '2016-01-01',\n",
              "               '2016-01-01', '2016-01-01', '2016-01-01', '2016-01-01',\n",
              "               '2016-01-01', '2016-01-01'],\n",
              "              dtype='datetime64[ns]', name='date', length=149, freq=None)"
            ]
          },
          "metadata": {},
          "execution_count": 18
        }
      ]
    },
    {
      "cell_type": "markdown",
      "metadata": {
        "id": "lUIPTcperad7"
      },
      "source": [
        "Após avaliarmos os **registros** do ano de 2016, notamos que todos eles são da **mesma** data. Portanto, estes dados **provavelmente** provém de algum tipo de erro e serão **retirados** de nossa base de dados. Além disso, é importante notar que **não** há dados de referentes ao ano de **2017**, então é possível que a empresa **começou** suas operações em 2018."
      ]
    },
    {
      "cell_type": "code",
      "metadata": {
        "colab": {
          "base_uri": "https://localhost:8080/"
        },
        "id": "Fb4iRaPkq-lp",
        "outputId": "656fb22e-a295-4464-dd6d-3e4e3f3b4372"
      },
      "source": [
        "#retirando os dados de 2016\n",
        "df = df[df.year != 2016]\n",
        "\n",
        "#conferindo se foi retirado\n",
        "df.year.unique()"
      ],
      "execution_count": 19,
      "outputs": [
        {
          "output_type": "execute_result",
          "data": {
            "text/plain": [
              "array([2018, 2019, 2020])"
            ]
          },
          "metadata": {},
          "execution_count": 19
        }
      ]
    },
    {
      "cell_type": "markdown",
      "metadata": {
        "id": "--ktAeIwC6rA"
      },
      "source": [
        "# Avaliando os outliers\n",
        "\n",
        "- falar do boxplot do revenue\n",
        "- falar do boxplot das quantidades\n",
        "- falar do método iqr"
      ]
    },
    {
      "cell_type": "code",
      "metadata": {
        "colab": {
          "base_uri": "https://localhost:8080/",
          "height": 566
        },
        "id": "yeRat8-vY9A1",
        "outputId": "6d625731-945b-4bfd-b93e-fc90a2ab5f75"
      },
      "source": [
        "#criando o ax e o fig no matplotlib\n",
        "fig,ax = plt.subplots(figsize=(12,8),dpi=72,ncols=2)\n",
        "\n",
        "#criando o plot para receitas em dólar\n",
        "sns.boxplot(data=df,x='revenue_usd',palette='Purples',linewidth=0.35,ax=ax[0])\n",
        "ajuste_layout(ax=ax[0],\n",
        "              titulo='Receitas em dólar',\n",
        "              xlabel='revenue_usd')\n",
        "\n",
        "#criando o plot para o preço do vinho\n",
        "sns.boxplot(data=df,x='price_usd',palette='Purples',linewidth=0.35,ax=ax[1])\n",
        "ajuste_layout(ax=ax[1],\n",
        "              titulo='Preços dos vinhos em dólar',\n",
        "              xlabel='price_usd')\n",
        "\n",
        "#plotando o gráfico\n",
        "plt.tight_layout(pad=2.0);"
      ],
      "execution_count": 20,
      "outputs": [
        {
          "output_type": "display_data",
          "data": {
            "image/png": "[encoded data removed]",
            "text/plain": [
              "<Figure size 864x576 with 2 Axes>"
            ]
          },
          "metadata": {
            "needs_background": "dark"
          }
        }
      ]
    },
    {
      "cell_type": "code",
      "metadata": {
        "colab": {
          "base_uri": "https://localhost:8080/"
        },
        "id": "ANWWUyHmY88b",
        "outputId": "93f3da82-9ee7-40ce-81a9-8eccc4759a74"
      },
      "source": [
        "#avaliando a porcentagem de outliers na receita em dólares\n",
        "IQR = df.revenue_usd.quantile(0.75) - df.revenue_usd.quantile(0.25)\n",
        "lim_sup = df.revenue_usd.quantile(0.75) + 1.5 * IQR\n",
        "lim_inf = df.revenue_usd.quantile(0.25) - 1.5 * IQR\n",
        "\n",
        "#Verificando porcentagem de valores que são outliers e sua receita\n",
        "outliers_base_dados = df[(df.revenue_usd < lim_inf) | (df.revenue_usd > lim_sup)]\n",
        "porcentagem_de_receita = outliers_base_dados.revenue_usd.sum()/df.revenue_usd.sum()\n",
        "outliers = (df[(df.revenue_usd < lim_inf) | (df.revenue_usd > lim_sup)].shape[0]) / df.shape[0]\n",
        "\n",
        "#Realizando o print dos resultados\n",
        "print('Porcentagem de outliers: {:.2f}%'.format(outliers*100))\n",
        "print('Os outliers são responsáveis por {:.2f}% da receita da empresa'.format(porcentagem_de_receita*100))"
      ],
      "execution_count": 21,
      "outputs": [
        {
          "output_type": "stream",
          "name": "stdout",
          "text": [
            "Porcentagem de outliers: 11.17%\n",
            "Os outliers são responsáveis por 55.90% da receita da empresa\n"
          ]
        }
      ]
    },
    {
      "cell_type": "markdown",
      "metadata": {
        "id": "m_Qs4o2KK8G0"
      },
      "source": [
        "verificar a receita de cada ano"
      ]
    },
    {
      "cell_type": "code",
      "metadata": {
        "colab": {
          "base_uri": "https://localhost:8080/",
          "height": 174
        },
        "id": "ISrsZ8A7IHvw",
        "outputId": "144c9f4b-b50e-4f46-b008-09aa5e3fc41b"
      },
      "source": [
        "#tabela com a receita de cada ano\n",
        "df.groupby(by='year')['revenue_usd'].sum().to_frame()"
      ],
      "execution_count": 22,
      "outputs": [
        {
          "output_type": "execute_result",
          "data": {
            "text/html": [
              "<div>\n",
              "<style scoped>\n",
              "    .dataframe tbody tr th:only-of-type {\n",
              "        vertical-align: middle;\n",
              "    }\n",
              "\n",
              "    .dataframe tbody tr th {\n",
              "        vertical-align: top;\n",
              "    }\n",
              "\n",
              "    .dataframe thead th {\n",
              "        text-align: right;\n",
              "    }\n",
              "</style>\n",
              "<table border=\"1\" class=\"dataframe\">\n",
              "  <thead>\n",
              "    <tr style=\"text-align: right;\">\n",
              "      <th></th>\n",
              "      <th>revenue_usd</th>\n",
              "    </tr>\n",
              "    <tr>\n",
              "      <th>year</th>\n",
              "      <th></th>\n",
              "    </tr>\n",
              "  </thead>\n",
              "  <tbody>\n",
              "    <tr>\n",
              "      <th>2018</th>\n",
              "      <td>2.880908e+09</td>\n",
              "    </tr>\n",
              "    <tr>\n",
              "      <th>2019</th>\n",
              "      <td>2.911967e+09</td>\n",
              "    </tr>\n",
              "    <tr>\n",
              "      <th>2020</th>\n",
              "      <td>2.945613e+09</td>\n",
              "    </tr>\n",
              "  </tbody>\n",
              "</table>\n",
              "</div>"
            ],
            "text/plain": [
              "       revenue_usd\n",
              "year              \n",
              "2018  2.880908e+09\n",
              "2019  2.911967e+09\n",
              "2020  2.945613e+09"
            ]
          },
          "metadata": {},
          "execution_count": 22
        }
      ]
    },
    {
      "cell_type": "markdown",
      "metadata": {
        "id": "ASfPFH-LD3h8"
      },
      "source": [
        "vendas em um dia e boxplot"
      ]
    },
    {
      "cell_type": "code",
      "metadata": {
        "colab": {
          "base_uri": "https://localhost:8080/",
          "height": 237
        },
        "id": "yy2XiSudDRfQ",
        "outputId": "faa01d19-4805-4987-f865-9d4952b3e691"
      },
      "source": [
        "#avaliando a quantidade de vendas diária\n",
        "quantidade_de_vinhos_vendida_por_dia = df.groupby(by='date').sales.sum()\n",
        "quantidade_de_vinhos_vendida_por_dia.to_frame().head()"
      ],
      "execution_count": 23,
      "outputs": [
        {
          "output_type": "execute_result",
          "data": {
            "text/html": [
              "<div>\n",
              "<style scoped>\n",
              "    .dataframe tbody tr th:only-of-type {\n",
              "        vertical-align: middle;\n",
              "    }\n",
              "\n",
              "    .dataframe tbody tr th {\n",
              "        vertical-align: top;\n",
              "    }\n",
              "\n",
              "    .dataframe thead th {\n",
              "        text-align: right;\n",
              "    }\n",
              "</style>\n",
              "<table border=\"1\" class=\"dataframe\">\n",
              "  <thead>\n",
              "    <tr style=\"text-align: right;\">\n",
              "      <th></th>\n",
              "      <th>sales</th>\n",
              "    </tr>\n",
              "    <tr>\n",
              "      <th>date</th>\n",
              "      <th></th>\n",
              "    </tr>\n",
              "  </thead>\n",
              "  <tbody>\n",
              "    <tr>\n",
              "      <th>2018-01-01</th>\n",
              "      <td>43432</td>\n",
              "    </tr>\n",
              "    <tr>\n",
              "      <th>2018-01-02</th>\n",
              "      <td>43181</td>\n",
              "    </tr>\n",
              "    <tr>\n",
              "      <th>2018-01-03</th>\n",
              "      <td>43298</td>\n",
              "    </tr>\n",
              "    <tr>\n",
              "      <th>2018-01-04</th>\n",
              "      <td>42216</td>\n",
              "    </tr>\n",
              "    <tr>\n",
              "      <th>2018-01-05</th>\n",
              "      <td>42001</td>\n",
              "    </tr>\n",
              "  </tbody>\n",
              "</table>\n",
              "</div>"
            ],
            "text/plain": [
              "            sales\n",
              "date             \n",
              "2018-01-01  43432\n",
              "2018-01-02  43181\n",
              "2018-01-03  43298\n",
              "2018-01-04  42216\n",
              "2018-01-05  42001"
            ]
          },
          "metadata": {},
          "execution_count": 23
        }
      ]
    },
    {
      "cell_type": "code",
      "metadata": {
        "colab": {
          "base_uri": "https://localhost:8080/",
          "height": 300
        },
        "id": "9zVVWxTtDRgE",
        "outputId": "ca93218a-50f9-43f8-93c9-e8e32bb812a2"
      },
      "source": [
        "#principais métricas de quantidades vendidas em um único dia\n",
        "quantidade_de_vinhos_vendida_por_dia.describe().round(1).to_frame()"
      ],
      "execution_count": 24,
      "outputs": [
        {
          "output_type": "execute_result",
          "data": {
            "text/html": [
              "<div>\n",
              "<style scoped>\n",
              "    .dataframe tbody tr th:only-of-type {\n",
              "        vertical-align: middle;\n",
              "    }\n",
              "\n",
              "    .dataframe tbody tr th {\n",
              "        vertical-align: top;\n",
              "    }\n",
              "\n",
              "    .dataframe thead th {\n",
              "        text-align: right;\n",
              "    }\n",
              "</style>\n",
              "<table border=\"1\" class=\"dataframe\">\n",
              "  <thead>\n",
              "    <tr style=\"text-align: right;\">\n",
              "      <th></th>\n",
              "      <th>sales</th>\n",
              "    </tr>\n",
              "  </thead>\n",
              "  <tbody>\n",
              "    <tr>\n",
              "      <th>count</th>\n",
              "      <td>1096.0</td>\n",
              "    </tr>\n",
              "    <tr>\n",
              "      <th>mean</th>\n",
              "      <td>46370.2</td>\n",
              "    </tr>\n",
              "    <tr>\n",
              "      <th>std</th>\n",
              "      <td>2136.4</td>\n",
              "    </tr>\n",
              "    <tr>\n",
              "      <th>min</th>\n",
              "      <td>38322.0</td>\n",
              "    </tr>\n",
              "    <tr>\n",
              "      <th>25%</th>\n",
              "      <td>44833.8</td>\n",
              "    </tr>\n",
              "    <tr>\n",
              "      <th>50%</th>\n",
              "      <td>46327.0</td>\n",
              "    </tr>\n",
              "    <tr>\n",
              "      <th>75%</th>\n",
              "      <td>47699.5</td>\n",
              "    </tr>\n",
              "    <tr>\n",
              "      <th>max</th>\n",
              "      <td>52901.0</td>\n",
              "    </tr>\n",
              "  </tbody>\n",
              "</table>\n",
              "</div>"
            ],
            "text/plain": [
              "         sales\n",
              "count   1096.0\n",
              "mean   46370.2\n",
              "std     2136.4\n",
              "min    38322.0\n",
              "25%    44833.8\n",
              "50%    46327.0\n",
              "75%    47699.5\n",
              "max    52901.0"
            ]
          },
          "metadata": {},
          "execution_count": 24
        }
      ]
    },
    {
      "cell_type": "markdown",
      "metadata": {
        "id": "4bZUCWG_LJNS"
      },
      "source": [
        "CONCLUSÃO SOBRE ESTA QUANTIDADE DE OUTLIERS"
      ]
    },
    {
      "cell_type": "markdown",
      "metadata": {
        "id": "Xj3hHsKD_Xvj"
      },
      "source": [
        "# Análise Exploratória dos Dados\n",
        "\n",
        "texto texto"
      ]
    },
    {
      "cell_type": "markdown",
      "metadata": {
        "id": "jHBkx7puG1hY"
      },
      "source": [
        "falar das estatísticas descritivas, falar que é de uma única venda"
      ]
    },
    {
      "cell_type": "code",
      "metadata": {
        "id": "_ocBuLWbKPmr",
        "colab": {
          "base_uri": "https://localhost:8080/",
          "height": 300
        },
        "outputId": "c28dfbee-63a5-42d3-9b02-c4f25f68ae3e"
      },
      "source": [
        "df[['price_brl','price_usd','sales','revenue_usd','revenue_brl']].describe().round(1)"
      ],
      "execution_count": 25,
      "outputs": [
        {
          "output_type": "execute_result",
          "data": {
            "text/html": [
              "<div>\n",
              "<style scoped>\n",
              "    .dataframe tbody tr th:only-of-type {\n",
              "        vertical-align: middle;\n",
              "    }\n",
              "\n",
              "    .dataframe tbody tr th {\n",
              "        vertical-align: top;\n",
              "    }\n",
              "\n",
              "    .dataframe thead th {\n",
              "        text-align: right;\n",
              "    }\n",
              "</style>\n",
              "<table border=\"1\" class=\"dataframe\">\n",
              "  <thead>\n",
              "    <tr style=\"text-align: right;\">\n",
              "      <th></th>\n",
              "      <th>price_brl</th>\n",
              "      <th>price_usd</th>\n",
              "      <th>sales</th>\n",
              "      <th>revenue_usd</th>\n",
              "      <th>revenue_brl</th>\n",
              "    </tr>\n",
              "  </thead>\n",
              "  <tbody>\n",
              "    <tr>\n",
              "      <th>count</th>\n",
              "      <td>719922.0</td>\n",
              "      <td>719922.0</td>\n",
              "      <td>719922.0</td>\n",
              "      <td>719922.0</td>\n",
              "      <td>719922.0</td>\n",
              "    </tr>\n",
              "    <tr>\n",
              "      <th>mean</th>\n",
              "      <td>967.7</td>\n",
              "      <td>167.4</td>\n",
              "      <td>70.6</td>\n",
              "      <td>12138.1</td>\n",
              "      <td>70158.3</td>\n",
              "    </tr>\n",
              "    <tr>\n",
              "      <th>std</th>\n",
              "      <td>1406.5</td>\n",
              "      <td>243.3</td>\n",
              "      <td>41.4</td>\n",
              "      <td>22349.8</td>\n",
              "      <td>129181.7</td>\n",
              "    </tr>\n",
              "    <tr>\n",
              "      <th>min</th>\n",
              "      <td>52.8</td>\n",
              "      <td>9.1</td>\n",
              "      <td>1.0</td>\n",
              "      <td>9.1</td>\n",
              "      <td>52.8</td>\n",
              "    </tr>\n",
              "    <tr>\n",
              "      <th>25%</th>\n",
              "      <td>259.2</td>\n",
              "      <td>44.8</td>\n",
              "      <td>35.0</td>\n",
              "      <td>2253.8</td>\n",
              "      <td>13028.4</td>\n",
              "    </tr>\n",
              "    <tr>\n",
              "      <th>50%</th>\n",
              "      <td>509.4</td>\n",
              "      <td>88.1</td>\n",
              "      <td>67.0</td>\n",
              "      <td>5051.3</td>\n",
              "      <td>29198.4</td>\n",
              "    </tr>\n",
              "    <tr>\n",
              "      <th>75%</th>\n",
              "      <td>949.2</td>\n",
              "      <td>164.2</td>\n",
              "      <td>104.0</td>\n",
              "      <td>11428.3</td>\n",
              "      <td>66056.4</td>\n",
              "    </tr>\n",
              "    <tr>\n",
              "      <th>max</th>\n",
              "      <td>10992.0</td>\n",
              "      <td>1901.7</td>\n",
              "      <td>196.0</td>\n",
              "      <td>285259.5</td>\n",
              "      <td>1648800.0</td>\n",
              "    </tr>\n",
              "  </tbody>\n",
              "</table>\n",
              "</div>"
            ],
            "text/plain": [
              "       price_brl  price_usd     sales  revenue_usd  revenue_brl\n",
              "count   719922.0   719922.0  719922.0     719922.0     719922.0\n",
              "mean       967.7      167.4      70.6      12138.1      70158.3\n",
              "std       1406.5      243.3      41.4      22349.8     129181.7\n",
              "min         52.8        9.1       1.0          9.1         52.8\n",
              "25%        259.2       44.8      35.0       2253.8      13028.4\n",
              "50%        509.4       88.1      67.0       5051.3      29198.4\n",
              "75%        949.2      164.2     104.0      11428.3      66056.4\n",
              "max      10992.0     1901.7     196.0     285259.5    1648800.0"
            ]
          },
          "metadata": {},
          "execution_count": 25
        }
      ]
    },
    {
      "cell_type": "markdown",
      "metadata": {
        "id": "TEz6hR5iWb8S"
      },
      "source": [
        "ver histogramas dos preços e vendas, colocar tons de azul diferentes, mudar o eixo y"
      ]
    },
    {
      "cell_type": "code",
      "metadata": {
        "colab": {
          "base_uri": "https://localhost:8080/",
          "height": 423
        },
        "id": "THpHKc8gWfOZ",
        "outputId": "09a874ee-f047-4e6c-9035-91e2144e97d8"
      },
      "source": [
        "#criando a fig e ax no matplotlib\n",
        "fig, ax = plt.subplots(figsize=(14,6), ncols=2)\n",
        "\n",
        "#criação do primeiro histograma\n",
        "df.price_usd.hist(ax=ax[0],xlabelsize=10,ylabelsize=10,bins=20,color='#3944bc',alpha=0.5)\n",
        "ajuste_layout(ax=ax[0],\n",
        "              titulo='Distribuição dos preços dos vinhos em dólar',\n",
        "              grid=True,grid_lw=0.4)\n",
        "\n",
        "#criação do segundo histograma\n",
        "df.sales.hist(ax=ax[1],xlabelsize=10,ylabelsize=10,bins=20,color='#0a1172',alpha=0.7)\n",
        "ajuste_layout(ax=ax[1],\n",
        "              titulo='Distribuição das quantidades vendidas',\n",
        "              grid=True,grid_lw=0.14)\n",
        "\n",
        "#plotando os gráficos\n",
        "plt.tight_layout(pad=2.0)"
      ],
      "execution_count": 26,
      "outputs": [
        {
          "output_type": "display_data",
          "data": {
            "image/png": "[encoded data removed]",
            "text/plain": [
              "<Figure size 1008x432 with 2 Axes>"
            ]
          },
          "metadata": {
            "needs_background": "dark"
          }
        }
      ]
    },
    {
      "cell_type": "markdown",
      "metadata": {
        "id": "Be56oGUfXMEM"
      },
      "source": [
        "fazer um boxplot apenas das lojas, vendas e dinheiro"
      ]
    },
    {
      "cell_type": "code",
      "metadata": {
        "id": "UL7oPjeYWfQg",
        "colab": {
          "base_uri": "https://localhost:8080/",
          "height": 423
        },
        "outputId": "c13c399f-7137-42f2-87bb-cd51fe2aa548"
      },
      "source": [
        "#criando a fig e ax no matplotlib\n",
        "fig, ax = plt.subplots(figsize=(14,6), ncols=2)\n",
        "\n",
        "#criando o primeiro gráfico\n",
        "sns.boxplot(data=df,x='store',y='sales',ax=ax[0],palette='Blues',linewidth=0.35)\n",
        "ajuste_layout(ax=ax[0])\n",
        "\n",
        "#criando o segundo gráfico\n",
        "sns.boxplot(data=df,x='store',y='price_usd',ax=ax[1],palette='Purples',linewidth=0.35)\n",
        "ajuste_layout(ax=ax[1])\n",
        "\n",
        "#plotando os gráficos\n",
        "plt.tight_layout(pad=2.0)"
      ],
      "execution_count": 27,
      "outputs": [
        {
          "output_type": "display_data",
          "data": {
            "image/png": "[encoded data removed]",
            "text/plain": [
              "<Figure size 1008x432 with 2 Axes>"
            ]
          },
          "metadata": {
            "needs_background": "dark"
          }
        }
      ]
    },
    {
      "cell_type": "markdown",
      "metadata": {
        "id": "5aCDs6qBGQVG"
      },
      "source": [
        "fazer um boxplot geral, vendas e dinheiro em dólar, colocar titulo"
      ]
    },
    {
      "cell_type": "code",
      "metadata": {
        "id": "22i9-A3QXOP6",
        "colab": {
          "base_uri": "https://localhost:8080/",
          "height": 423
        },
        "outputId": "9dc86c48-f4b9-48aa-b60c-2a59d2bfa30b"
      },
      "source": [
        "#criando a fig e ax no matplotlib\n",
        "fig, ax = plt.subplots(figsize=(14,6), ncols=2)\n",
        "\n",
        "#criando o primeiro gráfico\n",
        "sns.boxplot(data=df,y='sales',ax=ax[0],palette='Blues',linewidth=0.35)\n",
        "ajuste_layout(ax=ax[0])\n",
        "\n",
        "#criando o segundo gráfico\n",
        "sns.boxplot(data=df,y='price_usd',ax=ax[1],palette='Purples',linewidth=0.35)\n",
        "ajuste_layout(ax=ax[1])\n",
        "\n",
        "#plotando os gráficos\n",
        "plt.tight_layout(pad=2.0)"
      ],
      "execution_count": 28,
      "outputs": [
        {
          "output_type": "display_data",
          "data": {
            "image/png": "[encoded data removed]",
            "text/plain": [
              "<Figure size 1008x432 with 2 Axes>"
            ]
          },
          "metadata": {
            "needs_background": "dark"
          }
        }
      ]
    },
    {
      "cell_type": "markdown",
      "metadata": {
        "id": "8mHKGssNaOM-"
      },
      "source": [
        "vinho mais caro"
      ]
    },
    {
      "cell_type": "code",
      "metadata": {
        "colab": {
          "base_uri": "https://localhost:8080/"
        },
        "id": "7n1ZmFZ9Iblv",
        "outputId": "bd6fefb0-e685-4b0d-a3fb-02a2f2a13e6f"
      },
      "source": [
        "#avaliando o preço do vinho mais caro\n",
        "print('O vinho mais caro do catálogo é o {} que custa cerca USD {:,}\\n'.format(df[df.price_usd == df.price_usd.max()].name[0],\n",
        "                                                                             df.price_usd.max()))\n",
        "\n",
        "#avaliando o preço do vinho mais barato\n",
        "print('O vinho mais barato do catálogo é o {} que custa cerca USD {:,}'.format(df[df.price_usd == df.price_usd.min()].name[0],\n",
        "                                                                             df.price_usd.min()))"
      ],
      "execution_count": 29,
      "outputs": [
        {
          "output_type": "stream",
          "name": "stdout",
          "text": [
            "O vinho mais caro do catálogo é o Domaine Ponsot Clos de La Roche Grand Cru Cuvee Vieilles Vignes - Magnum que custa cerca USD 1,901.73\n",
            "\n",
            "O vinho mais barato do catálogo é o Cava Juvé & Camps Cinta Purpura Reserva Brut - 375ml (Half Bottle) que custa cerca USD 9.13\n"
          ]
        }
      ]
    },
    {
      "cell_type": "markdown",
      "metadata": {
        "id": "q39ebR9jPRIu"
      },
      "source": [
        "preço do vinho e quantidade vendida em scatterplot"
      ]
    },
    {
      "cell_type": "code",
      "metadata": {
        "id": "J5AWkUCEXrVR"
      },
      "source": [
        ""
      ],
      "execution_count": 29,
      "outputs": []
    },
    {
      "cell_type": "code",
      "metadata": {
        "id": "x6S5VMctsoUg"
      },
      "source": [
        ""
      ],
      "execution_count": 29,
      "outputs": []
    },
    {
      "cell_type": "markdown",
      "metadata": {
        "id": "ZdIYIMC4a40y"
      },
      "source": [
        "#Séries Temporais\n",
        "\n",
        "If you use only the previous values of the time series to predict its future values, it is called Univariate Time Series Forecasting.\n",
        "\n",
        "And if you use predictors other than the series (a.k.a exogenous variables) to forecast it is called Multi Variate Time Series Forecasting.\n",
        "\n",
        "[link](https://www.machinelearningplus.com/time-series/time-series-analysis-python/)\n",
        "\n",
        "[link](https://www.inf.ufsc.br/~marcelo.menezes.reis/Cap4.pdf)\n",
        "\n",
        "diferenças entre regressão e série temporal"
      ]
    },
    {
      "cell_type": "code",
      "metadata": {
        "colab": {
          "base_uri": "https://localhost:8080/"
        },
        "id": "cSYIGjuZuM3F",
        "outputId": "b500ffb9-b6c3-4214-8d72-5c36cefc3874"
      },
      "source": [
        "#verificando as datas iniciais e finais\n",
        "print('Data inicial do dataset: ',df.index.min())\n",
        "print('Data final do dataset: ',df.index.max())"
      ],
      "execution_count": 30,
      "outputs": [
        {
          "output_type": "stream",
          "name": "stdout",
          "text": [
            "Data inicial do dataset:  2018-01-01 00:00:00\n",
            "Data final do dataset:  2020-12-31 00:00:00\n"
          ]
        }
      ]
    },
    {
      "cell_type": "code",
      "metadata": {
        "colab": {
          "base_uri": "https://localhost:8080/",
          "height": 526
        },
        "id": "raPXBf92sT5i",
        "outputId": "39c4eae7-7cf0-4a33-eae6-cd3a774aba6a"
      },
      "source": [
        "#criando o fig e o ax no matplotlib\n",
        "gridsize=(3,2)\n",
        "fig=plt.figure(figsize=(12,8))\n",
        "\n",
        "#o ax1 irá ocupar o equivalente a 2 colunas e 2 linhas\n",
        "ax1 = plt.subplot2grid(gridsize, (0, 0), colspan=2, rowspan=2)\n",
        "ax2 = plt.subplot2grid(gridsize, (2, 0))\n",
        "ax3 = plt.subplot2grid(gridsize, (2, 1))\n",
        "\n",
        "#criando o gráfico da time series diário\n",
        "\n",
        "df.sales.resample('D').sum().plot(ax=ax1)\n",
        "ajuste_layout(ax=ax1,\n",
        "              titulo='Série Temporal de vendas diárias',location='center',\n",
        "              grid=True,grid_lw=0.45,grid_style='-.')\n",
        "\n",
        "#criando o gráfico da time series mensal\n",
        "df.sales.resample('M').sum().plot(ax=ax2)\n",
        "ajuste_layout(ax=ax2,\n",
        "              titulo='Série Temporal de vendas mensais',location='center',\n",
        "              grid=True,grid_lw=0.45,grid_style='-.')\n",
        "\n",
        "#criando o gráfico da time series anual\n",
        "df.sales.resample('Y').sum().plot(ax=ax3)\n",
        "ajuste_layout(ax=ax3,\n",
        "              titulo='Série Temporal de vendas anuais',location='center',\n",
        "              grid=True,grid_lw=0.45,grid_style='-.')\n",
        "\n",
        "#plotando os gráficos\n",
        "plt.tight_layout(pad=4.0)"
      ],
      "execution_count": 31,
      "outputs": [
        {
          "output_type": "display_data",
          "data": {
            "image/png": "[encoded data removed]",
            "text/plain": [
              "<Figure size 864x576 with 3 Axes>"
            ]
          },
          "metadata": {
            "needs_background": "dark"
          }
        }
      ]
    },
    {
      "cell_type": "markdown",
      "metadata": {
        "id": "_Q9tvLEuB5ml"
      },
      "source": [
        "falar de separar em componentes"
      ]
    },
    {
      "cell_type": "code",
      "metadata": {
        "id": "JoNgcA-qa7ec",
        "colab": {
          "base_uri": "https://localhost:8080/",
          "height": 526
        },
        "outputId": "b515a2bb-c1f8-4db6-b6de-15cb2d4fdee1"
      },
      "source": [
        "#criando o fig e o ax no matplotlib\n",
        "gridsize=(3,3)\n",
        "fig=plt.figure(figsize=(14,8))\n",
        "\n",
        "#decompondo os componentes da série temporal\n",
        "agregando_valores_mensais = df.sales.resample('M').sum().to_frame()\n",
        "result = seasonal_decompose(agregando_valores_mensais.sales)\n",
        "\n",
        "#o ax1 irá ocupar o equivalente a 2 colunas e 2 linhas\n",
        "ax1 = plt.subplot2grid(gridsize, (0, 0), colspan=3, rowspan=2)\n",
        "ax2 = plt.subplot2grid(gridsize, (2, 0))\n",
        "ax3 = plt.subplot2grid(gridsize, (2, 1))\n",
        "ax4 = plt.subplot2grid(gridsize, (2, 2))\n",
        "\n",
        "#construindo o primeiro gráfico\n",
        "result.observed.plot(ax=ax1)\n",
        "ajuste_layout(ax=ax1,location='center',\n",
        "              titulo='Série Temporal de vendas mensais',\n",
        "              grid=True,grid_lw=0.6,grid_style=':')\n",
        "\n",
        "#construindo o segundo gráfico\n",
        "result.trend.plot(ax=ax2)\n",
        "ajuste_layout(ax=ax2,location='center',\n",
        "              titulo='Tendência')\n",
        "\n",
        "#construindo o terceiro gráfico\n",
        "result.seasonal.plot(ax=ax3)\n",
        "ajuste_layout(ax=ax3,location='center',\n",
        "              titulo='Sazonalidade')\n",
        "\n",
        "#construindo o quarto gráfico\n",
        "result.resid.plot(ax=ax4)\n",
        "ajuste_layout(ax=ax4)\n",
        "\n",
        "#plotando os gráficos\n",
        "plt.tight_layout(pad=4.0);"
      ],
      "execution_count": 195,
      "outputs": [
        {
          "output_type": "display_data",
          "data": {
            "image/png": "[encoded data removed]",
            "text/plain": [
              "<Figure size 1008x576 with 4 Axes>"
            ]
          },
          "metadata": {
            "needs_background": "dark"
          }
        }
      ]
    },
    {
      "cell_type": "markdown",
      "metadata": {
        "id": "lNmXOdRlg70o"
      },
      "source": [
        "### Verificando se a série é estacionária\n",
        "\n",
        "falar do ADF e explicar as métricas, explicar h0, falar de p-valor\n",
        "\n",
        "[link](https://www.machinelearningplus.com/time-series/augmented-dickey-fuller-test/)\n",
        "\n",
        "So how to make a series stationary?\n",
        "\n",
        "The most common approach is to difference it. That is, subtract the previous value from the current value. Sometimes, depending on the complexity of the series, more than one differencing may be needed."
      ]
    },
    {
      "cell_type": "code",
      "metadata": {
        "id": "FTIN2TRUa7hZ",
        "colab": {
          "base_uri": "https://localhost:8080/"
        },
        "outputId": "ee74fdb2-6118-46dd-fbfe-5ee4dad0dee7"
      },
      "source": [
        "#extrarir somente os valores\n",
        "x = agregando_valores_mensais\n",
        "\n",
        "#aplicar ADF e imprimir os resultados\n",
        "result = adfuller(x.sales)\n",
        "print('Teste Dickey–Fuller Aumentado:')\n",
        "print('Teste estatístico: ','{:.2f}'.format(result[0]))\n",
        "print('P-valor: ','{:.5f}'.format(result[1]))\n",
        "print('Valores Críticos:')\n",
        "for key, value in result[4].items():\n",
        "\tprint('\\t{}: {:.2f}'.format(key, value));\n",
        "print(f'\\nInferência: A Time Series é {\"não-\" if result[1] >=0.05 else \"\"}Estacionária.')"
      ],
      "execution_count": 190,
      "outputs": [
        {
          "output_type": "stream",
          "name": "stdout",
          "text": [
            "Teste Dickey–Fuller Aumentado:\n",
            "Teste estatístico:  -3.80\n",
            "P-valor:  0.00293\n",
            "Valores Críticos:\n",
            "\t1%: -3.67\n",
            "\t5%: -2.96\n",
            "\t10%: -2.62\n",
            "\n",
            "Inferência: A Time Series é Estacionária.\n"
          ]
        }
      ]
    },
    {
      "cell_type": "markdown",
      "metadata": {
        "id": "QMEwpiW1gPw9"
      },
      "source": [
        "texto falando sobre testes tradicionais utilizando nas previsões  e machine learning"
      ]
    },
    {
      "cell_type": "code",
      "metadata": {
        "id": "dEX9Vr3pp4UC",
        "colab": {
          "base_uri": "https://localhost:8080/"
        },
        "outputId": "0a232120-a375-44f2-ba0f-77a20afd91e8"
      },
      "source": [
        "# definindo o tamanho da previsão para os três meses seguintes\n",
        "prediction_size = 4\n",
        "train = agregando_valores_mensais[:-prediction_size]\n",
        "validation = agregando_valores_mensais[-prediction_size:]\n",
        "\n",
        "\n",
        "#verificando a quantidade de valores\n",
        "print('Treino:',train.shape[0],'registros')\n",
        "print('Validação:',validation.shape[0],'registros')"
      ],
      "execution_count": 81,
      "outputs": [
        {
          "output_type": "stream",
          "name": "stdout",
          "text": [
            "Treino: 32 registros\n",
            "Validação: 4 registros\n"
          ]
        }
      ]
    },
    {
      "cell_type": "markdown",
      "metadata": {
        "id": "h_Dk6wHSf0le"
      },
      "source": [
        "# SARIMA\n",
        "\n",
        "[ARIMA](https://www.machinelearningplus.com/time-series/arima-model-time-series-forecasting-python/), é um **acrônimo** de *Auto Regressive Integrated Moving Average*. Ele é um **algoritmo** de *previsão* que se baseia na ideia de que valores passados da *Time Series* podem, **sozinhos**, ser utilizados para predizer os valores **futuros**.\n",
        "\n",
        "Um passo importante para utilizar o **ARIMA** é tornar a Time Series como **estacionária**, uma vez que o termo *Auto Regressive* se refere a um modelo de [regressão linear](https://www.machinelearningplus.com/machine-learning/complete-introduction-linear-regression-r/). Isto é importante *porque* os **modelos** de *regressão linear* funcionam como **melhor** previsores quando não há **correlação** e há **independência** entre as variáveis.\n",
        "\n",
        "A **ARIMA** é caracterizada pelos seguintes *parâmetros*:\n",
        "\n",
        "* Auto Regressive - **p** \n",
        "  *  It refers to the number of lags of Y to be used as predictors\n",
        "* Moving Average - **q**\n",
        "  *  It refers to the number of lagged forecast errors that should go into the ARIMA Model.\n",
        "* Integrated - **d**\n",
        "  * Está relacionado a quantidade de **transformações** mínimas realizadas para que a Time Series se **transforme** em *estacionária*. Quando a *Time Series* já é estacionária o valor de `d` se torna **zero**.\n",
        "\n",
        "O grande **problema** em aplicar o modelo **ARIMA** em nossa análise é que ele não concebe a **sazonalidade**. Por conta disso, como nossa base de dados **possui** *sazonalidade*, devemos utilizar o **SARIMA** -  o **S** não é de sextou e nem de saudade, mas sim de *seasonality*.\n",
        "\n",
        "Para **facilitar** nosso trabalho, neste projeto utilizaremos uma **api** chamada [auto-arima](https://alkaline-ml.com/pmdarima/modules/generated/pmdarima.arima.auto_arima.html). Ela possibilita descobrir **automaticamente** quais são os parâmetros **ótimos** para o nosso modelo. Além disso, podemos **setar** o parâmetro `seasonal` como `True` e escolher o período de sazonalidade pelo parâmetro `m` - neste caso foi escolhido **12** por se tratar de resultados **anuais**."
      ]
    },
    {
      "cell_type": "code",
      "metadata": {
        "id": "Ek_mgT5df9ws",
        "colab": {
          "base_uri": "https://localhost:8080/"
        },
        "outputId": "45b4b945-c42e-4fb8-8757-b2e5118d2afa"
      },
      "source": [
        "#Utilizando o auto_arima que seleciona automaticamente o melhor modelo\n",
        "sarima_model = auto_arima(y=train.sales,start_p=1,start_q=1,\n",
        "                          test='adf',m=12,seasonal=True,stepwise=True,trace=True)"
      ],
      "execution_count": 82,
      "outputs": [
        {
          "output_type": "stream",
          "name": "stdout",
          "text": [
            "Performing stepwise search to minimize aic\n",
            " ARIMA(1,2,1)(1,1,1)[12]             : AIC=inf, Time=0.71 sec\n",
            " ARIMA(0,2,0)(0,1,0)[12]             : AIC=415.526, Time=0.02 sec\n",
            " ARIMA(1,2,0)(1,1,0)[12]             : AIC=421.098, Time=0.11 sec\n",
            " ARIMA(0,2,1)(0,1,1)[12]             : AIC=420.462, Time=0.13 sec\n",
            " ARIMA(0,2,0)(1,1,0)[12]             : AIC=420.407, Time=0.04 sec\n",
            " ARIMA(0,2,0)(0,1,1)[12]             : AIC=416.334, Time=0.04 sec\n",
            " ARIMA(0,2,0)(1,1,1)[12]             : AIC=inf, Time=0.40 sec\n",
            " ARIMA(1,2,0)(0,1,0)[12]             : AIC=420.268, Time=0.03 sec\n",
            " ARIMA(0,2,1)(0,1,0)[12]             : AIC=419.583, Time=0.02 sec\n",
            " ARIMA(1,2,1)(0,1,0)[12]             : AIC=inf, Time=0.20 sec\n",
            " ARIMA(0,2,0)(0,1,0)[12] intercept   : AIC=417.001, Time=0.02 sec\n",
            "\n",
            "Best model:  ARIMA(0,2,0)(0,1,0)[12]          \n",
            "Total fit time: 1.763 seconds\n"
          ]
        }
      ]
    },
    {
      "cell_type": "markdown",
      "metadata": {
        "id": "ilhgAX74gBcc"
      },
      "source": [
        "#XGBoost\n",
        "\n",
        "texto explicando e  como é possível usar\n",
        "\n",
        "[link](https://machinelearningmastery.com/xgboost-for-time-series-forecasting/)"
      ]
    },
    {
      "cell_type": "code",
      "metadata": {
        "id": "IdMzh2cFgFab"
      },
      "source": [
        ""
      ],
      "execution_count": 36,
      "outputs": []
    },
    {
      "cell_type": "code",
      "metadata": {
        "id": "A2sIqj0tgFcu"
      },
      "source": [
        ""
      ],
      "execution_count": 36,
      "outputs": []
    },
    {
      "cell_type": "markdown",
      "metadata": {
        "id": "Fu2fHbkXKr86"
      },
      "source": [
        "#Prophet\n",
        "\n",
        "Os desenvolvedores do **Facebook** perceberam que as técnicas **tradicionais** para realizar *forecasting* eram muito **inflexíveis** e incapazes de incorporar as nuances de cada **negócio**. Além disso, também observaram que era muito **raro** encontrar profissionais **qualificados** que tivessem a capacidade de fazer uma **boa** previsão.\n",
        "\n",
        "Por conta disso, eles construiram uma **ferramenta** open-source, o [Prophet](https://facebook.github.io/prophet/). Naturalmente, o `Prophet` foi criado baseado na **experiência** do dia-a-dia que os desenvolvedores do *Facebook* enfrentavam.Ou seja, é previsor que considera a existência de **feriados**, observações **ausentes**, uma grande quantidade de **outliers**,etc.\n",
        "\n",
        "Basicamente o `Prophet` utiliza um [modelo aditivo](http://www.producao.ufrgs.br/arquivos/disciplinas/119_teq6_st_decomposicao.pdf) que avalia a **tendência** (por métodos lineares ou regressão logística), a sazonalidade das **semanas** por [Séries de Fourier](https://www.ime.unicamp.br/sites/default/files/lem/material/series-de-fourier.pdf) e uma sazonalidade **semanal** por variáveis [dummy](https://en.wikipedia.org/wiki/Dummy_variable_(statistics)).\n",
        "\n",
        "Caso tenha mais **interesse** de avaliar como funciona o `Prophet` mais internamente, dê uma lida no [paper](https://peerj.com/preprints/3190.pdf) escrito por seus **desenvolvedores**.\n"
      ]
    },
    {
      "cell_type": "code",
      "metadata": {
        "id": "2dvExeXYKuzP",
        "colab": {
          "base_uri": "https://localhost:8080/",
          "height": 206
        },
        "outputId": "d7299b98-91cb-479f-cb3c-d63674dc1413"
      },
      "source": [
        "#ajustando a base de dados para utilizar no prophet\n",
        "train_prophet = train.reset_index()\n",
        "\n",
        "#renomeando o nome das colunas\n",
        "train_prophet.columns = ['ds','y']\n",
        "\n",
        "#visualizando as 5 últimas entradas\n",
        "train_prophet.tail()"
      ],
      "execution_count": 83,
      "outputs": [
        {
          "output_type": "execute_result",
          "data": {
            "text/html": [
              "<div>\n",
              "<style scoped>\n",
              "    .dataframe tbody tr th:only-of-type {\n",
              "        vertical-align: middle;\n",
              "    }\n",
              "\n",
              "    .dataframe tbody tr th {\n",
              "        vertical-align: top;\n",
              "    }\n",
              "\n",
              "    .dataframe thead th {\n",
              "        text-align: right;\n",
              "    }\n",
              "</style>\n",
              "<table border=\"1\" class=\"dataframe\">\n",
              "  <thead>\n",
              "    <tr style=\"text-align: right;\">\n",
              "      <th></th>\n",
              "      <th>ds</th>\n",
              "      <th>y</th>\n",
              "    </tr>\n",
              "  </thead>\n",
              "  <tbody>\n",
              "    <tr>\n",
              "      <th>27</th>\n",
              "      <td>2020-04-30</td>\n",
              "      <td>1426736</td>\n",
              "    </tr>\n",
              "    <tr>\n",
              "      <th>28</th>\n",
              "      <td>2020-05-31</td>\n",
              "      <td>1487594</td>\n",
              "    </tr>\n",
              "    <tr>\n",
              "      <th>29</th>\n",
              "      <td>2020-06-30</td>\n",
              "      <td>1460294</td>\n",
              "    </tr>\n",
              "    <tr>\n",
              "      <th>30</th>\n",
              "      <td>2020-07-31</td>\n",
              "      <td>1536899</td>\n",
              "    </tr>\n",
              "    <tr>\n",
              "      <th>31</th>\n",
              "      <td>2020-08-31</td>\n",
              "      <td>1499467</td>\n",
              "    </tr>\n",
              "  </tbody>\n",
              "</table>\n",
              "</div>"
            ],
            "text/plain": [
              "           ds        y\n",
              "27 2020-04-30  1426736\n",
              "28 2020-05-31  1487594\n",
              "29 2020-06-30  1460294\n",
              "30 2020-07-31  1536899\n",
              "31 2020-08-31  1499467"
            ]
          },
          "metadata": {},
          "execution_count": 83
        }
      ]
    },
    {
      "cell_type": "code",
      "metadata": {
        "id": "StmDOGRVxWYX",
        "colab": {
          "base_uri": "https://localhost:8080/"
        },
        "outputId": "ca013679-d98d-4ea1-d834-7caeb118c4c3"
      },
      "source": [
        "#instanciando o prophet\n",
        "model_prophet = Prophet()\n",
        "\n",
        "#realizando o fit do prophet\n",
        "model_prophet.fit(train_prophet)\n",
        "\n",
        "#determinar o periodo para previsão\n",
        "future = model_prophet.make_future_dataframe(periods=prediction_size,freq='M')"
      ],
      "execution_count": 84,
      "outputs": [
        {
          "output_type": "stream",
          "name": "stderr",
          "text": [
            "INFO:fbprophet:Disabling weekly seasonality. Run prophet with weekly_seasonality=True to override this.\n",
            "INFO:fbprophet:Disabling daily seasonality. Run prophet with daily_seasonality=True to override this.\n",
            "INFO:fbprophet:n_changepoints greater than number of observations. Using 24.\n"
          ]
        }
      ]
    },
    {
      "cell_type": "markdown",
      "metadata": {
        "id": "dqus0KmROKlJ"
      },
      "source": [
        "# Realizando as Previsões\n",
        "\n",
        "Para calcular os **erros** de nossos modelos usaremos um *módulo* do scikit-learn, o [Mean Squared Error](https://scikit-learn.org/stable/modules/generated/sklearn.metrics.mean_squared_error.html). Setaremos o **parâmetro** `squared` como *False* para calcular a **raiz quadrada** deste valor e **conseguir** comparar com valores que foram *estimados*.\n",
        "\n",
        "Foi optado esta **métrica** porque queremos **reduzir** ao máximo a *diferença* entre os valores previstos e reais. Além disso, pretendemos utilizar o modelo que *menos* proporciona **outliers**, uma vez que **errar** demasiadamente o valor esperado pode gerar **custos** onerosos para a empresa de vinhos analisada.\n",
        "\n",
        "A imagem abaixo ilustra como é realizado o cálculo da métrica utilizada, o [RMSE (Root Mean Squared Error)](https://www.statisticshowto.com/probability-and-statistics/regression-analysis/rmse-root-mean-square-error/).\n",
        "\n",
        "<p align='center'>\n",
        "<img src=\"https://miro.medium.com/max/966/1*lqDsPkfXPGen32Uem1PTNg.png\" width=\"30%\">\n",
        "</p>"
      ]
    },
    {
      "cell_type": "code",
      "metadata": {
        "id": "zxgqKjcqgmqL"
      },
      "source": [
        "#função para printar o erro\n",
        "def printando_o_erro(y_true,y_pred,previsor):\n",
        "  error = mse(y_true=y_true,y_pred=y_pred,squared=False)\n",
        "  print('A raiz do erro-médio quadrado utilizando o modelo {} é de {:.2f}'.format(previsor,error))"
      ],
      "execution_count": 85,
      "outputs": []
    },
    {
      "cell_type": "markdown",
      "metadata": {
        "id": "dmOLdNEJgXHW"
      },
      "source": [
        "Fazendo as *previsões* do **SARIMA** e avaliando o *modelo*."
      ]
    },
    {
      "cell_type": "markdown",
      "metadata": {
        "id": "hOwTz7Y2YSpE"
      },
      "source": [
        "***VERIFICAR QUAL É O ALPHA DO FB ***"
      ]
    },
    {
      "cell_type": "code",
      "metadata": {
        "id": "5zYjE6tMOMHI",
        "colab": {
          "base_uri": "https://localhost:8080/",
          "height": 174
        },
        "outputId": "ca0f564a-bfcd-4ea0-8f38-fce114129eeb"
      },
      "source": [
        "# fazer a previsao com SARIMA\n",
        "forecasts,conf_int = sarima_model.predict(n_periods=prediction_size,return_conf_int=True,alpha=0.8)\n",
        "\n",
        "#criando um dataframe com as previsões e os intervalos de confiança\n",
        "previsoes_sarima = pd.DataFrame({'data':validation.index,\n",
        "                                'previsoes':forecasts,\n",
        "                                'lower_conf':conf_int[:,0],\n",
        "                                'upper_conf':conf_int[:,1]})\n",
        "\n",
        "#visualizando o dataframe de previsoes\n",
        "previsoes_sarima"
      ],
      "execution_count": 176,
      "outputs": [
        {
          "output_type": "execute_result",
          "data": {
            "text/html": [
              "<div>\n",
              "<style scoped>\n",
              "    .dataframe tbody tr th:only-of-type {\n",
              "        vertical-align: middle;\n",
              "    }\n",
              "\n",
              "    .dataframe tbody tr th {\n",
              "        vertical-align: top;\n",
              "    }\n",
              "\n",
              "    .dataframe thead th {\n",
              "        text-align: right;\n",
              "    }\n",
              "</style>\n",
              "<table border=\"1\" class=\"dataframe\">\n",
              "  <thead>\n",
              "    <tr style=\"text-align: right;\">\n",
              "      <th></th>\n",
              "      <th>data</th>\n",
              "      <th>previsoes</th>\n",
              "      <th>lower_conf</th>\n",
              "      <th>upper_conf</th>\n",
              "    </tr>\n",
              "  </thead>\n",
              "  <tbody>\n",
              "    <tr>\n",
              "      <th>0</th>\n",
              "      <td>2020-09-30</td>\n",
              "      <td>1426896.0</td>\n",
              "      <td>1.421654e+06</td>\n",
              "      <td>1.432138e+06</td>\n",
              "    </tr>\n",
              "    <tr>\n",
              "      <th>1</th>\n",
              "      <td>2020-10-31</td>\n",
              "      <td>1452431.0</td>\n",
              "      <td>1.440709e+06</td>\n",
              "      <td>1.464153e+06</td>\n",
              "    </tr>\n",
              "    <tr>\n",
              "      <th>2</th>\n",
              "      <td>2020-11-30</td>\n",
              "      <td>1436218.0</td>\n",
              "      <td>1.416603e+06</td>\n",
              "      <td>1.455833e+06</td>\n",
              "    </tr>\n",
              "    <tr>\n",
              "      <th>3</th>\n",
              "      <td>2020-12-31</td>\n",
              "      <td>1400385.0</td>\n",
              "      <td>1.371671e+06</td>\n",
              "      <td>1.429099e+06</td>\n",
              "    </tr>\n",
              "  </tbody>\n",
              "</table>\n",
              "</div>"
            ],
            "text/plain": [
              "        data  previsoes    lower_conf    upper_conf\n",
              "0 2020-09-30  1426896.0  1.421654e+06  1.432138e+06\n",
              "1 2020-10-31  1452431.0  1.440709e+06  1.464153e+06\n",
              "2 2020-11-30  1436218.0  1.416603e+06  1.455833e+06\n",
              "3 2020-12-31  1400385.0  1.371671e+06  1.429099e+06"
            ]
          },
          "metadata": {},
          "execution_count": 176
        }
      ]
    },
    {
      "cell_type": "code",
      "metadata": {
        "colab": {
          "base_uri": "https://localhost:8080/",
          "height": 584
        },
        "id": "sk15P9e79HtM",
        "outputId": "216f84cf-814b-43df-a35e-490dc6ec36eb"
      },
      "source": [
        "#criando o fig e o ax no matplotlib\n",
        "fig,ax = plt.subplots(figsize=(12,8))\n",
        "\n",
        "#criando o gráfico dos dados de treino\n",
        "plt.plot(agregando_valores_mensais,color='blue',alpha=0.55,marker='.')#\n",
        "plt.fill_between(data=previsoes_sarima,x='data',y1='lower_conf',y2='upper_conf',color='blue',alpha=0.1)\n",
        "ajuste_layout(ax=ax,\n",
        "              titulo='Realizando as previsões para os próximos 4 meses utilizando o SARIMA',\n",
        "              ylabel='Quantidades Vendidas',\n",
        "              grid=True,grid_lw=0.6,grid_style='dotted')\n",
        "\n",
        "#plotando o gráfico\n",
        "plt.tight_layout();\n"
      ],
      "execution_count": 188,
      "outputs": [
        {
          "output_type": "display_data",
          "data": {
            "image/png": "[encoded data removed]",
            "text/plain": [
              "<Figure size 864x576 with 1 Axes>"
            ]
          },
          "metadata": {
            "needs_background": "dark"
          }
        }
      ]
    },
    {
      "cell_type": "code",
      "metadata": {
        "id": "HuENhJo_geE2",
        "colab": {
          "base_uri": "https://localhost:8080/"
        },
        "outputId": "e83564d7-066d-46d0-a1e8-978fd020be36"
      },
      "source": [
        "#calcular o erro\n",
        "printando_o_erro(y_true=validation.sales,y_pred=forecasts,previsor='ARIMA')"
      ],
      "execution_count": 182,
      "outputs": [
        {
          "output_type": "stream",
          "name": "stdout",
          "text": [
            "A raiz do erro-médio quadrado utilizando o modelo ARIMA é de 11913.79\n"
          ]
        }
      ]
    },
    {
      "cell_type": "markdown",
      "metadata": {
        "id": "qIyDXNCDgfW7"
      },
      "source": [
        "Fazendo as *previsões* do **XGBoost** e avaliando o *modelo*."
      ]
    },
    {
      "cell_type": "code",
      "metadata": {
        "id": "Pum6VHQKgf5R"
      },
      "source": [
        "# fazer a previsao com xgb e plot"
      ],
      "execution_count": 42,
      "outputs": []
    },
    {
      "cell_type": "code",
      "metadata": {
        "id": "wJU-v1Ckgg_U"
      },
      "source": [
        "#calcular o erro\n",
        "#printando_o_erro(y_true=validation.sales,y_pred=.yhat,previsor='XGBoost')"
      ],
      "execution_count": 43,
      "outputs": []
    },
    {
      "cell_type": "markdown",
      "metadata": {
        "id": "TcrT7U8Ogpgz"
      },
      "source": [
        "Fazendo as *previsões* do **Prophet** e avaliando o *modelo*."
      ]
    },
    {
      "cell_type": "code",
      "metadata": {
        "id": "K1qiSq2siIF8",
        "colab": {
          "base_uri": "https://localhost:8080/",
          "height": 264
        },
        "outputId": "cfc9d305-f375-4026-f0e7-212d368a0c5c"
      },
      "source": [
        "#realizar a previsão com o período mensal estabelecido\n",
        "forecast = model_prophet.predict(future)\n",
        "\n",
        "#visualizando os 4 últimos registros\n",
        "forecast.tail(4)"
      ],
      "execution_count": 183,
      "outputs": [
        {
          "output_type": "execute_result",
          "data": {
            "text/html": [
              "<div>\n",
              "<style scoped>\n",
              "    .dataframe tbody tr th:only-of-type {\n",
              "        vertical-align: middle;\n",
              "    }\n",
              "\n",
              "    .dataframe tbody tr th {\n",
              "        vertical-align: top;\n",
              "    }\n",
              "\n",
              "    .dataframe thead th {\n",
              "        text-align: right;\n",
              "    }\n",
              "</style>\n",
              "<table border=\"1\" class=\"dataframe\">\n",
              "  <thead>\n",
              "    <tr style=\"text-align: right;\">\n",
              "      <th></th>\n",
              "      <th>ds</th>\n",
              "      <th>trend</th>\n",
              "      <th>yhat_lower</th>\n",
              "      <th>yhat_upper</th>\n",
              "      <th>trend_lower</th>\n",
              "      <th>trend_upper</th>\n",
              "      <th>additive_terms</th>\n",
              "      <th>additive_terms_lower</th>\n",
              "      <th>additive_terms_upper</th>\n",
              "      <th>yearly</th>\n",
              "      <th>yearly_lower</th>\n",
              "      <th>yearly_upper</th>\n",
              "      <th>multiplicative_terms</th>\n",
              "      <th>multiplicative_terms_lower</th>\n",
              "      <th>multiplicative_terms_upper</th>\n",
              "      <th>yhat</th>\n",
              "    </tr>\n",
              "  </thead>\n",
              "  <tbody>\n",
              "    <tr>\n",
              "      <th>32</th>\n",
              "      <td>2020-09-30</td>\n",
              "      <td>1.421797e+06</td>\n",
              "      <td>1.417482e+06</td>\n",
              "      <td>1.424261e+06</td>\n",
              "      <td>1.419020e+06</td>\n",
              "      <td>1.425798e+06</td>\n",
              "      <td>-1537.907229</td>\n",
              "      <td>-1537.907229</td>\n",
              "      <td>-1537.907229</td>\n",
              "      <td>-1537.907229</td>\n",
              "      <td>-1537.907229</td>\n",
              "      <td>-1537.907229</td>\n",
              "      <td>0.0</td>\n",
              "      <td>0.0</td>\n",
              "      <td>0.0</td>\n",
              "      <td>1.420260e+06</td>\n",
              "    </tr>\n",
              "    <tr>\n",
              "      <th>33</th>\n",
              "      <td>2020-10-31</td>\n",
              "      <td>1.421209e+06</td>\n",
              "      <td>1.389842e+06</td>\n",
              "      <td>1.415718e+06</td>\n",
              "      <td>1.409962e+06</td>\n",
              "      <td>1.435838e+06</td>\n",
              "      <td>-20119.957459</td>\n",
              "      <td>-20119.957459</td>\n",
              "      <td>-20119.957459</td>\n",
              "      <td>-20119.957459</td>\n",
              "      <td>-20119.957459</td>\n",
              "      <td>-20119.957459</td>\n",
              "      <td>0.0</td>\n",
              "      <td>0.0</td>\n",
              "      <td>0.0</td>\n",
              "      <td>1.401089e+06</td>\n",
              "    </tr>\n",
              "    <tr>\n",
              "      <th>34</th>\n",
              "      <td>2020-11-30</td>\n",
              "      <td>1.420639e+06</td>\n",
              "      <td>1.354034e+06</td>\n",
              "      <td>1.403636e+06</td>\n",
              "      <td>1.398707e+06</td>\n",
              "      <td>1.448308e+06</td>\n",
              "      <td>-44672.302553</td>\n",
              "      <td>-44672.302553</td>\n",
              "      <td>-44672.302553</td>\n",
              "      <td>-44672.302553</td>\n",
              "      <td>-44672.302553</td>\n",
              "      <td>-44672.302553</td>\n",
              "      <td>0.0</td>\n",
              "      <td>0.0</td>\n",
              "      <td>0.0</td>\n",
              "      <td>1.375966e+06</td>\n",
              "    </tr>\n",
              "    <tr>\n",
              "      <th>35</th>\n",
              "      <td>2020-12-31</td>\n",
              "      <td>1.420050e+06</td>\n",
              "      <td>1.345525e+06</td>\n",
              "      <td>1.429600e+06</td>\n",
              "      <td>1.381544e+06</td>\n",
              "      <td>1.465619e+06</td>\n",
              "      <td>-36019.240733</td>\n",
              "      <td>-36019.240733</td>\n",
              "      <td>-36019.240733</td>\n",
              "      <td>-36019.240733</td>\n",
              "      <td>-36019.240733</td>\n",
              "      <td>-36019.240733</td>\n",
              "      <td>0.0</td>\n",
              "      <td>0.0</td>\n",
              "      <td>0.0</td>\n",
              "      <td>1.384030e+06</td>\n",
              "    </tr>\n",
              "  </tbody>\n",
              "</table>\n",
              "</div>"
            ],
            "text/plain": [
              "           ds         trend  ...  multiplicative_terms_upper          yhat\n",
              "32 2020-09-30  1.421797e+06  ...                         0.0  1.420260e+06\n",
              "33 2020-10-31  1.421209e+06  ...                         0.0  1.401089e+06\n",
              "34 2020-11-30  1.420639e+06  ...                         0.0  1.375966e+06\n",
              "35 2020-12-31  1.420050e+06  ...                         0.0  1.384030e+06\n",
              "\n",
              "[4 rows x 16 columns]"
            ]
          },
          "metadata": {},
          "execution_count": 183
        }
      ]
    },
    {
      "cell_type": "code",
      "metadata": {
        "colab": {
          "base_uri": "https://localhost:8080/",
          "height": 584
        },
        "id": "Vbl6txv3gkJz",
        "outputId": "da136ef1-51f2-4b95-82b0-d1b2da297f8d"
      },
      "source": [
        "#crian do ax e o plt\n",
        "fig, ax = plt.subplots(figsize=(14,8))\n",
        "\n",
        "#criando gráfico\n",
        "model_prophet.plot(forecast,ax=ax)\n",
        "ajuste_layout(ax=ax,\n",
        "              titulo='Realizando as previsões para os próximos 4 meses utilizando o Prophet',\n",
        "              ylabel='Quantidades Vendidas',\n",
        "              grid=True,grid_lw=1.8,grid_style='dotted')\n",
        "\n",
        "#plotando os gráficos\n",
        "plt.tight_layout();"
      ],
      "execution_count": 158,
      "outputs": [
        {
          "output_type": "display_data",
          "data": {
            "image/png": "[encoded data removed]",
            "text/plain": [
              "<Figure size 1008x576 with 1 Axes>"
            ]
          },
          "metadata": {
            "needs_background": "dark"
          }
        }
      ]
    },
    {
      "cell_type": "code",
      "metadata": {
        "id": "fwT4N_wdgqmC",
        "colab": {
          "base_uri": "https://localhost:8080/"
        },
        "outputId": "396db943-3c89-4239-a234-1abc6575dc3a"
      },
      "source": [
        "#calcular o erro\n",
        "printando_o_erro(y_true=validation.sales,y_pred=forecast[-prediction_size:].yhat,previsor='Prophet')"
      ],
      "execution_count": 184,
      "outputs": [
        {
          "output_type": "stream",
          "name": "stdout",
          "text": [
            "A raiz do erro-médio quadrado utilizando o modelo Prophet é de 36847.75\n"
          ]
        }
      ]
    },
    {
      "cell_type": "markdown",
      "metadata": {
        "id": "6aJwj8Jigq4_"
      },
      "source": [
        "#Conclusões\n",
        "\n",
        "* x\n",
        "* x\n",
        "* x\n"
      ]
    }
  ]
}