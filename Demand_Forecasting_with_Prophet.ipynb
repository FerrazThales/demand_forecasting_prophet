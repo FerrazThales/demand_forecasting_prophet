{
  "nbformat": 4,
  "nbformat_minor": 0,
  "metadata": {
    "colab": {
      "name": "Demand Forecasting with Prophet",
      "provenance": [],
      "collapsed_sections": [],
      "include_colab_link": true
    },
    "kernelspec": {
      "name": "python3",
      "display_name": "Python 3"
    }
  },
  "cells": [
    {
      "cell_type": "markdown",
      "metadata": {
        "id": "view-in-github",
        "colab_type": "text"
      },
      "source": [
        "<a href=\"https://colab.research.google.com/github/FerrazThales/demand_forecasting_prophet/blob/main/Demand_Forecasting_with_Prophet.ipynb\" target=\"_parent\"><img src=\"https://colab.research.google.com/assets/colab-badge.svg\" alt=\"Open In Colab\"/></a>"
      ]
    },
    {
      "cell_type": "markdown",
      "metadata": {
        "id": "3bly3c2M_B0y"
      },
      "source": [
        "<h1 align=\"center\"><b>Encontre eu e meus projetos nas redes sociais!</b></h1>\n",
        "<table>\n",
        "  <tr>\n",
        "  <td><a href=\"https://thalesferraz.medium.com/\">\n",
        "  <img src=\"https://github.com/FerrazThales/FerrazThales/blob/main/logo_gif.gif?raw=true\" width=\"800\" title=\"Olá, Meu nome é Thales e sou cientista de Dados!\"/>\n",
        "  </a>\n",
        "  </td>\n",
        "  <td><a href=\"https://github.com/FerrazThales\">\n",
        "  <img hspace=30 vspace=110 src=\"https://image.flaticon.com/icons/png/512/1051/1051326.png\" width=\"60%\" title=\"Entre em meu Github e veja mais projetos!\" /> \n",
        "  </a>\n",
        "  </td>\n",
        "  <td>\n",
        "  <a href=\"\">\n",
        "  <img vspace=110 src=\"https://download.logo.wine/logo/Medium_(website)/Medium_(website)-Logo.wine.png\" width=\"800\" title=\"Veja este meu projeto no Medium!\"/>\n",
        "  </a>\n",
        "  </td>\n",
        "  <td><a href=\"https://www.linkedin.com/in/thalesdefreitasferraz/\"><img vspace=150 src=\"https://image.flaticon.com/icons/png/512/889/889122.png\" width=\"40%\" title=\"Vamos trocar uma idéia sobre Data Science no LinkedIn?\" />\n",
        "  </a>\n",
        "  </td>\n",
        "  </tr>\n",
        "</table>\n",
        "\n",
        "# O que você vai aprender neste projeto:\n",
        "\n",
        "* O que é **previsão de demanda**, os **tipos** de projeções e sua *importância* para todas **organizações**.\n",
        "* Como está mercado **vinícola** e quais são suas tendências.\n",
        "* tratamento e limpeza de dados. (outliers)\n",
        "* falar sobre séries temporais\n",
        "* aplicação arima, xgboost e prophet."
      ]
    },
    {
      "cell_type": "markdown",
      "metadata": {
        "id": "JFy4Niuv_Kgn"
      },
      "source": [
        "#O uso de dados como auxílio para a tomada de decisão.\n",
        "<p align='center'>\n",
        "\n",
        "<img src=\"https://image.freepik.com/vetores-gratis/ilustracao-do-conceito-abstrato-de-previsao-de-vendas_335657-3900.jpg\" width=\"40%\">\n",
        "\n",
        "</p>\n",
        "\n",
        "Uma das principais tarefas de um **Engenheiro de Produção** é otimizar *recursos*. Atualmente um dos recursos mais *valiosos* e *rentáveis* de uma organização são os **dados**, afinal [data is the new oil](https://www.forbes.com/sites/forbestechcouncil/2019/11/15/data-is-the-new-oil-and-thats-a-good-thing/?sh=32998a0c7304). Podemos utilizar estes dados para **projetar**, ou seja, antecipar a *demanda* de diversos tipos de produtos e assegurar a **eficiência** da *gestão* de toda nossa cadeia de suprimentos. Por isso, uma **previsão de demanda** bem feita pode gerar *vantagem competitiva* nas decisões do negócio e **reduzir** absurdamente os *custos*.\n",
        "\n",
        "É **imprescindível** que as empresas entendam qual será a demanda **futura** para que seus gestores estejam aptos a tomarem *decisões* mais **assertivas** sobre os **preços**, potencial de **mercado**, compra de **matéria-prima** e até mesmo, possibilidade de **extensão** do negócio. Além disso, a previsão de demanda é essencial para a **Gestão do Estoque**, uma vez que projeções *inadequadas* podem gerar *acúmulo* ou *falta* de **produtos** - e tudo isso tem um gigantesco impacto financeiro negativo nas organizações.\n",
        "\n",
        "Ao se fazer uma *projeção de demanda* **eficaz** as empresas adquirem inúmeras **vantagens** práticas, como o aumento da **produtividade** dos colaboradores e a **diminuição** do trabalho *ocioso* - isto acontece porque os processos se tornam mais **otimizados**. Além disso, todo o planejamento relacionado as atividades de  orçamento, marketing e estratégias de preço são melhor estruturados, já que existem mais **informações** disponíveis. É importante ressaltar que sem uma previsão de demanda **adequada** o negócio assume um grande **risco** de operar e produzir um produto que o **mercado** não precisa.\n",
        "\n",
        "Tradicionalmente, a *previsão de demanda* de divide em **duas** grandes *categorias*. As projeções baseadas em termos **qualitativos** e **quantitativos**. As metodologias *qualitativas* são mais **subjetivas** e se baseiam em pesquisas com especialistas da área, sempre buscando um consenso. Um grande exemplo dos métodos qualitativos é o [Método Delphi](https://www.questionpro.com/blog/pt-br/metodo-delphi/). \n",
        "\n",
        "Já as metodologias *quantitativas* se segmentam em outras *duas* **subcategorias**. A primeira se orienta por **métodos estatísticos** e utiliza operações *matemáticas* para realizar suas previsões. Um modelo simples que aplica este método é o das [Médias Móveis](http://www.fecilcam.br/anais/x_eepa/data/uploads/1-engenharia-de-operacoes-e-processos-da-producao/1-02.pdf). Já a segunda subcategoria se baseia em **algoritmos** de machine learning (*até mesmo deep learning*), ou seja, o *aprendizado* do modelo é feito através dos dados com uma ajuda **computacional**. Um grande exemplo de método utilizado nesta subcategoria é a [Arquitetura LTSM](https://machinelearningmastery.com/how-to-develop-lstm-models-for-time-series-forecasting/).\n",
        "\n",
        "Desta forma, com o avanço da tecnologia e das oscilações de mercado é muito importante ter uma previsão de demanda **robusta** e que contempla seu modelo de negócio, uma vez que este tipo de **ferramenta** já se tornou uma vantagem competitiva em todos os mercados.\n",
        "\n",
        "#Previsão de Demanda e o Mercado de Vinhos.\n",
        "\n",
        "<p></p>\n",
        "\n",
        "[link](https://www.scielo.br/j/resr/a/KRKC5rnNFybt5Z5RMvvXLpN/?lang=pt)\n",
        "\n",
        "<p align=\"center\">\n",
        "\n",
        "<img src=\"https://image.freepik.com/fotos-gratis/copo-de-vinho-tinto-e-garrafa-no-balcao-de-bar_107420-65845.jpg\" width=\"70%\">\n",
        "\n",
        "</p>\n",
        "\n",
        "falar de e-commerce e tendências do vinho [link](https://www.wine-xt.com/pt-br/blog/2021/2/3/oportunidades-crescimento-mercado-de-vinho-2021), falar de abrir centros de distribuição. [cd](https://stoom.com.br/centro-de-distribuicao/)\n",
        "\n",
        "\n",
        "<p align=\"center\">\n",
        "<img src=\"https://images.squarespace-cdn.com/content/v1/56a7c79efd5d0878f3aa6793/1612377384828-EECQTLLW1I9MUWN6CBMR/Online-consideration-infographic-v0.LJH-002.jpg?format=1000w\">\n",
        "</p>\n",
        "\n",
        "O objetivo desse projeto é prever a demanda por vinhos em lojas especializadas em vinho. Para esse projeto, temos 2 datasets, um sobre o catálogo de vinhos da loja e outro sobre as vendas.\n",
        "\n",
        "\n",
        "\n"
      ]
    },
    {
      "cell_type": "code",
      "metadata": {
        "id": "Hpw0N_vE_aC9"
      },
      "source": [
        "#módulo para remover os warnings\n",
        "import warnings\n",
        "warnings.filterwarnings('ignore')\n",
        "\n",
        "#bibliotecas de operações matemáticas e análise/leitura de dados\n",
        "import numpy as np\n",
        "import pandas as pd\n",
        "\n",
        "#bibliotecas de visualização de dados\n",
        "import seaborn as sns\n",
        "import matplotlib.pyplot as plt\n",
        "\n",
        "#módulos estatísticos\n",
        "from statsmodels.tsa.seasonal import seasonal_decompose\n",
        "from statsmodels.tsa.arima_model import ARIMA\n",
        "from statsmodels.tsa.stattools import adfuller\n",
        "\n",
        "#módulo de time series do facebook\n",
        "from fbprophet import Prophet\n",
        "\n",
        "#calcular as métricas de erro\n",
        "from sklearn.metrics import mean_squared_error as mse"
      ],
      "execution_count": null,
      "outputs": []
    },
    {
      "cell_type": "markdown",
      "metadata": {
        "id": "ot69cgOs1QW0"
      },
      "source": [
        "Neste projeto abusaremos de visualizações **gráficas**. Para evitar a fadiga gerada por **reescrever** cada código, já deixaremos uma função de ajuste dos gráficos pronta para fazer este **serviço**."
      ]
    },
    {
      "cell_type": "code",
      "metadata": {
        "id": "-GM70OFzvxZz"
      },
      "source": [
        "#defindo uma função de ajuste para o layout dos gráficos\n",
        "def ajuste_layout(ax,titulo=None,location='left',xlabel=None,ylabel=None,\n",
        "                  addlabels=False,y=None,distancia=0,\n",
        "                  grid=False,grid_lw=0.25,grid_style='--'):\n",
        "\n",
        "  ax.set_frame_on(False)\n",
        "  ax.tick_params(axis='both',rotation=0,colors='grey',length=0,labelsize=12)\n",
        "  ax.set_xlabel(xlabel,labelpad=20,fontdict={'fontsize':14},color='#4c4c4c')\n",
        "  ax.set_ylabel(ylabel,labelpad=20,fontdict={'fontsize':14},color='#4c4c4c')\n",
        "  ax.set_title(titulo,loc=location,pad=40,fontdict={'fontsize':20},color='dimgrey')\n",
        "\n",
        "  if addlabels:\n",
        "\n",
        "    ax.get_yaxis().set_visible(False)\n",
        "    for i in range(len(y)):\n",
        "      ax.text(i,y[i] + distancia,'{:,}'.format(int(y[i])).replace(',','.'),ha='center',fontsize=16,color='grey')\n",
        "  \n",
        "  if grid:\n",
        "    ax.grid(linestyle=grid_style,lw=grid_lw,aa=True)"
      ],
      "execution_count": 216,
      "outputs": []
    },
    {
      "cell_type": "markdown",
      "metadata": {
        "id": "-y4see9Y_OSL"
      },
      "source": [
        "# Obtenção e Limpeza dos Dados\n",
        "\n",
        "falar que pegou do rafael que era um desafio do curso\n",
        "\n",
        "se divide em duas bases, produtos e vendas\n"
      ]
    },
    {
      "cell_type": "markdown",
      "metadata": {
        "id": "RDkkX6ZcGqex"
      },
      "source": [
        "### Base de Dados dos produtos\n",
        "\n",
        "texto\n",
        "\n",
        "#### Dicionário das Variáveis:\n",
        "\n",
        "* `item_id`: código do vinho na adega.\n",
        "* `name`: nome do vinho.\n",
        "* `producer`: nome do produtor do vinho.\n",
        "* `country`: país de origem do vinho.\n",
        "* `region`: região de produção do vinho.\n",
        "* `vintage`: ano da safra.\n",
        "* `kind`: tipo do vinho.\n",
        "\n",
        " * *Sparkling* : Espumante\n",
        " * *Rose Sparkling* : Espumante Rose\n",
        " * *White* : Branco\n",
        " * *Rosé* : Rosé\n",
        " * *Red* : Tinto\n",
        "* `price_brl`: preço unitário do vinho em real na época em que os dados foram levantados.\n",
        "* `price_usd`: preço unitário do vinho em dólar na época em que os dados foram levantados."
      ]
    },
    {
      "cell_type": "code",
      "metadata": {
        "colab": {
          "base_uri": "https://localhost:8080/",
          "height": 206
        },
        "id": "8Qjis-sv_YxR",
        "outputId": "eb03bcef-1f01-406f-cac1-ba618b01a0df"
      },
      "source": [
        "#endereco dos dados sobre produos\n",
        "endereco_produtos = \"https://raw.githubusercontent.com/rafaelnduarte/sigmoidal_data/master/products.csv\"\n",
        "\n",
        "#guardando os dados sobre produtos\n",
        "produtos = pd.read_csv(endereco_produtos)\n",
        "\n",
        "#mostrando as 5 primeiras entrada dos dados de produtos\n",
        "produtos.head()"
      ],
      "execution_count": null,
      "outputs": [
        {
          "output_type": "execute_result",
          "data": {
            "text/html": [
              "<div>\n",
              "<style scoped>\n",
              "    .dataframe tbody tr th:only-of-type {\n",
              "        vertical-align: middle;\n",
              "    }\n",
              "\n",
              "    .dataframe tbody tr th {\n",
              "        vertical-align: top;\n",
              "    }\n",
              "\n",
              "    .dataframe thead th {\n",
              "        text-align: right;\n",
              "    }\n",
              "</style>\n",
              "<table border=\"1\" class=\"dataframe\">\n",
              "  <thead>\n",
              "    <tr style=\"text-align: right;\">\n",
              "      <th></th>\n",
              "      <th>item_id</th>\n",
              "      <th>name</th>\n",
              "      <th>producer</th>\n",
              "      <th>country</th>\n",
              "      <th>region</th>\n",
              "      <th>vintage</th>\n",
              "      <th>kind</th>\n",
              "      <th>price_brl</th>\n",
              "      <th>price_usd</th>\n",
              "    </tr>\n",
              "  </thead>\n",
              "  <tbody>\n",
              "    <tr>\n",
              "      <th>0</th>\n",
              "      <td>1</td>\n",
              "      <td>Philipponnat Royale Reserve Brut</td>\n",
              "      <td>Philipponat</td>\n",
              "      <td>France</td>\n",
              "      <td>Champagne</td>\n",
              "      <td>NV</td>\n",
              "      <td>sparkling</td>\n",
              "      <td>339.60</td>\n",
              "      <td>58.75</td>\n",
              "    </tr>\n",
              "    <tr>\n",
              "      <th>1</th>\n",
              "      <td>2</td>\n",
              "      <td>Philipponnat Royale Reserve Rosé</td>\n",
              "      <td>Philipponat</td>\n",
              "      <td>France</td>\n",
              "      <td>Champagne</td>\n",
              "      <td>NV</td>\n",
              "      <td>rose sparkling</td>\n",
              "      <td>489.00</td>\n",
              "      <td>84.60</td>\n",
              "    </tr>\n",
              "    <tr>\n",
              "      <th>2</th>\n",
              "      <td>3</td>\n",
              "      <td>Philipponnat Cuvée 1522 Grand Cru Extra Brut</td>\n",
              "      <td>Philipponat</td>\n",
              "      <td>France</td>\n",
              "      <td>Champagne</td>\n",
              "      <td>2009</td>\n",
              "      <td>sparkling</td>\n",
              "      <td>789.00</td>\n",
              "      <td>136.51</td>\n",
              "    </tr>\n",
              "    <tr>\n",
              "      <th>3</th>\n",
              "      <td>4</td>\n",
              "      <td>Philipponnat Cuvée 1522 1er Cru Rosé</td>\n",
              "      <td>Philipponat</td>\n",
              "      <td>France</td>\n",
              "      <td>Champagne</td>\n",
              "      <td>2008</td>\n",
              "      <td>rose sparkling</td>\n",
              "      <td>899.40</td>\n",
              "      <td>155.61</td>\n",
              "    </tr>\n",
              "    <tr>\n",
              "      <th>4</th>\n",
              "      <td>5</td>\n",
              "      <td>Philipponnat Clos Des Goisses Brut</td>\n",
              "      <td>Philipponat</td>\n",
              "      <td>France</td>\n",
              "      <td>Champagne</td>\n",
              "      <td>2009</td>\n",
              "      <td>sparkling</td>\n",
              "      <td>1,548.00</td>\n",
              "      <td>267.82</td>\n",
              "    </tr>\n",
              "  </tbody>\n",
              "</table>\n",
              "</div>"
            ],
            "text/plain": [
              "   item_id                                          name  ... price_brl price_usd\n",
              "0        1              Philipponnat Royale Reserve Brut  ...    339.60     58.75\n",
              "1        2              Philipponnat Royale Reserve Rosé  ...    489.00     84.60\n",
              "2        3  Philipponnat Cuvée 1522 Grand Cru Extra Brut  ...    789.00    136.51\n",
              "3        4          Philipponnat Cuvée 1522 1er Cru Rosé  ...    899.40    155.61\n",
              "4        5            Philipponnat Clos Des Goisses Brut  ...  1,548.00    267.82\n",
              "\n",
              "[5 rows x 9 columns]"
            ]
          },
          "metadata": {},
          "execution_count": 3
        }
      ]
    },
    {
      "cell_type": "markdown",
      "metadata": {
        "id": "wLU4RIYNLzgp"
      },
      "source": [
        "texto sobre a quantidade de vinhos  e suas variáveis"
      ]
    },
    {
      "cell_type": "code",
      "metadata": {
        "colab": {
          "base_uri": "https://localhost:8080/"
        },
        "id": "rhcJVxgkLaiJ",
        "outputId": "cca0dd4b-75bc-47e2-96fa-0205281d7591"
      },
      "source": [
        "print('A Base de dados sobre produtos contém:')\n",
        "print('{} entradas e {} variáveis'.format(produtos.shape[0], produtos.shape[1]))"
      ],
      "execution_count": null,
      "outputs": [
        {
          "output_type": "stream",
          "name": "stdout",
          "text": [
            "A Base de dados sobre produtos contém:\n",
            "219 entradas e 9 variáveis\n"
          ]
        }
      ]
    },
    {
      "cell_type": "markdown",
      "metadata": {
        "id": "GesdUAkbHId3"
      },
      "source": [
        "avaliar o tipo de dados"
      ]
    },
    {
      "cell_type": "code",
      "metadata": {
        "colab": {
          "base_uri": "https://localhost:8080/",
          "height": 331
        },
        "id": "GkoT8lzzHLkw",
        "outputId": "505e7d7a-3da7-41f4-b2d8-6ec1b73b7b4f"
      },
      "source": [
        "#avaliando o tipo de dados\n",
        "pd.DataFrame(produtos.dtypes,columns=['Tipo de Dados'])"
      ],
      "execution_count": null,
      "outputs": [
        {
          "output_type": "execute_result",
          "data": {
            "text/html": [
              "<div>\n",
              "<style scoped>\n",
              "    .dataframe tbody tr th:only-of-type {\n",
              "        vertical-align: middle;\n",
              "    }\n",
              "\n",
              "    .dataframe tbody tr th {\n",
              "        vertical-align: top;\n",
              "    }\n",
              "\n",
              "    .dataframe thead th {\n",
              "        text-align: right;\n",
              "    }\n",
              "</style>\n",
              "<table border=\"1\" class=\"dataframe\">\n",
              "  <thead>\n",
              "    <tr style=\"text-align: right;\">\n",
              "      <th></th>\n",
              "      <th>Tipo de Dados</th>\n",
              "    </tr>\n",
              "  </thead>\n",
              "  <tbody>\n",
              "    <tr>\n",
              "      <th>item_id</th>\n",
              "      <td>int64</td>\n",
              "    </tr>\n",
              "    <tr>\n",
              "      <th>name</th>\n",
              "      <td>object</td>\n",
              "    </tr>\n",
              "    <tr>\n",
              "      <th>producer</th>\n",
              "      <td>object</td>\n",
              "    </tr>\n",
              "    <tr>\n",
              "      <th>country</th>\n",
              "      <td>object</td>\n",
              "    </tr>\n",
              "    <tr>\n",
              "      <th>region</th>\n",
              "      <td>object</td>\n",
              "    </tr>\n",
              "    <tr>\n",
              "      <th>vintage</th>\n",
              "      <td>object</td>\n",
              "    </tr>\n",
              "    <tr>\n",
              "      <th>kind</th>\n",
              "      <td>object</td>\n",
              "    </tr>\n",
              "    <tr>\n",
              "      <th>price_brl</th>\n",
              "      <td>object</td>\n",
              "    </tr>\n",
              "    <tr>\n",
              "      <th>price_usd</th>\n",
              "      <td>object</td>\n",
              "    </tr>\n",
              "  </tbody>\n",
              "</table>\n",
              "</div>"
            ],
            "text/plain": [
              "          Tipo de Dados\n",
              "item_id           int64\n",
              "name             object\n",
              "producer         object\n",
              "country          object\n",
              "region           object\n",
              "vintage          object\n",
              "kind             object\n",
              "price_brl        object\n",
              "price_usd        object"
            ]
          },
          "metadata": {},
          "execution_count": 5
        }
      ]
    },
    {
      "cell_type": "markdown",
      "metadata": {
        "id": "kL5XxtYYIcb8"
      },
      "source": [
        "texto falando sobre float e vírgula pq o regex precisa ser true"
      ]
    },
    {
      "cell_type": "code",
      "metadata": {
        "id": "H65XMivNHZgf"
      },
      "source": [
        "#tirando as vírgulas dos valores\n",
        "produtos.replace(',','',inplace=True,regex=True)\n",
        "\n",
        "#mudança da variável price_brl\n",
        "produtos.price_brl = produtos.price_brl.astype('float64')\n",
        "\n",
        "#mudança da variável price_usd\n",
        "produtos.price_usd = produtos.price_usd.astype('float64')\n",
        "\n",
        "#mudança da variável item_id\n",
        "produtos.item_id = produtos.item_id.astype('str')"
      ],
      "execution_count": null,
      "outputs": []
    },
    {
      "cell_type": "code",
      "metadata": {
        "colab": {
          "base_uri": "https://localhost:8080/",
          "height": 331
        },
        "id": "f0Mq400FIJpo",
        "outputId": "db34c526-ce2b-4a25-9753-a1a753b7de80"
      },
      "source": [
        "pd.DataFrame(produtos.dtypes,columns=['Tipo de Dados após mudança'])"
      ],
      "execution_count": null,
      "outputs": [
        {
          "output_type": "execute_result",
          "data": {
            "text/html": [
              "<div>\n",
              "<style scoped>\n",
              "    .dataframe tbody tr th:only-of-type {\n",
              "        vertical-align: middle;\n",
              "    }\n",
              "\n",
              "    .dataframe tbody tr th {\n",
              "        vertical-align: top;\n",
              "    }\n",
              "\n",
              "    .dataframe thead th {\n",
              "        text-align: right;\n",
              "    }\n",
              "</style>\n",
              "<table border=\"1\" class=\"dataframe\">\n",
              "  <thead>\n",
              "    <tr style=\"text-align: right;\">\n",
              "      <th></th>\n",
              "      <th>Tipo de Dados após mudança</th>\n",
              "    </tr>\n",
              "  </thead>\n",
              "  <tbody>\n",
              "    <tr>\n",
              "      <th>item_id</th>\n",
              "      <td>object</td>\n",
              "    </tr>\n",
              "    <tr>\n",
              "      <th>name</th>\n",
              "      <td>object</td>\n",
              "    </tr>\n",
              "    <tr>\n",
              "      <th>producer</th>\n",
              "      <td>object</td>\n",
              "    </tr>\n",
              "    <tr>\n",
              "      <th>country</th>\n",
              "      <td>object</td>\n",
              "    </tr>\n",
              "    <tr>\n",
              "      <th>region</th>\n",
              "      <td>object</td>\n",
              "    </tr>\n",
              "    <tr>\n",
              "      <th>vintage</th>\n",
              "      <td>object</td>\n",
              "    </tr>\n",
              "    <tr>\n",
              "      <th>kind</th>\n",
              "      <td>object</td>\n",
              "    </tr>\n",
              "    <tr>\n",
              "      <th>price_brl</th>\n",
              "      <td>float64</td>\n",
              "    </tr>\n",
              "    <tr>\n",
              "      <th>price_usd</th>\n",
              "      <td>float64</td>\n",
              "    </tr>\n",
              "  </tbody>\n",
              "</table>\n",
              "</div>"
            ],
            "text/plain": [
              "          Tipo de Dados após mudança\n",
              "item_id                       object\n",
              "name                          object\n",
              "producer                      object\n",
              "country                       object\n",
              "region                        object\n",
              "vintage                       object\n",
              "kind                          object\n",
              "price_brl                    float64\n",
              "price_usd                    float64"
            ]
          },
          "metadata": {},
          "execution_count": 7
        }
      ]
    },
    {
      "cell_type": "markdown",
      "metadata": {
        "id": "OSZ7KmwGHueg"
      },
      "source": [
        "ver dados vazios"
      ]
    },
    {
      "cell_type": "code",
      "metadata": {
        "colab": {
          "base_uri": "https://localhost:8080/",
          "height": 331
        },
        "id": "Rq4qyODfHwEC",
        "outputId": "f9cee96e-5bf4-40d0-9e55-2bd165d3da28"
      },
      "source": [
        "#verificando a quantidade de dados vazios na base de dados dos produtos\n",
        "pd.DataFrame(produtos.isnull().sum(),columns=['Quantidade de Valores Ausentes'])"
      ],
      "execution_count": null,
      "outputs": [
        {
          "output_type": "execute_result",
          "data": {
            "text/html": [
              "<div>\n",
              "<style scoped>\n",
              "    .dataframe tbody tr th:only-of-type {\n",
              "        vertical-align: middle;\n",
              "    }\n",
              "\n",
              "    .dataframe tbody tr th {\n",
              "        vertical-align: top;\n",
              "    }\n",
              "\n",
              "    .dataframe thead th {\n",
              "        text-align: right;\n",
              "    }\n",
              "</style>\n",
              "<table border=\"1\" class=\"dataframe\">\n",
              "  <thead>\n",
              "    <tr style=\"text-align: right;\">\n",
              "      <th></th>\n",
              "      <th>Quantidade de Valores Ausentes</th>\n",
              "    </tr>\n",
              "  </thead>\n",
              "  <tbody>\n",
              "    <tr>\n",
              "      <th>item_id</th>\n",
              "      <td>0</td>\n",
              "    </tr>\n",
              "    <tr>\n",
              "      <th>name</th>\n",
              "      <td>0</td>\n",
              "    </tr>\n",
              "    <tr>\n",
              "      <th>producer</th>\n",
              "      <td>0</td>\n",
              "    </tr>\n",
              "    <tr>\n",
              "      <th>country</th>\n",
              "      <td>0</td>\n",
              "    </tr>\n",
              "    <tr>\n",
              "      <th>region</th>\n",
              "      <td>0</td>\n",
              "    </tr>\n",
              "    <tr>\n",
              "      <th>vintage</th>\n",
              "      <td>0</td>\n",
              "    </tr>\n",
              "    <tr>\n",
              "      <th>kind</th>\n",
              "      <td>0</td>\n",
              "    </tr>\n",
              "    <tr>\n",
              "      <th>price_brl</th>\n",
              "      <td>0</td>\n",
              "    </tr>\n",
              "    <tr>\n",
              "      <th>price_usd</th>\n",
              "      <td>0</td>\n",
              "    </tr>\n",
              "  </tbody>\n",
              "</table>\n",
              "</div>"
            ],
            "text/plain": [
              "           Quantidade de Valores Ausentes\n",
              "item_id                                 0\n",
              "name                                    0\n",
              "producer                                0\n",
              "country                                 0\n",
              "region                                  0\n",
              "vintage                                 0\n",
              "kind                                    0\n",
              "price_brl                               0\n",
              "price_usd                               0"
            ]
          },
          "metadata": {},
          "execution_count": 8
        }
      ]
    },
    {
      "cell_type": "markdown",
      "metadata": {
        "id": "oqCFlyl5G0zV"
      },
      "source": [
        "### Base de dados das Vendas\n",
        "\n",
        "##### Dicionário das Variáveis:\n",
        "\n",
        "* `date`: data em que a venda foi realizada.\n",
        "* `store`: código da loja.\n",
        "* `item`: código do vinho na adega.\n",
        "* `sales`: quantidade de vinhos vendidos."
      ]
    },
    {
      "cell_type": "code",
      "metadata": {
        "colab": {
          "base_uri": "https://localhost:8080/",
          "height": 206
        },
        "id": "WD_ShhYpAxAF",
        "outputId": "a250290d-b9dd-4c19-bd08-bcb9b9b89a1f"
      },
      "source": [
        "#endereco dos dados sobre vendas\n",
        "endereco_vendas = \"https://raw.githubusercontent.com/rafaelnduarte/sigmoidal_data/master/sales-clean.csv\"\n",
        "\n",
        "#importando os dados sobre vendas\n",
        "vendas = pd.read_csv(endereco_vendas,parse_dates=['date'])\n",
        "\n",
        "#mostrando as 5 primeiras entrada dos dados de vendas\n",
        "vendas.head()"
      ],
      "execution_count": null,
      "outputs": [
        {
          "output_type": "execute_result",
          "data": {
            "text/html": [
              "<div>\n",
              "<style scoped>\n",
              "    .dataframe tbody tr th:only-of-type {\n",
              "        vertical-align: middle;\n",
              "    }\n",
              "\n",
              "    .dataframe tbody tr th {\n",
              "        vertical-align: top;\n",
              "    }\n",
              "\n",
              "    .dataframe thead th {\n",
              "        text-align: right;\n",
              "    }\n",
              "</style>\n",
              "<table border=\"1\" class=\"dataframe\">\n",
              "  <thead>\n",
              "    <tr style=\"text-align: right;\">\n",
              "      <th></th>\n",
              "      <th>date</th>\n",
              "      <th>store</th>\n",
              "      <th>item</th>\n",
              "      <th>sales</th>\n",
              "    </tr>\n",
              "  </thead>\n",
              "  <tbody>\n",
              "    <tr>\n",
              "      <th>0</th>\n",
              "      <td>2018-01-01</td>\n",
              "      <td>1</td>\n",
              "      <td>1</td>\n",
              "      <td>13</td>\n",
              "    </tr>\n",
              "    <tr>\n",
              "      <th>1</th>\n",
              "      <td>2018-01-02</td>\n",
              "      <td>1</td>\n",
              "      <td>1</td>\n",
              "      <td>11</td>\n",
              "    </tr>\n",
              "    <tr>\n",
              "      <th>2</th>\n",
              "      <td>2018-01-03</td>\n",
              "      <td>1</td>\n",
              "      <td>1</td>\n",
              "      <td>14</td>\n",
              "    </tr>\n",
              "    <tr>\n",
              "      <th>3</th>\n",
              "      <td>2018-01-04</td>\n",
              "      <td>1</td>\n",
              "      <td>1</td>\n",
              "      <td>13</td>\n",
              "    </tr>\n",
              "    <tr>\n",
              "      <th>4</th>\n",
              "      <td>2018-01-05</td>\n",
              "      <td>1</td>\n",
              "      <td>1</td>\n",
              "      <td>10</td>\n",
              "    </tr>\n",
              "  </tbody>\n",
              "</table>\n",
              "</div>"
            ],
            "text/plain": [
              "        date  store  item  sales\n",
              "0 2018-01-01      1     1     13\n",
              "1 2018-01-02      1     1     11\n",
              "2 2018-01-03      1     1     14\n",
              "3 2018-01-04      1     1     13\n",
              "4 2018-01-05      1     1     10"
            ]
          },
          "metadata": {},
          "execution_count": 9
        }
      ]
    },
    {
      "cell_type": "markdown",
      "metadata": {
        "id": "38dsJLi2MF8z"
      },
      "source": [
        "ver quantidade de dados e variáveis"
      ]
    },
    {
      "cell_type": "code",
      "metadata": {
        "colab": {
          "base_uri": "https://localhost:8080/"
        },
        "id": "W-pWVLJpMHxK",
        "outputId": "7652f412-fe57-4cec-9d30-3a21e078a33a"
      },
      "source": [
        "print('A Base de dados sobre vendas contém:')\n",
        "print('{:,} entradas e {} variáveis'.format(vendas.shape[0], vendas.shape[1]).replace(',','.'))"
      ],
      "execution_count": null,
      "outputs": [
        {
          "output_type": "stream",
          "name": "stdout",
          "text": [
            "A Base de dados sobre vendas contém:\n",
            "720.071 entradas e 4 variáveis\n"
          ]
        }
      ]
    },
    {
      "cell_type": "markdown",
      "metadata": {
        "id": "GRBRGGq9Qb3A"
      },
      "source": [
        "avaliando o tipo de dados, falar do datetime64 e int64, explicar que vai ter que mudar os dados da store e item"
      ]
    },
    {
      "cell_type": "code",
      "metadata": {
        "colab": {
          "base_uri": "https://localhost:8080/",
          "height": 174
        },
        "id": "JVnF2NZwP-4d",
        "outputId": "a5bc9515-bbb3-4aab-9157-39f9d9fd532d"
      },
      "source": [
        "pd.DataFrame(vendas.dtypes,columns=['Tipo de Dados'])"
      ],
      "execution_count": null,
      "outputs": [
        {
          "output_type": "execute_result",
          "data": {
            "text/html": [
              "<div>\n",
              "<style scoped>\n",
              "    .dataframe tbody tr th:only-of-type {\n",
              "        vertical-align: middle;\n",
              "    }\n",
              "\n",
              "    .dataframe tbody tr th {\n",
              "        vertical-align: top;\n",
              "    }\n",
              "\n",
              "    .dataframe thead th {\n",
              "        text-align: right;\n",
              "    }\n",
              "</style>\n",
              "<table border=\"1\" class=\"dataframe\">\n",
              "  <thead>\n",
              "    <tr style=\"text-align: right;\">\n",
              "      <th></th>\n",
              "      <th>Tipo de Dados</th>\n",
              "    </tr>\n",
              "  </thead>\n",
              "  <tbody>\n",
              "    <tr>\n",
              "      <th>date</th>\n",
              "      <td>datetime64[ns]</td>\n",
              "    </tr>\n",
              "    <tr>\n",
              "      <th>store</th>\n",
              "      <td>int64</td>\n",
              "    </tr>\n",
              "    <tr>\n",
              "      <th>item</th>\n",
              "      <td>int64</td>\n",
              "    </tr>\n",
              "    <tr>\n",
              "      <th>sales</th>\n",
              "      <td>int64</td>\n",
              "    </tr>\n",
              "  </tbody>\n",
              "</table>\n",
              "</div>"
            ],
            "text/plain": [
              "        Tipo de Dados\n",
              "date   datetime64[ns]\n",
              "store           int64\n",
              "item            int64\n",
              "sales           int64"
            ]
          },
          "metadata": {},
          "execution_count": 11
        }
      ]
    },
    {
      "cell_type": "code",
      "metadata": {
        "id": "VIXnCRMPWH-S"
      },
      "source": [
        "#alterando o tipo de dados da variável store para string\n",
        "vendas.store = vendas.store.astype('str')\n",
        "\n",
        "#alterando o tipo de dados da variável item para string\n",
        "vendas.item = vendas.item.astype('str')"
      ],
      "execution_count": null,
      "outputs": []
    },
    {
      "cell_type": "markdown",
      "metadata": {
        "id": "QjnYVHrQQoHH"
      },
      "source": [
        "avaliando a quantidade de dados vazios"
      ]
    },
    {
      "cell_type": "code",
      "metadata": {
        "colab": {
          "base_uri": "https://localhost:8080/",
          "height": 174
        },
        "id": "SzKzGDaLP-60",
        "outputId": "3770c5db-48a6-4eb9-9c5d-dc8beff10829"
      },
      "source": [
        "pd.DataFrame(vendas.isnull().sum(),columns=['Quantidade de Dados Ausentes'])"
      ],
      "execution_count": null,
      "outputs": [
        {
          "output_type": "execute_result",
          "data": {
            "text/html": [
              "<div>\n",
              "<style scoped>\n",
              "    .dataframe tbody tr th:only-of-type {\n",
              "        vertical-align: middle;\n",
              "    }\n",
              "\n",
              "    .dataframe tbody tr th {\n",
              "        vertical-align: top;\n",
              "    }\n",
              "\n",
              "    .dataframe thead th {\n",
              "        text-align: right;\n",
              "    }\n",
              "</style>\n",
              "<table border=\"1\" class=\"dataframe\">\n",
              "  <thead>\n",
              "    <tr style=\"text-align: right;\">\n",
              "      <th></th>\n",
              "      <th>Quantidade de Dados Ausentes</th>\n",
              "    </tr>\n",
              "  </thead>\n",
              "  <tbody>\n",
              "    <tr>\n",
              "      <th>date</th>\n",
              "      <td>0</td>\n",
              "    </tr>\n",
              "    <tr>\n",
              "      <th>store</th>\n",
              "      <td>0</td>\n",
              "    </tr>\n",
              "    <tr>\n",
              "      <th>item</th>\n",
              "      <td>0</td>\n",
              "    </tr>\n",
              "    <tr>\n",
              "      <th>sales</th>\n",
              "      <td>0</td>\n",
              "    </tr>\n",
              "  </tbody>\n",
              "</table>\n",
              "</div>"
            ],
            "text/plain": [
              "       Quantidade de Dados Ausentes\n",
              "date                              0\n",
              "store                             0\n",
              "item                              0\n",
              "sales                             0"
            ]
          },
          "metadata": {},
          "execution_count": 13
        }
      ]
    },
    {
      "cell_type": "markdown",
      "metadata": {
        "id": "nzsZ6tDZKGr2"
      },
      "source": [
        "## Juntando as duas bases de dados\n",
        "\n",
        "texto sobre a junção das duas bases de dados [artigo](https://medium.com/data-hackers/pandas-combinando-data-frames-com-merge-e-concat-10e7d07ca5ec), falar do que há em comum entre as tabelas.\n",
        "\n",
        "<p align=\"center\">\n",
        "  <img src=\"https://miro.medium.com/max/700/1*0FDsAB9OelxojfmtkcLbgw.png\"\n",
        "</p>"
      ]
    },
    {
      "cell_type": "code",
      "metadata": {
        "id": "fwtZNjHHCYv5"
      },
      "source": [
        "#códigos para juntar as duas bases de dados\n",
        "df = pd.merge(produtos,vendas,how='right',left_on='item_id',right_on='item')\n",
        "\n",
        "#mudando a variável data para o índice\n",
        "df.set_index('date',inplace=True)\n",
        "\n",
        "#retirando a coluna item duplicada\n",
        "df.drop('item',axis=1,inplace=True)"
      ],
      "execution_count": null,
      "outputs": []
    },
    {
      "cell_type": "markdown",
      "metadata": {
        "id": "1VQRMT30-r9i"
      },
      "source": [
        "algumas novas variáveis"
      ]
    },
    {
      "cell_type": "code",
      "metadata": {
        "id": "4hYM0Eey-t3F"
      },
      "source": [
        "#receitas em dólares\n",
        "df['revenue_usd'] = df.sales * df.price_usd\n",
        "\n",
        "#receitas em reais\n",
        "df['revenue_brl'] = df.sales * df.price_brl\n",
        "\n",
        "#ano da vendas\n",
        "df['year'] = df.index.year\n",
        "\n",
        "#mês das vendas\n",
        "df['month'] =  df.index.month_name()\n",
        "\n",
        "#dia das vendas\n",
        "df['day'] = df.index.day\n",
        "\n",
        "#dia da semana\n",
        "df['day_of_week'] = df.index.dayofweek\n",
        "\n",
        "#nome do dia na semana\n",
        "df['day_name'] = df.index.day_name()\n",
        "\n",
        "#final de semana\n",
        "df['weekend'] = df.day_of_week > 4"
      ],
      "execution_count": null,
      "outputs": []
    },
    {
      "cell_type": "code",
      "metadata": {
        "colab": {
          "base_uri": "https://localhost:8080/",
          "height": 604
        },
        "id": "fQtC1VaC-uDp",
        "outputId": "1b0addbc-7b00-4358-94ea-752db03f30d1"
      },
      "source": [
        "#visualizando as 5 primeiras entradas após a junção dos dados e novas variáveis\n",
        "df.sort_index(inplace=True)\n",
        "df.head()"
      ],
      "execution_count": null,
      "outputs": [
        {
          "output_type": "execute_result",
          "data": {
            "text/html": [
              "<div>\n",
              "<style scoped>\n",
              "    .dataframe tbody tr th:only-of-type {\n",
              "        vertical-align: middle;\n",
              "    }\n",
              "\n",
              "    .dataframe tbody tr th {\n",
              "        vertical-align: top;\n",
              "    }\n",
              "\n",
              "    .dataframe thead th {\n",
              "        text-align: right;\n",
              "    }\n",
              "</style>\n",
              "<table border=\"1\" class=\"dataframe\">\n",
              "  <thead>\n",
              "    <tr style=\"text-align: right;\">\n",
              "      <th></th>\n",
              "      <th>item_id</th>\n",
              "      <th>name</th>\n",
              "      <th>producer</th>\n",
              "      <th>country</th>\n",
              "      <th>region</th>\n",
              "      <th>vintage</th>\n",
              "      <th>kind</th>\n",
              "      <th>price_brl</th>\n",
              "      <th>price_usd</th>\n",
              "      <th>store</th>\n",
              "      <th>sales</th>\n",
              "      <th>revenue_usd</th>\n",
              "      <th>revenue_brl</th>\n",
              "      <th>year</th>\n",
              "      <th>month</th>\n",
              "      <th>day</th>\n",
              "      <th>day_of_week</th>\n",
              "      <th>day_name</th>\n",
              "      <th>weekend</th>\n",
              "    </tr>\n",
              "    <tr>\n",
              "      <th>date</th>\n",
              "      <th></th>\n",
              "      <th></th>\n",
              "      <th></th>\n",
              "      <th></th>\n",
              "      <th></th>\n",
              "      <th></th>\n",
              "      <th></th>\n",
              "      <th></th>\n",
              "      <th></th>\n",
              "      <th></th>\n",
              "      <th></th>\n",
              "      <th></th>\n",
              "      <th></th>\n",
              "      <th></th>\n",
              "      <th></th>\n",
              "      <th></th>\n",
              "      <th></th>\n",
              "      <th></th>\n",
              "      <th></th>\n",
              "    </tr>\n",
              "  </thead>\n",
              "  <tbody>\n",
              "    <tr>\n",
              "      <th>2016-01-01</th>\n",
              "      <td>45</td>\n",
              "      <td>Domaine Alain Chavy Puligny-Montrachet 1er Cru...</td>\n",
              "      <td>Domaine Alain Chavy</td>\n",
              "      <td>France</td>\n",
              "      <td>Burgundy</td>\n",
              "      <td>2018</td>\n",
              "      <td>white</td>\n",
              "      <td>949.2</td>\n",
              "      <td>164.22</td>\n",
              "      <td>3</td>\n",
              "      <td>64</td>\n",
              "      <td>10510.08</td>\n",
              "      <td>60748.8</td>\n",
              "      <td>2016</td>\n",
              "      <td>January</td>\n",
              "      <td>1</td>\n",
              "      <td>4</td>\n",
              "      <td>Friday</td>\n",
              "      <td>False</td>\n",
              "    </tr>\n",
              "    <tr>\n",
              "      <th>2016-01-01</th>\n",
              "      <td>32</td>\n",
              "      <td>La Chablisienne Chablis Grand Cru Grenouilles</td>\n",
              "      <td>La Chablisienne</td>\n",
              "      <td>France</td>\n",
              "      <td>Burgundy</td>\n",
              "      <td>2015</td>\n",
              "      <td>white</td>\n",
              "      <td>509.4</td>\n",
              "      <td>88.13</td>\n",
              "      <td>3</td>\n",
              "      <td>39</td>\n",
              "      <td>3437.07</td>\n",
              "      <td>19866.6</td>\n",
              "      <td>2016</td>\n",
              "      <td>January</td>\n",
              "      <td>1</td>\n",
              "      <td>4</td>\n",
              "      <td>Friday</td>\n",
              "      <td>False</td>\n",
              "    </tr>\n",
              "    <tr>\n",
              "      <th>2016-01-01</th>\n",
              "      <td>33</td>\n",
              "      <td>La Chablisienne Chablis Grand Cru Les Preuses</td>\n",
              "      <td>La Chablisienne</td>\n",
              "      <td>France</td>\n",
              "      <td>Burgundy</td>\n",
              "      <td>2003</td>\n",
              "      <td>white</td>\n",
              "      <td>549.6</td>\n",
              "      <td>95.09</td>\n",
              "      <td>1</td>\n",
              "      <td>39</td>\n",
              "      <td>3708.51</td>\n",
              "      <td>21434.4</td>\n",
              "      <td>2016</td>\n",
              "      <td>January</td>\n",
              "      <td>1</td>\n",
              "      <td>4</td>\n",
              "      <td>Friday</td>\n",
              "      <td>False</td>\n",
              "    </tr>\n",
              "    <tr>\n",
              "      <th>2016-01-01</th>\n",
              "      <td>33</td>\n",
              "      <td>La Chablisienne Chablis Grand Cru Les Preuses</td>\n",
              "      <td>La Chablisienne</td>\n",
              "      <td>France</td>\n",
              "      <td>Burgundy</td>\n",
              "      <td>2003</td>\n",
              "      <td>white</td>\n",
              "      <td>549.6</td>\n",
              "      <td>95.09</td>\n",
              "      <td>2</td>\n",
              "      <td>67</td>\n",
              "      <td>6371.03</td>\n",
              "      <td>36823.2</td>\n",
              "      <td>2016</td>\n",
              "      <td>January</td>\n",
              "      <td>1</td>\n",
              "      <td>4</td>\n",
              "      <td>Friday</td>\n",
              "      <td>False</td>\n",
              "    </tr>\n",
              "    <tr>\n",
              "      <th>2016-01-01</th>\n",
              "      <td>33</td>\n",
              "      <td>La Chablisienne Chablis Grand Cru Les Preuses</td>\n",
              "      <td>La Chablisienne</td>\n",
              "      <td>France</td>\n",
              "      <td>Burgundy</td>\n",
              "      <td>2003</td>\n",
              "      <td>white</td>\n",
              "      <td>549.6</td>\n",
              "      <td>95.09</td>\n",
              "      <td>3</td>\n",
              "      <td>54</td>\n",
              "      <td>5134.86</td>\n",
              "      <td>29678.4</td>\n",
              "      <td>2016</td>\n",
              "      <td>January</td>\n",
              "      <td>1</td>\n",
              "      <td>4</td>\n",
              "      <td>Friday</td>\n",
              "      <td>False</td>\n",
              "    </tr>\n",
              "  </tbody>\n",
              "</table>\n",
              "</div>"
            ],
            "text/plain": [
              "           item_id  ... weekend\n",
              "date                ...        \n",
              "2016-01-01      45  ...   False\n",
              "2016-01-01      32  ...   False\n",
              "2016-01-01      33  ...   False\n",
              "2016-01-01      33  ...   False\n",
              "2016-01-01      33  ...   False\n",
              "\n",
              "[5 rows x 19 columns]"
            ]
          },
          "metadata": {},
          "execution_count": 16
        }
      ]
    },
    {
      "cell_type": "markdown",
      "metadata": {
        "id": "N3VpH0-nopMc"
      },
      "source": [
        "ver os valores por ano"
      ]
    },
    {
      "cell_type": "code",
      "metadata": {
        "colab": {
          "base_uri": "https://localhost:8080/",
          "height": 441
        },
        "id": "5O6BEiSpoAXe",
        "outputId": "bbec0ad6-6939-4caf-9722-b99b2f0854c8"
      },
      "source": [
        "#criando o fig e o ax no matplotlib\n",
        "fig, ax  = plt.subplots(figsize=(8,6))\n",
        "\n",
        "#criando o gráfico de barras\n",
        "agrupamento_por_ano = df.groupby('year').sum()\n",
        "agrupamento_por_ano.plot(y='sales',\n",
        "                         ax=ax,\n",
        "                         kind='bar',\n",
        "                         legend=False,\n",
        "                         color='#241571',\n",
        "                         alpha=0.8)\n",
        "\n",
        "ajuste_layout(ax=ax,\n",
        "              titulo = 'Quantidade de Vinhos Vendidos por ano',\n",
        "              addlabels = True,\n",
        "              y = list(agrupamento_por_ano.sales),\n",
        "              distancia = 400000)\n",
        "\n",
        "#plotando o gráfico\n",
        "plt.tight_layout();"
      ],
      "execution_count": null,
      "outputs": [
        {
          "output_type": "display_data",
          "data": {
            "image/png": "[encoded data removed]",
            "text/plain": [
              "<Figure size 576x432 with 1 Axes>"
            ]
          },
          "metadata": {
            "needs_background": "dark"
          }
        }
      ]
    },
    {
      "cell_type": "markdown",
      "metadata": {
        "id": "qWSj4QHpq_aS"
      },
      "source": [
        "Pelo gráfico acima, notamos que o ano de **2016** tem quantidades muito **diferentes** dos demais anos. Por conta disso, é preciso **analisar** mais a fundo se isso não é um **erro** de *entrada* de dados ou se a empresa operou em apenas **alguns** dias de 2016."
      ]
    },
    {
      "cell_type": "code",
      "metadata": {
        "colab": {
          "base_uri": "https://localhost:8080/"
        },
        "id": "i-_oqNjAq-jD",
        "outputId": "c9ff462d-e99a-4b38-acad-2cbe3cbee296"
      },
      "source": [
        "#verificando quais datas aparecem de 2016\n",
        "apenas_dados_2016 = df[df.year == 2016]\n",
        "apenas_dados_2016.index"
      ],
      "execution_count": null,
      "outputs": [
        {
          "output_type": "execute_result",
          "data": {
            "text/plain": [
              "DatetimeIndex(['2016-01-01', '2016-01-01', '2016-01-01', '2016-01-01',\n",
              "               '2016-01-01', '2016-01-01', '2016-01-01', '2016-01-01',\n",
              "               '2016-01-01', '2016-01-01',\n",
              "               ...\n",
              "               '2016-01-01', '2016-01-01', '2016-01-01', '2016-01-01',\n",
              "               '2016-01-01', '2016-01-01', '2016-01-01', '2016-01-01',\n",
              "               '2016-01-01', '2016-01-01'],\n",
              "              dtype='datetime64[ns]', name='date', length=149, freq=None)"
            ]
          },
          "metadata": {},
          "execution_count": 18
        }
      ]
    },
    {
      "cell_type": "markdown",
      "metadata": {
        "id": "lUIPTcperad7"
      },
      "source": [
        "Após avaliarmos os **registros** do ano de 2016, notamos que todos eles são da **mesma** data. Portanto, estes dados **provavelmente** provém de algum tipo de erro e serão **retirados** de nossa base de dados. Além disso, é importante notar que **não** há dados de referentes ao ano de **2017**, então é possível que a empresa **começou** suas operações em 2018."
      ]
    },
    {
      "cell_type": "code",
      "metadata": {
        "colab": {
          "base_uri": "https://localhost:8080/"
        },
        "id": "Fb4iRaPkq-lp",
        "outputId": "943d033b-113d-42b8-b1a6-8b29439159d3"
      },
      "source": [
        "#retirando os dados de 2016\n",
        "df = df[df.year != 2016]\n",
        "\n",
        "#conferindo se foi retirado\n",
        "df.year.unique()"
      ],
      "execution_count": null,
      "outputs": [
        {
          "output_type": "execute_result",
          "data": {
            "text/plain": [
              "array([2018, 2019, 2020])"
            ]
          },
          "metadata": {},
          "execution_count": 19
        }
      ]
    },
    {
      "cell_type": "markdown",
      "metadata": {
        "id": "--ktAeIwC6rA"
      },
      "source": [
        "# Avaliando os outliers\n",
        "\n",
        "- falar do boxplot do revenue\n",
        "- falar do boxplot das quantidades\n",
        "- falar do método iqr"
      ]
    },
    {
      "cell_type": "code",
      "metadata": {
        "colab": {
          "base_uri": "https://localhost:8080/",
          "height": 566
        },
        "id": "yeRat8-vY9A1",
        "outputId": "67ac0855-0996-4acb-ae5f-50572d044f77"
      },
      "source": [
        "#criando o ax e o fig no matplotlib\n",
        "fig,ax = plt.subplots(figsize=(12,8),dpi=72,ncols=2)\n",
        "\n",
        "#criando o plot para receitas em dólar\n",
        "sns.boxplot(data=df,x='revenue_usd',palette='Purples',linewidth=0.35,ax=ax[0])\n",
        "ajuste_layout(ax=ax[0],\n",
        "              titulo='Receitas em dólar',\n",
        "              xlabel='revenue_usd')\n",
        "\n",
        "#criando o plot para o preço do vinho\n",
        "sns.boxplot(data=df,x='price_usd',palette='Purples',linewidth=0.35,ax=ax[1])\n",
        "ajuste_layout(ax=ax[1],\n",
        "              titulo='Preços dos vinhos em dólar',\n",
        "              xlabel='price_usd')\n",
        "\n",
        "#plotando o gráfico\n",
        "plt.tight_layout(pad=2.0);"
      ],
      "execution_count": null,
      "outputs": [
        {
          "output_type": "display_data",
          "data": {
            "image/png": "[encoded data removed]",
            "text/plain": [
              "<Figure size 864x576 with 2 Axes>"
            ]
          },
          "metadata": {
            "needs_background": "dark"
          }
        }
      ]
    },
    {
      "cell_type": "code",
      "metadata": {
        "colab": {
          "base_uri": "https://localhost:8080/"
        },
        "id": "ANWWUyHmY88b",
        "outputId": "bd856f8c-95f7-44e6-80d9-8b988388332a"
      },
      "source": [
        "#avaliando a porcentagem de outliers na receita em dólares\n",
        "IQR = df.revenue_usd.quantile(0.75) - df.revenue_usd.quantile(0.25)\n",
        "lim_sup = df.revenue_usd.quantile(0.75) + 1.5 * IQR\n",
        "lim_inf = df.revenue_usd.quantile(0.25) - 1.5 * IQR\n",
        "\n",
        "#Verificando porcentagem de valores que são outliers e sua receita\n",
        "outliers_base_dados = df[(df.revenue_usd < lim_inf) | (df.revenue_usd > lim_sup)]\n",
        "porcentagem_de_receita = outliers_base_dados.revenue_usd.sum()/df.revenue_usd.sum()\n",
        "outliers = (df[(df.revenue_usd < lim_inf) | (df.revenue_usd > lim_sup)].shape[0]) / df.shape[0]\n",
        "\n",
        "#Realizando o print dos resultados\n",
        "print('Porcentagem de outliers: {:.2f}%'.format(outliers*100))\n",
        "print('Os outliers são responsáveis por {:.2f}% da receita da empresa'.format(porcentagem_de_receita*100))"
      ],
      "execution_count": null,
      "outputs": [
        {
          "output_type": "stream",
          "name": "stdout",
          "text": [
            "Porcentagem de outliers: 11.17%\n",
            "Os outliers são responsáveis por 55.90% da receita da empresa\n"
          ]
        }
      ]
    },
    {
      "cell_type": "markdown",
      "metadata": {
        "id": "m_Qs4o2KK8G0"
      },
      "source": [
        "verificar a receita de cada ano"
      ]
    },
    {
      "cell_type": "code",
      "metadata": {
        "colab": {
          "base_uri": "https://localhost:8080/",
          "height": 174
        },
        "id": "ISrsZ8A7IHvw",
        "outputId": "d5b00109-df55-4798-a20e-93b003d8522c"
      },
      "source": [
        "#tabela com a receita de cada ano\n",
        "df.groupby(by='year')['revenue_usd'].sum().to_frame()"
      ],
      "execution_count": null,
      "outputs": [
        {
          "output_type": "execute_result",
          "data": {
            "text/html": [
              "<div>\n",
              "<style scoped>\n",
              "    .dataframe tbody tr th:only-of-type {\n",
              "        vertical-align: middle;\n",
              "    }\n",
              "\n",
              "    .dataframe tbody tr th {\n",
              "        vertical-align: top;\n",
              "    }\n",
              "\n",
              "    .dataframe thead th {\n",
              "        text-align: right;\n",
              "    }\n",
              "</style>\n",
              "<table border=\"1\" class=\"dataframe\">\n",
              "  <thead>\n",
              "    <tr style=\"text-align: right;\">\n",
              "      <th></th>\n",
              "      <th>revenue_usd</th>\n",
              "    </tr>\n",
              "    <tr>\n",
              "      <th>year</th>\n",
              "      <th></th>\n",
              "    </tr>\n",
              "  </thead>\n",
              "  <tbody>\n",
              "    <tr>\n",
              "      <th>2018</th>\n",
              "      <td>2.880908e+09</td>\n",
              "    </tr>\n",
              "    <tr>\n",
              "      <th>2019</th>\n",
              "      <td>2.911967e+09</td>\n",
              "    </tr>\n",
              "    <tr>\n",
              "      <th>2020</th>\n",
              "      <td>2.945613e+09</td>\n",
              "    </tr>\n",
              "  </tbody>\n",
              "</table>\n",
              "</div>"
            ],
            "text/plain": [
              "       revenue_usd\n",
              "year              \n",
              "2018  2.880908e+09\n",
              "2019  2.911967e+09\n",
              "2020  2.945613e+09"
            ]
          },
          "metadata": {},
          "execution_count": 22
        }
      ]
    },
    {
      "cell_type": "markdown",
      "metadata": {
        "id": "ASfPFH-LD3h8"
      },
      "source": [
        "vendas em um dia e boxplot"
      ]
    },
    {
      "cell_type": "code",
      "metadata": {
        "colab": {
          "base_uri": "https://localhost:8080/",
          "height": 454
        },
        "id": "yy2XiSudDRfQ",
        "outputId": "dee64617-aa56-4a2f-890a-8ed8c32e6e55"
      },
      "source": [
        "#avaliando a quantidade de vendas diária\n",
        "quantidade_de_vinhos_vendida_por_dia = df.groupby(by='date').sales.sum()\n",
        "quantidade_de_vinhos_vendida_por_dia.to_frame().head()"
      ],
      "execution_count": null,
      "outputs": [
        {
          "output_type": "execute_result",
          "data": {
            "text/html": [
              "<div>\n",
              "<style scoped>\n",
              "    .dataframe tbody tr th:only-of-type {\n",
              "        vertical-align: middle;\n",
              "    }\n",
              "\n",
              "    .dataframe tbody tr th {\n",
              "        vertical-align: top;\n",
              "    }\n",
              "\n",
              "    .dataframe thead th {\n",
              "        text-align: right;\n",
              "    }\n",
              "</style>\n",
              "<table border=\"1\" class=\"dataframe\">\n",
              "  <thead>\n",
              "    <tr style=\"text-align: right;\">\n",
              "      <th></th>\n",
              "      <th>sales</th>\n",
              "    </tr>\n",
              "    <tr>\n",
              "      <th>date</th>\n",
              "      <th></th>\n",
              "    </tr>\n",
              "  </thead>\n",
              "  <tbody>\n",
              "    <tr>\n",
              "      <th>2018-01-01</th>\n",
              "      <td>43432</td>\n",
              "    </tr>\n",
              "    <tr>\n",
              "      <th>2018-01-02</th>\n",
              "      <td>43181</td>\n",
              "    </tr>\n",
              "    <tr>\n",
              "      <th>2018-01-03</th>\n",
              "      <td>43298</td>\n",
              "    </tr>\n",
              "    <tr>\n",
              "      <th>2018-01-04</th>\n",
              "      <td>42216</td>\n",
              "    </tr>\n",
              "    <tr>\n",
              "      <th>2018-01-05</th>\n",
              "      <td>42001</td>\n",
              "    </tr>\n",
              "    <tr>\n",
              "      <th>...</th>\n",
              "      <td>...</td>\n",
              "    </tr>\n",
              "    <tr>\n",
              "      <th>2020-12-27</th>\n",
              "      <td>45931</td>\n",
              "    </tr>\n",
              "    <tr>\n",
              "      <th>2020-12-28</th>\n",
              "      <td>42754</td>\n",
              "    </tr>\n",
              "    <tr>\n",
              "      <th>2020-12-29</th>\n",
              "      <td>43804</td>\n",
              "    </tr>\n",
              "    <tr>\n",
              "      <th>2020-12-30</th>\n",
              "      <td>44546</td>\n",
              "    </tr>\n",
              "    <tr>\n",
              "      <th>2020-12-31</th>\n",
              "      <td>44592</td>\n",
              "    </tr>\n",
              "  </tbody>\n",
              "</table>\n",
              "<p>1096 rows × 1 columns</p>\n",
              "</div>"
            ],
            "text/plain": [
              "            sales\n",
              "date             \n",
              "2018-01-01  43432\n",
              "2018-01-02  43181\n",
              "2018-01-03  43298\n",
              "2018-01-04  42216\n",
              "2018-01-05  42001\n",
              "...           ...\n",
              "2020-12-27  45931\n",
              "2020-12-28  42754\n",
              "2020-12-29  43804\n",
              "2020-12-30  44546\n",
              "2020-12-31  44592\n",
              "\n",
              "[1096 rows x 1 columns]"
            ]
          },
          "metadata": {},
          "execution_count": 23
        }
      ]
    },
    {
      "cell_type": "code",
      "metadata": {
        "colab": {
          "base_uri": "https://localhost:8080/",
          "height": 300
        },
        "id": "9zVVWxTtDRgE",
        "outputId": "58b794b1-e084-4e70-cc96-4a189c304985"
      },
      "source": [
        "#principais métricas de quantidades vendidas em um único dia\n",
        "quantidade_de_vinhos_vendida_por_dia.describe().round(1).to_frame()"
      ],
      "execution_count": null,
      "outputs": [
        {
          "output_type": "execute_result",
          "data": {
            "text/html": [
              "<div>\n",
              "<style scoped>\n",
              "    .dataframe tbody tr th:only-of-type {\n",
              "        vertical-align: middle;\n",
              "    }\n",
              "\n",
              "    .dataframe tbody tr th {\n",
              "        vertical-align: top;\n",
              "    }\n",
              "\n",
              "    .dataframe thead th {\n",
              "        text-align: right;\n",
              "    }\n",
              "</style>\n",
              "<table border=\"1\" class=\"dataframe\">\n",
              "  <thead>\n",
              "    <tr style=\"text-align: right;\">\n",
              "      <th></th>\n",
              "      <th>sales</th>\n",
              "    </tr>\n",
              "  </thead>\n",
              "  <tbody>\n",
              "    <tr>\n",
              "      <th>count</th>\n",
              "      <td>1096.0</td>\n",
              "    </tr>\n",
              "    <tr>\n",
              "      <th>mean</th>\n",
              "      <td>46370.2</td>\n",
              "    </tr>\n",
              "    <tr>\n",
              "      <th>std</th>\n",
              "      <td>2136.4</td>\n",
              "    </tr>\n",
              "    <tr>\n",
              "      <th>min</th>\n",
              "      <td>38322.0</td>\n",
              "    </tr>\n",
              "    <tr>\n",
              "      <th>25%</th>\n",
              "      <td>44833.8</td>\n",
              "    </tr>\n",
              "    <tr>\n",
              "      <th>50%</th>\n",
              "      <td>46327.0</td>\n",
              "    </tr>\n",
              "    <tr>\n",
              "      <th>75%</th>\n",
              "      <td>47699.5</td>\n",
              "    </tr>\n",
              "    <tr>\n",
              "      <th>max</th>\n",
              "      <td>52901.0</td>\n",
              "    </tr>\n",
              "  </tbody>\n",
              "</table>\n",
              "</div>"
            ],
            "text/plain": [
              "         sales\n",
              "count   1096.0\n",
              "mean   46370.2\n",
              "std     2136.4\n",
              "min    38322.0\n",
              "25%    44833.8\n",
              "50%    46327.0\n",
              "75%    47699.5\n",
              "max    52901.0"
            ]
          },
          "metadata": {},
          "execution_count": 24
        }
      ]
    },
    {
      "cell_type": "markdown",
      "metadata": {
        "id": "4bZUCWG_LJNS"
      },
      "source": [
        "CONCLUSÃO SOBRE ESTA QUANTIDADE DE OUTLIERS"
      ]
    },
    {
      "cell_type": "markdown",
      "metadata": {
        "id": "Xj3hHsKD_Xvj"
      },
      "source": [
        "# Análise Exploratória dos Dados\n",
        "\n",
        "texto texto"
      ]
    },
    {
      "cell_type": "markdown",
      "metadata": {
        "id": "jHBkx7puG1hY"
      },
      "source": [
        "falar das estatísticas descritivas, falar que é de uma única venda"
      ]
    },
    {
      "cell_type": "code",
      "metadata": {
        "id": "_ocBuLWbKPmr",
        "colab": {
          "base_uri": "https://localhost:8080/",
          "height": 300
        },
        "outputId": "0ec951cb-7b1f-4f26-b412-f40df240a435"
      },
      "source": [
        "df[['price_brl','price_usd','sales','revenue_usd','revenue_brl']].describe().round(1)"
      ],
      "execution_count": null,
      "outputs": [
        {
          "output_type": "execute_result",
          "data": {
            "text/html": [
              "<div>\n",
              "<style scoped>\n",
              "    .dataframe tbody tr th:only-of-type {\n",
              "        vertical-align: middle;\n",
              "    }\n",
              "\n",
              "    .dataframe tbody tr th {\n",
              "        vertical-align: top;\n",
              "    }\n",
              "\n",
              "    .dataframe thead th {\n",
              "        text-align: right;\n",
              "    }\n",
              "</style>\n",
              "<table border=\"1\" class=\"dataframe\">\n",
              "  <thead>\n",
              "    <tr style=\"text-align: right;\">\n",
              "      <th></th>\n",
              "      <th>price_brl</th>\n",
              "      <th>price_usd</th>\n",
              "      <th>sales</th>\n",
              "      <th>revenue_usd</th>\n",
              "      <th>revenue_brl</th>\n",
              "    </tr>\n",
              "  </thead>\n",
              "  <tbody>\n",
              "    <tr>\n",
              "      <th>count</th>\n",
              "      <td>719922.0</td>\n",
              "      <td>719922.0</td>\n",
              "      <td>719922.0</td>\n",
              "      <td>719922.0</td>\n",
              "      <td>719922.0</td>\n",
              "    </tr>\n",
              "    <tr>\n",
              "      <th>mean</th>\n",
              "      <td>967.7</td>\n",
              "      <td>167.4</td>\n",
              "      <td>70.6</td>\n",
              "      <td>12138.1</td>\n",
              "      <td>70158.3</td>\n",
              "    </tr>\n",
              "    <tr>\n",
              "      <th>std</th>\n",
              "      <td>1406.5</td>\n",
              "      <td>243.3</td>\n",
              "      <td>41.4</td>\n",
              "      <td>22349.8</td>\n",
              "      <td>129181.7</td>\n",
              "    </tr>\n",
              "    <tr>\n",
              "      <th>min</th>\n",
              "      <td>52.8</td>\n",
              "      <td>9.1</td>\n",
              "      <td>1.0</td>\n",
              "      <td>9.1</td>\n",
              "      <td>52.8</td>\n",
              "    </tr>\n",
              "    <tr>\n",
              "      <th>25%</th>\n",
              "      <td>259.2</td>\n",
              "      <td>44.8</td>\n",
              "      <td>35.0</td>\n",
              "      <td>2253.8</td>\n",
              "      <td>13028.4</td>\n",
              "    </tr>\n",
              "    <tr>\n",
              "      <th>50%</th>\n",
              "      <td>509.4</td>\n",
              "      <td>88.1</td>\n",
              "      <td>67.0</td>\n",
              "      <td>5051.3</td>\n",
              "      <td>29198.4</td>\n",
              "    </tr>\n",
              "    <tr>\n",
              "      <th>75%</th>\n",
              "      <td>949.2</td>\n",
              "      <td>164.2</td>\n",
              "      <td>104.0</td>\n",
              "      <td>11428.3</td>\n",
              "      <td>66056.4</td>\n",
              "    </tr>\n",
              "    <tr>\n",
              "      <th>max</th>\n",
              "      <td>10992.0</td>\n",
              "      <td>1901.7</td>\n",
              "      <td>196.0</td>\n",
              "      <td>285259.5</td>\n",
              "      <td>1648800.0</td>\n",
              "    </tr>\n",
              "  </tbody>\n",
              "</table>\n",
              "</div>"
            ],
            "text/plain": [
              "       price_brl  price_usd     sales  revenue_usd  revenue_brl\n",
              "count   719922.0   719922.0  719922.0     719922.0     719922.0\n",
              "mean       967.7      167.4      70.6      12138.1      70158.3\n",
              "std       1406.5      243.3      41.4      22349.8     129181.7\n",
              "min         52.8        9.1       1.0          9.1         52.8\n",
              "25%        259.2       44.8      35.0       2253.8      13028.4\n",
              "50%        509.4       88.1      67.0       5051.3      29198.4\n",
              "75%        949.2      164.2     104.0      11428.3      66056.4\n",
              "max      10992.0     1901.7     196.0     285259.5    1648800.0"
            ]
          },
          "metadata": {},
          "execution_count": 25
        }
      ]
    },
    {
      "cell_type": "markdown",
      "metadata": {
        "id": "TEz6hR5iWb8S"
      },
      "source": [
        "ver histogramas dos preços e vendas, colocar tons de azul diferentes, mudar o eixo y"
      ]
    },
    {
      "cell_type": "code",
      "metadata": {
        "colab": {
          "base_uri": "https://localhost:8080/",
          "height": 423
        },
        "id": "THpHKc8gWfOZ",
        "outputId": "56540449-97da-4711-a02a-6b18ded0f71b"
      },
      "source": [
        "#criando a fig e ax no matplotlib\n",
        "fig, ax = plt.subplots(figsize=(14,6), ncols=2)\n",
        "\n",
        "#criação do primeiro histograma\n",
        "df.price_usd.hist(ax=ax[0],xlabelsize=10,ylabelsize=10,bins=20,color='#3944bc',alpha=0.5)\n",
        "ajuste_layout(ax=ax[0],\n",
        "              titulo='Distribuição dos preços dos vinhos em dólar',\n",
        "              grid=True,grid_lw=0.4)\n",
        "\n",
        "#criação do segundo histograma\n",
        "df.sales.hist(ax=ax[1],xlabelsize=10,ylabelsize=10,bins=20,color='#0a1172',alpha=0.7)\n",
        "ajuste_layout(ax=ax[1],\n",
        "              titulo='Distribuição das quantidades vendidas',\n",
        "              grid=True,grid_lw=0.14)\n",
        "\n",
        "#plotando os gráficos\n",
        "plt.tight_layout(pad=2.0)"
      ],
      "execution_count": null,
      "outputs": [
        {
          "output_type": "display_data",
          "data": {
            "image/png": "[encoded data removed]",
            "text/plain": [
              "<Figure size 1008x432 with 2 Axes>"
            ]
          },
          "metadata": {
            "needs_background": "dark"
          }
        }
      ]
    },
    {
      "cell_type": "markdown",
      "metadata": {
        "id": "Be56oGUfXMEM"
      },
      "source": [
        "fazer um boxplot apenas das lojas, vendas e dinheiro"
      ]
    },
    {
      "cell_type": "code",
      "metadata": {
        "id": "UL7oPjeYWfQg",
        "colab": {
          "base_uri": "https://localhost:8080/",
          "height": 423
        },
        "outputId": "04fb132f-c56a-4140-846d-45db8641ffaa"
      },
      "source": [
        "#criando a fig e ax no matplotlib\n",
        "fig, ax = plt.subplots(figsize=(14,6), ncols=2)\n",
        "\n",
        "#criando o primeiro gráfico\n",
        "sns.boxplot(data=df,x='store',y='sales',ax=ax[0],palette='Blues',linewidth=0.35)\n",
        "ajuste_layout(ax=ax[0])\n",
        "\n",
        "#criando o segundo gráfico\n",
        "sns.boxplot(data=df,x='store',y='price_usd',ax=ax[1],palette='Purples',linewidth=0.35)\n",
        "ajuste_layout(ax=ax[1])\n",
        "\n",
        "#plotando os gráficos\n",
        "plt.tight_layout(pad=2.0)"
      ],
      "execution_count": null,
      "outputs": [
        {
          "output_type": "display_data",
          "data": {
            "image/png": "[encoded data removed]",
            "text/plain": [
              "<Figure size 1008x432 with 2 Axes>"
            ]
          },
          "metadata": {
            "needs_background": "dark"
          }
        }
      ]
    },
    {
      "cell_type": "markdown",
      "metadata": {
        "id": "5aCDs6qBGQVG"
      },
      "source": [
        "fazer um boxplot geral, vendas e dinheiro em dólar, colocar titulo"
      ]
    },
    {
      "cell_type": "code",
      "metadata": {
        "id": "22i9-A3QXOP6",
        "colab": {
          "base_uri": "https://localhost:8080/",
          "height": 423
        },
        "outputId": "1bbd7d4c-faf4-430d-ba0c-821da351ed22"
      },
      "source": [
        "#criando a fig e ax no matplotlib\n",
        "fig, ax = plt.subplots(figsize=(14,6), ncols=2)\n",
        "\n",
        "#criando o primeiro gráfico\n",
        "sns.boxplot(data=df,y='sales',ax=ax[0],palette='Blues',linewidth=0.35)\n",
        "ajuste_layout(ax=ax[0])\n",
        "\n",
        "#criando o segundo gráfico\n",
        "sns.boxplot(data=df,y='price_usd',ax=ax[1],palette='Purples',linewidth=0.35)\n",
        "ajuste_layout(ax=ax[1])\n",
        "\n",
        "#plotando os gráficos\n",
        "plt.tight_layout(pad=2.0)"
      ],
      "execution_count": null,
      "outputs": [
        {
          "output_type": "display_data",
          "data": {
            "image/png": "[encoded data removed]",
            "text/plain": [
              "<Figure size 1008x432 with 2 Axes>"
            ]
          },
          "metadata": {
            "needs_background": "dark"
          }
        }
      ]
    },
    {
      "cell_type": "markdown",
      "metadata": {
        "id": "8mHKGssNaOM-"
      },
      "source": [
        "vinho mais caro"
      ]
    },
    {
      "cell_type": "code",
      "metadata": {
        "colab": {
          "base_uri": "https://localhost:8080/"
        },
        "id": "7n1ZmFZ9Iblv",
        "outputId": "2e986b17-5144-47a5-d7de-90091c7fb5d0"
      },
      "source": [
        "#avaliando o preço do vinho mais caro\n",
        "print('O vinho mais caro do catálogo é o {} que custa cerca USD {:,}\\n'.format(df[df.price_usd == df.price_usd.max()].name[0],\n",
        "                                                                             df.price_usd.max()))\n",
        "\n",
        "#avaliando o preço do vinho mais barato\n",
        "print('O vinho mais barato do catálogo é o {} que custa cerca USD {:,}'.format(df[df.price_usd == df.price_usd.min()].name[0],\n",
        "                                                                             df.price_usd.min()))"
      ],
      "execution_count": null,
      "outputs": [
        {
          "output_type": "stream",
          "name": "stdout",
          "text": [
            "O vinho mais caro do catálogo é o Domaine Ponsot Clos de La Roche Grand Cru Cuvee Vieilles Vignes - Magnum que custa cerca USD 1,901.73\n",
            "\n",
            "O vinho mais barato do catálogo é o Cava Juvé & Camps Cinta Purpura Reserva Brut - 375ml (Half Bottle) que custa cerca USD 9.13\n"
          ]
        }
      ]
    },
    {
      "cell_type": "markdown",
      "metadata": {
        "id": "q39ebR9jPRIu"
      },
      "source": [
        "preço do vinho e quantidade vendida em scatterplot"
      ]
    },
    {
      "cell_type": "code",
      "metadata": {
        "id": "J5AWkUCEXrVR"
      },
      "source": [
        ""
      ],
      "execution_count": null,
      "outputs": []
    },
    {
      "cell_type": "code",
      "metadata": {
        "id": "x6S5VMctsoUg"
      },
      "source": [
        ""
      ],
      "execution_count": null,
      "outputs": []
    },
    {
      "cell_type": "code",
      "metadata": {
        "id": "zuNQawFYsoW1"
      },
      "source": [
        ""
      ],
      "execution_count": null,
      "outputs": []
    },
    {
      "cell_type": "code",
      "metadata": {
        "id": "yUJ8Je0Zsocb"
      },
      "source": [
        ""
      ],
      "execution_count": null,
      "outputs": []
    },
    {
      "cell_type": "code",
      "metadata": {
        "id": "V9tFV8q_XrXY"
      },
      "source": [
        ""
      ],
      "execution_count": null,
      "outputs": []
    },
    {
      "cell_type": "markdown",
      "metadata": {
        "id": "ZdIYIMC4a40y"
      },
      "source": [
        "#Séries Temporais\n",
        "\n",
        "[link](https://www.inf.ufsc.br/~marcelo.menezes.reis/Cap4.pdf)\n",
        "\n",
        "diferenças entre regressão e série temporal"
      ]
    },
    {
      "cell_type": "code",
      "metadata": {
        "colab": {
          "base_uri": "https://localhost:8080/"
        },
        "id": "cSYIGjuZuM3F",
        "outputId": "c4b63c35-2d7e-4ee8-e482-ca009741ef23"
      },
      "source": [
        "#verificando as datas iniciais e finais\n",
        "print('Data inicial do dataset: ',df.index.min())\n",
        "print('Data final do dataset: ',df.index.max())"
      ],
      "execution_count": null,
      "outputs": [
        {
          "output_type": "stream",
          "name": "stdout",
          "text": [
            "Data inicial do dataset:  2018-01-01 00:00:00\n",
            "Data final do dataset:  2020-12-31 00:00:00\n"
          ]
        }
      ]
    },
    {
      "cell_type": "code",
      "metadata": {
        "colab": {
          "base_uri": "https://localhost:8080/",
          "height": 526
        },
        "id": "raPXBf92sT5i",
        "outputId": "629f9869-e6ea-4f40-bf72-38a93d4dd4a5"
      },
      "source": [
        "#criando o fig e o ax no matplotlib\n",
        "gridsize=(3,2)\n",
        "fig=plt.figure(figsize=(12,8))\n",
        "\n",
        "#o ax1 irá ocupar o equivalente a 2 colunas e 2 linhas\n",
        "ax1 = plt.subplot2grid(gridsize, (0, 0), colspan=2, rowspan=2)\n",
        "ax2 = plt.subplot2grid(gridsize, (2, 0))\n",
        "ax3 = plt.subplot2grid(gridsize, (2, 1))\n",
        "\n",
        "#criando o gráfico da time series diário\n",
        "\n",
        "df.sales.resample('D').sum().plot(ax=ax1)\n",
        "ajuste_layout(ax=ax1,\n",
        "              titulo='Série Temporal de vendas diárias',location='center',\n",
        "              grid=True,grid_lw=0.45,grid_style='-.')\n",
        "\n",
        "#criando o gráfico da time series mensal\n",
        "df.sales.resample('M').sum().plot(ax=ax2)\n",
        "ajuste_layout(ax=ax2,\n",
        "              titulo='Série Temporal de vendas mensais',location='center',\n",
        "              grid=True,grid_lw=0.45,grid_style='-.')\n",
        "\n",
        "#criando o gráfico da time series anual\n",
        "df.sales.resample('Y').sum().plot(ax=ax3)\n",
        "ajuste_layout(ax=ax3,\n",
        "              titulo='Série Temporal de vendas anuais',location='center',\n",
        "              grid=True,grid_lw=0.45,grid_style='-.')\n",
        "\n",
        "#plotando os gráficos\n",
        "plt.tight_layout(pad=4.0)"
      ],
      "execution_count": null,
      "outputs": [
        {
          "output_type": "display_data",
          "data": {
            "image/png": "[encoded data removed]",
            "text/plain": [
              "<Figure size 864x576 with 3 Axes>"
            ]
          },
          "metadata": {
            "needs_background": "dark"
          }
        }
      ]
    },
    {
      "cell_type": "markdown",
      "metadata": {
        "id": "_Q9tvLEuB5ml"
      },
      "source": [
        "falar de separar em componentes"
      ]
    },
    {
      "cell_type": "code",
      "metadata": {
        "id": "JoNgcA-qa7ec",
        "colab": {
          "base_uri": "https://localhost:8080/",
          "height": 526
        },
        "outputId": "eb5fd856-c3c2-4dd9-803f-b3f7deaf075f"
      },
      "source": [
        "#criando o fig e o ax no matplotlib\n",
        "gridsize=(3,3)\n",
        "fig=plt.figure(figsize=(14,8))\n",
        "\n",
        "#decompondo os componentes da série temporal\n",
        "agregando_valores_mensais = df.sales.resample('M').sum().to_frame()\n",
        "result = seasonal_decompose(agregando_valores_mensais.sales)\n",
        "\n",
        "#o ax1 irá ocupar o equivalente a 2 colunas e 2 linhas\n",
        "ax1 = plt.subplot2grid(gridsize, (0, 0), colspan=3, rowspan=2)\n",
        "ax2 = plt.subplot2grid(gridsize, (2, 0))\n",
        "ax3 = plt.subplot2grid(gridsize, (2, 1))\n",
        "ax4 = plt.subplot2grid(gridsize, (2, 2))\n",
        "\n",
        "#construindo o primeiro gráfico\n",
        "result.observed.plot(ax=ax1)\n",
        "ajuste_layout(ax=ax1,location='center',\n",
        "              titulo='Série Temporal de vendas mensais',\n",
        "              grid=True,grid_lw=0.6,grid_style=':')\n",
        "\n",
        "#construindo o segundo gráfico\n",
        "result.trend.plot(ax=ax2)\n",
        "ajuste_layout(ax=ax2,location='center',\n",
        "              titulo='Tendência')\n",
        "\n",
        "#construindo o terceiro gráfico\n",
        "result.seasonal.plot(ax=ax3)\n",
        "ajuste_layout(ax=ax3)\n",
        "\n",
        "#construindo o quarto gráfico\n",
        "result.resid.plot(ax=ax4)\n",
        "ajuste_layout(ax=ax4)\n",
        "\n",
        "#plotando os gráficos\n",
        "plt.tight_layout(pad=4.0);"
      ],
      "execution_count": 237,
      "outputs": [
        {
          "output_type": "display_data",
          "data": {
            "image/png": "[encoded data removed]",
            "text/plain": [
              "<Figure size 1008x576 with 4 Axes>"
            ]
          },
          "metadata": {
            "needs_background": "dark"
          }
        }
      ]
    },
    {
      "cell_type": "markdown",
      "metadata": {
        "id": "aYgZT3zbg714"
      },
      "source": [
        "**Hipóteses**:\n",
        "\n",
        "* x\n",
        "* x\n",
        "* x"
      ]
    },
    {
      "cell_type": "markdown",
      "metadata": {
        "id": "lNmXOdRlg70o"
      },
      "source": [
        "### Verificando se a série é estacionária\n",
        "\n",
        "falar do ADF e explicar as métricas, explicar h0, falar de p-valor"
      ]
    },
    {
      "cell_type": "code",
      "metadata": {
        "id": "FTIN2TRUa7hZ",
        "colab": {
          "base_uri": "https://localhost:8080/"
        },
        "outputId": "33ee7974-2fe9-4853-fd24-4db4ba78fd64"
      },
      "source": [
        "#extrarir somente os valores\n",
        "x = agregando_valores_mensais\n",
        "\n",
        "#aplicar ADF e imprimir os resultados\n",
        "result = adfuller(x.sales)\n",
        "print('Teste Dickey–Fuller Aumentado:')\n",
        "print('Teste estatístico: ','{:.2f}'.format(result[0]))\n",
        "print('P-valor: ','{:.5f}'.format(result[1]))\n",
        "print('Valores Críticos:')\n",
        "for key, value in result[4].items():\n",
        "\tprint('\\t{}: {:.2f}'.format(key, value));"
      ],
      "execution_count": null,
      "outputs": [
        {
          "output_type": "stream",
          "name": "stdout",
          "text": [
            "Teste Dickey–Fuller Aumentado:\n",
            "Teste estatístico:  -3.80\n",
            "P-valor:  0.00293\n",
            "Valores Críticos:\n",
            "\t1%: -3.67\n",
            "\t5%: -2.96\n",
            "\t10%: -2.62\n"
          ]
        }
      ]
    },
    {
      "cell_type": "markdown",
      "metadata": {
        "id": "QMEwpiW1gPw9"
      },
      "source": [
        "texto falando sobre testes tradicionais utilizando nas previsões  e machine learning"
      ]
    },
    {
      "cell_type": "code",
      "metadata": {
        "id": "dEX9Vr3pp4UC",
        "colab": {
          "base_uri": "https://localhost:8080/"
        },
        "outputId": "2a575fd9-3128-4cdb-8fd0-710093080198"
      },
      "source": [
        "# definindo o tamanho da previsão para os três meses seguintes\n",
        "prediction_size = 3\n",
        "train = agregando_valores_mensais[:-prediction_size]\n",
        "validation = agregando_valores_mensais[-prediction_size:]\n",
        "\n",
        "\n",
        "#verificando a quantidade de valores\n",
        "print('Treino:',train.shape[0],'registros')\n",
        "print('Validação:',validation.shape[0],'registros')"
      ],
      "execution_count": null,
      "outputs": [
        {
          "output_type": "stream",
          "name": "stdout",
          "text": [
            "Treino: 33 registros\n",
            "Validação: 3 registros\n"
          ]
        }
      ]
    },
    {
      "cell_type": "markdown",
      "metadata": {
        "id": "h_Dk6wHSf0le"
      },
      "source": [
        "# ARIMA\n",
        "\n",
        "falar do arima, suas componentes e que é um modelo tradicional\n",
        "\n",
        "[arima](https://www.machinelearningplus.com/time-series/arima-model-time-series-forecasting-python/)\n",
        "\n",
        "\n",
        "[youtube](https://www.youtube.com/watch?v=v7rZpT8NCbk&t=10s)"
      ]
    },
    {
      "cell_type": "code",
      "metadata": {
        "id": "Ek_mgT5df9ws"
      },
      "source": [
        "#utilizar o auto_arima para obter os melhores parâmetros"
      ],
      "execution_count": null,
      "outputs": []
    },
    {
      "cell_type": "code",
      "metadata": {
        "id": "Om_QvaOuf9xl"
      },
      "source": [
        "#fazer o fit do modelo"
      ],
      "execution_count": null,
      "outputs": []
    },
    {
      "cell_type": "markdown",
      "metadata": {
        "id": "ilhgAX74gBcc"
      },
      "source": [
        "#XGBoost\n",
        "\n",
        "texto explicando e  como é possível usar\n",
        "\n",
        "[link](https://machinelearningmastery.com/xgboost-for-time-series-forecasting/)"
      ]
    },
    {
      "cell_type": "code",
      "metadata": {
        "id": "IdMzh2cFgFab"
      },
      "source": [
        ""
      ],
      "execution_count": null,
      "outputs": []
    },
    {
      "cell_type": "code",
      "metadata": {
        "id": "A2sIqj0tgFcu"
      },
      "source": [
        ""
      ],
      "execution_count": null,
      "outputs": []
    },
    {
      "cell_type": "markdown",
      "metadata": {
        "id": "Fu2fHbkXKr86"
      },
      "source": [
        "#Prophet\n",
        "\n",
        "Os desenvolvedores do **Facebook** perceberam que as técnicas **tradicionais** para realizar *forecasting* eram muito **inflexíveis** e incapazes de incorporar as nuances de cada **negócio**. Além disso, também observaram que era muito **raro** encontrar profissionais **qualificados** que tivessem a capacidade de fazer uma **boa** previsão.\n",
        "\n",
        "Por conta disso, eles construiram uma **ferramenta** open-source, o [Prophet](https://facebook.github.io/prophet/). Naturalmente, o `Prophet` foi criado baseado na **experiência** do dia-a-dia que os desenvolvedores do *Facebook* enfrentavam.Ou seja, é previsor que considera a existência de **feriados**, observações **ausentes**, uma grande quantidade de **outliers**,etc.\n",
        "\n",
        "Basicamente o `Prophet` utiliza um [modelo aditivo](http://www.producao.ufrgs.br/arquivos/disciplinas/119_teq6_st_decomposicao.pdf) que avalia a **tendência** (por métodos lineares ou regressão logística), a sazonalidade das **semanas** por [Séries de Fourier](https://www.ime.unicamp.br/sites/default/files/lem/material/series-de-fourier.pdf) e uma sazonalidade **semanal** por variáveis [dummy](https://en.wikipedia.org/wiki/Dummy_variable_(statistics)).\n",
        "\n",
        "Caso tenha mais **interesse** de avaliar como funciona o `Prophet` mais internamente, dê uma lida no [paper](https://peerj.com/preprints/3190.pdf) escrito por seus **desenvolvedores**.\n"
      ]
    },
    {
      "cell_type": "code",
      "metadata": {
        "id": "2dvExeXYKuzP",
        "colab": {
          "base_uri": "https://localhost:8080/",
          "height": 206
        },
        "outputId": "59086da2-388b-4d50-cb0a-f6fb22193ea7"
      },
      "source": [
        "#ajustando a base de dados para utilizar no prophet\n",
        "train_prophet = train.reset_index()\n",
        "\n",
        "#renomeando o nome das colunas\n",
        "train_prophet.columns = ['ds','y']\n",
        "\n",
        "#visualizando as 5 últimas entradas\n",
        "train_prophet.tail()"
      ],
      "execution_count": null,
      "outputs": [
        {
          "output_type": "execute_result",
          "data": {
            "text/html": [
              "<div>\n",
              "<style scoped>\n",
              "    .dataframe tbody tr th:only-of-type {\n",
              "        vertical-align: middle;\n",
              "    }\n",
              "\n",
              "    .dataframe tbody tr th {\n",
              "        vertical-align: top;\n",
              "    }\n",
              "\n",
              "    .dataframe thead th {\n",
              "        text-align: right;\n",
              "    }\n",
              "</style>\n",
              "<table border=\"1\" class=\"dataframe\">\n",
              "  <thead>\n",
              "    <tr style=\"text-align: right;\">\n",
              "      <th></th>\n",
              "      <th>ds</th>\n",
              "      <th>y</th>\n",
              "    </tr>\n",
              "  </thead>\n",
              "  <tbody>\n",
              "    <tr>\n",
              "      <th>28</th>\n",
              "      <td>2020-05-31</td>\n",
              "      <td>1487594</td>\n",
              "    </tr>\n",
              "    <tr>\n",
              "      <th>29</th>\n",
              "      <td>2020-06-30</td>\n",
              "      <td>1460294</td>\n",
              "    </tr>\n",
              "    <tr>\n",
              "      <th>30</th>\n",
              "      <td>2020-07-31</td>\n",
              "      <td>1536899</td>\n",
              "    </tr>\n",
              "    <tr>\n",
              "      <th>31</th>\n",
              "      <td>2020-08-31</td>\n",
              "      <td>1499467</td>\n",
              "    </tr>\n",
              "    <tr>\n",
              "      <th>32</th>\n",
              "      <td>2020-09-30</td>\n",
              "      <td>1416026</td>\n",
              "    </tr>\n",
              "  </tbody>\n",
              "</table>\n",
              "</div>"
            ],
            "text/plain": [
              "           ds        y\n",
              "28 2020-05-31  1487594\n",
              "29 2020-06-30  1460294\n",
              "30 2020-07-31  1536899\n",
              "31 2020-08-31  1499467\n",
              "32 2020-09-30  1416026"
            ]
          },
          "metadata": {},
          "execution_count": 199
        }
      ]
    },
    {
      "cell_type": "code",
      "metadata": {
        "id": "StmDOGRVxWYX",
        "colab": {
          "base_uri": "https://localhost:8080/"
        },
        "outputId": "aa61a325-5b15-4648-d89e-c10d9a8da2d2"
      },
      "source": [
        "#instanciando o prophet\n",
        "model_prophet = Prophet()\n",
        "\n",
        "#realizando o fit do prophet\n",
        "model_prophet.fit(train_prophet)\n",
        "\n",
        "#determinar o periodo para previsão\n",
        "future = model_prophet.make_future_dataframe(periods=prediction_size,freq='M')"
      ],
      "execution_count": null,
      "outputs": [
        {
          "output_type": "stream",
          "name": "stderr",
          "text": [
            "INFO:fbprophet:Disabling weekly seasonality. Run prophet with weekly_seasonality=True to override this.\n",
            "INFO:fbprophet:Disabling daily seasonality. Run prophet with daily_seasonality=True to override this.\n"
          ]
        }
      ]
    },
    {
      "cell_type": "markdown",
      "metadata": {
        "id": "dqus0KmROKlJ"
      },
      "source": [
        "# Realizando as Previsões\n",
        "\n",
        "Para calcular os **erros** de nossos modelos usaremos um *módulo* do scikit-learn, o [Mean Squared Error](https://scikit-learn.org/stable/modules/generated/sklearn.metrics.mean_squared_error.html). Setaremos o **parâmetro** `squared` como *False* para calcular a **raiz quadrada** deste valor e **conseguir** comparar com valores que foram *estimados*.\n",
        "\n",
        "Foi optado esta **métrica** porque queremos **reduzir** ao máximo a *diferença* entre os valores previstos e reais. Além disso, pretendemos utilizar o modelo que *menos* proporciona **outliers**, uma vez que **errar** demasiadamente o valor esperado pode gerar **custos** onerosos para a empresa de vinhos analisada.\n",
        "\n",
        "A imagem abaixo ilustra o cálculo da métrica utilizada, o [RMSE (Root Mean Squared Error)](https://www.statisticshowto.com/probability-and-statistics/regression-analysis/rmse-root-mean-square-error/).\n",
        "\n",
        "<p align='center'>\n",
        "<img src=\"https://miro.medium.com/max/966/1*lqDsPkfXPGen32Uem1PTNg.png\" width=\"30%\">\n",
        "</p>"
      ]
    },
    {
      "cell_type": "code",
      "metadata": {
        "id": "zxgqKjcqgmqL"
      },
      "source": [
        "#função para printar o erro\n",
        "def printando_o_erro(y_true,y_pred,previsor):\n",
        "  error = mse(y_true=y_true,y_pred=y_pred,squared=False)\n",
        "  print('A raiz do erro-médio quadrado utilizando o modelo {} é de {:.2f}'.format(previsor,error))"
      ],
      "execution_count": null,
      "outputs": []
    },
    {
      "cell_type": "markdown",
      "metadata": {
        "id": "dmOLdNEJgXHW"
      },
      "source": [
        "Fazendo as *previsões* do **ARIMA** e avaliando o *modelo*."
      ]
    },
    {
      "cell_type": "code",
      "metadata": {
        "id": "5zYjE6tMOMHI"
      },
      "source": [
        "# fazer a previsao com arima e plot"
      ],
      "execution_count": null,
      "outputs": []
    },
    {
      "cell_type": "code",
      "metadata": {
        "id": "HuENhJo_geE2"
      },
      "source": [
        "#calcular o erro\n",
        "#printando_o_erro(y_true=validation.sales,y_pred=.yhat,previsor='ARIMA')"
      ],
      "execution_count": null,
      "outputs": []
    },
    {
      "cell_type": "markdown",
      "metadata": {
        "id": "qIyDXNCDgfW7"
      },
      "source": [
        "Fazendo as *previsões* do **XGBoost** e avaliando o *modelo*."
      ]
    },
    {
      "cell_type": "code",
      "metadata": {
        "id": "Pum6VHQKgf5R"
      },
      "source": [
        "# fazer a previsao com xgb e plot"
      ],
      "execution_count": null,
      "outputs": []
    },
    {
      "cell_type": "code",
      "metadata": {
        "id": "wJU-v1Ckgg_U"
      },
      "source": [
        "#calcular o erro\n",
        "#printando_o_erro(y_true=validation.sales,y_pred=.yhat,previsor='XGBoost')"
      ],
      "execution_count": null,
      "outputs": []
    },
    {
      "cell_type": "markdown",
      "metadata": {
        "id": "TcrT7U8Ogpgz"
      },
      "source": [
        "Fazendo as *previsões* do **Prophet** e avaliando o *modelo*."
      ]
    },
    {
      "cell_type": "code",
      "metadata": {
        "id": "K1qiSq2siIF8",
        "colab": {
          "base_uri": "https://localhost:8080/",
          "height": 313
        },
        "outputId": "d5807a9c-b32b-4245-ca00-5e88f605c771"
      },
      "source": [
        "#realizar a previsão com o período mensal estabelecido\n",
        "forecast = model_prophet.predict(future)\n",
        "\n",
        "#visualizando os 5 últimos registros\n",
        "forecast.tail()"
      ],
      "execution_count": 212,
      "outputs": [
        {
          "output_type": "execute_result",
          "data": {
            "text/html": [
              "<div>\n",
              "<style scoped>\n",
              "    .dataframe tbody tr th:only-of-type {\n",
              "        vertical-align: middle;\n",
              "    }\n",
              "\n",
              "    .dataframe tbody tr th {\n",
              "        vertical-align: top;\n",
              "    }\n",
              "\n",
              "    .dataframe thead th {\n",
              "        text-align: right;\n",
              "    }\n",
              "</style>\n",
              "<table border=\"1\" class=\"dataframe\">\n",
              "  <thead>\n",
              "    <tr style=\"text-align: right;\">\n",
              "      <th></th>\n",
              "      <th>ds</th>\n",
              "      <th>trend</th>\n",
              "      <th>yhat_lower</th>\n",
              "      <th>yhat_upper</th>\n",
              "      <th>trend_lower</th>\n",
              "      <th>trend_upper</th>\n",
              "      <th>additive_terms</th>\n",
              "      <th>additive_terms_lower</th>\n",
              "      <th>additive_terms_upper</th>\n",
              "      <th>yearly</th>\n",
              "      <th>yearly_lower</th>\n",
              "      <th>yearly_upper</th>\n",
              "      <th>multiplicative_terms</th>\n",
              "      <th>multiplicative_terms_lower</th>\n",
              "      <th>multiplicative_terms_upper</th>\n",
              "      <th>yhat</th>\n",
              "    </tr>\n",
              "  </thead>\n",
              "  <tbody>\n",
              "    <tr>\n",
              "      <th>31</th>\n",
              "      <td>2020-08-31</td>\n",
              "      <td>1.415993e+06</td>\n",
              "      <td>1.499467e+06</td>\n",
              "      <td>1.499467e+06</td>\n",
              "      <td>1.415993e+06</td>\n",
              "      <td>1.415993e+06</td>\n",
              "      <td>83474.374331</td>\n",
              "      <td>83474.374331</td>\n",
              "      <td>83474.374331</td>\n",
              "      <td>83474.374331</td>\n",
              "      <td>83474.374331</td>\n",
              "      <td>83474.374331</td>\n",
              "      <td>0.0</td>\n",
              "      <td>0.0</td>\n",
              "      <td>0.0</td>\n",
              "      <td>1.499467e+06</td>\n",
              "    </tr>\n",
              "    <tr>\n",
              "      <th>32</th>\n",
              "      <td>2020-09-30</td>\n",
              "      <td>1.413475e+06</td>\n",
              "      <td>1.416026e+06</td>\n",
              "      <td>1.416026e+06</td>\n",
              "      <td>1.413475e+06</td>\n",
              "      <td>1.413475e+06</td>\n",
              "      <td>2550.676940</td>\n",
              "      <td>2550.676940</td>\n",
              "      <td>2550.676940</td>\n",
              "      <td>2550.676940</td>\n",
              "      <td>2550.676940</td>\n",
              "      <td>2550.676940</td>\n",
              "      <td>0.0</td>\n",
              "      <td>0.0</td>\n",
              "      <td>0.0</td>\n",
              "      <td>1.416026e+06</td>\n",
              "    </tr>\n",
              "    <tr>\n",
              "      <th>33</th>\n",
              "      <td>2020-10-31</td>\n",
              "      <td>1.410874e+06</td>\n",
              "      <td>1.379978e+06</td>\n",
              "      <td>1.383991e+06</td>\n",
              "      <td>1.408614e+06</td>\n",
              "      <td>1.412627e+06</td>\n",
              "      <td>-28636.162745</td>\n",
              "      <td>-28636.162745</td>\n",
              "      <td>-28636.162745</td>\n",
              "      <td>-28636.162745</td>\n",
              "      <td>-28636.162745</td>\n",
              "      <td>-28636.162745</td>\n",
              "      <td>0.0</td>\n",
              "      <td>0.0</td>\n",
              "      <td>0.0</td>\n",
              "      <td>1.382238e+06</td>\n",
              "    </tr>\n",
              "    <tr>\n",
              "      <th>34</th>\n",
              "      <td>2020-11-30</td>\n",
              "      <td>1.408357e+06</td>\n",
              "      <td>1.360611e+06</td>\n",
              "      <td>1.377338e+06</td>\n",
              "      <td>1.400013e+06</td>\n",
              "      <td>1.416740e+06</td>\n",
              "      <td>-39401.960987</td>\n",
              "      <td>-39401.960987</td>\n",
              "      <td>-39401.960987</td>\n",
              "      <td>-39401.960987</td>\n",
              "      <td>-39401.960987</td>\n",
              "      <td>-39401.960987</td>\n",
              "      <td>0.0</td>\n",
              "      <td>0.0</td>\n",
              "      <td>0.0</td>\n",
              "      <td>1.368955e+06</td>\n",
              "    </tr>\n",
              "    <tr>\n",
              "      <th>35</th>\n",
              "      <td>2020-12-31</td>\n",
              "      <td>1.405756e+06</td>\n",
              "      <td>1.343086e+06</td>\n",
              "      <td>1.375663e+06</td>\n",
              "      <td>1.388541e+06</td>\n",
              "      <td>1.421118e+06</td>\n",
              "      <td>-45455.209022</td>\n",
              "      <td>-45455.209022</td>\n",
              "      <td>-45455.209022</td>\n",
              "      <td>-45455.209022</td>\n",
              "      <td>-45455.209022</td>\n",
              "      <td>-45455.209022</td>\n",
              "      <td>0.0</td>\n",
              "      <td>0.0</td>\n",
              "      <td>0.0</td>\n",
              "      <td>1.360300e+06</td>\n",
              "    </tr>\n",
              "  </tbody>\n",
              "</table>\n",
              "</div>"
            ],
            "text/plain": [
              "           ds         trend  ...  multiplicative_terms_upper          yhat\n",
              "31 2020-08-31  1.415993e+06  ...                         0.0  1.499467e+06\n",
              "32 2020-09-30  1.413475e+06  ...                         0.0  1.416026e+06\n",
              "33 2020-10-31  1.410874e+06  ...                         0.0  1.382238e+06\n",
              "34 2020-11-30  1.408357e+06  ...                         0.0  1.368955e+06\n",
              "35 2020-12-31  1.405756e+06  ...                         0.0  1.360300e+06\n",
              "\n",
              "[5 rows x 16 columns]"
            ]
          },
          "metadata": {},
          "execution_count": 212
        }
      ]
    },
    {
      "cell_type": "code",
      "metadata": {
        "colab": {
          "base_uri": "https://localhost:8080/",
          "height": 584
        },
        "id": "Vbl6txv3gkJz",
        "outputId": "0f3e7f19-4e2e-4ce3-d7a1-bb0c3b0d09a1"
      },
      "source": [
        "#crian do ax e o plt\n",
        "fig, ax = plt.subplots(figsize=(14,8))\n",
        "\n",
        "#criando gráfico\n",
        "model_prophet.plot(forecast,ax=ax)\n",
        "ajuste_layout(ax=ax,\n",
        "              titulo='Realizando as previsões para os próximo 3 meses utilizando o Prophet',\n",
        "              ylabel='Quantidades Vendidas',\n",
        "              grid=True,grid_lw=1.8,grid_style='dotted')\n",
        "\n",
        "#plotando os gráficos\n",
        "plt.tight_layout();"
      ],
      "execution_count": 217,
      "outputs": [
        {
          "output_type": "display_data",
          "data": {
            "image/png": "[encoded data removed]",
            "text/plain": [
              "<Figure size 1008x576 with 1 Axes>"
            ]
          },
          "metadata": {
            "needs_background": "dark"
          }
        }
      ]
    },
    {
      "cell_type": "code",
      "metadata": {
        "id": "fwT4N_wdgqmC",
        "colab": {
          "base_uri": "https://localhost:8080/"
        },
        "outputId": "dfbf9487-936d-4bf1-842c-eb8c092f5796"
      },
      "source": [
        "#calcular o erro\n",
        "printando_o_erro(y_true=validation.sales,y_pred=forecast[-prediction_size:].yhat,previsor='Prophet')"
      ],
      "execution_count": 211,
      "outputs": [
        {
          "output_type": "stream",
          "name": "stdout",
          "text": [
            "A raiz do erro-médio quadrado utilizando o modelo Prophet é de 55873.93\n"
          ]
        }
      ]
    },
    {
      "cell_type": "markdown",
      "metadata": {
        "id": "6aJwj8Jigq4_"
      },
      "source": [
        "#Conclusões\n",
        "\n",
        "* x\n",
        "* x\n",
        "* x\n"
      ]
    }
  ]
}