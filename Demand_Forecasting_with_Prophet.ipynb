{
  "nbformat": 4,
  "nbformat_minor": 0,
  "metadata": {
    "colab": {
      "name": "Demand Forecasting with Prophet",
      "provenance": [],
      "collapsed_sections": [],
      "include_colab_link": true
    },
    "kernelspec": {
      "name": "python3",
      "display_name": "Python 3"
    }
  },
  "cells": [
    {
      "cell_type": "markdown",
      "metadata": {
        "id": "view-in-github",
        "colab_type": "text"
      },
      "source": [
        "<a href=\"https://colab.research.google.com/github/FerrazThales/demand_forecasting_prophet/blob/main/Demand_Forecasting_with_Prophet.ipynb\" target=\"_parent\"><img src=\"https://colab.research.google.com/assets/colab-badge.svg\" alt=\"Open In Colab\"/></a>"
      ]
    },
    {
      "cell_type": "markdown",
      "metadata": {
        "id": "3bly3c2M_B0y"
      },
      "source": [
        "<h1 align=\"center\"><b>Encontre eu e meus projetos nas redes sociais!</b></h1>\n",
        "<table>\n",
        "  <tr>\n",
        "  <td><a href=\"https://thalesferraz.medium.com/\">\n",
        "  <img src=\"https://github.com/FerrazThales/FerrazThales/blob/main/logo_gif.gif?raw=true\" width=\"800\" title=\"Olá, Meu nome é Thales e sou cientista de Dados!\"/>\n",
        "  </a>\n",
        "  </td>\n",
        "  <td><a href=\"https://github.com/FerrazThales\">\n",
        "  <img hspace=30 vspace=110 src=\"https://image.flaticon.com/icons/png/512/1051/1051326.png\" width=\"60%\" title=\"Entre em meu Github e veja mais projetos!\" /> \n",
        "  </a>\n",
        "  </td>\n",
        "  <td>\n",
        "  <a href=\"\">\n",
        "  <img vspace=110 src=\"https://download.logo.wine/logo/Medium_(website)/Medium_(website)-Logo.wine.png\" width=\"800\" title=\"Veja este meu projeto no Medium!\"/>\n",
        "  </a>\n",
        "  </td>\n",
        "  <td><a href=\"https://www.linkedin.com/in/thalesdefreitasferraz/\"><img vspace=150 src=\"https://image.flaticon.com/icons/png/512/889/889122.png\" width=\"40%\" title=\"Vamos trocar uma idéia sobre Data Science no LinkedIn?\" />\n",
        "  </a>\n",
        "  </td>\n",
        "  </tr>\n",
        "</table>\n",
        "\n",
        "# O que você vai aprender neste projeto:\n",
        "\n",
        "* O que é **previsão de demanda**, os **tipos** de projeções e sua *importância* para todas **organizações**.\n",
        "* Como está mercado **vinícola** e quais são suas tendências.\n",
        "* tratamento e limpeza de dados. (outliers)\n",
        "* falar sobre séries temporais\n",
        "* aplicação arima, xgboost e prophet."
      ]
    },
    {
      "cell_type": "markdown",
      "metadata": {
        "id": "JFy4Niuv_Kgn"
      },
      "source": [
        "#O uso de dados como auxílio para a tomada de decisão.\n",
        "<p align='center'>\n",
        "\n",
        "<img src=\"https://image.freepik.com/vetores-gratis/ilustracao-do-conceito-abstrato-de-previsao-de-vendas_335657-3900.jpg\" width=\"40%\">\n",
        "\n",
        "</p>\n",
        "\n",
        "Uma das principais tarefas de um **Engenheiro de Produção** é otimizar *recursos*. Atualmente um dos recursos mais *valiosos* e *rentáveis* de uma organização são os **dados**, afinal [data is the new oil](https://www.forbes.com/sites/forbestechcouncil/2019/11/15/data-is-the-new-oil-and-thats-a-good-thing/?sh=32998a0c7304). Podemos utilizar estes dados para **projetar**, ou seja, antecipar a *demanda* de diversos tipos de produtos e assegurar a **eficiência** da *gestão* de toda nossa cadeia de suprimentos. Por isso, uma **previsão de demanda** bem feita pode gerar *vantagem competitiva* nas decisões do negócio e **reduzir** absurdamente os *custos*.\n",
        "\n",
        "É **imprescindível** que as empresas entendam qual será a demanda **futura** para que seus gestores estejam aptos a tomarem *decisões* mais **assertivas** sobre os **preços**, potencial de **mercado**, compra de **matéria-prima** e até mesmo, possibilidade de **extensão** do negócio. Além disso, a previsão de demanda é essencial para a **Gestão do Estoque**, uma vez que projeções *inadequadas* podem gerar *acúmulo* ou *falta* de **produtos** - e tudo isso tem um gigantesco impacto financeiro negativo nas organizações.\n",
        "\n",
        "Ao se fazer uma *projeção de demanda* **eficaz** as empresas adquirem inúmeras **vantagens** práticas, como o aumento da **produtividade** dos colaboradores e a **diminuição** do trabalho *ocioso* - isto acontece porque os processos se tornam mais **otimizados**. Além disso, todo o planejamento relacionado as atividades de  orçamento, marketing e estratégias de preço são melhor estruturados, já que existem mais **informações** disponíveis. É importante ressaltar que sem uma previsão de demanda **adequada** o negócio assume um grande **risco** de operar e produzir um produto que o **mercado** não precisa.\n",
        "\n",
        "Tradicionalmente, a *previsão de demanda* de divide em **duas** grandes *categorias*. As projeções baseadas em termos **qualitativos** e **quantitativos**. As metodologias *qualitativas* são mais **subjetivas** e se baseiam em pesquisas com especialistas da área, sempre buscando um consenso. Um grande exemplo dos métodos qualitativos é o [Método Delphi](https://www.questionpro.com/blog/pt-br/metodo-delphi/). \n",
        "\n",
        "Já as metodologias *quantitativas* se segmentam em outras *duas* **subcategorias**. A primeira se orienta por **métodos estatísticos** e utiliza operações *matemáticas* para realizar suas previsões. Um modelo simples que aplica este método é o das [Médias Móveis](http://www.fecilcam.br/anais/x_eepa/data/uploads/1-engenharia-de-operacoes-e-processos-da-producao/1-02.pdf). Já a segunda subcategoria (**ESTÁ DIVISÃO FOI FEITA POR MIM, AINDA NÃO HÁ ESTAS MENÇÕES EM LIVROS**) se baseia em **algoritmos** de machine learning, ou seja, o *aprendizado* do modelo é feito através dos dados com uma ajuda **computacional**. Um grande exemplo de método utilizado nesta subcategoria é a [Arquitetura LTSM](https://machinelearningmastery.com/how-to-develop-lstm-models-for-time-series-forecasting/).\n",
        "\n",
        "Desta forma, com o avanço da tecnologia e das oscilações de mercado é muito importante ter uma previsão de demanda **robusta** e que contempla seu modelo de negócio, uma vez que este tipo de **ferramenta** já se tornou uma vantagem competitiva em todos os mercados.\n",
        "\n",
        "#Previsão de Demanda e o Mercado de Vinhos.\n",
        "\n",
        "<p></p>\n",
        "\n",
        "[link](https://www.scielo.br/j/resr/a/KRKC5rnNFybt5Z5RMvvXLpN/?lang=pt)\n",
        "\n",
        "<p align=\"center\">\n",
        "\n",
        "<img src=\"https://image.freepik.com/fotos-gratis/copo-de-vinho-tinto-e-garrafa-no-balcao-de-bar_107420-65845.jpg\" width=\"70%\">\n",
        "\n",
        "</p>\n",
        "\n",
        "falar de e-commerce e tendências do vinho [link](https://www.wine-xt.com/pt-br/blog/2021/2/3/oportunidades-crescimento-mercado-de-vinho-2021), falar de abrir centros de distribuição. [cd](https://stoom.com.br/centro-de-distribuicao/)\n",
        "\n",
        "\n",
        "<p align=\"center\">\n",
        "<img src=\"https://images.squarespace-cdn.com/content/v1/56a7c79efd5d0878f3aa6793/1612377384828-EECQTLLW1I9MUWN6CBMR/Online-consideration-infographic-v0.LJH-002.jpg?format=1000w\">\n",
        "</p>\n",
        "\n",
        "O objetivo desse projeto é prever a demanda por vinhos em lojas especializadas em vinho. Para esse projeto, temos 2 datasets, um sobre o catálogo de vinhos da loja e outro sobre as vendas.\n",
        "\n",
        "\n",
        "\n"
      ]
    },
    {
      "cell_type": "code",
      "metadata": {
        "id": "Hpw0N_vE_aC9"
      },
      "source": [
        "#módulo para remover os warnings\n",
        "import warnings\n",
        "warnings.filterwarnings('ignore')\n",
        "\n",
        "#bibliotecas de operações matemáticas e análise/leitura de dados\n",
        "import numpy as np\n",
        "import pandas as pd\n",
        "\n",
        "#bibliotecas de visualização de dados\n",
        "import seaborn as sns\n",
        "import matplotlib.pyplot as plt\n",
        "\n",
        "#módulos estatísticos\n",
        "from statsmodels.tsa.seasonal import seasonal_decompose\n",
        "from statsmodels.tsa.arima_model import ARIMA\n",
        "from statsmodels.tsa.stattools import adfuller\n",
        "\n",
        "#módulo de time series do facebook\n",
        "from fbprophet import Prophet"
      ],
      "execution_count": 54,
      "outputs": []
    },
    {
      "cell_type": "markdown",
      "metadata": {
        "id": "ot69cgOs1QW0"
      },
      "source": [
        "Neste projeto abusaremos de visualizações **gráficas**. Para evitar a fadiga gerada por **reescrever** cada código, já deixaremos uma função de ajuste dos gráficos pronta para fazer este **serviço**."
      ]
    },
    {
      "cell_type": "code",
      "metadata": {
        "id": "-GM70OFzvxZz"
      },
      "source": [
        "#defindo uma função de ajuste para o layout dos gráficos\n",
        "def ajuste_layout(ax,titulo=None,location='left',xlabel=None,ylabel=None,\n",
        "                  addlabels=False,y=None,distancia=0,\n",
        "                  grid=False,grid_lw=0.25,grid_style='--'):\n",
        "\n",
        "  ax.set_frame_on(False)\n",
        "  ax.tick_params(axis='both',rotation=0,colors='grey',length=0,labelsize=12)\n",
        "  ax.set_xlabel(xlabel,labelpad=15,fontdict={'fontsize':14},color='#4c4c4c')\n",
        "  ax.set_ylabel(ylabel,labelpad=15,fontdict={'fontsize':14},color='#4c4c4c')\n",
        "  ax.set_title(titulo,loc=location,pad=30,fontdict={'fontsize':20},color='dimgrey')\n",
        "\n",
        "  if addlabels:\n",
        "\n",
        "    ax.get_yaxis().set_visible(False)\n",
        "    for i in range(len(y)):\n",
        "      ax.text(i,y[i] + distancia,'{:,}'.format(int(y[i])).replace(',','.'),ha='center',fontsize=16,color='grey')\n",
        "  \n",
        "  if grid:\n",
        "    ax.grid(linestyle=grid_style,lw=grid_lw,aa=True)"
      ],
      "execution_count": 4,
      "outputs": []
    },
    {
      "cell_type": "markdown",
      "metadata": {
        "id": "-y4see9Y_OSL"
      },
      "source": [
        "# Obtenção e Limpeza dos Dados\n",
        "\n",
        "falar que pegou do rafael que era um desafio do curso\n",
        "\n",
        "se divide em duas bases, produtos e vendas\n"
      ]
    },
    {
      "cell_type": "markdown",
      "metadata": {
        "id": "RDkkX6ZcGqex"
      },
      "source": [
        "### Base de Dados dos produtos\n",
        "\n",
        "texto\n",
        "\n",
        "#### Dicionário das Variáveis:\n",
        "\n",
        "* `item_id`: código do vinho na adega.\n",
        "* `name`: nome do vinho.\n",
        "* `producer`: nome do produtor do vinho.\n",
        "* `country`: país de origem do vinho.\n",
        "* `region`: região de produção do vinho.\n",
        "* `vintage`: ano da safra.\n",
        "* `kind`: tipo do vinho.\n",
        "\n",
        " * *Sparkling* : Espumante\n",
        " * *Rose Sparkling* : Espumante Rose\n",
        " * *White* : Branco\n",
        " * *Rosé* : Rosé\n",
        " * *Red* : Tinto\n",
        "* `price_brl`: preço unitário do vinho em real na época em que os dados foram levantados.\n",
        "* `price_usd`: preço unitário do vinho em dólar na época em que os dados foram levantados."
      ]
    },
    {
      "cell_type": "code",
      "metadata": {
        "colab": {
          "base_uri": "https://localhost:8080/",
          "height": 206
        },
        "id": "8Qjis-sv_YxR",
        "outputId": "aabea3e4-83c8-41eb-a32a-c18a7e478769"
      },
      "source": [
        "#endereco dos dados sobre produos\n",
        "endereco_produtos = \"https://raw.githubusercontent.com/rafaelnduarte/sigmoidal_data/master/products.csv\"\n",
        "\n",
        "#guardando os dados sobre produtos\n",
        "produtos = pd.read_csv(endereco_produtos)\n",
        "\n",
        "#mostrando as 5 primeiras entrada dos dados de produtos\n",
        "produtos.head()"
      ],
      "execution_count": 5,
      "outputs": [
        {
          "output_type": "execute_result",
          "data": {
            "text/html": [
              "<div>\n",
              "<style scoped>\n",
              "    .dataframe tbody tr th:only-of-type {\n",
              "        vertical-align: middle;\n",
              "    }\n",
              "\n",
              "    .dataframe tbody tr th {\n",
              "        vertical-align: top;\n",
              "    }\n",
              "\n",
              "    .dataframe thead th {\n",
              "        text-align: right;\n",
              "    }\n",
              "</style>\n",
              "<table border=\"1\" class=\"dataframe\">\n",
              "  <thead>\n",
              "    <tr style=\"text-align: right;\">\n",
              "      <th></th>\n",
              "      <th>item_id</th>\n",
              "      <th>name</th>\n",
              "      <th>producer</th>\n",
              "      <th>country</th>\n",
              "      <th>region</th>\n",
              "      <th>vintage</th>\n",
              "      <th>kind</th>\n",
              "      <th>price_brl</th>\n",
              "      <th>price_usd</th>\n",
              "    </tr>\n",
              "  </thead>\n",
              "  <tbody>\n",
              "    <tr>\n",
              "      <th>0</th>\n",
              "      <td>1</td>\n",
              "      <td>Philipponnat Royale Reserve Brut</td>\n",
              "      <td>Philipponat</td>\n",
              "      <td>France</td>\n",
              "      <td>Champagne</td>\n",
              "      <td>NV</td>\n",
              "      <td>sparkling</td>\n",
              "      <td>339.60</td>\n",
              "      <td>58.75</td>\n",
              "    </tr>\n",
              "    <tr>\n",
              "      <th>1</th>\n",
              "      <td>2</td>\n",
              "      <td>Philipponnat Royale Reserve Rosé</td>\n",
              "      <td>Philipponat</td>\n",
              "      <td>France</td>\n",
              "      <td>Champagne</td>\n",
              "      <td>NV</td>\n",
              "      <td>rose sparkling</td>\n",
              "      <td>489.00</td>\n",
              "      <td>84.60</td>\n",
              "    </tr>\n",
              "    <tr>\n",
              "      <th>2</th>\n",
              "      <td>3</td>\n",
              "      <td>Philipponnat Cuvée 1522 Grand Cru Extra Brut</td>\n",
              "      <td>Philipponat</td>\n",
              "      <td>France</td>\n",
              "      <td>Champagne</td>\n",
              "      <td>2009</td>\n",
              "      <td>sparkling</td>\n",
              "      <td>789.00</td>\n",
              "      <td>136.51</td>\n",
              "    </tr>\n",
              "    <tr>\n",
              "      <th>3</th>\n",
              "      <td>4</td>\n",
              "      <td>Philipponnat Cuvée 1522 1er Cru Rosé</td>\n",
              "      <td>Philipponat</td>\n",
              "      <td>France</td>\n",
              "      <td>Champagne</td>\n",
              "      <td>2008</td>\n",
              "      <td>rose sparkling</td>\n",
              "      <td>899.40</td>\n",
              "      <td>155.61</td>\n",
              "    </tr>\n",
              "    <tr>\n",
              "      <th>4</th>\n",
              "      <td>5</td>\n",
              "      <td>Philipponnat Clos Des Goisses Brut</td>\n",
              "      <td>Philipponat</td>\n",
              "      <td>France</td>\n",
              "      <td>Champagne</td>\n",
              "      <td>2009</td>\n",
              "      <td>sparkling</td>\n",
              "      <td>1,548.00</td>\n",
              "      <td>267.82</td>\n",
              "    </tr>\n",
              "  </tbody>\n",
              "</table>\n",
              "</div>"
            ],
            "text/plain": [
              "   item_id                                          name  ... price_brl price_usd\n",
              "0        1              Philipponnat Royale Reserve Brut  ...    339.60     58.75\n",
              "1        2              Philipponnat Royale Reserve Rosé  ...    489.00     84.60\n",
              "2        3  Philipponnat Cuvée 1522 Grand Cru Extra Brut  ...    789.00    136.51\n",
              "3        4          Philipponnat Cuvée 1522 1er Cru Rosé  ...    899.40    155.61\n",
              "4        5            Philipponnat Clos Des Goisses Brut  ...  1,548.00    267.82\n",
              "\n",
              "[5 rows x 9 columns]"
            ]
          },
          "metadata": {},
          "execution_count": 5
        }
      ]
    },
    {
      "cell_type": "markdown",
      "metadata": {
        "id": "wLU4RIYNLzgp"
      },
      "source": [
        "texto sobre a quantidade de vinhos  e suas variáveis"
      ]
    },
    {
      "cell_type": "code",
      "metadata": {
        "colab": {
          "base_uri": "https://localhost:8080/"
        },
        "id": "rhcJVxgkLaiJ",
        "outputId": "7390fa77-c02a-44e8-c022-e4b8017b26ff"
      },
      "source": [
        "print('A Base de dados sobre produtos contém:')\n",
        "print('{} entradas e {} variáveis'.format(produtos.shape[0], produtos.shape[1]))"
      ],
      "execution_count": 6,
      "outputs": [
        {
          "output_type": "stream",
          "name": "stdout",
          "text": [
            "A Base de dados sobre produtos contém:\n",
            "219 entradas e 9 variáveis\n"
          ]
        }
      ]
    },
    {
      "cell_type": "markdown",
      "metadata": {
        "id": "GesdUAkbHId3"
      },
      "source": [
        "avaliar o tipo de dados"
      ]
    },
    {
      "cell_type": "code",
      "metadata": {
        "colab": {
          "base_uri": "https://localhost:8080/",
          "height": 331
        },
        "id": "GkoT8lzzHLkw",
        "outputId": "ad0b0ad0-d18f-4e7a-ac7d-ecda14cc7a09"
      },
      "source": [
        "#avaliando o tipo de dados\n",
        "pd.DataFrame(produtos.dtypes,columns=['Tipo de Dados'])"
      ],
      "execution_count": 7,
      "outputs": [
        {
          "output_type": "execute_result",
          "data": {
            "text/html": [
              "<div>\n",
              "<style scoped>\n",
              "    .dataframe tbody tr th:only-of-type {\n",
              "        vertical-align: middle;\n",
              "    }\n",
              "\n",
              "    .dataframe tbody tr th {\n",
              "        vertical-align: top;\n",
              "    }\n",
              "\n",
              "    .dataframe thead th {\n",
              "        text-align: right;\n",
              "    }\n",
              "</style>\n",
              "<table border=\"1\" class=\"dataframe\">\n",
              "  <thead>\n",
              "    <tr style=\"text-align: right;\">\n",
              "      <th></th>\n",
              "      <th>Tipo de Dados</th>\n",
              "    </tr>\n",
              "  </thead>\n",
              "  <tbody>\n",
              "    <tr>\n",
              "      <th>item_id</th>\n",
              "      <td>int64</td>\n",
              "    </tr>\n",
              "    <tr>\n",
              "      <th>name</th>\n",
              "      <td>object</td>\n",
              "    </tr>\n",
              "    <tr>\n",
              "      <th>producer</th>\n",
              "      <td>object</td>\n",
              "    </tr>\n",
              "    <tr>\n",
              "      <th>country</th>\n",
              "      <td>object</td>\n",
              "    </tr>\n",
              "    <tr>\n",
              "      <th>region</th>\n",
              "      <td>object</td>\n",
              "    </tr>\n",
              "    <tr>\n",
              "      <th>vintage</th>\n",
              "      <td>object</td>\n",
              "    </tr>\n",
              "    <tr>\n",
              "      <th>kind</th>\n",
              "      <td>object</td>\n",
              "    </tr>\n",
              "    <tr>\n",
              "      <th>price_brl</th>\n",
              "      <td>object</td>\n",
              "    </tr>\n",
              "    <tr>\n",
              "      <th>price_usd</th>\n",
              "      <td>object</td>\n",
              "    </tr>\n",
              "  </tbody>\n",
              "</table>\n",
              "</div>"
            ],
            "text/plain": [
              "          Tipo de Dados\n",
              "item_id           int64\n",
              "name             object\n",
              "producer         object\n",
              "country          object\n",
              "region           object\n",
              "vintage          object\n",
              "kind             object\n",
              "price_brl        object\n",
              "price_usd        object"
            ]
          },
          "metadata": {},
          "execution_count": 7
        }
      ]
    },
    {
      "cell_type": "markdown",
      "metadata": {
        "id": "kL5XxtYYIcb8"
      },
      "source": [
        "texto falando sobre float e vírgula pq o regex precisa ser true"
      ]
    },
    {
      "cell_type": "code",
      "metadata": {
        "id": "H65XMivNHZgf"
      },
      "source": [
        "#tirando as vírgulas dos valores\n",
        "produtos.replace(',','',inplace=True,regex=True)\n",
        "\n",
        "#mudança da variável price_brl\n",
        "produtos.price_brl = produtos.price_brl.astype('float64')\n",
        "\n",
        "#mudança da variável price_usd\n",
        "produtos.price_usd = produtos.price_usd.astype('float64')\n",
        "\n",
        "#mudança da variável item_id\n",
        "produtos.item_id = produtos.item_id.astype('str')"
      ],
      "execution_count": 8,
      "outputs": []
    },
    {
      "cell_type": "code",
      "metadata": {
        "colab": {
          "base_uri": "https://localhost:8080/",
          "height": 331
        },
        "id": "f0Mq400FIJpo",
        "outputId": "97bde935-5d62-42ed-eb62-f2739878add6"
      },
      "source": [
        "pd.DataFrame(produtos.dtypes,columns=['Tipo de Dados após mudança'])"
      ],
      "execution_count": 9,
      "outputs": [
        {
          "output_type": "execute_result",
          "data": {
            "text/html": [
              "<div>\n",
              "<style scoped>\n",
              "    .dataframe tbody tr th:only-of-type {\n",
              "        vertical-align: middle;\n",
              "    }\n",
              "\n",
              "    .dataframe tbody tr th {\n",
              "        vertical-align: top;\n",
              "    }\n",
              "\n",
              "    .dataframe thead th {\n",
              "        text-align: right;\n",
              "    }\n",
              "</style>\n",
              "<table border=\"1\" class=\"dataframe\">\n",
              "  <thead>\n",
              "    <tr style=\"text-align: right;\">\n",
              "      <th></th>\n",
              "      <th>Tipo de Dados após mudança</th>\n",
              "    </tr>\n",
              "  </thead>\n",
              "  <tbody>\n",
              "    <tr>\n",
              "      <th>item_id</th>\n",
              "      <td>object</td>\n",
              "    </tr>\n",
              "    <tr>\n",
              "      <th>name</th>\n",
              "      <td>object</td>\n",
              "    </tr>\n",
              "    <tr>\n",
              "      <th>producer</th>\n",
              "      <td>object</td>\n",
              "    </tr>\n",
              "    <tr>\n",
              "      <th>country</th>\n",
              "      <td>object</td>\n",
              "    </tr>\n",
              "    <tr>\n",
              "      <th>region</th>\n",
              "      <td>object</td>\n",
              "    </tr>\n",
              "    <tr>\n",
              "      <th>vintage</th>\n",
              "      <td>object</td>\n",
              "    </tr>\n",
              "    <tr>\n",
              "      <th>kind</th>\n",
              "      <td>object</td>\n",
              "    </tr>\n",
              "    <tr>\n",
              "      <th>price_brl</th>\n",
              "      <td>float64</td>\n",
              "    </tr>\n",
              "    <tr>\n",
              "      <th>price_usd</th>\n",
              "      <td>float64</td>\n",
              "    </tr>\n",
              "  </tbody>\n",
              "</table>\n",
              "</div>"
            ],
            "text/plain": [
              "          Tipo de Dados após mudança\n",
              "item_id                       object\n",
              "name                          object\n",
              "producer                      object\n",
              "country                       object\n",
              "region                        object\n",
              "vintage                       object\n",
              "kind                          object\n",
              "price_brl                    float64\n",
              "price_usd                    float64"
            ]
          },
          "metadata": {},
          "execution_count": 9
        }
      ]
    },
    {
      "cell_type": "markdown",
      "metadata": {
        "id": "OSZ7KmwGHueg"
      },
      "source": [
        "ver dados vazios"
      ]
    },
    {
      "cell_type": "code",
      "metadata": {
        "colab": {
          "base_uri": "https://localhost:8080/",
          "height": 331
        },
        "id": "Rq4qyODfHwEC",
        "outputId": "9e43558d-ecc1-4f04-abb8-9d9ecd5613b0"
      },
      "source": [
        "#verificando a quantidade de dados vazios na base de dados dos produtos\n",
        "pd.DataFrame(produtos.isnull().sum(),columns=['Quantidade de Valores Ausentes'])"
      ],
      "execution_count": 10,
      "outputs": [
        {
          "output_type": "execute_result",
          "data": {
            "text/html": [
              "<div>\n",
              "<style scoped>\n",
              "    .dataframe tbody tr th:only-of-type {\n",
              "        vertical-align: middle;\n",
              "    }\n",
              "\n",
              "    .dataframe tbody tr th {\n",
              "        vertical-align: top;\n",
              "    }\n",
              "\n",
              "    .dataframe thead th {\n",
              "        text-align: right;\n",
              "    }\n",
              "</style>\n",
              "<table border=\"1\" class=\"dataframe\">\n",
              "  <thead>\n",
              "    <tr style=\"text-align: right;\">\n",
              "      <th></th>\n",
              "      <th>Quantidade de Valores Ausentes</th>\n",
              "    </tr>\n",
              "  </thead>\n",
              "  <tbody>\n",
              "    <tr>\n",
              "      <th>item_id</th>\n",
              "      <td>0</td>\n",
              "    </tr>\n",
              "    <tr>\n",
              "      <th>name</th>\n",
              "      <td>0</td>\n",
              "    </tr>\n",
              "    <tr>\n",
              "      <th>producer</th>\n",
              "      <td>0</td>\n",
              "    </tr>\n",
              "    <tr>\n",
              "      <th>country</th>\n",
              "      <td>0</td>\n",
              "    </tr>\n",
              "    <tr>\n",
              "      <th>region</th>\n",
              "      <td>0</td>\n",
              "    </tr>\n",
              "    <tr>\n",
              "      <th>vintage</th>\n",
              "      <td>0</td>\n",
              "    </tr>\n",
              "    <tr>\n",
              "      <th>kind</th>\n",
              "      <td>0</td>\n",
              "    </tr>\n",
              "    <tr>\n",
              "      <th>price_brl</th>\n",
              "      <td>0</td>\n",
              "    </tr>\n",
              "    <tr>\n",
              "      <th>price_usd</th>\n",
              "      <td>0</td>\n",
              "    </tr>\n",
              "  </tbody>\n",
              "</table>\n",
              "</div>"
            ],
            "text/plain": [
              "           Quantidade de Valores Ausentes\n",
              "item_id                                 0\n",
              "name                                    0\n",
              "producer                                0\n",
              "country                                 0\n",
              "region                                  0\n",
              "vintage                                 0\n",
              "kind                                    0\n",
              "price_brl                               0\n",
              "price_usd                               0"
            ]
          },
          "metadata": {},
          "execution_count": 10
        }
      ]
    },
    {
      "cell_type": "markdown",
      "metadata": {
        "id": "oqCFlyl5G0zV"
      },
      "source": [
        "### Base de dados das Vendas\n",
        "\n",
        "##### Dicionário das Variáveis:\n",
        "\n",
        "* `date`: data em que a venda foi realizada.\n",
        "* `store`: código da loja.\n",
        "* `item`: código do vinho na adega.\n",
        "* `sales`: quantidade de vinhos vendidos."
      ]
    },
    {
      "cell_type": "code",
      "metadata": {
        "colab": {
          "base_uri": "https://localhost:8080/",
          "height": 206
        },
        "id": "WD_ShhYpAxAF",
        "outputId": "5e0a5bc8-4c01-4b19-f2bf-a1e9b3585669"
      },
      "source": [
        "#endereco dos dados sobre vendas\n",
        "endereco_vendas = \"https://raw.githubusercontent.com/rafaelnduarte/sigmoidal_data/master/sales-clean.csv\"\n",
        "\n",
        "#importando os dados sobre vendas\n",
        "vendas = pd.read_csv(endereco_vendas,parse_dates=['date'])\n",
        "\n",
        "#mostrando as 5 primeiras entrada dos dados de vendas\n",
        "vendas.head()"
      ],
      "execution_count": 11,
      "outputs": [
        {
          "output_type": "execute_result",
          "data": {
            "text/html": [
              "<div>\n",
              "<style scoped>\n",
              "    .dataframe tbody tr th:only-of-type {\n",
              "        vertical-align: middle;\n",
              "    }\n",
              "\n",
              "    .dataframe tbody tr th {\n",
              "        vertical-align: top;\n",
              "    }\n",
              "\n",
              "    .dataframe thead th {\n",
              "        text-align: right;\n",
              "    }\n",
              "</style>\n",
              "<table border=\"1\" class=\"dataframe\">\n",
              "  <thead>\n",
              "    <tr style=\"text-align: right;\">\n",
              "      <th></th>\n",
              "      <th>date</th>\n",
              "      <th>store</th>\n",
              "      <th>item</th>\n",
              "      <th>sales</th>\n",
              "    </tr>\n",
              "  </thead>\n",
              "  <tbody>\n",
              "    <tr>\n",
              "      <th>0</th>\n",
              "      <td>2018-01-01</td>\n",
              "      <td>1</td>\n",
              "      <td>1</td>\n",
              "      <td>13</td>\n",
              "    </tr>\n",
              "    <tr>\n",
              "      <th>1</th>\n",
              "      <td>2018-01-02</td>\n",
              "      <td>1</td>\n",
              "      <td>1</td>\n",
              "      <td>11</td>\n",
              "    </tr>\n",
              "    <tr>\n",
              "      <th>2</th>\n",
              "      <td>2018-01-03</td>\n",
              "      <td>1</td>\n",
              "      <td>1</td>\n",
              "      <td>14</td>\n",
              "    </tr>\n",
              "    <tr>\n",
              "      <th>3</th>\n",
              "      <td>2018-01-04</td>\n",
              "      <td>1</td>\n",
              "      <td>1</td>\n",
              "      <td>13</td>\n",
              "    </tr>\n",
              "    <tr>\n",
              "      <th>4</th>\n",
              "      <td>2018-01-05</td>\n",
              "      <td>1</td>\n",
              "      <td>1</td>\n",
              "      <td>10</td>\n",
              "    </tr>\n",
              "  </tbody>\n",
              "</table>\n",
              "</div>"
            ],
            "text/plain": [
              "        date  store  item  sales\n",
              "0 2018-01-01      1     1     13\n",
              "1 2018-01-02      1     1     11\n",
              "2 2018-01-03      1     1     14\n",
              "3 2018-01-04      1     1     13\n",
              "4 2018-01-05      1     1     10"
            ]
          },
          "metadata": {},
          "execution_count": 11
        }
      ]
    },
    {
      "cell_type": "markdown",
      "metadata": {
        "id": "38dsJLi2MF8z"
      },
      "source": [
        "ver quantidade de dados e variáveis"
      ]
    },
    {
      "cell_type": "code",
      "metadata": {
        "colab": {
          "base_uri": "https://localhost:8080/"
        },
        "id": "W-pWVLJpMHxK",
        "outputId": "1be6a549-c609-4d88-8f8b-078e488a3b3d"
      },
      "source": [
        "print('A Base de dados sobre vendas contém:')\n",
        "print('{:,} entradas e {} variáveis'.format(vendas.shape[0], vendas.shape[1]).replace(',','.'))"
      ],
      "execution_count": 12,
      "outputs": [
        {
          "output_type": "stream",
          "name": "stdout",
          "text": [
            "A Base de dados sobre vendas contém:\n",
            "720.071 entradas e 4 variáveis\n"
          ]
        }
      ]
    },
    {
      "cell_type": "markdown",
      "metadata": {
        "id": "GRBRGGq9Qb3A"
      },
      "source": [
        "avaliando o tipo de dados, falar do datetime64 e int64, explicar que vai ter que mudar os dados da store e item"
      ]
    },
    {
      "cell_type": "code",
      "metadata": {
        "colab": {
          "base_uri": "https://localhost:8080/",
          "height": 174
        },
        "id": "JVnF2NZwP-4d",
        "outputId": "4fa36db3-9e2c-48b9-9007-837e227faca2"
      },
      "source": [
        "pd.DataFrame(vendas.dtypes,columns=['Tipo de Dados'])"
      ],
      "execution_count": 13,
      "outputs": [
        {
          "output_type": "execute_result",
          "data": {
            "text/html": [
              "<div>\n",
              "<style scoped>\n",
              "    .dataframe tbody tr th:only-of-type {\n",
              "        vertical-align: middle;\n",
              "    }\n",
              "\n",
              "    .dataframe tbody tr th {\n",
              "        vertical-align: top;\n",
              "    }\n",
              "\n",
              "    .dataframe thead th {\n",
              "        text-align: right;\n",
              "    }\n",
              "</style>\n",
              "<table border=\"1\" class=\"dataframe\">\n",
              "  <thead>\n",
              "    <tr style=\"text-align: right;\">\n",
              "      <th></th>\n",
              "      <th>Tipo de Dados</th>\n",
              "    </tr>\n",
              "  </thead>\n",
              "  <tbody>\n",
              "    <tr>\n",
              "      <th>date</th>\n",
              "      <td>datetime64[ns]</td>\n",
              "    </tr>\n",
              "    <tr>\n",
              "      <th>store</th>\n",
              "      <td>int64</td>\n",
              "    </tr>\n",
              "    <tr>\n",
              "      <th>item</th>\n",
              "      <td>int64</td>\n",
              "    </tr>\n",
              "    <tr>\n",
              "      <th>sales</th>\n",
              "      <td>int64</td>\n",
              "    </tr>\n",
              "  </tbody>\n",
              "</table>\n",
              "</div>"
            ],
            "text/plain": [
              "        Tipo de Dados\n",
              "date   datetime64[ns]\n",
              "store           int64\n",
              "item            int64\n",
              "sales           int64"
            ]
          },
          "metadata": {},
          "execution_count": 13
        }
      ]
    },
    {
      "cell_type": "code",
      "metadata": {
        "id": "VIXnCRMPWH-S"
      },
      "source": [
        "#alterando o tipo de dados da variável store para string\n",
        "vendas.store = vendas.store.astype('str')\n",
        "\n",
        "#alterando o tipo de dados da variável item para string\n",
        "vendas.item = vendas.item.astype('str')"
      ],
      "execution_count": 14,
      "outputs": []
    },
    {
      "cell_type": "markdown",
      "metadata": {
        "id": "QjnYVHrQQoHH"
      },
      "source": [
        "avaliando a quantidade de dados vazios"
      ]
    },
    {
      "cell_type": "code",
      "metadata": {
        "colab": {
          "base_uri": "https://localhost:8080/",
          "height": 174
        },
        "id": "SzKzGDaLP-60",
        "outputId": "7d4fe575-cba5-485a-862e-78dedd515bb4"
      },
      "source": [
        "pd.DataFrame(vendas.isnull().sum(),columns=['Quantidade de Dados Ausentes'])"
      ],
      "execution_count": 15,
      "outputs": [
        {
          "output_type": "execute_result",
          "data": {
            "text/html": [
              "<div>\n",
              "<style scoped>\n",
              "    .dataframe tbody tr th:only-of-type {\n",
              "        vertical-align: middle;\n",
              "    }\n",
              "\n",
              "    .dataframe tbody tr th {\n",
              "        vertical-align: top;\n",
              "    }\n",
              "\n",
              "    .dataframe thead th {\n",
              "        text-align: right;\n",
              "    }\n",
              "</style>\n",
              "<table border=\"1\" class=\"dataframe\">\n",
              "  <thead>\n",
              "    <tr style=\"text-align: right;\">\n",
              "      <th></th>\n",
              "      <th>Quantidade de Dados Ausentes</th>\n",
              "    </tr>\n",
              "  </thead>\n",
              "  <tbody>\n",
              "    <tr>\n",
              "      <th>date</th>\n",
              "      <td>0</td>\n",
              "    </tr>\n",
              "    <tr>\n",
              "      <th>store</th>\n",
              "      <td>0</td>\n",
              "    </tr>\n",
              "    <tr>\n",
              "      <th>item</th>\n",
              "      <td>0</td>\n",
              "    </tr>\n",
              "    <tr>\n",
              "      <th>sales</th>\n",
              "      <td>0</td>\n",
              "    </tr>\n",
              "  </tbody>\n",
              "</table>\n",
              "</div>"
            ],
            "text/plain": [
              "       Quantidade de Dados Ausentes\n",
              "date                              0\n",
              "store                             0\n",
              "item                              0\n",
              "sales                             0"
            ]
          },
          "metadata": {},
          "execution_count": 15
        }
      ]
    },
    {
      "cell_type": "markdown",
      "metadata": {
        "id": "nzsZ6tDZKGr2"
      },
      "source": [
        "## Juntando as duas bases de dados\n",
        "\n",
        "texto sobre a junção das duas bases de dados [artigo](https://medium.com/data-hackers/pandas-combinando-data-frames-com-merge-e-concat-10e7d07ca5ec), falar do que há em comum entre as tabelas.\n",
        "\n",
        "<p align=\"center\">\n",
        "  <img src=\"https://miro.medium.com/max/700/1*0FDsAB9OelxojfmtkcLbgw.png\"\n",
        "</p>"
      ]
    },
    {
      "cell_type": "code",
      "metadata": {
        "id": "fwtZNjHHCYv5"
      },
      "source": [
        "#códigos para juntar as duas bases de dados\n",
        "df = pd.merge(produtos,vendas,how='right',left_on='item_id',right_on='item')\n",
        "\n",
        "#mudando a variável data para o índice\n",
        "df.set_index('date',inplace=True)\n",
        "\n",
        "#retirando a coluna item duplicada\n",
        "df.drop('item',axis=1,inplace=True)"
      ],
      "execution_count": 16,
      "outputs": []
    },
    {
      "cell_type": "markdown",
      "metadata": {
        "id": "1VQRMT30-r9i"
      },
      "source": [
        "algumas novas variáveis"
      ]
    },
    {
      "cell_type": "code",
      "metadata": {
        "id": "4hYM0Eey-t3F"
      },
      "source": [
        "#receitas em dólares\n",
        "df['revenue_usd'] = df.sales * df.price_usd\n",
        "\n",
        "#receitas em reais\n",
        "df['revenue_brl'] = df.sales * df.price_brl\n",
        "\n",
        "#ano da vendas\n",
        "df['year'] = df.index.year\n",
        "\n",
        "#mês das vendas\n",
        "df['month'] =  df.index.month_name()\n",
        "\n",
        "#dia das vendas\n",
        "df['day'] = df.index.day\n",
        "\n",
        "#dia da semana\n",
        "df['day_of_week'] = df.index.dayofweek\n",
        "\n",
        "#nome do dia na semana\n",
        "df['day_name'] = df.index.day_name()\n",
        "\n",
        "#final de semana\n",
        "df['weekend'] = df.day_of_week > 4"
      ],
      "execution_count": 17,
      "outputs": []
    },
    {
      "cell_type": "code",
      "metadata": {
        "colab": {
          "base_uri": "https://localhost:8080/",
          "height": 604
        },
        "id": "fQtC1VaC-uDp",
        "outputId": "b36ddcb5-70b0-40be-82ee-c38fca4b1963"
      },
      "source": [
        "#visualizando as 5 primeiras entradas após a junção dos dados e novas variáveis\n",
        "df.sort_index(inplace=True)\n",
        "df.head()"
      ],
      "execution_count": 18,
      "outputs": [
        {
          "output_type": "execute_result",
          "data": {
            "text/html": [
              "<div>\n",
              "<style scoped>\n",
              "    .dataframe tbody tr th:only-of-type {\n",
              "        vertical-align: middle;\n",
              "    }\n",
              "\n",
              "    .dataframe tbody tr th {\n",
              "        vertical-align: top;\n",
              "    }\n",
              "\n",
              "    .dataframe thead th {\n",
              "        text-align: right;\n",
              "    }\n",
              "</style>\n",
              "<table border=\"1\" class=\"dataframe\">\n",
              "  <thead>\n",
              "    <tr style=\"text-align: right;\">\n",
              "      <th></th>\n",
              "      <th>item_id</th>\n",
              "      <th>name</th>\n",
              "      <th>producer</th>\n",
              "      <th>country</th>\n",
              "      <th>region</th>\n",
              "      <th>vintage</th>\n",
              "      <th>kind</th>\n",
              "      <th>price_brl</th>\n",
              "      <th>price_usd</th>\n",
              "      <th>store</th>\n",
              "      <th>sales</th>\n",
              "      <th>revenue_usd</th>\n",
              "      <th>revenue_brl</th>\n",
              "      <th>year</th>\n",
              "      <th>month</th>\n",
              "      <th>day</th>\n",
              "      <th>day_of_week</th>\n",
              "      <th>day_name</th>\n",
              "      <th>weekend</th>\n",
              "    </tr>\n",
              "    <tr>\n",
              "      <th>date</th>\n",
              "      <th></th>\n",
              "      <th></th>\n",
              "      <th></th>\n",
              "      <th></th>\n",
              "      <th></th>\n",
              "      <th></th>\n",
              "      <th></th>\n",
              "      <th></th>\n",
              "      <th></th>\n",
              "      <th></th>\n",
              "      <th></th>\n",
              "      <th></th>\n",
              "      <th></th>\n",
              "      <th></th>\n",
              "      <th></th>\n",
              "      <th></th>\n",
              "      <th></th>\n",
              "      <th></th>\n",
              "      <th></th>\n",
              "    </tr>\n",
              "  </thead>\n",
              "  <tbody>\n",
              "    <tr>\n",
              "      <th>2016-01-01</th>\n",
              "      <td>45</td>\n",
              "      <td>Domaine Alain Chavy Puligny-Montrachet 1er Cru...</td>\n",
              "      <td>Domaine Alain Chavy</td>\n",
              "      <td>France</td>\n",
              "      <td>Burgundy</td>\n",
              "      <td>2018</td>\n",
              "      <td>white</td>\n",
              "      <td>949.2</td>\n",
              "      <td>164.22</td>\n",
              "      <td>3</td>\n",
              "      <td>64</td>\n",
              "      <td>10510.08</td>\n",
              "      <td>60748.8</td>\n",
              "      <td>2016</td>\n",
              "      <td>January</td>\n",
              "      <td>1</td>\n",
              "      <td>4</td>\n",
              "      <td>Friday</td>\n",
              "      <td>False</td>\n",
              "    </tr>\n",
              "    <tr>\n",
              "      <th>2016-01-01</th>\n",
              "      <td>32</td>\n",
              "      <td>La Chablisienne Chablis Grand Cru Grenouilles</td>\n",
              "      <td>La Chablisienne</td>\n",
              "      <td>France</td>\n",
              "      <td>Burgundy</td>\n",
              "      <td>2015</td>\n",
              "      <td>white</td>\n",
              "      <td>509.4</td>\n",
              "      <td>88.13</td>\n",
              "      <td>3</td>\n",
              "      <td>39</td>\n",
              "      <td>3437.07</td>\n",
              "      <td>19866.6</td>\n",
              "      <td>2016</td>\n",
              "      <td>January</td>\n",
              "      <td>1</td>\n",
              "      <td>4</td>\n",
              "      <td>Friday</td>\n",
              "      <td>False</td>\n",
              "    </tr>\n",
              "    <tr>\n",
              "      <th>2016-01-01</th>\n",
              "      <td>33</td>\n",
              "      <td>La Chablisienne Chablis Grand Cru Les Preuses</td>\n",
              "      <td>La Chablisienne</td>\n",
              "      <td>France</td>\n",
              "      <td>Burgundy</td>\n",
              "      <td>2003</td>\n",
              "      <td>white</td>\n",
              "      <td>549.6</td>\n",
              "      <td>95.09</td>\n",
              "      <td>1</td>\n",
              "      <td>39</td>\n",
              "      <td>3708.51</td>\n",
              "      <td>21434.4</td>\n",
              "      <td>2016</td>\n",
              "      <td>January</td>\n",
              "      <td>1</td>\n",
              "      <td>4</td>\n",
              "      <td>Friday</td>\n",
              "      <td>False</td>\n",
              "    </tr>\n",
              "    <tr>\n",
              "      <th>2016-01-01</th>\n",
              "      <td>33</td>\n",
              "      <td>La Chablisienne Chablis Grand Cru Les Preuses</td>\n",
              "      <td>La Chablisienne</td>\n",
              "      <td>France</td>\n",
              "      <td>Burgundy</td>\n",
              "      <td>2003</td>\n",
              "      <td>white</td>\n",
              "      <td>549.6</td>\n",
              "      <td>95.09</td>\n",
              "      <td>2</td>\n",
              "      <td>67</td>\n",
              "      <td>6371.03</td>\n",
              "      <td>36823.2</td>\n",
              "      <td>2016</td>\n",
              "      <td>January</td>\n",
              "      <td>1</td>\n",
              "      <td>4</td>\n",
              "      <td>Friday</td>\n",
              "      <td>False</td>\n",
              "    </tr>\n",
              "    <tr>\n",
              "      <th>2016-01-01</th>\n",
              "      <td>33</td>\n",
              "      <td>La Chablisienne Chablis Grand Cru Les Preuses</td>\n",
              "      <td>La Chablisienne</td>\n",
              "      <td>France</td>\n",
              "      <td>Burgundy</td>\n",
              "      <td>2003</td>\n",
              "      <td>white</td>\n",
              "      <td>549.6</td>\n",
              "      <td>95.09</td>\n",
              "      <td>3</td>\n",
              "      <td>54</td>\n",
              "      <td>5134.86</td>\n",
              "      <td>29678.4</td>\n",
              "      <td>2016</td>\n",
              "      <td>January</td>\n",
              "      <td>1</td>\n",
              "      <td>4</td>\n",
              "      <td>Friday</td>\n",
              "      <td>False</td>\n",
              "    </tr>\n",
              "  </tbody>\n",
              "</table>\n",
              "</div>"
            ],
            "text/plain": [
              "           item_id  ... weekend\n",
              "date                ...        \n",
              "2016-01-01      45  ...   False\n",
              "2016-01-01      32  ...   False\n",
              "2016-01-01      33  ...   False\n",
              "2016-01-01      33  ...   False\n",
              "2016-01-01      33  ...   False\n",
              "\n",
              "[5 rows x 19 columns]"
            ]
          },
          "metadata": {},
          "execution_count": 18
        }
      ]
    },
    {
      "cell_type": "markdown",
      "metadata": {
        "id": "N3VpH0-nopMc"
      },
      "source": [
        "ver os valores por ano"
      ]
    },
    {
      "cell_type": "code",
      "metadata": {
        "colab": {
          "base_uri": "https://localhost:8080/",
          "height": 441
        },
        "id": "5O6BEiSpoAXe",
        "outputId": "2bb5b32c-505e-4ec5-9498-9b2a72f760fc"
      },
      "source": [
        "#criando o fig e o ax no matplotlib\n",
        "fig, ax  = plt.subplots(figsize=(8,6))\n",
        "\n",
        "#criando o gráfico de barras\n",
        "agrupamento_por_ano = df.groupby('year').sum()\n",
        "agrupamento_por_ano.plot(y='sales',\n",
        "                         ax=ax,\n",
        "                         kind='bar',\n",
        "                         legend=False,\n",
        "                         color='#241571',\n",
        "                         alpha=0.8)\n",
        "\n",
        "ajuste_layout(ax=ax,\n",
        "              titulo = 'Quantidade de Vinhos Vendidos por ano',\n",
        "              addlabels = True,\n",
        "              y = list(agrupamento_por_ano.sales),\n",
        "              distancia = 400000)\n",
        "\n",
        "#plotando o gráfico\n",
        "plt.tight_layout();"
      ],
      "execution_count": 19,
      "outputs": [
        {
          "output_type": "display_data",
          "data": {
            "image/png": "[encoded data removed]",
            "text/plain": [
              "<Figure size 576x432 with 1 Axes>"
            ]
          },
          "metadata": {
            "needs_background": "dark"
          }
        }
      ]
    },
    {
      "cell_type": "markdown",
      "metadata": {
        "id": "qWSj4QHpq_aS"
      },
      "source": [
        "Pelo gráfico acima, notamos que o ano de **2016** tem quantidades muito **diferentes** dos demais anos. Por conta disso, é preciso **analisar** mais a fundo se isso não é um **erro** de *entrada* de dados ou se a empresa operou em apenas **alguns** dias de 2016."
      ]
    },
    {
      "cell_type": "code",
      "metadata": {
        "colab": {
          "base_uri": "https://localhost:8080/"
        },
        "id": "i-_oqNjAq-jD",
        "outputId": "7068545c-8fb4-4d6c-e63d-605c2aa06da1"
      },
      "source": [
        "#verificando quais datas aparecem de 2016\n",
        "apenas_dados_2016 = df[df.year == 2016]\n",
        "apenas_dados_2016.index"
      ],
      "execution_count": 20,
      "outputs": [
        {
          "output_type": "execute_result",
          "data": {
            "text/plain": [
              "DatetimeIndex(['2016-01-01', '2016-01-01', '2016-01-01', '2016-01-01',\n",
              "               '2016-01-01', '2016-01-01', '2016-01-01', '2016-01-01',\n",
              "               '2016-01-01', '2016-01-01',\n",
              "               ...\n",
              "               '2016-01-01', '2016-01-01', '2016-01-01', '2016-01-01',\n",
              "               '2016-01-01', '2016-01-01', '2016-01-01', '2016-01-01',\n",
              "               '2016-01-01', '2016-01-01'],\n",
              "              dtype='datetime64[ns]', name='date', length=149, freq=None)"
            ]
          },
          "metadata": {},
          "execution_count": 20
        }
      ]
    },
    {
      "cell_type": "markdown",
      "metadata": {
        "id": "lUIPTcperad7"
      },
      "source": [
        "Após avaliarmos os **registros** do ano de 2016, notamos que todos eles são da **mesma** data. Portanto, estes dados **provavelmente** provém de algum tipo de erro e serão **retirados** de nossa base de dados. Além disso, é importante notar que **não** há dados de referentes ao ano de **2017**, então é possível que a empresa **começou** suas operações em 2018."
      ]
    },
    {
      "cell_type": "code",
      "metadata": {
        "colab": {
          "base_uri": "https://localhost:8080/"
        },
        "id": "Fb4iRaPkq-lp",
        "outputId": "e617f467-4845-46ae-ff96-f8b0f2fb990b"
      },
      "source": [
        "#retirando os dados de 2016\n",
        "df = df[df.year != 2016]\n",
        "\n",
        "#conferindo se foi retirado\n",
        "df.year.unique()"
      ],
      "execution_count": 21,
      "outputs": [
        {
          "output_type": "execute_result",
          "data": {
            "text/plain": [
              "array([2018, 2019, 2020])"
            ]
          },
          "metadata": {},
          "execution_count": 21
        }
      ]
    },
    {
      "cell_type": "markdown",
      "metadata": {
        "id": "--ktAeIwC6rA"
      },
      "source": [
        "# Avaliando os outliers\n",
        "\n",
        "- falar do boxplot do revenue\n",
        "- falar do boxplot das quantidades\n",
        "- falar do método iqr"
      ]
    },
    {
      "cell_type": "code",
      "metadata": {
        "colab": {
          "base_uri": "https://localhost:8080/",
          "height": 566
        },
        "id": "yeRat8-vY9A1",
        "outputId": "22da4554-48b6-4455-a83d-06be28ec0d51"
      },
      "source": [
        "#criando o ax e o fig no matplotlib\n",
        "fig,ax = plt.subplots(figsize=(12,8),dpi=72,ncols=2)\n",
        "\n",
        "#criando o plot para receitas em dólar\n",
        "sns.boxplot(data=df,x='revenue_usd',palette='Purples',linewidth=0.35,ax=ax[0])\n",
        "ajuste_layout(ax=ax[0],\n",
        "              titulo='Receitas em dólar',\n",
        "              xlabel='revenue_usd')\n",
        "\n",
        "#criando o plot para o preço do vinho\n",
        "sns.boxplot(data=df,x='price_usd',palette='Purples',linewidth=0.35,ax=ax[1])\n",
        "ajuste_layout(ax=ax[1],\n",
        "              titulo='Preços dos vinhos em dólar',\n",
        "              xlabel='price_usd')\n",
        "\n",
        "#plotando o gráfico\n",
        "plt.tight_layout(pad=2.0);"
      ],
      "execution_count": 29,
      "outputs": [
        {
          "output_type": "display_data",
          "data": {
            "image/png": "[encoded data removed]",
            "text/plain": [
              "<Figure size 864x576 with 2 Axes>"
            ]
          },
          "metadata": {
            "needs_background": "dark"
          }
        }
      ]
    },
    {
      "cell_type": "code",
      "metadata": {
        "colab": {
          "base_uri": "https://localhost:8080/"
        },
        "id": "ANWWUyHmY88b",
        "outputId": "6959125e-8c4e-468b-d6bc-6ac274027a74"
      },
      "source": [
        "#avaliando a porcentagem de outliers na receita em dólares\n",
        "IQR = df.revenue_usd.quantile(0.75) - df.revenue_usd.quantile(0.25)\n",
        "lim_sup = df.revenue_usd.quantile(0.75) + 1.5 * IQR\n",
        "lim_inf = df.revenue_usd.quantile(0.25) - 1.5 * IQR\n",
        "\n",
        "#Verificando porcentagem de valores que são outliers e sua receita\n",
        "outliers_base_dados = df[(df.revenue_usd < lim_inf) | (df.revenue_usd > lim_sup)]\n",
        "porcentagem_de_receita = outliers_base_dados.revenue_usd.sum()/df.revenue_usd.sum()\n",
        "outliers = (df[(df.revenue_usd < lim_inf) | (df.revenue_usd > lim_sup)].shape[0]) / df.shape[0]\n",
        "\n",
        "#Realizando o print dos resultados\n",
        "print('Porcentagem de outliers: {:.2f}%'.format(outliers*100))\n",
        "print('Os outliers são responsáveis por {:.2f}% da receita da empresa'.format(porcentagem_de_receita*100))"
      ],
      "execution_count": 30,
      "outputs": [
        {
          "output_type": "stream",
          "name": "stdout",
          "text": [
            "Porcentagem de outliers: 11.17%\n",
            "Os outliers são responsáveis por 55.90% da receita da empresa\n"
          ]
        }
      ]
    },
    {
      "cell_type": "markdown",
      "metadata": {
        "id": "m_Qs4o2KK8G0"
      },
      "source": [
        "verificar a receita de cada ano"
      ]
    },
    {
      "cell_type": "code",
      "metadata": {
        "colab": {
          "base_uri": "https://localhost:8080/",
          "height": 174
        },
        "id": "ISrsZ8A7IHvw",
        "outputId": "295ca800-8c5f-414c-eb90-0eb34e9ee963"
      },
      "source": [
        "#tabela com a receita de cada ano\n",
        "df.groupby(by='year')['revenue_usd'].sum().to_frame()"
      ],
      "execution_count": 31,
      "outputs": [
        {
          "output_type": "execute_result",
          "data": {
            "text/html": [
              "<div>\n",
              "<style scoped>\n",
              "    .dataframe tbody tr th:only-of-type {\n",
              "        vertical-align: middle;\n",
              "    }\n",
              "\n",
              "    .dataframe tbody tr th {\n",
              "        vertical-align: top;\n",
              "    }\n",
              "\n",
              "    .dataframe thead th {\n",
              "        text-align: right;\n",
              "    }\n",
              "</style>\n",
              "<table border=\"1\" class=\"dataframe\">\n",
              "  <thead>\n",
              "    <tr style=\"text-align: right;\">\n",
              "      <th></th>\n",
              "      <th>revenue_usd</th>\n",
              "    </tr>\n",
              "    <tr>\n",
              "      <th>year</th>\n",
              "      <th></th>\n",
              "    </tr>\n",
              "  </thead>\n",
              "  <tbody>\n",
              "    <tr>\n",
              "      <th>2018</th>\n",
              "      <td>2.880908e+09</td>\n",
              "    </tr>\n",
              "    <tr>\n",
              "      <th>2019</th>\n",
              "      <td>2.911967e+09</td>\n",
              "    </tr>\n",
              "    <tr>\n",
              "      <th>2020</th>\n",
              "      <td>2.945613e+09</td>\n",
              "    </tr>\n",
              "  </tbody>\n",
              "</table>\n",
              "</div>"
            ],
            "text/plain": [
              "       revenue_usd\n",
              "year              \n",
              "2018  2.880908e+09\n",
              "2019  2.911967e+09\n",
              "2020  2.945613e+09"
            ]
          },
          "metadata": {},
          "execution_count": 31
        }
      ]
    },
    {
      "cell_type": "markdown",
      "metadata": {
        "id": "ASfPFH-LD3h8"
      },
      "source": [
        "vendas em um dia e boxplot"
      ]
    },
    {
      "cell_type": "code",
      "metadata": {
        "colab": {
          "base_uri": "https://localhost:8080/",
          "height": 454
        },
        "id": "yy2XiSudDRfQ",
        "outputId": "6c028615-4910-43b5-e40f-4bab1d68e5b1"
      },
      "source": [
        "#avaliando a quantidade de vendas diária\n",
        "quantidade_de_vinhos_vendida_por_dia = df.groupby(by='date').sales.sum()\n",
        "quantidade_de_vinhos_vendida_por_dia.to_frame()"
      ],
      "execution_count": 32,
      "outputs": [
        {
          "output_type": "execute_result",
          "data": {
            "text/html": [
              "<div>\n",
              "<style scoped>\n",
              "    .dataframe tbody tr th:only-of-type {\n",
              "        vertical-align: middle;\n",
              "    }\n",
              "\n",
              "    .dataframe tbody tr th {\n",
              "        vertical-align: top;\n",
              "    }\n",
              "\n",
              "    .dataframe thead th {\n",
              "        text-align: right;\n",
              "    }\n",
              "</style>\n",
              "<table border=\"1\" class=\"dataframe\">\n",
              "  <thead>\n",
              "    <tr style=\"text-align: right;\">\n",
              "      <th></th>\n",
              "      <th>sales</th>\n",
              "    </tr>\n",
              "    <tr>\n",
              "      <th>date</th>\n",
              "      <th></th>\n",
              "    </tr>\n",
              "  </thead>\n",
              "  <tbody>\n",
              "    <tr>\n",
              "      <th>2018-01-01</th>\n",
              "      <td>43432</td>\n",
              "    </tr>\n",
              "    <tr>\n",
              "      <th>2018-01-02</th>\n",
              "      <td>43181</td>\n",
              "    </tr>\n",
              "    <tr>\n",
              "      <th>2018-01-03</th>\n",
              "      <td>43298</td>\n",
              "    </tr>\n",
              "    <tr>\n",
              "      <th>2018-01-04</th>\n",
              "      <td>42216</td>\n",
              "    </tr>\n",
              "    <tr>\n",
              "      <th>2018-01-05</th>\n",
              "      <td>42001</td>\n",
              "    </tr>\n",
              "    <tr>\n",
              "      <th>...</th>\n",
              "      <td>...</td>\n",
              "    </tr>\n",
              "    <tr>\n",
              "      <th>2020-12-27</th>\n",
              "      <td>45931</td>\n",
              "    </tr>\n",
              "    <tr>\n",
              "      <th>2020-12-28</th>\n",
              "      <td>42754</td>\n",
              "    </tr>\n",
              "    <tr>\n",
              "      <th>2020-12-29</th>\n",
              "      <td>43804</td>\n",
              "    </tr>\n",
              "    <tr>\n",
              "      <th>2020-12-30</th>\n",
              "      <td>44546</td>\n",
              "    </tr>\n",
              "    <tr>\n",
              "      <th>2020-12-31</th>\n",
              "      <td>44592</td>\n",
              "    </tr>\n",
              "  </tbody>\n",
              "</table>\n",
              "<p>1096 rows × 1 columns</p>\n",
              "</div>"
            ],
            "text/plain": [
              "            sales\n",
              "date             \n",
              "2018-01-01  43432\n",
              "2018-01-02  43181\n",
              "2018-01-03  43298\n",
              "2018-01-04  42216\n",
              "2018-01-05  42001\n",
              "...           ...\n",
              "2020-12-27  45931\n",
              "2020-12-28  42754\n",
              "2020-12-29  43804\n",
              "2020-12-30  44546\n",
              "2020-12-31  44592\n",
              "\n",
              "[1096 rows x 1 columns]"
            ]
          },
          "metadata": {},
          "execution_count": 32
        }
      ]
    },
    {
      "cell_type": "code",
      "metadata": {
        "colab": {
          "base_uri": "https://localhost:8080/",
          "height": 300
        },
        "id": "9zVVWxTtDRgE",
        "outputId": "16ffec9c-96e7-4853-841d-326937006417"
      },
      "source": [
        "#principais métricas de quantidades vendidas em um único dia\n",
        "quantidade_de_vinhos_vendida_por_dia.describe().round(1).to_frame()"
      ],
      "execution_count": 33,
      "outputs": [
        {
          "output_type": "execute_result",
          "data": {
            "text/html": [
              "<div>\n",
              "<style scoped>\n",
              "    .dataframe tbody tr th:only-of-type {\n",
              "        vertical-align: middle;\n",
              "    }\n",
              "\n",
              "    .dataframe tbody tr th {\n",
              "        vertical-align: top;\n",
              "    }\n",
              "\n",
              "    .dataframe thead th {\n",
              "        text-align: right;\n",
              "    }\n",
              "</style>\n",
              "<table border=\"1\" class=\"dataframe\">\n",
              "  <thead>\n",
              "    <tr style=\"text-align: right;\">\n",
              "      <th></th>\n",
              "      <th>sales</th>\n",
              "    </tr>\n",
              "  </thead>\n",
              "  <tbody>\n",
              "    <tr>\n",
              "      <th>count</th>\n",
              "      <td>1096.0</td>\n",
              "    </tr>\n",
              "    <tr>\n",
              "      <th>mean</th>\n",
              "      <td>46370.2</td>\n",
              "    </tr>\n",
              "    <tr>\n",
              "      <th>std</th>\n",
              "      <td>2136.4</td>\n",
              "    </tr>\n",
              "    <tr>\n",
              "      <th>min</th>\n",
              "      <td>38322.0</td>\n",
              "    </tr>\n",
              "    <tr>\n",
              "      <th>25%</th>\n",
              "      <td>44833.8</td>\n",
              "    </tr>\n",
              "    <tr>\n",
              "      <th>50%</th>\n",
              "      <td>46327.0</td>\n",
              "    </tr>\n",
              "    <tr>\n",
              "      <th>75%</th>\n",
              "      <td>47699.5</td>\n",
              "    </tr>\n",
              "    <tr>\n",
              "      <th>max</th>\n",
              "      <td>52901.0</td>\n",
              "    </tr>\n",
              "  </tbody>\n",
              "</table>\n",
              "</div>"
            ],
            "text/plain": [
              "         sales\n",
              "count   1096.0\n",
              "mean   46370.2\n",
              "std     2136.4\n",
              "min    38322.0\n",
              "25%    44833.8\n",
              "50%    46327.0\n",
              "75%    47699.5\n",
              "max    52901.0"
            ]
          },
          "metadata": {},
          "execution_count": 33
        }
      ]
    },
    {
      "cell_type": "markdown",
      "metadata": {
        "id": "4bZUCWG_LJNS"
      },
      "source": [
        "CONCLUSÃO SOBRE ESTA QUANTIDADE DE OUTLIERS"
      ]
    },
    {
      "cell_type": "markdown",
      "metadata": {
        "id": "Xj3hHsKD_Xvj"
      },
      "source": [
        "# Análise Exploratória dos Dados\n",
        "\n",
        "texto texto"
      ]
    },
    {
      "cell_type": "markdown",
      "metadata": {
        "id": "jHBkx7puG1hY"
      },
      "source": [
        "falar das estatísticas descritivas, falar que é de uma única venda"
      ]
    },
    {
      "cell_type": "code",
      "metadata": {
        "id": "_ocBuLWbKPmr",
        "colab": {
          "base_uri": "https://localhost:8080/",
          "height": 300
        },
        "outputId": "10c8bc61-bc56-4a0a-dcdb-5ccb486e815b"
      },
      "source": [
        "df[['price_brl','price_usd','sales','revenue_usd','revenue_brl']].describe().round(1)"
      ],
      "execution_count": null,
      "outputs": [
        {
          "output_type": "execute_result",
          "data": {
            "text/html": [
              "<div>\n",
              "<style scoped>\n",
              "    .dataframe tbody tr th:only-of-type {\n",
              "        vertical-align: middle;\n",
              "    }\n",
              "\n",
              "    .dataframe tbody tr th {\n",
              "        vertical-align: top;\n",
              "    }\n",
              "\n",
              "    .dataframe thead th {\n",
              "        text-align: right;\n",
              "    }\n",
              "</style>\n",
              "<table border=\"1\" class=\"dataframe\">\n",
              "  <thead>\n",
              "    <tr style=\"text-align: right;\">\n",
              "      <th></th>\n",
              "      <th>price_brl</th>\n",
              "      <th>price_usd</th>\n",
              "      <th>sales</th>\n",
              "      <th>revenue_usd</th>\n",
              "      <th>revenue_brl</th>\n",
              "    </tr>\n",
              "  </thead>\n",
              "  <tbody>\n",
              "    <tr>\n",
              "      <th>count</th>\n",
              "      <td>719922.0</td>\n",
              "      <td>719922.0</td>\n",
              "      <td>719922.0</td>\n",
              "      <td>719922.0</td>\n",
              "      <td>719922.0</td>\n",
              "    </tr>\n",
              "    <tr>\n",
              "      <th>mean</th>\n",
              "      <td>967.7</td>\n",
              "      <td>167.4</td>\n",
              "      <td>70.6</td>\n",
              "      <td>12138.1</td>\n",
              "      <td>70158.3</td>\n",
              "    </tr>\n",
              "    <tr>\n",
              "      <th>std</th>\n",
              "      <td>1406.5</td>\n",
              "      <td>243.3</td>\n",
              "      <td>41.4</td>\n",
              "      <td>22349.8</td>\n",
              "      <td>129181.7</td>\n",
              "    </tr>\n",
              "    <tr>\n",
              "      <th>min</th>\n",
              "      <td>52.8</td>\n",
              "      <td>9.1</td>\n",
              "      <td>1.0</td>\n",
              "      <td>9.1</td>\n",
              "      <td>52.8</td>\n",
              "    </tr>\n",
              "    <tr>\n",
              "      <th>25%</th>\n",
              "      <td>259.2</td>\n",
              "      <td>44.8</td>\n",
              "      <td>35.0</td>\n",
              "      <td>2253.8</td>\n",
              "      <td>13028.4</td>\n",
              "    </tr>\n",
              "    <tr>\n",
              "      <th>50%</th>\n",
              "      <td>509.4</td>\n",
              "      <td>88.1</td>\n",
              "      <td>67.0</td>\n",
              "      <td>5051.3</td>\n",
              "      <td>29198.4</td>\n",
              "    </tr>\n",
              "    <tr>\n",
              "      <th>75%</th>\n",
              "      <td>949.2</td>\n",
              "      <td>164.2</td>\n",
              "      <td>104.0</td>\n",
              "      <td>11428.3</td>\n",
              "      <td>66056.4</td>\n",
              "    </tr>\n",
              "    <tr>\n",
              "      <th>max</th>\n",
              "      <td>10992.0</td>\n",
              "      <td>1901.7</td>\n",
              "      <td>196.0</td>\n",
              "      <td>285259.5</td>\n",
              "      <td>1648800.0</td>\n",
              "    </tr>\n",
              "  </tbody>\n",
              "</table>\n",
              "</div>"
            ],
            "text/plain": [
              "       price_brl  price_usd     sales  revenue_usd  revenue_brl\n",
              "count   719922.0   719922.0  719922.0     719922.0     719922.0\n",
              "mean       967.7      167.4      70.6      12138.1      70158.3\n",
              "std       1406.5      243.3      41.4      22349.8     129181.7\n",
              "min         52.8        9.1       1.0          9.1         52.8\n",
              "25%        259.2       44.8      35.0       2253.8      13028.4\n",
              "50%        509.4       88.1      67.0       5051.3      29198.4\n",
              "75%        949.2      164.2     104.0      11428.3      66056.4\n",
              "max      10992.0     1901.7     196.0     285259.5    1648800.0"
            ]
          },
          "metadata": {},
          "execution_count": 208
        }
      ]
    },
    {
      "cell_type": "markdown",
      "metadata": {
        "id": "TEz6hR5iWb8S"
      },
      "source": [
        "ver histogramas dos preços e vendas, colocar tons de azul diferentes, mudar o eixo y"
      ]
    },
    {
      "cell_type": "code",
      "metadata": {
        "colab": {
          "base_uri": "https://localhost:8080/",
          "height": 423
        },
        "id": "THpHKc8gWfOZ",
        "outputId": "ed6ddda9-f615-4260-f34a-6d036e5700e8"
      },
      "source": [
        "#criando a fig e ax no matplotlib\n",
        "fig, ax = plt.subplots(figsize=(14,6), ncols=2)\n",
        "\n",
        "#criação do primeiro histograma\n",
        "df.price_usd.hist(ax=ax[0],xlabelsize=10,ylabelsize=10,bins=20,color='#3944bc',alpha=0.5)\n",
        "ajuste_layout(ax=ax[0],\n",
        "              titulo='Distribuição dos preços dos vinhos em dólar',\n",
        "              grid=True,grid_lw=0.4)\n",
        "\n",
        "#criação do segundo histograma\n",
        "df.sales.hist(ax=ax[1],xlabelsize=10,ylabelsize=10,bins=20,color='#0a1172',alpha=0.7)\n",
        "ajuste_layout(ax=ax[1],\n",
        "              titulo='Distribuição das quantidades vendidas',\n",
        "              grid=True,grid_lw=0.14)\n",
        "\n",
        "#plotando os gráficos\n",
        "plt.tight_layout(pad=2.0)"
      ],
      "execution_count": 34,
      "outputs": [
        {
          "output_type": "display_data",
          "data": {
            "image/png": "[encoded data removed]",
            "text/plain": [
              "<Figure size 1008x432 with 2 Axes>"
            ]
          },
          "metadata": {
            "needs_background": "dark"
          }
        }
      ]
    },
    {
      "cell_type": "markdown",
      "metadata": {
        "id": "Be56oGUfXMEM"
      },
      "source": [
        "fazer um boxplot apenas das lojas, vendas e dinheiro"
      ]
    },
    {
      "cell_type": "code",
      "metadata": {
        "id": "UL7oPjeYWfQg",
        "colab": {
          "base_uri": "https://localhost:8080/",
          "height": 423
        },
        "outputId": "425d163b-476a-4ba8-8f45-723cd7e1bcab"
      },
      "source": [
        "#criando a fig e ax no matplotlib\n",
        "fig, ax = plt.subplots(figsize=(14,6), ncols=2)\n",
        "\n",
        "#criando o primeiro gráfico\n",
        "sns.boxplot(data=df,x='store',y='sales',ax=ax[0],palette='Blues',linewidth=0.35)\n",
        "ajuste_layout(ax=ax[0])\n",
        "\n",
        "#criando o segundo gráfico\n",
        "sns.boxplot(data=df,x='store',y='price_usd',ax=ax[1],palette='Purples',linewidth=0.35)\n",
        "ajuste_layout(ax=ax[1])\n",
        "\n",
        "#plotando os gráficos\n",
        "plt.tight_layout(pad=2.0)"
      ],
      "execution_count": null,
      "outputs": [
        {
          "output_type": "display_data",
          "data": {
            "image/png": "[encoded data removed]",
            "text/plain": [
              "<Figure size 1008x432 with 2 Axes>"
            ]
          },
          "metadata": {
            "needs_background": "dark"
          }
        }
      ]
    },
    {
      "cell_type": "markdown",
      "metadata": {
        "id": "5aCDs6qBGQVG"
      },
      "source": [
        "fazer um boxplot geral, vendas e dinheiro em dólar, colocar titulo"
      ]
    },
    {
      "cell_type": "code",
      "metadata": {
        "id": "22i9-A3QXOP6",
        "colab": {
          "base_uri": "https://localhost:8080/",
          "height": 423
        },
        "outputId": "a49fe116-606d-4dea-adc1-4bb0a29c3ea5"
      },
      "source": [
        "#criando a fig e ax no matplotlib\n",
        "fig, ax = plt.subplots(figsize=(14,6), ncols=2)\n",
        "\n",
        "#criando o primeiro gráfico\n",
        "sns.boxplot(data=df,y='sales',ax=ax[0],palette='Blues',linewidth=0.35)\n",
        "ajuste_layout(ax=ax[0])\n",
        "\n",
        "#criando o segundo gráfico\n",
        "sns.boxplot(data=df,y='price_usd',ax=ax[1],palette='Purples',linewidth=0.35)\n",
        "ajuste_layout(ax=ax[1])\n",
        "\n",
        "#plotando os gráficos\n",
        "plt.tight_layout(pad=2.0)"
      ],
      "execution_count": null,
      "outputs": [
        {
          "output_type": "display_data",
          "data": {
            "image/png": "[encoded data removed]",
            "text/plain": [
              "<Figure size 1008x432 with 2 Axes>"
            ]
          },
          "metadata": {
            "needs_background": "dark"
          }
        }
      ]
    },
    {
      "cell_type": "markdown",
      "metadata": {
        "id": "8mHKGssNaOM-"
      },
      "source": [
        "vinho mais caro"
      ]
    },
    {
      "cell_type": "code",
      "metadata": {
        "colab": {
          "base_uri": "https://localhost:8080/"
        },
        "id": "7n1ZmFZ9Iblv",
        "outputId": "0e22048b-c42d-4eec-d9a9-be4bb1f5bc79"
      },
      "source": [
        "#avaliando o preço do vinho mais caro\n",
        "print('O vinho mais caro do catálogo é o {} que custa cerca USD {:,}\\n'.format(df[df.price_usd == df.price_usd.max()].name[0],\n",
        "                                                                             df.price_usd.max()))\n",
        "\n",
        "#avaliando o preço do vinho mais barato\n",
        "print('O vinho mais barato do catálogo é o {} que custa cerca USD {:,}'.format(df[df.price_usd == df.price_usd.min()].name[0],\n",
        "                                                                             df.price_usd.min()))"
      ],
      "execution_count": null,
      "outputs": [
        {
          "output_type": "stream",
          "name": "stdout",
          "text": [
            "O vinho mais caro do catálogo é o Domaine Ponsot Clos de La Roche Grand Cru Cuvee Vieilles Vignes - Magnum que custa cerca USD 1,901.73\n",
            "\n",
            "O vinho mais barato do catálogo é o Cava Juvé & Camps Cinta Purpura Reserva Brut - 375ml (Half Bottle) que custa cerca USD 9.13\n"
          ]
        }
      ]
    },
    {
      "cell_type": "markdown",
      "metadata": {
        "id": "q39ebR9jPRIu"
      },
      "source": [
        "preço do vinho e quantidade vendida em scatterplot"
      ]
    },
    {
      "cell_type": "code",
      "metadata": {
        "id": "7dPuQX5NWfSq"
      },
      "source": [
        ""
      ],
      "execution_count": null,
      "outputs": []
    },
    {
      "cell_type": "code",
      "metadata": {
        "id": "BW4pavmQXrS2"
      },
      "source": [
        ""
      ],
      "execution_count": null,
      "outputs": []
    },
    {
      "cell_type": "code",
      "metadata": {
        "id": "J5AWkUCEXrVR"
      },
      "source": [
        ""
      ],
      "execution_count": null,
      "outputs": []
    },
    {
      "cell_type": "code",
      "metadata": {
        "id": "V9tFV8q_XrXY"
      },
      "source": [
        ""
      ],
      "execution_count": null,
      "outputs": []
    },
    {
      "cell_type": "markdown",
      "metadata": {
        "id": "ZdIYIMC4a40y"
      },
      "source": [
        "#Séries Temporais\n",
        "\n",
        "[link](https://www.inf.ufsc.br/~marcelo.menezes.reis/Cap4.pdf)\n",
        "\n",
        "diferenças entre regressão e série temporal"
      ]
    },
    {
      "cell_type": "code",
      "metadata": {
        "colab": {
          "base_uri": "https://localhost:8080/"
        },
        "id": "cSYIGjuZuM3F",
        "outputId": "e681e184-c3f0-406a-9384-36a92b313db2"
      },
      "source": [
        "#verificando as datas iniciais e finais\n",
        "print('Data inicial do dataset: ',df.index.min())\n",
        "print('Data final do dataset: ',df.index.max())"
      ],
      "execution_count": 35,
      "outputs": [
        {
          "output_type": "stream",
          "name": "stdout",
          "text": [
            "Data inicial do dataset:  2018-01-01 00:00:00\n",
            "Data final do dataset:  2020-12-31 00:00:00\n"
          ]
        }
      ]
    },
    {
      "cell_type": "code",
      "metadata": {
        "colab": {
          "base_uri": "https://localhost:8080/",
          "height": 526
        },
        "id": "raPXBf92sT5i",
        "outputId": "c93c12ed-9531-48ab-8e21-8a25829330a1"
      },
      "source": [
        "#criando o fig e o ax no matplotlib\n",
        "gridsize=(3,2)\n",
        "fig=plt.figure(figsize=(12,8))\n",
        "\n",
        "#o ax1 irá ocupar o equivalente a 2 colunas e 2 linhas\n",
        "ax1 = plt.subplot2grid(gridsize, (0, 0), colspan=2, rowspan=2)\n",
        "ax2 = plt.subplot2grid(gridsize, (2, 0))\n",
        "ax3 = plt.subplot2grid(gridsize, (2, 1))\n",
        "\n",
        "#criando o gráfico da time series diário\n",
        "\n",
        "df.sales.resample('D').sum().plot(ax=ax1)\n",
        "ajuste_layout(ax=ax1,\n",
        "              titulo='Série Temporal de vendas diárias',location='center',\n",
        "              grid=True,grid_lw=0.45,grid_style='-.')\n",
        "\n",
        "#criando o gráfico da time series mensal\n",
        "df.sales.resample('M').sum().plot(ax=ax2)\n",
        "ajuste_layout(ax=ax2,\n",
        "              titulo='Série Temporal de vendas mensais',location='center',\n",
        "              grid=True,grid_lw=0.45,grid_style='-.')\n",
        "\n",
        "#criando o gráfico da time series anual\n",
        "df.sales.resample('Y').sum().plot(ax=ax3)\n",
        "ajuste_layout(ax=ax3,\n",
        "              titulo='Série Temporal de vendas anuais',location='center',\n",
        "              grid=True,grid_lw=0.45,grid_style='-.')\n",
        "\n",
        "#plotando os gráficos\n",
        "plt.tight_layout(pad=4.0)"
      ],
      "execution_count": 36,
      "outputs": [
        {
          "output_type": "display_data",
          "data": {
            "image/png": "[encoded data removed]",
            "text/plain": [
              "<Figure size 864x576 with 3 Axes>"
            ]
          },
          "metadata": {
            "needs_background": "dark"
          }
        }
      ]
    },
    {
      "cell_type": "markdown",
      "metadata": {
        "id": "_Q9tvLEuB5ml"
      },
      "source": [
        "falar de separar em componentes"
      ]
    },
    {
      "cell_type": "code",
      "metadata": {
        "id": "JoNgcA-qa7ec",
        "colab": {
          "base_uri": "https://localhost:8080/",
          "height": 566
        },
        "outputId": "a94589e1-2c6c-40e8-c761-786cfc4857eb"
      },
      "source": [
        "#criando o fig e o ax no matplotlib\n",
        "gridsize=(3,3)\n",
        "fig=plt.figure(figsize=(12,8))\n",
        "\n",
        "#decompondo os componentes da série temporal\n",
        "agregando_valores_mensais = df.sales.resample('M').sum().to_frame()\n",
        "result = seasonal_decompose(agregando_valores_mensais.sales)\n",
        "\n",
        "#o ax1 irá ocupar o equivalente a 2 colunas e 2 linhas\n",
        "ax1 = plt.subplot2grid(gridsize, (0, 0), colspan=3, rowspan=2)\n",
        "ax2 = plt.subplot2grid(gridsize, (2, 0))\n",
        "ax3 = plt.subplot2grid(gridsize, (2, 1))\n",
        "ax4 = plt.subplot2grid(gridsize, (2, 2))\n",
        "\n",
        "#construindo o primeiro gráfico\n",
        "result.observed.plot(ax=ax1)\n",
        "ajuste_layout(ax=ax1)\n",
        "\n",
        "#construindo o segundo gráfico\n",
        "result.trend.plot(ax=ax2)\n",
        "ajuste_layout(ax=ax2)\n",
        "\n",
        "#construindo o terceiro gráfico\n",
        "result.seasonal.plot(ax=ax3)\n",
        "ajuste_layout(ax=ax3)\n",
        "\n",
        "#construindo o quarto gráfico\n",
        "result.resid.plot(ax=ax4)\n",
        "ajuste_layout(ax=ax4)\n",
        "\n",
        "#plotando os gráficos\n",
        "plt.tight_layout(pad=2.0);"
      ],
      "execution_count": 80,
      "outputs": [
        {
          "output_type": "display_data",
          "data": {
            "image/png": "[encoded data removed]",
            "text/plain": [
              "<Figure size 864x576 with 4 Axes>"
            ]
          },
          "metadata": {
            "needs_background": "dark"
          }
        }
      ]
    },
    {
      "cell_type": "markdown",
      "metadata": {
        "id": "aYgZT3zbg714"
      },
      "source": [
        "**Hipóteses**:\n",
        "\n",
        "* x\n",
        "* x\n",
        "* x"
      ]
    },
    {
      "cell_type": "markdown",
      "metadata": {
        "id": "lNmXOdRlg70o"
      },
      "source": [
        "### Verificando se a série é estacionária\n",
        "\n",
        "falar do ADF e explicar as métricas, explicar h0 etc"
      ]
    },
    {
      "cell_type": "code",
      "metadata": {
        "id": "FTIN2TRUa7hZ",
        "colab": {
          "base_uri": "https://localhost:8080/"
        },
        "outputId": "16669761-6ca5-4dbf-88e1-8de871c60330"
      },
      "source": [
        "#extrarir somente os valores\n",
        "x = agregando_valores_mensais\n",
        "\n",
        "#aplicar ADF e imprimir os resultados\n",
        "result = adfuller(x.sales)\n",
        "print('Augmented Dickey–Fuller:')\n",
        "print('Teste estatístico: ','{:.2f}'.format(result[0]))\n",
        "print('P-valor: ','{:.5f}'.format(result[1]))\n",
        "print('Valores Críticos:')\n",
        "for key, value in result[4].items():\n",
        "\tprint('\\t{}: {:.4f}'.format(key, value));"
      ],
      "execution_count": 81,
      "outputs": [
        {
          "output_type": "stream",
          "name": "stdout",
          "text": [
            "Augmented Dickey–Fuller:\n",
            "Teste estatístico:  -3.80\n",
            "P-valor:  0.00293\n",
            "Valores Críticos:\n",
            "\t1%: -3.6699\n",
            "\t5%: -2.9641\n",
            "\t10%: -2.6212\n"
          ]
        }
      ]
    },
    {
      "cell_type": "markdown",
      "metadata": {
        "id": "QMEwpiW1gPw9"
      },
      "source": [
        "texto falando sobre testes tradicionais utilizando nas previsões  e machine learning"
      ]
    },
    {
      "cell_type": "code",
      "metadata": {
        "id": "dEX9Vr3pp4UC",
        "colab": {
          "base_uri": "https://localhost:8080/"
        },
        "outputId": "bec8c8cd-6697-465f-d5c6-8e23bb9f2355"
      },
      "source": [
        "#separar em treino e validação\n",
        "train = agregando_valores_mensais.iloc[:30]\n",
        "validation  =  agregando_valores_mensais.iloc[30:]\n",
        "\n",
        "#verificando a quantidade de valores\n",
        "print('Treino:',train.shape[0],'registros')\n",
        "print('Validação:',validation.shape[0],'registros')"
      ],
      "execution_count": 108,
      "outputs": [
        {
          "output_type": "stream",
          "name": "stdout",
          "text": [
            "Treino: 30 registros\n",
            "Validação: 6 registros\n"
          ]
        }
      ]
    },
    {
      "cell_type": "markdown",
      "metadata": {
        "id": "h_Dk6wHSf0le"
      },
      "source": [
        "# ARIMA\n",
        "\n",
        "falar do arima, suas componentes e que é um modelo tradicional\n",
        "\n",
        "[arima](https://www.machinelearningplus.com/time-series/arima-model-time-series-forecasting-python/)\n",
        "\n",
        "\n",
        "[youtube](https://www.youtube.com/watch?v=v7rZpT8NCbk&t=10s)"
      ]
    },
    {
      "cell_type": "code",
      "metadata": {
        "id": "Ek_mgT5df9ws"
      },
      "source": [
        "#utilizar o auto_arima para obter os melhores parâmetros"
      ],
      "execution_count": null,
      "outputs": []
    },
    {
      "cell_type": "code",
      "metadata": {
        "id": "Om_QvaOuf9xl"
      },
      "source": [
        "#fazer o fit do modelo"
      ],
      "execution_count": null,
      "outputs": []
    },
    {
      "cell_type": "markdown",
      "metadata": {
        "id": "ilhgAX74gBcc"
      },
      "source": [
        "#XGBoost\n",
        "\n",
        "texto explicando e  como é possível usar\n",
        "\n",
        "[link](https://machinelearningmastery.com/xgboost-for-time-series-forecasting/)"
      ]
    },
    {
      "cell_type": "code",
      "metadata": {
        "id": "IdMzh2cFgFab"
      },
      "source": [
        ""
      ],
      "execution_count": null,
      "outputs": []
    },
    {
      "cell_type": "code",
      "metadata": {
        "id": "A2sIqj0tgFcu"
      },
      "source": [
        ""
      ],
      "execution_count": null,
      "outputs": []
    },
    {
      "cell_type": "markdown",
      "metadata": {
        "id": "Fu2fHbkXKr86"
      },
      "source": [
        "#Prophet\n",
        "\n",
        "explicar o que é prophet, ler a documentação\n",
        "\n",
        "[fb](https://research.fb.com/blog/2017/02/prophet-forecasting-at-scale/)\n",
        "[paper](https://peerj.com/preprints/3190.pdf)"
      ]
    },
    {
      "cell_type": "code",
      "metadata": {
        "id": "2dvExeXYKuzP"
      },
      "source": [
        ""
      ],
      "execution_count": null,
      "outputs": []
    },
    {
      "cell_type": "code",
      "metadata": {
        "id": "-DapwbEnijxK"
      },
      "source": [
        ""
      ],
      "execution_count": null,
      "outputs": []
    },
    {
      "cell_type": "code",
      "metadata": {
        "id": "m50h06M3ijzl"
      },
      "source": [
        ""
      ],
      "execution_count": null,
      "outputs": []
    },
    {
      "cell_type": "markdown",
      "metadata": {
        "id": "dqus0KmROKlJ"
      },
      "source": [
        "# Realizando as Previsões\n",
        "\n",
        "falar do erro que vai utilizar"
      ]
    },
    {
      "cell_type": "code",
      "metadata": {
        "id": "zxgqKjcqgmqL"
      },
      "source": [
        "#criar uma função para printar o erro"
      ],
      "execution_count": null,
      "outputs": []
    },
    {
      "cell_type": "markdown",
      "metadata": {
        "id": "dmOLdNEJgXHW"
      },
      "source": [
        "com arima"
      ]
    },
    {
      "cell_type": "code",
      "metadata": {
        "id": "5zYjE6tMOMHI"
      },
      "source": [
        "# fazer a previsao com arima e plot"
      ],
      "execution_count": null,
      "outputs": []
    },
    {
      "cell_type": "code",
      "metadata": {
        "id": "HuENhJo_geE2"
      },
      "source": [
        "#calcular o erro"
      ],
      "execution_count": null,
      "outputs": []
    },
    {
      "cell_type": "markdown",
      "metadata": {
        "id": "qIyDXNCDgfW7"
      },
      "source": [
        "xgboost"
      ]
    },
    {
      "cell_type": "code",
      "metadata": {
        "id": "Pum6VHQKgf5R"
      },
      "source": [
        "# fazer a previsao com xgb e plot"
      ],
      "execution_count": null,
      "outputs": []
    },
    {
      "cell_type": "code",
      "metadata": {
        "id": "wJU-v1Ckgg_U"
      },
      "source": [
        "#calcular o erro"
      ],
      "execution_count": null,
      "outputs": []
    },
    {
      "cell_type": "markdown",
      "metadata": {
        "id": "TcrT7U8Ogpgz"
      },
      "source": [
        "prophet"
      ]
    },
    {
      "cell_type": "code",
      "metadata": {
        "id": "DEDZtsdcgqQJ"
      },
      "source": [
        "# fazer a previsao com prophet e plot"
      ],
      "execution_count": null,
      "outputs": []
    },
    {
      "cell_type": "code",
      "metadata": {
        "id": "fwT4N_wdgqmC"
      },
      "source": [
        "#calcular o erro"
      ],
      "execution_count": null,
      "outputs": []
    },
    {
      "cell_type": "markdown",
      "metadata": {
        "id": "6aJwj8Jigq4_"
      },
      "source": [
        "#Conclusões\n",
        "\n",
        "* x\n",
        "* x\n",
        "* x\n"
      ]
    }
  ]
}