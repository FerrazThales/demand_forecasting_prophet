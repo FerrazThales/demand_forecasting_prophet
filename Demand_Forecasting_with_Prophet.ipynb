{
  "nbformat": 4,
  "nbformat_minor": 0,
  "metadata": {
    "colab": {
      "name": "Demand Forecasting with Prophet",
      "provenance": [],
      "collapsed_sections": [],
      "include_colab_link": true
    },
    "kernelspec": {
      "name": "python3",
      "display_name": "Python 3"
    }
  },
  "cells": [
    {
      "cell_type": "markdown",
      "metadata": {
        "id": "view-in-github",
        "colab_type": "text"
      },
      "source": [
        "<a href=\"https://colab.research.google.com/github/FerrazThales/demand_forecasting_prophet/blob/main/Demand_Forecasting_with_Prophet.ipynb\" target=\"_parent\"><img src=\"https://colab.research.google.com/assets/colab-badge.svg\" alt=\"Open In Colab\"/></a>"
      ]
    },
    {
      "cell_type": "markdown",
      "metadata": {
        "id": "EE9X48au6Mez"
      },
      "source": [
        "<h1 align=\"center\"><b>Encontre eu e meus projetos nas redes sociais!</b></h1>\n",
        "<table>\n",
        "  <tr>\n",
        "  <td><a href=\"https://thalesferraz.medium.com/\">\n",
        "  <img src=\"https://github.com/FerrazThales/FerrazThales/blob/main/logo_gif.gif?raw=true\" width=\"800\" title=\"Olá, Meu nome é Thales e sou cientista de Dados!\"/>\n",
        "  </a>\n",
        "  </td>\n",
        "  <td><a href=\"https://github.com/FerrazThales\">\n",
        "  <img hspace=30 vspace=110 src=\"https://image.flaticon.com/icons/png/512/1051/1051326.png\" width=\"60%\" title=\"Entre em meu Github e veja mais projetos!\" /> \n",
        "  </a>\n",
        "  </td>\n",
        "  <td>\n",
        "  <a href=\"\">\n",
        "  <img vspace=110 src=\"https://download.logo.wine/logo/Medium_(website)/Medium_(website)-Logo.wine.png\" width=\"800\" title=\"Veja este meu projeto no Medium!\"/>\n",
        "  </a>\n",
        "  </td>\n",
        "  <td><a href=\"https://www.linkedin.com/in/thalesdefreitasferraz/\"><img vspace=150 src=\"https://image.flaticon.com/icons/png/512/889/889122.png\" width=\"40%\" title=\"Vamos trocar uma idéia sobre Data Science no LinkedIn?\" />\n",
        "  </a>\n",
        "  </td>\n",
        "  </tr>\n",
        "</table>"
      ]
    },
    {
      "cell_type": "markdown",
      "metadata": {
        "id": "3bly3c2M_B0y"
      },
      "source": [
        "# O que você vai aprender neste projeto:\n",
        "\n",
        "* falar sobre previsão e demanda.\n",
        "* tratamento e limpeza de dados. (outliers)\n",
        "* falar sobre séries temporais\n",
        "* aplicação arima, xgboost e prophet."
      ]
    },
    {
      "cell_type": "markdown",
      "metadata": {
        "id": "JFy4Niuv_Kgn"
      },
      "source": [
        "# Texto Sobre previsão de demanda e vinhos\n",
        "\n",
        "texto texto texto\n",
        "\n",
        "texto texto\n",
        "\n",
        "<p align=\"center\">\n",
        "  <img src=\"https://image.freepik.com/fotos-gratis/copo-de-vinho-tinto-e-garrafa-no-balcao-de-bar_107420-65845.jpg\">\n",
        "</p>\n",
        "\n",
        "texto\n",
        "\n",
        "O objetivo desse projeto é prever a demanda por vinhos em lojas especializadas em vinho. Para esse projeto, temos 2 datasets, um sobre o catálogo de vinhos da loja e outro sobre as vendas.\n",
        "\n",
        "Nesse projeto, é VITAL que haja MUITA ATENÇÃO sobre os detalhes mencionados que permeiam as análise de séries temporais. É um projeto que demanda muita atenção e cuidado, e uma documentação feita minuciosamente."
      ]
    },
    {
      "cell_type": "code",
      "metadata": {
        "id": "Hpw0N_vE_aC9"
      },
      "source": [
        "#bibliotecas de operações matemáticas e análise/leitura de dados\n",
        "import numpy as np\n",
        "import pandas as pd\n",
        "\n",
        "#bibliotecas de visualização de dados\n",
        "import seaborn as sns\n",
        "import matplotlib.pyplot as plt\n",
        "%config InlineBackend.figure_format = 'svg'\n",
        "\n",
        "#módulo estatístico\n",
        "from statsmodels.tsa.seasonal import seasonal_decompose\n",
        "from statsmodels.tsa.arima_model import ARIMA\n",
        "\n",
        "#módulo para remover os warnings\n",
        "import warnings\n",
        "warnings.filterwarnings('ignore')\n",
        "\n",
        "#módulo de time series do facebook\n",
        "from fbprophet import Prophet"
      ],
      "execution_count": 32,
      "outputs": []
    },
    {
      "cell_type": "markdown",
      "metadata": {
        "id": "-y4see9Y_OSL"
      },
      "source": [
        "# Obtenção e Limpeza dos Dados\n",
        "\n",
        "falar que pegou do rafael que era um desafio do curso\n",
        "\n",
        "se divide em duas bases, produtos e vendas\n"
      ]
    },
    {
      "cell_type": "markdown",
      "metadata": {
        "id": "RDkkX6ZcGqex"
      },
      "source": [
        "### Base de Dados dos produtos\n",
        "\n",
        "texto\n",
        "\n",
        "#### Dicionário das Variáveis:\n",
        "\n",
        "* `item_id`: código do vinho na adega.\n",
        "* `name`: nome do vinho.\n",
        "* `producer`: nome do produtor do vinho.\n",
        "* `country`: país de origem do vinho.\n",
        "* `region`: região de produção do vinho.\n",
        "* `vintage`: ano da safra.\n",
        "* `kind`: tipo do vinho.\n",
        "\n",
        " * *Sparkling* : Espumante\n",
        " * *Rose Sparkling* : Espumante Rose\n",
        " * *White* : Branco\n",
        " * *Rosé* : Rosé\n",
        " * *Red* : Tinto\n",
        "* `price_brl`: preço unitário do vinho em real na época em que os dados foram levantados.\n",
        "* `price_usd`: preço unitário do vinho em dólar na época em que os dados foram levantados."
      ]
    },
    {
      "cell_type": "code",
      "metadata": {
        "colab": {
          "base_uri": "https://localhost:8080/",
          "height": 206
        },
        "id": "8Qjis-sv_YxR",
        "outputId": "44260f62-3eeb-4e36-c4bf-27aee7da5db6"
      },
      "source": [
        "#endereco dos dados sobre produos\n",
        "endereco_produtos = \"https://raw.githubusercontent.com/rafaelnduarte/sigmoidal_data/master/products.csv\"\n",
        "\n",
        "#guardando os dados sobre produtos\n",
        "produtos = pd.read_csv(endereco_produtos)\n",
        "\n",
        "#mostrando as 5 primeiras entrada dos dados de produtos\n",
        "produtos.head()"
      ],
      "execution_count": 15,
      "outputs": [
        {
          "output_type": "execute_result",
          "data": {
            "text/html": [
              "<div>\n",
              "<style scoped>\n",
              "    .dataframe tbody tr th:only-of-type {\n",
              "        vertical-align: middle;\n",
              "    }\n",
              "\n",
              "    .dataframe tbody tr th {\n",
              "        vertical-align: top;\n",
              "    }\n",
              "\n",
              "    .dataframe thead th {\n",
              "        text-align: right;\n",
              "    }\n",
              "</style>\n",
              "<table border=\"1\" class=\"dataframe\">\n",
              "  <thead>\n",
              "    <tr style=\"text-align: right;\">\n",
              "      <th></th>\n",
              "      <th>item_id</th>\n",
              "      <th>name</th>\n",
              "      <th>producer</th>\n",
              "      <th>country</th>\n",
              "      <th>region</th>\n",
              "      <th>vintage</th>\n",
              "      <th>kind</th>\n",
              "      <th>price_brl</th>\n",
              "      <th>price_usd</th>\n",
              "    </tr>\n",
              "  </thead>\n",
              "  <tbody>\n",
              "    <tr>\n",
              "      <th>0</th>\n",
              "      <td>1</td>\n",
              "      <td>Philipponnat Royale Reserve Brut</td>\n",
              "      <td>Philipponat</td>\n",
              "      <td>France</td>\n",
              "      <td>Champagne</td>\n",
              "      <td>NV</td>\n",
              "      <td>sparkling</td>\n",
              "      <td>339.60</td>\n",
              "      <td>58.75</td>\n",
              "    </tr>\n",
              "    <tr>\n",
              "      <th>1</th>\n",
              "      <td>2</td>\n",
              "      <td>Philipponnat Royale Reserve Rosé</td>\n",
              "      <td>Philipponat</td>\n",
              "      <td>France</td>\n",
              "      <td>Champagne</td>\n",
              "      <td>NV</td>\n",
              "      <td>rose sparkling</td>\n",
              "      <td>489.00</td>\n",
              "      <td>84.60</td>\n",
              "    </tr>\n",
              "    <tr>\n",
              "      <th>2</th>\n",
              "      <td>3</td>\n",
              "      <td>Philipponnat Cuvée 1522 Grand Cru Extra Brut</td>\n",
              "      <td>Philipponat</td>\n",
              "      <td>France</td>\n",
              "      <td>Champagne</td>\n",
              "      <td>2009</td>\n",
              "      <td>sparkling</td>\n",
              "      <td>789.00</td>\n",
              "      <td>136.51</td>\n",
              "    </tr>\n",
              "    <tr>\n",
              "      <th>3</th>\n",
              "      <td>4</td>\n",
              "      <td>Philipponnat Cuvée 1522 1er Cru Rosé</td>\n",
              "      <td>Philipponat</td>\n",
              "      <td>France</td>\n",
              "      <td>Champagne</td>\n",
              "      <td>2008</td>\n",
              "      <td>rose sparkling</td>\n",
              "      <td>899.40</td>\n",
              "      <td>155.61</td>\n",
              "    </tr>\n",
              "    <tr>\n",
              "      <th>4</th>\n",
              "      <td>5</td>\n",
              "      <td>Philipponnat Clos Des Goisses Brut</td>\n",
              "      <td>Philipponat</td>\n",
              "      <td>France</td>\n",
              "      <td>Champagne</td>\n",
              "      <td>2009</td>\n",
              "      <td>sparkling</td>\n",
              "      <td>1,548.00</td>\n",
              "      <td>267.82</td>\n",
              "    </tr>\n",
              "  </tbody>\n",
              "</table>\n",
              "</div>"
            ],
            "text/plain": [
              "   item_id                                          name  ... price_brl price_usd\n",
              "0        1              Philipponnat Royale Reserve Brut  ...    339.60     58.75\n",
              "1        2              Philipponnat Royale Reserve Rosé  ...    489.00     84.60\n",
              "2        3  Philipponnat Cuvée 1522 Grand Cru Extra Brut  ...    789.00    136.51\n",
              "3        4          Philipponnat Cuvée 1522 1er Cru Rosé  ...    899.40    155.61\n",
              "4        5            Philipponnat Clos Des Goisses Brut  ...  1,548.00    267.82\n",
              "\n",
              "[5 rows x 9 columns]"
            ]
          },
          "metadata": {},
          "execution_count": 15
        }
      ]
    },
    {
      "cell_type": "markdown",
      "metadata": {
        "id": "wLU4RIYNLzgp"
      },
      "source": [
        "texto sobre a quantidade de vinhos  e suas variáveis"
      ]
    },
    {
      "cell_type": "code",
      "metadata": {
        "colab": {
          "base_uri": "https://localhost:8080/"
        },
        "id": "rhcJVxgkLaiJ",
        "outputId": "b2d84411-d058-4783-bae0-5f4734e684c2"
      },
      "source": [
        "print('A Base de dados sobre produtos contém:')\n",
        "print('{} entradas e {} variáveis'.format(produtos.shape[0], produtos.shape[1]))"
      ],
      "execution_count": 16,
      "outputs": [
        {
          "output_type": "stream",
          "name": "stdout",
          "text": [
            "A Base de dados sobre produtos contém:\n",
            "219 entradas e 9 variáveis\n"
          ]
        }
      ]
    },
    {
      "cell_type": "markdown",
      "metadata": {
        "id": "GesdUAkbHId3"
      },
      "source": [
        "avaliar o tipo de dados"
      ]
    },
    {
      "cell_type": "code",
      "metadata": {
        "colab": {
          "base_uri": "https://localhost:8080/",
          "height": 331
        },
        "id": "GkoT8lzzHLkw",
        "outputId": "63d8acce-a343-4e49-85f8-56b94c26151a"
      },
      "source": [
        "#avaliando o tipo de dados\n",
        "pd.DataFrame(produtos.dtypes,columns=['Tipo de Dados'])"
      ],
      "execution_count": 17,
      "outputs": [
        {
          "output_type": "execute_result",
          "data": {
            "text/html": [
              "<div>\n",
              "<style scoped>\n",
              "    .dataframe tbody tr th:only-of-type {\n",
              "        vertical-align: middle;\n",
              "    }\n",
              "\n",
              "    .dataframe tbody tr th {\n",
              "        vertical-align: top;\n",
              "    }\n",
              "\n",
              "    .dataframe thead th {\n",
              "        text-align: right;\n",
              "    }\n",
              "</style>\n",
              "<table border=\"1\" class=\"dataframe\">\n",
              "  <thead>\n",
              "    <tr style=\"text-align: right;\">\n",
              "      <th></th>\n",
              "      <th>Tipo de Dados</th>\n",
              "    </tr>\n",
              "  </thead>\n",
              "  <tbody>\n",
              "    <tr>\n",
              "      <th>item_id</th>\n",
              "      <td>int64</td>\n",
              "    </tr>\n",
              "    <tr>\n",
              "      <th>name</th>\n",
              "      <td>object</td>\n",
              "    </tr>\n",
              "    <tr>\n",
              "      <th>producer</th>\n",
              "      <td>object</td>\n",
              "    </tr>\n",
              "    <tr>\n",
              "      <th>country</th>\n",
              "      <td>object</td>\n",
              "    </tr>\n",
              "    <tr>\n",
              "      <th>region</th>\n",
              "      <td>object</td>\n",
              "    </tr>\n",
              "    <tr>\n",
              "      <th>vintage</th>\n",
              "      <td>object</td>\n",
              "    </tr>\n",
              "    <tr>\n",
              "      <th>kind</th>\n",
              "      <td>object</td>\n",
              "    </tr>\n",
              "    <tr>\n",
              "      <th>price_brl</th>\n",
              "      <td>object</td>\n",
              "    </tr>\n",
              "    <tr>\n",
              "      <th>price_usd</th>\n",
              "      <td>object</td>\n",
              "    </tr>\n",
              "  </tbody>\n",
              "</table>\n",
              "</div>"
            ],
            "text/plain": [
              "          Tipo de Dados\n",
              "item_id           int64\n",
              "name             object\n",
              "producer         object\n",
              "country          object\n",
              "region           object\n",
              "vintage          object\n",
              "kind             object\n",
              "price_brl        object\n",
              "price_usd        object"
            ]
          },
          "metadata": {},
          "execution_count": 17
        }
      ]
    },
    {
      "cell_type": "markdown",
      "metadata": {
        "id": "kL5XxtYYIcb8"
      },
      "source": [
        "texto falando sobre float e vírgula pq o regex precisa ser true"
      ]
    },
    {
      "cell_type": "code",
      "metadata": {
        "id": "H65XMivNHZgf"
      },
      "source": [
        "#tirando as vírgulas dos valores\n",
        "produtos.replace(',','',inplace=True,regex=True)\n",
        "\n",
        "#mudança da variável price_brl\n",
        "produtos.price_brl = produtos.price_brl.astype('float64')\n",
        "\n",
        "#mudança da variável price_usd\n",
        "produtos.price_usd = produtos.price_usd.astype('float64')\n",
        "\n",
        "#mudança da variável item_id\n",
        "produtos.item_id = produtos.item_id.astype('str')"
      ],
      "execution_count": 18,
      "outputs": []
    },
    {
      "cell_type": "code",
      "metadata": {
        "colab": {
          "base_uri": "https://localhost:8080/",
          "height": 331
        },
        "id": "f0Mq400FIJpo",
        "outputId": "e41cf553-89ae-4a53-e74c-4829af3ac1eb"
      },
      "source": [
        "pd.DataFrame(produtos.dtypes,columns=['Tipo de Dados após mudança'])"
      ],
      "execution_count": 19,
      "outputs": [
        {
          "output_type": "execute_result",
          "data": {
            "text/html": [
              "<div>\n",
              "<style scoped>\n",
              "    .dataframe tbody tr th:only-of-type {\n",
              "        vertical-align: middle;\n",
              "    }\n",
              "\n",
              "    .dataframe tbody tr th {\n",
              "        vertical-align: top;\n",
              "    }\n",
              "\n",
              "    .dataframe thead th {\n",
              "        text-align: right;\n",
              "    }\n",
              "</style>\n",
              "<table border=\"1\" class=\"dataframe\">\n",
              "  <thead>\n",
              "    <tr style=\"text-align: right;\">\n",
              "      <th></th>\n",
              "      <th>Tipo de Dados após mudança</th>\n",
              "    </tr>\n",
              "  </thead>\n",
              "  <tbody>\n",
              "    <tr>\n",
              "      <th>item_id</th>\n",
              "      <td>object</td>\n",
              "    </tr>\n",
              "    <tr>\n",
              "      <th>name</th>\n",
              "      <td>object</td>\n",
              "    </tr>\n",
              "    <tr>\n",
              "      <th>producer</th>\n",
              "      <td>object</td>\n",
              "    </tr>\n",
              "    <tr>\n",
              "      <th>country</th>\n",
              "      <td>object</td>\n",
              "    </tr>\n",
              "    <tr>\n",
              "      <th>region</th>\n",
              "      <td>object</td>\n",
              "    </tr>\n",
              "    <tr>\n",
              "      <th>vintage</th>\n",
              "      <td>object</td>\n",
              "    </tr>\n",
              "    <tr>\n",
              "      <th>kind</th>\n",
              "      <td>object</td>\n",
              "    </tr>\n",
              "    <tr>\n",
              "      <th>price_brl</th>\n",
              "      <td>float64</td>\n",
              "    </tr>\n",
              "    <tr>\n",
              "      <th>price_usd</th>\n",
              "      <td>float64</td>\n",
              "    </tr>\n",
              "  </tbody>\n",
              "</table>\n",
              "</div>"
            ],
            "text/plain": [
              "          Tipo de Dados após mudança\n",
              "item_id                       object\n",
              "name                          object\n",
              "producer                      object\n",
              "country                       object\n",
              "region                        object\n",
              "vintage                       object\n",
              "kind                          object\n",
              "price_brl                    float64\n",
              "price_usd                    float64"
            ]
          },
          "metadata": {},
          "execution_count": 19
        }
      ]
    },
    {
      "cell_type": "markdown",
      "metadata": {
        "id": "OSZ7KmwGHueg"
      },
      "source": [
        "ver dados vazios"
      ]
    },
    {
      "cell_type": "code",
      "metadata": {
        "colab": {
          "base_uri": "https://localhost:8080/",
          "height": 331
        },
        "id": "Rq4qyODfHwEC",
        "outputId": "43c4ec45-bf52-4898-cc6e-0848412f6554"
      },
      "source": [
        "#verificando a quantidade de dados vazios na base de dados dos produtos\n",
        "pd.DataFrame(produtos.isnull().sum(),columns=['Quantidade de Valores Ausentes'])"
      ],
      "execution_count": 20,
      "outputs": [
        {
          "output_type": "execute_result",
          "data": {
            "text/html": [
              "<div>\n",
              "<style scoped>\n",
              "    .dataframe tbody tr th:only-of-type {\n",
              "        vertical-align: middle;\n",
              "    }\n",
              "\n",
              "    .dataframe tbody tr th {\n",
              "        vertical-align: top;\n",
              "    }\n",
              "\n",
              "    .dataframe thead th {\n",
              "        text-align: right;\n",
              "    }\n",
              "</style>\n",
              "<table border=\"1\" class=\"dataframe\">\n",
              "  <thead>\n",
              "    <tr style=\"text-align: right;\">\n",
              "      <th></th>\n",
              "      <th>Quantidade de Valores Ausentes</th>\n",
              "    </tr>\n",
              "  </thead>\n",
              "  <tbody>\n",
              "    <tr>\n",
              "      <th>item_id</th>\n",
              "      <td>0</td>\n",
              "    </tr>\n",
              "    <tr>\n",
              "      <th>name</th>\n",
              "      <td>0</td>\n",
              "    </tr>\n",
              "    <tr>\n",
              "      <th>producer</th>\n",
              "      <td>0</td>\n",
              "    </tr>\n",
              "    <tr>\n",
              "      <th>country</th>\n",
              "      <td>0</td>\n",
              "    </tr>\n",
              "    <tr>\n",
              "      <th>region</th>\n",
              "      <td>0</td>\n",
              "    </tr>\n",
              "    <tr>\n",
              "      <th>vintage</th>\n",
              "      <td>0</td>\n",
              "    </tr>\n",
              "    <tr>\n",
              "      <th>kind</th>\n",
              "      <td>0</td>\n",
              "    </tr>\n",
              "    <tr>\n",
              "      <th>price_brl</th>\n",
              "      <td>0</td>\n",
              "    </tr>\n",
              "    <tr>\n",
              "      <th>price_usd</th>\n",
              "      <td>0</td>\n",
              "    </tr>\n",
              "  </tbody>\n",
              "</table>\n",
              "</div>"
            ],
            "text/plain": [
              "           Quantidade de Valores Ausentes\n",
              "item_id                                 0\n",
              "name                                    0\n",
              "producer                                0\n",
              "country                                 0\n",
              "region                                  0\n",
              "vintage                                 0\n",
              "kind                                    0\n",
              "price_brl                               0\n",
              "price_usd                               0"
            ]
          },
          "metadata": {},
          "execution_count": 20
        }
      ]
    },
    {
      "cell_type": "markdown",
      "metadata": {
        "id": "oqCFlyl5G0zV"
      },
      "source": [
        "### Base de dados das Vendas\n",
        "\n",
        "##### Dicionário das Variáveis:\n",
        "\n",
        "* `date`: data em que a venda foi realizada.\n",
        "* `store`: código da loja.\n",
        "* `item`: código do vinho na adega.\n",
        "* `sales`: quantidade de vinhos vendidos."
      ]
    },
    {
      "cell_type": "code",
      "metadata": {
        "colab": {
          "base_uri": "https://localhost:8080/",
          "height": 206
        },
        "id": "WD_ShhYpAxAF",
        "outputId": "e82d4077-e2fb-4845-8f6c-fd6b08237f73"
      },
      "source": [
        "#endereco dos dados sobre vendas\n",
        "endereco_vendas = \"https://raw.githubusercontent.com/rafaelnduarte/sigmoidal_data/master/sales-clean.csv\"\n",
        "\n",
        "#importando os dados sobre vendas\n",
        "vendas = pd.read_csv(endereco_vendas,parse_dates=['date'])\n",
        "\n",
        "#mostrando as 5 primeiras entrada dos dados de vendas\n",
        "vendas.head()"
      ],
      "execution_count": 25,
      "outputs": [
        {
          "output_type": "execute_result",
          "data": {
            "text/html": [
              "<div>\n",
              "<style scoped>\n",
              "    .dataframe tbody tr th:only-of-type {\n",
              "        vertical-align: middle;\n",
              "    }\n",
              "\n",
              "    .dataframe tbody tr th {\n",
              "        vertical-align: top;\n",
              "    }\n",
              "\n",
              "    .dataframe thead th {\n",
              "        text-align: right;\n",
              "    }\n",
              "</style>\n",
              "<table border=\"1\" class=\"dataframe\">\n",
              "  <thead>\n",
              "    <tr style=\"text-align: right;\">\n",
              "      <th></th>\n",
              "      <th>date</th>\n",
              "      <th>store</th>\n",
              "      <th>item</th>\n",
              "      <th>sales</th>\n",
              "    </tr>\n",
              "  </thead>\n",
              "  <tbody>\n",
              "    <tr>\n",
              "      <th>0</th>\n",
              "      <td>2018-01-01</td>\n",
              "      <td>1</td>\n",
              "      <td>1</td>\n",
              "      <td>13</td>\n",
              "    </tr>\n",
              "    <tr>\n",
              "      <th>1</th>\n",
              "      <td>2018-01-02</td>\n",
              "      <td>1</td>\n",
              "      <td>1</td>\n",
              "      <td>11</td>\n",
              "    </tr>\n",
              "    <tr>\n",
              "      <th>2</th>\n",
              "      <td>2018-01-03</td>\n",
              "      <td>1</td>\n",
              "      <td>1</td>\n",
              "      <td>14</td>\n",
              "    </tr>\n",
              "    <tr>\n",
              "      <th>3</th>\n",
              "      <td>2018-01-04</td>\n",
              "      <td>1</td>\n",
              "      <td>1</td>\n",
              "      <td>13</td>\n",
              "    </tr>\n",
              "    <tr>\n",
              "      <th>4</th>\n",
              "      <td>2018-01-05</td>\n",
              "      <td>1</td>\n",
              "      <td>1</td>\n",
              "      <td>10</td>\n",
              "    </tr>\n",
              "  </tbody>\n",
              "</table>\n",
              "</div>"
            ],
            "text/plain": [
              "        date  store  item  sales\n",
              "0 2018-01-01      1     1     13\n",
              "1 2018-01-02      1     1     11\n",
              "2 2018-01-03      1     1     14\n",
              "3 2018-01-04      1     1     13\n",
              "4 2018-01-05      1     1     10"
            ]
          },
          "metadata": {},
          "execution_count": 25
        }
      ]
    },
    {
      "cell_type": "markdown",
      "metadata": {
        "id": "38dsJLi2MF8z"
      },
      "source": [
        "ver quantidade de dados e variáveis"
      ]
    },
    {
      "cell_type": "code",
      "metadata": {
        "colab": {
          "base_uri": "https://localhost:8080/"
        },
        "id": "W-pWVLJpMHxK",
        "outputId": "3d323fca-7f58-4dcd-ed52-970e9d9ba92e"
      },
      "source": [
        "print('A Base de dados sobre vendas contém:')\n",
        "print('{:,} entradas e {} variáveis'.format(vendas.shape[0], vendas.shape[1]).replace(',','.'))"
      ],
      "execution_count": 6,
      "outputs": [
        {
          "output_type": "stream",
          "name": "stdout",
          "text": [
            "A Base de dados sobre vendas contém:\n",
            "720.071 entradas e 3 variáveis\n"
          ]
        }
      ]
    },
    {
      "cell_type": "markdown",
      "metadata": {
        "id": "GRBRGGq9Qb3A"
      },
      "source": [
        "avaliando o tipo de dados, falar do datetime64 e int64, explicar que vai ter que mudar os dados da store e item"
      ]
    },
    {
      "cell_type": "code",
      "metadata": {
        "colab": {
          "base_uri": "https://localhost:8080/",
          "height": 143
        },
        "id": "JVnF2NZwP-4d",
        "outputId": "6a64ad18-a46c-4aa7-c70a-2d724cd05895"
      },
      "source": [
        "pd.DataFrame(vendas.dtypes,columns=['Tipo de Dados'])"
      ],
      "execution_count": 10,
      "outputs": [
        {
          "output_type": "execute_result",
          "data": {
            "text/html": [
              "<div>\n",
              "<style scoped>\n",
              "    .dataframe tbody tr th:only-of-type {\n",
              "        vertical-align: middle;\n",
              "    }\n",
              "\n",
              "    .dataframe tbody tr th {\n",
              "        vertical-align: top;\n",
              "    }\n",
              "\n",
              "    .dataframe thead th {\n",
              "        text-align: right;\n",
              "    }\n",
              "</style>\n",
              "<table border=\"1\" class=\"dataframe\">\n",
              "  <thead>\n",
              "    <tr style=\"text-align: right;\">\n",
              "      <th></th>\n",
              "      <th>Tipo de Dados</th>\n",
              "    </tr>\n",
              "  </thead>\n",
              "  <tbody>\n",
              "    <tr>\n",
              "      <th>store</th>\n",
              "      <td>int64</td>\n",
              "    </tr>\n",
              "    <tr>\n",
              "      <th>item</th>\n",
              "      <td>int64</td>\n",
              "    </tr>\n",
              "    <tr>\n",
              "      <th>sales</th>\n",
              "      <td>int64</td>\n",
              "    </tr>\n",
              "  </tbody>\n",
              "</table>\n",
              "</div>"
            ],
            "text/plain": [
              "      Tipo de Dados\n",
              "store         int64\n",
              "item          int64\n",
              "sales         int64"
            ]
          },
          "metadata": {},
          "execution_count": 10
        }
      ]
    },
    {
      "cell_type": "code",
      "metadata": {
        "id": "VIXnCRMPWH-S"
      },
      "source": [
        "#alterando o tipo de dados da variável store para string\n",
        "vendas.store = vendas.store.astype('str')\n",
        "\n",
        "#alterando o tipo de dados da variável item para string\n",
        "vendas.item = vendas.item.astype('str')"
      ],
      "execution_count": 28,
      "outputs": []
    },
    {
      "cell_type": "markdown",
      "metadata": {
        "id": "QjnYVHrQQoHH"
      },
      "source": [
        "avaliando a quantidade de dados vazios"
      ]
    },
    {
      "cell_type": "code",
      "metadata": {
        "colab": {
          "base_uri": "https://localhost:8080/",
          "height": 174
        },
        "id": "SzKzGDaLP-60",
        "outputId": "5f439802-f62a-48bd-f81d-f6fca58ed878"
      },
      "source": [
        "pd.DataFrame(vendas.isnull().sum(),columns=['Quantidade de Dados Ausentes'])"
      ],
      "execution_count": 29,
      "outputs": [
        {
          "output_type": "execute_result",
          "data": {
            "text/html": [
              "<div>\n",
              "<style scoped>\n",
              "    .dataframe tbody tr th:only-of-type {\n",
              "        vertical-align: middle;\n",
              "    }\n",
              "\n",
              "    .dataframe tbody tr th {\n",
              "        vertical-align: top;\n",
              "    }\n",
              "\n",
              "    .dataframe thead th {\n",
              "        text-align: right;\n",
              "    }\n",
              "</style>\n",
              "<table border=\"1\" class=\"dataframe\">\n",
              "  <thead>\n",
              "    <tr style=\"text-align: right;\">\n",
              "      <th></th>\n",
              "      <th>Quantidade de Dados Ausentes</th>\n",
              "    </tr>\n",
              "  </thead>\n",
              "  <tbody>\n",
              "    <tr>\n",
              "      <th>date</th>\n",
              "      <td>0</td>\n",
              "    </tr>\n",
              "    <tr>\n",
              "      <th>store</th>\n",
              "      <td>0</td>\n",
              "    </tr>\n",
              "    <tr>\n",
              "      <th>item</th>\n",
              "      <td>0</td>\n",
              "    </tr>\n",
              "    <tr>\n",
              "      <th>sales</th>\n",
              "      <td>0</td>\n",
              "    </tr>\n",
              "  </tbody>\n",
              "</table>\n",
              "</div>"
            ],
            "text/plain": [
              "       Quantidade de Dados Ausentes\n",
              "date                              0\n",
              "store                             0\n",
              "item                              0\n",
              "sales                             0"
            ]
          },
          "metadata": {},
          "execution_count": 29
        }
      ]
    },
    {
      "cell_type": "markdown",
      "metadata": {
        "id": "nzsZ6tDZKGr2"
      },
      "source": [
        "## Juntando as duas bases de dados\n",
        "\n",
        "texto sobre a junção das duas bases de dados [artigo](https://medium.com/data-hackers/pandas-combinando-data-frames-com-merge-e-concat-10e7d07ca5ec), falar do que há em comum entre as tabelas.\n",
        "\n",
        "<p align=\"center\">\n",
        "  <img src=\"https://miro.medium.com/max/700/1*0FDsAB9OelxojfmtkcLbgw.png\"\n",
        "</p>"
      ]
    },
    {
      "cell_type": "code",
      "metadata": {
        "id": "fwtZNjHHCYv5"
      },
      "source": [
        "#códigos para juntar as duas bases de dados\n",
        "df = pd.merge(produtos,vendas,how='right',left_on='item_id',right_on='item')\n",
        "\n",
        "#mudando a variável data para o índice\n",
        "df.set_index('date',inplace=True)\n",
        "\n",
        "#retirando a coluna item duplicada\n",
        "df.drop('item',axis=1,inplace=True)"
      ],
      "execution_count": 30,
      "outputs": []
    },
    {
      "cell_type": "markdown",
      "metadata": {
        "id": "1VQRMT30-r9i"
      },
      "source": [
        "algumas novas variáveis"
      ]
    },
    {
      "cell_type": "code",
      "metadata": {
        "id": "4hYM0Eey-t3F"
      },
      "source": [
        "#receitas em dólares\n",
        "df['revenue_usd'] = df.sales * df.price_usd\n",
        "\n",
        "#receitas em reais\n",
        "df['revenue_brl'] = df.sales * df.price_brl\n",
        "\n",
        "#ano da vendas\n",
        "df['year'] = df.index.year\n",
        "\n",
        "#mês das vendas\n",
        "df['month'] =  df.index.month_name()\n",
        "\n",
        "#dia das vendas\n",
        "df['day'] = df.index.day\n",
        "\n",
        "#dia da semana\n",
        "df['day_of_week'] = df.index.dayofweek\n",
        "\n",
        "#nome do dia na semana\n",
        "df['day_name'] = df.index.day_name()\n",
        "\n",
        "#final de semana\n",
        "df['weekend'] = df.day_of_week > 4"
      ],
      "execution_count": null,
      "outputs": []
    },
    {
      "cell_type": "code",
      "metadata": {
        "colab": {
          "base_uri": "https://localhost:8080/",
          "height": 517
        },
        "id": "fQtC1VaC-uDp",
        "outputId": "645ef722-e414-467f-d572-ccdfdb31c9b0"
      },
      "source": [
        "#visualizando as 5 primeiras entradas após a junção dos dados e novas variáveis\n",
        "df.head()"
      ],
      "execution_count": null,
      "outputs": [
        {
          "output_type": "execute_result",
          "data": {
            "text/html": [
              "<div>\n",
              "<style scoped>\n",
              "    .dataframe tbody tr th:only-of-type {\n",
              "        vertical-align: middle;\n",
              "    }\n",
              "\n",
              "    .dataframe tbody tr th {\n",
              "        vertical-align: top;\n",
              "    }\n",
              "\n",
              "    .dataframe thead th {\n",
              "        text-align: right;\n",
              "    }\n",
              "</style>\n",
              "<table border=\"1\" class=\"dataframe\">\n",
              "  <thead>\n",
              "    <tr style=\"text-align: right;\">\n",
              "      <th></th>\n",
              "      <th>item_id</th>\n",
              "      <th>name</th>\n",
              "      <th>producer</th>\n",
              "      <th>country</th>\n",
              "      <th>region</th>\n",
              "      <th>vintage</th>\n",
              "      <th>kind</th>\n",
              "      <th>price_brl</th>\n",
              "      <th>price_usd</th>\n",
              "      <th>store</th>\n",
              "      <th>sales</th>\n",
              "      <th>revenue_usd</th>\n",
              "      <th>revenue_brl</th>\n",
              "      <th>year</th>\n",
              "      <th>month</th>\n",
              "      <th>day</th>\n",
              "      <th>day_of_week</th>\n",
              "      <th>day_name</th>\n",
              "      <th>weekend</th>\n",
              "    </tr>\n",
              "    <tr>\n",
              "      <th>date</th>\n",
              "      <th></th>\n",
              "      <th></th>\n",
              "      <th></th>\n",
              "      <th></th>\n",
              "      <th></th>\n",
              "      <th></th>\n",
              "      <th></th>\n",
              "      <th></th>\n",
              "      <th></th>\n",
              "      <th></th>\n",
              "      <th></th>\n",
              "      <th></th>\n",
              "      <th></th>\n",
              "      <th></th>\n",
              "      <th></th>\n",
              "      <th></th>\n",
              "      <th></th>\n",
              "      <th></th>\n",
              "      <th></th>\n",
              "    </tr>\n",
              "  </thead>\n",
              "  <tbody>\n",
              "    <tr>\n",
              "      <th>2018-01-01</th>\n",
              "      <td>1</td>\n",
              "      <td>Philipponnat Royale Reserve Brut</td>\n",
              "      <td>Philipponat</td>\n",
              "      <td>France</td>\n",
              "      <td>Champagne</td>\n",
              "      <td>NV</td>\n",
              "      <td>sparkling</td>\n",
              "      <td>339.6</td>\n",
              "      <td>58.75</td>\n",
              "      <td>1</td>\n",
              "      <td>13</td>\n",
              "      <td>763.75</td>\n",
              "      <td>4414.8</td>\n",
              "      <td>2018</td>\n",
              "      <td>January</td>\n",
              "      <td>1</td>\n",
              "      <td>0</td>\n",
              "      <td>Monday</td>\n",
              "      <td>False</td>\n",
              "    </tr>\n",
              "    <tr>\n",
              "      <th>2018-01-02</th>\n",
              "      <td>1</td>\n",
              "      <td>Philipponnat Royale Reserve Brut</td>\n",
              "      <td>Philipponat</td>\n",
              "      <td>France</td>\n",
              "      <td>Champagne</td>\n",
              "      <td>NV</td>\n",
              "      <td>sparkling</td>\n",
              "      <td>339.6</td>\n",
              "      <td>58.75</td>\n",
              "      <td>1</td>\n",
              "      <td>11</td>\n",
              "      <td>646.25</td>\n",
              "      <td>3735.6</td>\n",
              "      <td>2018</td>\n",
              "      <td>January</td>\n",
              "      <td>2</td>\n",
              "      <td>1</td>\n",
              "      <td>Tuesday</td>\n",
              "      <td>False</td>\n",
              "    </tr>\n",
              "    <tr>\n",
              "      <th>2018-01-03</th>\n",
              "      <td>1</td>\n",
              "      <td>Philipponnat Royale Reserve Brut</td>\n",
              "      <td>Philipponat</td>\n",
              "      <td>France</td>\n",
              "      <td>Champagne</td>\n",
              "      <td>NV</td>\n",
              "      <td>sparkling</td>\n",
              "      <td>339.6</td>\n",
              "      <td>58.75</td>\n",
              "      <td>1</td>\n",
              "      <td>14</td>\n",
              "      <td>822.50</td>\n",
              "      <td>4754.4</td>\n",
              "      <td>2018</td>\n",
              "      <td>January</td>\n",
              "      <td>3</td>\n",
              "      <td>2</td>\n",
              "      <td>Wednesday</td>\n",
              "      <td>False</td>\n",
              "    </tr>\n",
              "    <tr>\n",
              "      <th>2018-01-04</th>\n",
              "      <td>1</td>\n",
              "      <td>Philipponnat Royale Reserve Brut</td>\n",
              "      <td>Philipponat</td>\n",
              "      <td>France</td>\n",
              "      <td>Champagne</td>\n",
              "      <td>NV</td>\n",
              "      <td>sparkling</td>\n",
              "      <td>339.6</td>\n",
              "      <td>58.75</td>\n",
              "      <td>1</td>\n",
              "      <td>13</td>\n",
              "      <td>763.75</td>\n",
              "      <td>4414.8</td>\n",
              "      <td>2018</td>\n",
              "      <td>January</td>\n",
              "      <td>4</td>\n",
              "      <td>3</td>\n",
              "      <td>Thursday</td>\n",
              "      <td>False</td>\n",
              "    </tr>\n",
              "    <tr>\n",
              "      <th>2018-01-05</th>\n",
              "      <td>1</td>\n",
              "      <td>Philipponnat Royale Reserve Brut</td>\n",
              "      <td>Philipponat</td>\n",
              "      <td>France</td>\n",
              "      <td>Champagne</td>\n",
              "      <td>NV</td>\n",
              "      <td>sparkling</td>\n",
              "      <td>339.6</td>\n",
              "      <td>58.75</td>\n",
              "      <td>1</td>\n",
              "      <td>10</td>\n",
              "      <td>587.50</td>\n",
              "      <td>3396.0</td>\n",
              "      <td>2018</td>\n",
              "      <td>January</td>\n",
              "      <td>5</td>\n",
              "      <td>4</td>\n",
              "      <td>Friday</td>\n",
              "      <td>False</td>\n",
              "    </tr>\n",
              "  </tbody>\n",
              "</table>\n",
              "</div>"
            ],
            "text/plain": [
              "           item_id                              name  ...   day_name weekend\n",
              "date                                                  ...                   \n",
              "2018-01-01       1  Philipponnat Royale Reserve Brut  ...     Monday   False\n",
              "2018-01-02       1  Philipponnat Royale Reserve Brut  ...    Tuesday   False\n",
              "2018-01-03       1  Philipponnat Royale Reserve Brut  ...  Wednesday   False\n",
              "2018-01-04       1  Philipponnat Royale Reserve Brut  ...   Thursday   False\n",
              "2018-01-05       1  Philipponnat Royale Reserve Brut  ...     Friday   False\n",
              "\n",
              "[5 rows x 19 columns]"
            ]
          },
          "metadata": {},
          "execution_count": 18
        }
      ]
    },
    {
      "cell_type": "markdown",
      "metadata": {
        "id": "--ktAeIwC6rA"
      },
      "source": [
        "# Avaliando os outliers\n",
        "\n",
        "texto texto"
      ]
    },
    {
      "cell_type": "code",
      "metadata": {
        "colab": {
          "base_uri": "https://localhost:8080/",
          "height": 566
        },
        "id": "yeRat8-vY9A1",
        "outputId": "84c3308e-8811-4a3d-f30a-e4fbf3bc2cb8"
      },
      "source": [
        "#criando o ax e o fig no matplotlib\n",
        "fig,ax = plt.subplots(figsize=(12,8),dpi=72,ncols=2)\n",
        "\n",
        "#criando o plot para receitas em dólar\n",
        "sns.boxplot(data=df,x='revenue_usd',palette='Purples',linewidth=0.35,ax=ax[0]);\n",
        "ax[0].grid(linestyle='--',lw=0.25,aa=True)\n",
        "ax[0].set_frame_on(False)\n",
        "ax[0].tick_params(axis='both',length=0,colors='grey')\n",
        "ax[0].set_xlabel('revenue_usd',labelpad=20,fontdict={'fontsize':12},color='#4c4c4c')\n",
        "ax[0].set_title('Receitas em dólar',loc='center',pad=20,fontdict={'fontsize':20},color='grey')\n",
        "\n",
        "#criando o plot para o preço do vinho\n",
        "sns.boxplot(data=df,x='price_usd',palette='Purples',linewidth=0.35,ax=ax[1]);\n",
        "ax[1].grid(linestyle='--',lw=0.25,aa=True)\n",
        "ax[1].set_frame_on(False)\n",
        "ax[1].tick_params(axis='both',length=0,colors='grey')\n",
        "ax[1].set_xlabel('price_usd',labelpad=20,fontdict={'fontsize':12},color='#4c4c4c')\n",
        "ax[1].set_title('Preços dos vinhos em dólar',loc='center',pad=20,fontdict={'fontsize':20},color='grey')\n",
        "\n",
        "#plotando o gráfico\n",
        "plt.tight_layout(pad=2.0);"
      ],
      "execution_count": null,
      "outputs": [
        {
          "output_type": "display_data",
          "data": {
            "image/png": "[encoded data removed]",
            "text/plain": [
              "<Figure size 864x576 with 2 Axes>"
            ]
          },
          "metadata": {
            "needs_background": "dark"
          }
        }
      ]
    },
    {
      "cell_type": "code",
      "metadata": {
        "colab": {
          "base_uri": "https://localhost:8080/"
        },
        "id": "ANWWUyHmY88b",
        "outputId": "948a29cb-8492-4bca-a88f-19cd3695525b"
      },
      "source": [
        "#avaliando a porcentagem de outliers\n",
        "IQR = df.revenue_usd.quantile(0.75) - df.revenue_usd.quantile(0.25)\n",
        "lim_sup = df.revenue_usd.quantile(0.75) + 1.5 * IQR\n",
        "lim_inf = df.revenue_usd.quantile(0.25) - 1.5 * IQR\n",
        "\n",
        "#Verificando porcentagem de valores que são outliers e sua receita\n",
        "outliers_base_dados = df[(df.revenue_usd < lim_inf) | (df.revenue_usd > lim_sup)]\n",
        "porcentagem_de_receita = outliers_base_dados.revenue_usd.sum()/df.revenue_usd.sum()\n",
        "outliers = (df[(df.revenue_usd < lim_inf) | (df.revenue_usd > lim_sup)].shape[0]) / df.shape[0]\n",
        "\n",
        "#Realizando o print dos resultados\n",
        "print('Porcentagem de outliers: {:.2f}%'.format(outliers*100))\n",
        "print('Os outliers são responsáveis por {:.2f}% da receita da empresa'.format(porcentagem_de_receita*100))"
      ],
      "execution_count": null,
      "outputs": [
        {
          "output_type": "stream",
          "name": "stdout",
          "text": [
            "Porcentagem de outliers: 11.17%\n",
            "Os outliers são responsáveis por 55.90% da receita da empresa\n"
          ]
        }
      ]
    },
    {
      "cell_type": "markdown",
      "metadata": {
        "id": "cJ3D7aV8DR6D"
      },
      "source": [
        "vendas em cada ano em formato de tabela"
      ]
    },
    {
      "cell_type": "code",
      "metadata": {
        "colab": {
          "base_uri": "https://localhost:8080/",
          "height": 206
        },
        "id": "F5SYJMUxHiW9",
        "outputId": "96996598-95d2-4490-9cbb-da6565b8e0cf"
      },
      "source": [
        "#tabela com o que foi vendido a cada ano\n",
        "df.groupby(by='year')['sales'].sum().to_frame().style.format('{:,}')"
      ],
      "execution_count": null,
      "outputs": [
        {
          "output_type": "execute_result",
          "data": {
            "text/html": [
              "<style  type=\"text/css\" >\n",
              "</style><table id=\"T_90bee582_4dee_11ec_8e45_0242ac1c0002\" class=\"dataframe\"><thead>    <tr>        <th class=\"blank level0\" ></th>        <th class=\"col_heading level0 col0\" >sales</th>    </tr>    <tr>        <th class=\"index_name level0\" >year</th>        <th class=\"blank\" ></th>    </tr></thead><tbody>\n",
              "                <tr>\n",
              "                        <th id=\"T_90bee582_4dee_11ec_8e45_0242ac1c0002level0_row0\" class=\"row_heading level0 row0\" >2016</th>\n",
              "                        <td id=\"T_90bee582_4dee_11ec_8e45_0242ac1c0002row0_col0\" class=\"data row0 col0\" >6,581</td>\n",
              "            </tr>\n",
              "            <tr>\n",
              "                        <th id=\"T_90bee582_4dee_11ec_8e45_0242ac1c0002level0_row1\" class=\"row_heading level0 row1\" >2018</th>\n",
              "                        <td id=\"T_90bee582_4dee_11ec_8e45_0242ac1c0002row1_col0\" class=\"data row1 col0\" >16,626,132</td>\n",
              "            </tr>\n",
              "            <tr>\n",
              "                        <th id=\"T_90bee582_4dee_11ec_8e45_0242ac1c0002level0_row2\" class=\"row_heading level0 row2\" >2019</th>\n",
              "                        <td id=\"T_90bee582_4dee_11ec_8e45_0242ac1c0002row2_col0\" class=\"data row2 col0\" >16,998,825</td>\n",
              "            </tr>\n",
              "            <tr>\n",
              "                        <th id=\"T_90bee582_4dee_11ec_8e45_0242ac1c0002level0_row3\" class=\"row_heading level0 row3\" >2020</th>\n",
              "                        <td id=\"T_90bee582_4dee_11ec_8e45_0242ac1c0002row3_col0\" class=\"data row3 col0\" >17,196,788</td>\n",
              "            </tr>\n",
              "    </tbody></table>"
            ],
            "text/plain": [
              "<pandas.io.formats.style.Styler at 0x7f239e153150>"
            ]
          },
          "metadata": {},
          "execution_count": 68
        }
      ]
    },
    {
      "cell_type": "markdown",
      "metadata": {
        "id": "m_Qs4o2KK8G0"
      },
      "source": [
        "verificar a receita de cada ano"
      ]
    },
    {
      "cell_type": "code",
      "metadata": {
        "colab": {
          "base_uri": "https://localhost:8080/",
          "height": 206
        },
        "id": "ISrsZ8A7IHvw",
        "outputId": "ce1ae4e5-f562-4169-a085-2932776478f9"
      },
      "source": [
        "#tabela com a receita de cada ano\n",
        "df.groupby(by='year')['revenue_usd'].sum().to_frame()"
      ],
      "execution_count": null,
      "outputs": [
        {
          "output_type": "execute_result",
          "data": {
            "text/html": [
              "<div>\n",
              "<style scoped>\n",
              "    .dataframe tbody tr th:only-of-type {\n",
              "        vertical-align: middle;\n",
              "    }\n",
              "\n",
              "    .dataframe tbody tr th {\n",
              "        vertical-align: top;\n",
              "    }\n",
              "\n",
              "    .dataframe thead th {\n",
              "        text-align: right;\n",
              "    }\n",
              "</style>\n",
              "<table border=\"1\" class=\"dataframe\">\n",
              "  <thead>\n",
              "    <tr style=\"text-align: right;\">\n",
              "      <th></th>\n",
              "      <th>revenue_usd</th>\n",
              "    </tr>\n",
              "    <tr>\n",
              "      <th>year</th>\n",
              "      <th></th>\n",
              "    </tr>\n",
              "  </thead>\n",
              "  <tbody>\n",
              "    <tr>\n",
              "      <th>2016</th>\n",
              "      <td>6.831038e+05</td>\n",
              "    </tr>\n",
              "    <tr>\n",
              "      <th>2018</th>\n",
              "      <td>2.880908e+09</td>\n",
              "    </tr>\n",
              "    <tr>\n",
              "      <th>2019</th>\n",
              "      <td>2.911967e+09</td>\n",
              "    </tr>\n",
              "    <tr>\n",
              "      <th>2020</th>\n",
              "      <td>2.945613e+09</td>\n",
              "    </tr>\n",
              "  </tbody>\n",
              "</table>\n",
              "</div>"
            ],
            "text/plain": [
              "       revenue_usd\n",
              "year              \n",
              "2016  6.831038e+05\n",
              "2018  2.880908e+09\n",
              "2019  2.911967e+09\n",
              "2020  2.945613e+09"
            ]
          },
          "metadata": {},
          "execution_count": 96
        }
      ]
    },
    {
      "cell_type": "markdown",
      "metadata": {
        "id": "ASfPFH-LD3h8"
      },
      "source": [
        "vendas em um dia e boxplot"
      ]
    },
    {
      "cell_type": "code",
      "metadata": {
        "colab": {
          "base_uri": "https://localhost:8080/",
          "height": 454
        },
        "id": "yy2XiSudDRfQ",
        "outputId": "5a938c83-c27e-4c34-fa05-4e306c17f39e"
      },
      "source": [
        "#avaliando a quantidade de vendas diária\n",
        "quantidade_de_vinhos_vendida_por_dia = df.groupby(by='date').sales.sum()\n",
        "quantidade_de_vinhos_vendida_por_dia.to_frame()"
      ],
      "execution_count": null,
      "outputs": [
        {
          "output_type": "execute_result",
          "data": {
            "text/html": [
              "<div>\n",
              "<style scoped>\n",
              "    .dataframe tbody tr th:only-of-type {\n",
              "        vertical-align: middle;\n",
              "    }\n",
              "\n",
              "    .dataframe tbody tr th {\n",
              "        vertical-align: top;\n",
              "    }\n",
              "\n",
              "    .dataframe thead th {\n",
              "        text-align: right;\n",
              "    }\n",
              "</style>\n",
              "<table border=\"1\" class=\"dataframe\">\n",
              "  <thead>\n",
              "    <tr style=\"text-align: right;\">\n",
              "      <th></th>\n",
              "      <th>sales</th>\n",
              "    </tr>\n",
              "    <tr>\n",
              "      <th>date</th>\n",
              "      <th></th>\n",
              "    </tr>\n",
              "  </thead>\n",
              "  <tbody>\n",
              "    <tr>\n",
              "      <th>2016-01-01</th>\n",
              "      <td>6581</td>\n",
              "    </tr>\n",
              "    <tr>\n",
              "      <th>2018-01-01</th>\n",
              "      <td>43432</td>\n",
              "    </tr>\n",
              "    <tr>\n",
              "      <th>2018-01-02</th>\n",
              "      <td>43181</td>\n",
              "    </tr>\n",
              "    <tr>\n",
              "      <th>2018-01-03</th>\n",
              "      <td>43298</td>\n",
              "    </tr>\n",
              "    <tr>\n",
              "      <th>2018-01-04</th>\n",
              "      <td>42216</td>\n",
              "    </tr>\n",
              "    <tr>\n",
              "      <th>...</th>\n",
              "      <td>...</td>\n",
              "    </tr>\n",
              "    <tr>\n",
              "      <th>2020-12-27</th>\n",
              "      <td>45931</td>\n",
              "    </tr>\n",
              "    <tr>\n",
              "      <th>2020-12-28</th>\n",
              "      <td>42754</td>\n",
              "    </tr>\n",
              "    <tr>\n",
              "      <th>2020-12-29</th>\n",
              "      <td>43804</td>\n",
              "    </tr>\n",
              "    <tr>\n",
              "      <th>2020-12-30</th>\n",
              "      <td>44546</td>\n",
              "    </tr>\n",
              "    <tr>\n",
              "      <th>2020-12-31</th>\n",
              "      <td>44592</td>\n",
              "    </tr>\n",
              "  </tbody>\n",
              "</table>\n",
              "<p>1097 rows × 1 columns</p>\n",
              "</div>"
            ],
            "text/plain": [
              "            sales\n",
              "date             \n",
              "2016-01-01   6581\n",
              "2018-01-01  43432\n",
              "2018-01-02  43181\n",
              "2018-01-03  43298\n",
              "2018-01-04  42216\n",
              "...           ...\n",
              "2020-12-27  45931\n",
              "2020-12-28  42754\n",
              "2020-12-29  43804\n",
              "2020-12-30  44546\n",
              "2020-12-31  44592\n",
              "\n",
              "[1097 rows x 1 columns]"
            ]
          },
          "metadata": {},
          "execution_count": 94
        }
      ]
    },
    {
      "cell_type": "code",
      "metadata": {
        "colab": {
          "base_uri": "https://localhost:8080/",
          "height": 300
        },
        "id": "9zVVWxTtDRgE",
        "outputId": "6a69805d-9b05-4947-b38f-8a789ed50d8b"
      },
      "source": [
        "#principais métricas de quantidades vendidas em um único dia\n",
        "quantidade_de_vinhos_vendida_por_dia.describe().round(2).to_frame()"
      ],
      "execution_count": null,
      "outputs": [
        {
          "output_type": "execute_result",
          "data": {
            "text/html": [
              "<div>\n",
              "<style scoped>\n",
              "    .dataframe tbody tr th:only-of-type {\n",
              "        vertical-align: middle;\n",
              "    }\n",
              "\n",
              "    .dataframe tbody tr th {\n",
              "        vertical-align: top;\n",
              "    }\n",
              "\n",
              "    .dataframe thead th {\n",
              "        text-align: right;\n",
              "    }\n",
              "</style>\n",
              "<table border=\"1\" class=\"dataframe\">\n",
              "  <thead>\n",
              "    <tr style=\"text-align: right;\">\n",
              "      <th></th>\n",
              "      <th>sales</th>\n",
              "    </tr>\n",
              "  </thead>\n",
              "  <tbody>\n",
              "    <tr>\n",
              "      <th>count</th>\n",
              "      <td>1097.00</td>\n",
              "    </tr>\n",
              "    <tr>\n",
              "      <th>mean</th>\n",
              "      <td>46333.93</td>\n",
              "    </tr>\n",
              "    <tr>\n",
              "      <th>std</th>\n",
              "      <td>2450.11</td>\n",
              "    </tr>\n",
              "    <tr>\n",
              "      <th>min</th>\n",
              "      <td>6581.00</td>\n",
              "    </tr>\n",
              "    <tr>\n",
              "      <th>25%</th>\n",
              "      <td>44830.00</td>\n",
              "    </tr>\n",
              "    <tr>\n",
              "      <th>50%</th>\n",
              "      <td>46319.00</td>\n",
              "    </tr>\n",
              "    <tr>\n",
              "      <th>75%</th>\n",
              "      <td>47699.00</td>\n",
              "    </tr>\n",
              "    <tr>\n",
              "      <th>max</th>\n",
              "      <td>52901.00</td>\n",
              "    </tr>\n",
              "  </tbody>\n",
              "</table>\n",
              "</div>"
            ],
            "text/plain": [
              "          sales\n",
              "count   1097.00\n",
              "mean   46333.93\n",
              "std     2450.11\n",
              "min     6581.00\n",
              "25%    44830.00\n",
              "50%    46319.00\n",
              "75%    47699.00\n",
              "max    52901.00"
            ]
          },
          "metadata": {},
          "execution_count": 95
        }
      ]
    },
    {
      "cell_type": "markdown",
      "metadata": {
        "id": "4bZUCWG_LJNS"
      },
      "source": [
        "CONCLUSÃO SOBRE ESTA QUANTIDADE DE OUTLIERS"
      ]
    },
    {
      "cell_type": "markdown",
      "metadata": {
        "id": "Xj3hHsKD_Xvj"
      },
      "source": [
        "# Análise Exploratória dos Dados\n",
        "\n",
        "texto texto"
      ]
    },
    {
      "cell_type": "code",
      "metadata": {
        "id": "ML24B4wCYKFY"
      },
      "source": [
        "#@title Utilizaremos vários gráficos ao longo deste notebook. A função de ajustes de layouts está nesse célula.\n",
        "def ajuste_layout(i):\n",
        "  ax[i].set_frame_on(False)\n",
        "  ax[i].tick_params(axis='both',length=0,colors='grey')\n",
        "  ax[i].grid(False)\n",
        "\n",
        "def addlabels(grafico,y,distancia):\n",
        "  ax[grafico].get_yaxis().set_visible(False)\n",
        "  for i in range(len(y)):\n",
        "    ax[grafico].text(i,y[i] + distancia,'{:,}'.format(int(y[i])).replace(',','.'),\n",
        "            ha='center',fontsize=13,color='grey')\n"
      ],
      "execution_count": 39,
      "outputs": []
    },
    {
      "cell_type": "markdown",
      "metadata": {
        "id": "jHBkx7puG1hY"
      },
      "source": [
        "falar das estatísticas descritivas, falar que é de uma única venda"
      ]
    },
    {
      "cell_type": "code",
      "metadata": {
        "id": "_ocBuLWbKPmr",
        "colab": {
          "base_uri": "https://localhost:8080/",
          "height": 300
        },
        "outputId": "e1428a3b-a54e-4beb-cd48-49c76c03e332"
      },
      "source": [
        "df[['price_brl','price_usd','sales','revenue_usd','revenue_brl']].describe().round(1)"
      ],
      "execution_count": null,
      "outputs": [
        {
          "output_type": "execute_result",
          "data": {
            "text/html": [
              "<div>\n",
              "<style scoped>\n",
              "    .dataframe tbody tr th:only-of-type {\n",
              "        vertical-align: middle;\n",
              "    }\n",
              "\n",
              "    .dataframe tbody tr th {\n",
              "        vertical-align: top;\n",
              "    }\n",
              "\n",
              "    .dataframe thead th {\n",
              "        text-align: right;\n",
              "    }\n",
              "</style>\n",
              "<table border=\"1\" class=\"dataframe\">\n",
              "  <thead>\n",
              "    <tr style=\"text-align: right;\">\n",
              "      <th></th>\n",
              "      <th>price_brl</th>\n",
              "      <th>price_usd</th>\n",
              "      <th>sales</th>\n",
              "      <th>revenue_usd</th>\n",
              "      <th>revenue_brl</th>\n",
              "    </tr>\n",
              "  </thead>\n",
              "  <tbody>\n",
              "    <tr>\n",
              "      <th>count</th>\n",
              "      <td>720071.0</td>\n",
              "      <td>720071.0</td>\n",
              "      <td>720071.0</td>\n",
              "      <td>720071.0</td>\n",
              "      <td>720071.0</td>\n",
              "    </tr>\n",
              "    <tr>\n",
              "      <th>mean</th>\n",
              "      <td>967.6</td>\n",
              "      <td>167.4</td>\n",
              "      <td>70.6</td>\n",
              "      <td>12136.5</td>\n",
              "      <td>70149.2</td>\n",
              "    </tr>\n",
              "    <tr>\n",
              "      <th>std</th>\n",
              "      <td>1406.4</td>\n",
              "      <td>243.3</td>\n",
              "      <td>41.4</td>\n",
              "      <td>22347.8</td>\n",
              "      <td>129170.3</td>\n",
              "    </tr>\n",
              "    <tr>\n",
              "      <th>min</th>\n",
              "      <td>52.8</td>\n",
              "      <td>9.1</td>\n",
              "      <td>1.0</td>\n",
              "      <td>9.1</td>\n",
              "      <td>52.8</td>\n",
              "    </tr>\n",
              "    <tr>\n",
              "      <th>25%</th>\n",
              "      <td>259.2</td>\n",
              "      <td>44.8</td>\n",
              "      <td>35.0</td>\n",
              "      <td>2252.2</td>\n",
              "      <td>13018.5</td>\n",
              "    </tr>\n",
              "    <tr>\n",
              "      <th>50%</th>\n",
              "      <td>509.4</td>\n",
              "      <td>88.1</td>\n",
              "      <td>67.0</td>\n",
              "      <td>5050.9</td>\n",
              "      <td>29193.0</td>\n",
              "    </tr>\n",
              "    <tr>\n",
              "      <th>75%</th>\n",
              "      <td>949.2</td>\n",
              "      <td>164.2</td>\n",
              "      <td>104.0</td>\n",
              "      <td>11424.0</td>\n",
              "      <td>66033.0</td>\n",
              "    </tr>\n",
              "    <tr>\n",
              "      <th>max</th>\n",
              "      <td>10992.0</td>\n",
              "      <td>1901.7</td>\n",
              "      <td>196.0</td>\n",
              "      <td>285259.5</td>\n",
              "      <td>1648800.0</td>\n",
              "    </tr>\n",
              "  </tbody>\n",
              "</table>\n",
              "</div>"
            ],
            "text/plain": [
              "       price_brl  price_usd     sales  revenue_usd  revenue_brl\n",
              "count   720071.0   720071.0  720071.0     720071.0     720071.0\n",
              "mean       967.6      167.4      70.6      12136.5      70149.2\n",
              "std       1406.4      243.3      41.4      22347.8     129170.3\n",
              "min         52.8        9.1       1.0          9.1         52.8\n",
              "25%        259.2       44.8      35.0       2252.2      13018.5\n",
              "50%        509.4       88.1      67.0       5050.9      29193.0\n",
              "75%        949.2      164.2     104.0      11424.0      66033.0\n",
              "max      10992.0     1901.7     196.0     285259.5    1648800.0"
            ]
          },
          "metadata": {},
          "execution_count": 103
        }
      ]
    },
    {
      "cell_type": "markdown",
      "metadata": {
        "id": "TEz6hR5iWb8S"
      },
      "source": [
        "ver histogramas dos preços e vendas, colocar tons de azul diferentes, mudar o eixo y"
      ]
    },
    {
      "cell_type": "code",
      "metadata": {
        "colab": {
          "base_uri": "https://localhost:8080/",
          "height": 423
        },
        "id": "THpHKc8gWfOZ",
        "outputId": "509ba6ca-49c9-488c-c89e-7f9c60e90796"
      },
      "source": [
        "#criando a fig e ax no matplotlib\n",
        "fig, ax = plt.subplots(figsize=(14,6), ncols=2)\n",
        "\n",
        "#criação do primeiro histograma\n",
        "df.price_usd.hist(ax=ax[0],xlabelsize=10,ylabelsize=10,bins=20,color='#3944bc',alpha=0.5)\n",
        "ax[0].set_title('Distribuição dos preços dos vinhos em dólar',loc='left',pad=5,fontdict={'fontsize':17},color='grey')\n",
        "ajuste_layout(0)\n",
        "\n",
        "#criação do segundo histograma\n",
        "df.sales.hist(ax=ax[1],xlabelsize=10,ylabelsize=10,bins=20,color='#0a1172',alpha=0.7)\n",
        "ax[1].set_title('Distribuição das quantidades vendidas',loc='left',pad=5,fontdict={'fontsize':17},color='grey')\n",
        "ajuste_layout(1)\n",
        "\n",
        "#plotando os gráficos\n",
        "plt.tight_layout(pad=2.0)"
      ],
      "execution_count": null,
      "outputs": [
        {
          "output_type": "display_data",
          "data": {
            "image/png": "[encoded data removed]",
            "text/plain": [
              "<Figure size 1008x432 with 2 Axes>"
            ]
          },
          "metadata": {
            "needs_background": "dark"
          }
        }
      ]
    },
    {
      "cell_type": "markdown",
      "metadata": {
        "id": "Be56oGUfXMEM"
      },
      "source": [
        "fazer um boxplot apenas das lojas, vendas e dinheiro"
      ]
    },
    {
      "cell_type": "code",
      "metadata": {
        "id": "UL7oPjeYWfQg",
        "colab": {
          "base_uri": "https://localhost:8080/",
          "height": 423
        },
        "outputId": "30226b48-8c88-4329-a67c-76d89fc898c4"
      },
      "source": [
        "#criando a fig e ax no matplotlib\n",
        "fig, ax = plt.subplots(figsize=(14,6), ncols=2)\n",
        "\n",
        "#criando o primeiro gráfico\n",
        "sns.boxplot(data=df,x='store',y='sales',ax=ax[0],palette='Blues',linewidth=0.35)\n",
        "ajuste_layout(0)\n",
        "\n",
        "#criando o segundo gráfico\n",
        "sns.boxplot(data=df,x='store',y='price_usd',ax=ax[1],palette='Purples',linewidth=0.35)\n",
        "ajuste_layout(1)\n",
        "\n",
        "#plotando os gráficos\n",
        "plt.tight_layout(pad=2.0)"
      ],
      "execution_count": null,
      "outputs": [
        {
          "output_type": "display_data",
          "data": {
            "image/png": "[encoded data removed]",
            "text/plain": [
              "<Figure size 1008x432 with 2 Axes>"
            ]
          },
          "metadata": {
            "needs_background": "dark"
          }
        }
      ]
    },
    {
      "cell_type": "markdown",
      "metadata": {
        "id": "5aCDs6qBGQVG"
      },
      "source": [
        "fazer um boxplot geral, vendas e dinheiro em dólar"
      ]
    },
    {
      "cell_type": "code",
      "metadata": {
        "id": "22i9-A3QXOP6",
        "colab": {
          "base_uri": "https://localhost:8080/",
          "height": 423
        },
        "outputId": "3327b1c1-1f06-440a-d61b-fde8ec929dd0"
      },
      "source": [
        "#criando a fig e ax no matplotlib\n",
        "fig, ax = plt.subplots(figsize=(14,6), ncols=2)\n",
        "\n",
        "#criando o primeiro gráfico\n",
        "sns.boxplot(data=df,y='sales',ax=ax[0],palette='Blues',linewidth=0.35)\n",
        "ajuste_layout(0)\n",
        "\n",
        "#criando o segundo gráfico\n",
        "sns.boxplot(data=df,y='price_usd',ax=ax[1],palette='Purples',linewidth=0.35)\n",
        "ajuste_layout(1)\n",
        "\n",
        "#plotando os gráficos\n",
        "plt.tight_layout(pad=2.0)"
      ],
      "execution_count": null,
      "outputs": [
        {
          "output_type": "display_data",
          "data": {
            "image/png": "[encoded data removed]",
            "text/plain": [
              "<Figure size 1008x432 with 2 Axes>"
            ]
          },
          "metadata": {
            "needs_background": "dark"
          }
        }
      ]
    },
    {
      "cell_type": "markdown",
      "metadata": {
        "id": "8mHKGssNaOM-"
      },
      "source": [
        "vinho mais caro"
      ]
    },
    {
      "cell_type": "code",
      "metadata": {
        "colab": {
          "base_uri": "https://localhost:8080/"
        },
        "id": "7n1ZmFZ9Iblv",
        "outputId": "13a9b1a5-fe17-467f-8830-a2b9c7cba310"
      },
      "source": [
        "#avaliando o preço do vinho mais caro\n",
        "print('O vinho mais caro do catálogo é o {} que custa cerca USD {:,}\\n'.format(df[df.price_usd == df.price_usd.max()].name[0],\n",
        "                                                                             df.price_usd.max()))\n",
        "\n",
        "#avaliando o preço do vinho mais barato\n",
        "print('O vinho mais barato do catálogo é o {} que custa cerca USD {:,}'.format(df[df.price_usd == df.price_usd.min()].name[0],\n",
        "                                                                             df.price_usd.min()))"
      ],
      "execution_count": null,
      "outputs": [
        {
          "output_type": "stream",
          "name": "stdout",
          "text": [
            "O vinho mais caro do catálogo é o Domaine Ponsot Clos de La Roche Grand Cru Cuvee Vieilles Vignes - Magnum que custa cerca USD 1,901.73\n",
            "\n",
            "O vinho mais barato do catálogo é o Cava Juvé & Camps Cinta Purpura Reserva Brut - 375ml (Half Bottle) que custa cerca USD 9.13\n"
          ]
        }
      ]
    },
    {
      "cell_type": "markdown",
      "metadata": {
        "id": "q39ebR9jPRIu"
      },
      "source": [
        "preço do vinho e quantidade vendida em scatterplot"
      ]
    },
    {
      "cell_type": "code",
      "metadata": {
        "id": "7dPuQX5NWfSq"
      },
      "source": [
        ""
      ],
      "execution_count": null,
      "outputs": []
    },
    {
      "cell_type": "code",
      "metadata": {
        "id": "NJOQeDmtN-58"
      },
      "source": [
        ""
      ],
      "execution_count": null,
      "outputs": []
    },
    {
      "cell_type": "code",
      "metadata": {
        "id": "yLEnNlZoN_EC"
      },
      "source": [
        ""
      ],
      "execution_count": null,
      "outputs": []
    },
    {
      "cell_type": "markdown",
      "metadata": {
        "id": "ZdIYIMC4a40y"
      },
      "source": [
        "#Séries Temporais\n",
        "\n",
        "[link](https://www.inf.ufsc.br/~marcelo.menezes.reis/Cap4.pdf)\n",
        "\n",
        "diferenças entre regressão e série temporal"
      ]
    },
    {
      "cell_type": "code",
      "metadata": {
        "id": "XQqrNmz9a7cL"
      },
      "source": [
        "#fazer o plot da série"
      ],
      "execution_count": null,
      "outputs": []
    },
    {
      "cell_type": "markdown",
      "metadata": {
        "id": "aYgZT3zbg714"
      },
      "source": [
        "**Hipóteses**:\n",
        "\n",
        "* x\n",
        "* x\n",
        "* x"
      ]
    },
    {
      "cell_type": "code",
      "metadata": {
        "id": "JoNgcA-qa7ec"
      },
      "source": [
        "#fazer a decomposição 1 linha com tudo e outras"
      ],
      "execution_count": null,
      "outputs": []
    },
    {
      "cell_type": "markdown",
      "metadata": {
        "id": "lNmXOdRlg70o"
      },
      "source": [
        "### Verificando se a série é estacionária\n",
        "\n",
        "falar do ADF"
      ]
    },
    {
      "cell_type": "code",
      "metadata": {
        "id": "FTIN2TRUa7hZ"
      },
      "source": [
        "#fazer o teste adf"
      ],
      "execution_count": null,
      "outputs": []
    },
    {
      "cell_type": "markdown",
      "metadata": {
        "id": "tbXsR2Jbfvb0"
      },
      "source": [
        "falar dos ajustes que tem que fazer"
      ]
    },
    {
      "cell_type": "code",
      "metadata": {
        "id": "jo3oTthzfxc0"
      },
      "source": [
        "#verificar novamente a série"
      ],
      "execution_count": null,
      "outputs": []
    },
    {
      "cell_type": "markdown",
      "metadata": {
        "id": "QMEwpiW1gPw9"
      },
      "source": [
        "texto falando sobre testes tradicionais utilizando nas previsões  e machine learning"
      ]
    },
    {
      "cell_type": "markdown",
      "metadata": {
        "id": "h_Dk6wHSf0le"
      },
      "source": [
        "# ARIMA\n",
        "\n",
        "falar do arima, suas componentes e que é um modelo tradicional\n",
        "\n",
        "[arima](https://www.machinelearningplus.com/time-series/arima-model-time-series-forecasting-python/)"
      ]
    },
    {
      "cell_type": "code",
      "metadata": {
        "id": "Ek_mgT5df9ws"
      },
      "source": [
        ""
      ],
      "execution_count": null,
      "outputs": []
    },
    {
      "cell_type": "code",
      "metadata": {
        "id": "Om_QvaOuf9xl"
      },
      "source": [
        ""
      ],
      "execution_count": null,
      "outputs": []
    },
    {
      "cell_type": "markdown",
      "metadata": {
        "id": "ilhgAX74gBcc"
      },
      "source": [
        "#XGBoost\n",
        "\n",
        "texto explicando e  como é possível usar"
      ]
    },
    {
      "cell_type": "code",
      "metadata": {
        "id": "IdMzh2cFgFab"
      },
      "source": [
        ""
      ],
      "execution_count": null,
      "outputs": []
    },
    {
      "cell_type": "code",
      "metadata": {
        "id": "A2sIqj0tgFcu"
      },
      "source": [
        ""
      ],
      "execution_count": null,
      "outputs": []
    },
    {
      "cell_type": "markdown",
      "metadata": {
        "id": "Fu2fHbkXKr86"
      },
      "source": [
        "#Prophet\n",
        "\n",
        "explicar o que é prophet, ler a documentação"
      ]
    },
    {
      "cell_type": "code",
      "metadata": {
        "id": "2dvExeXYKuzP"
      },
      "source": [
        ""
      ],
      "execution_count": null,
      "outputs": []
    },
    {
      "cell_type": "code",
      "metadata": {
        "id": "-DapwbEnijxK"
      },
      "source": [
        ""
      ],
      "execution_count": null,
      "outputs": []
    },
    {
      "cell_type": "code",
      "metadata": {
        "id": "m50h06M3ijzl"
      },
      "source": [
        ""
      ],
      "execution_count": null,
      "outputs": []
    },
    {
      "cell_type": "markdown",
      "metadata": {
        "id": "dqus0KmROKlJ"
      },
      "source": [
        "# Realizando as Previsões\n",
        "\n",
        "falar do erro que vai utilizar"
      ]
    },
    {
      "cell_type": "code",
      "metadata": {
        "id": "zxgqKjcqgmqL"
      },
      "source": [
        "#criar uma função para printar o erro"
      ],
      "execution_count": null,
      "outputs": []
    },
    {
      "cell_type": "markdown",
      "metadata": {
        "id": "dmOLdNEJgXHW"
      },
      "source": [
        "com arima"
      ]
    },
    {
      "cell_type": "code",
      "metadata": {
        "id": "5zYjE6tMOMHI"
      },
      "source": [
        "# fazer a previsao com arima e plot"
      ],
      "execution_count": null,
      "outputs": []
    },
    {
      "cell_type": "code",
      "metadata": {
        "id": "HuENhJo_geE2"
      },
      "source": [
        "#calcular o erro"
      ],
      "execution_count": null,
      "outputs": []
    },
    {
      "cell_type": "markdown",
      "metadata": {
        "id": "qIyDXNCDgfW7"
      },
      "source": [
        "xgboost"
      ]
    },
    {
      "cell_type": "code",
      "metadata": {
        "id": "Pum6VHQKgf5R"
      },
      "source": [
        "# fazer a previsao com xgb e plot"
      ],
      "execution_count": null,
      "outputs": []
    },
    {
      "cell_type": "code",
      "metadata": {
        "id": "wJU-v1Ckgg_U"
      },
      "source": [
        "#calcular o erro"
      ],
      "execution_count": null,
      "outputs": []
    },
    {
      "cell_type": "markdown",
      "metadata": {
        "id": "TcrT7U8Ogpgz"
      },
      "source": [
        "prophet"
      ]
    },
    {
      "cell_type": "code",
      "metadata": {
        "id": "DEDZtsdcgqQJ"
      },
      "source": [
        "# fazer a previsao com prophet e plot"
      ],
      "execution_count": null,
      "outputs": []
    },
    {
      "cell_type": "code",
      "metadata": {
        "id": "fwT4N_wdgqmC"
      },
      "source": [
        "#calcular o erro"
      ],
      "execution_count": null,
      "outputs": []
    },
    {
      "cell_type": "markdown",
      "metadata": {
        "id": "6aJwj8Jigq4_"
      },
      "source": [
        "#Conclusões\n",
        "\n",
        "* x\n",
        "* x\n",
        "* x\n",
        "* x\n",
        "* x\n",
        "* x"
      ]
    }
  ]
}